{
  "cells": [
    {
      "cell_type": "markdown",
      "metadata": {
        "id": "OlrCq-iKzJYS"
      },
      "source": [
        "# MLP for Customer Churn prediction\n",
        "\n",
        "Based upon data of clients of a bank we calculate whether a customer stands a chance to stay in the company or not.\n",
        "\n",
        "We will use the [following dataset](https://www.kaggle.com/datasets/shubh0799/churn-modelling).\n",
        "\n",
        "We may find the following features in the data:\n",
        "\n",
        "- CustomerId: The unique customer id\n",
        "- Surname: Customers' Surname\n",
        "- CreditScore: Their credit score\n",
        "- Geography: Which Country do they belong to\n",
        "- Gender: Their Gender\n",
        "- Age: Age\n",
        "- Tenure The time of bond with the company\n",
        "- Balance: The amount left with them\n",
        "- NumOfProducts: The products they own\n",
        "- HasCrCard: Do they have a credit card or not\n",
        "- IsActiveMember: How active members they are\n",
        "- EstimatedSalary: Their estimated salary\n",
        "- Exited: Whether they stay in the or leave\n"
      ]
    },
    {
      "cell_type": "code",
      "execution_count": 1,
      "metadata": {
        "colab": {
          "base_uri": "https://localhost:8080/"
        },
        "id": "W8dfEAYfS1JU",
        "outputId": "d1f5c00b-9b8d-4b45-c033-e450db3d6f73"
      },
      "outputs": [
        {
          "name": "stdout",
          "output_type": "stream",
          "text": [
            "zsh:1: command not found: nvidia-smi\n"
          ]
        }
      ],
      "source": [
        "!nvidia-smi"
      ]
    },
    {
      "cell_type": "code",
      "execution_count": 2,
      "metadata": {
        "colab": {
          "base_uri": "https://localhost:8080/"
        },
        "id": "fb1BKK1IsWMC",
        "outputId": "fe588a00-42ae-4e58-f97c-1f1ddabdd606"
      },
      "outputs": [
        {
          "name": "stdout",
          "output_type": "stream",
          "text": [
            "Requirement already satisfied: visualkeras in /Users/andresfelipeflorezolivera/anaconda3/lib/python3.11/site-packages (0.0.2)\n",
            "Requirement already satisfied: pillow>=6.2.0 in /Users/andresfelipeflorezolivera/anaconda3/lib/python3.11/site-packages (from visualkeras) (10.2.0)\n",
            "Requirement already satisfied: numpy>=1.18.1 in /Users/andresfelipeflorezolivera/anaconda3/lib/python3.11/site-packages (from visualkeras) (1.24.3)\n",
            "Requirement already satisfied: aggdraw>=1.3.11 in /Users/andresfelipeflorezolivera/anaconda3/lib/python3.11/site-packages (from visualkeras) (1.3.18)\n",
            "\u001b[33mWARNING: There was an error checking the latest version of pip.\u001b[0m\u001b[33m\n",
            "\u001b[0mRequirement already satisfied: tensorflow in /Users/andresfelipeflorezolivera/anaconda3/lib/python3.11/site-packages (2.15.0)\n",
            "Requirement already satisfied: tensorflow-macos==2.15.0 in /Users/andresfelipeflorezolivera/anaconda3/lib/python3.11/site-packages (from tensorflow) (2.15.0)\n",
            "Requirement already satisfied: absl-py>=1.0.0 in /Users/andresfelipeflorezolivera/anaconda3/lib/python3.11/site-packages (from tensorflow-macos==2.15.0->tensorflow) (2.0.0)\n",
            "Requirement already satisfied: astunparse>=1.6.0 in /Users/andresfelipeflorezolivera/anaconda3/lib/python3.11/site-packages (from tensorflow-macos==2.15.0->tensorflow) (1.6.3)\n",
            "Requirement already satisfied: flatbuffers>=23.5.26 in /Users/andresfelipeflorezolivera/anaconda3/lib/python3.11/site-packages (from tensorflow-macos==2.15.0->tensorflow) (23.5.26)\n",
            "Requirement already satisfied: gast!=0.5.0,!=0.5.1,!=0.5.2,>=0.2.1 in /Users/andresfelipeflorezolivera/anaconda3/lib/python3.11/site-packages (from tensorflow-macos==2.15.0->tensorflow) (0.5.4)\n",
            "Requirement already satisfied: google-pasta>=0.1.1 in /Users/andresfelipeflorezolivera/anaconda3/lib/python3.11/site-packages (from tensorflow-macos==2.15.0->tensorflow) (0.2.0)\n",
            "Requirement already satisfied: h5py>=2.9.0 in /Users/andresfelipeflorezolivera/anaconda3/lib/python3.11/site-packages (from tensorflow-macos==2.15.0->tensorflow) (3.9.0)\n",
            "Requirement already satisfied: libclang>=13.0.0 in /Users/andresfelipeflorezolivera/anaconda3/lib/python3.11/site-packages (from tensorflow-macos==2.15.0->tensorflow) (16.0.6)\n",
            "Requirement already satisfied: ml-dtypes~=0.2.0 in /Users/andresfelipeflorezolivera/anaconda3/lib/python3.11/site-packages (from tensorflow-macos==2.15.0->tensorflow) (0.2.0)\n",
            "Requirement already satisfied: numpy<2.0.0,>=1.23.5 in /Users/andresfelipeflorezolivera/anaconda3/lib/python3.11/site-packages (from tensorflow-macos==2.15.0->tensorflow) (1.24.3)\n",
            "Requirement already satisfied: opt-einsum>=2.3.2 in /Users/andresfelipeflorezolivera/anaconda3/lib/python3.11/site-packages (from tensorflow-macos==2.15.0->tensorflow) (3.3.0)\n",
            "Requirement already satisfied: packaging in /Users/andresfelipeflorezolivera/anaconda3/lib/python3.11/site-packages (from tensorflow-macos==2.15.0->tensorflow) (23.1)\n",
            "Requirement already satisfied: protobuf!=4.21.0,!=4.21.1,!=4.21.2,!=4.21.3,!=4.21.4,!=4.21.5,<5.0.0dev,>=3.20.3 in /Users/andresfelipeflorezolivera/anaconda3/lib/python3.11/site-packages (from tensorflow-macos==2.15.0->tensorflow) (4.23.4)\n",
            "Requirement already satisfied: setuptools in /Users/andresfelipeflorezolivera/anaconda3/lib/python3.11/site-packages (from tensorflow-macos==2.15.0->tensorflow) (68.0.0)\n",
            "Requirement already satisfied: six>=1.12.0 in /Users/andresfelipeflorezolivera/anaconda3/lib/python3.11/site-packages (from tensorflow-macos==2.15.0->tensorflow) (1.16.0)\n",
            "Requirement already satisfied: termcolor>=1.1.0 in /Users/andresfelipeflorezolivera/anaconda3/lib/python3.11/site-packages (from tensorflow-macos==2.15.0->tensorflow) (2.4.0)\n",
            "Requirement already satisfied: typing-extensions>=3.6.6 in /Users/andresfelipeflorezolivera/anaconda3/lib/python3.11/site-packages (from tensorflow-macos==2.15.0->tensorflow) (4.7.1)\n",
            "Requirement already satisfied: wrapt<1.15,>=1.11.0 in /Users/andresfelipeflorezolivera/anaconda3/lib/python3.11/site-packages (from tensorflow-macos==2.15.0->tensorflow) (1.14.1)\n",
            "Requirement already satisfied: tensorflow-io-gcs-filesystem>=0.23.1 in /Users/andresfelipeflorezolivera/anaconda3/lib/python3.11/site-packages (from tensorflow-macos==2.15.0->tensorflow) (0.34.0)\n",
            "Requirement already satisfied: grpcio<2.0,>=1.24.3 in /Users/andresfelipeflorezolivera/anaconda3/lib/python3.11/site-packages (from tensorflow-macos==2.15.0->tensorflow) (1.60.0)\n",
            "Requirement already satisfied: tensorboard<2.16,>=2.15 in /Users/andresfelipeflorezolivera/anaconda3/lib/python3.11/site-packages (from tensorflow-macos==2.15.0->tensorflow) (2.15.1)\n",
            "Requirement already satisfied: tensorflow-estimator<2.16,>=2.15.0 in /Users/andresfelipeflorezolivera/anaconda3/lib/python3.11/site-packages (from tensorflow-macos==2.15.0->tensorflow) (2.15.0)\n",
            "Requirement already satisfied: keras<2.16,>=2.15.0 in /Users/andresfelipeflorezolivera/anaconda3/lib/python3.11/site-packages (from tensorflow-macos==2.15.0->tensorflow) (2.15.0)\n",
            "Requirement already satisfied: wheel<1.0,>=0.23.0 in /Users/andresfelipeflorezolivera/anaconda3/lib/python3.11/site-packages (from astunparse>=1.6.0->tensorflow-macos==2.15.0->tensorflow) (0.38.4)\n",
            "Requirement already satisfied: google-auth<3,>=1.6.3 in /Users/andresfelipeflorezolivera/anaconda3/lib/python3.11/site-packages (from tensorboard<2.16,>=2.15->tensorflow-macos==2.15.0->tensorflow) (2.26.2)\n",
            "Requirement already satisfied: google-auth-oauthlib<2,>=0.5 in /Users/andresfelipeflorezolivera/anaconda3/lib/python3.11/site-packages (from tensorboard<2.16,>=2.15->tensorflow-macos==2.15.0->tensorflow) (1.2.0)\n",
            "Requirement already satisfied: markdown>=2.6.8 in /Users/andresfelipeflorezolivera/anaconda3/lib/python3.11/site-packages (from tensorboard<2.16,>=2.15->tensorflow-macos==2.15.0->tensorflow) (3.4.1)\n",
            "Requirement already satisfied: requests<3,>=2.21.0 in /Users/andresfelipeflorezolivera/anaconda3/lib/python3.11/site-packages (from tensorboard<2.16,>=2.15->tensorflow-macos==2.15.0->tensorflow) (2.31.0)\n",
            "Requirement already satisfied: tensorboard-data-server<0.8.0,>=0.7.0 in /Users/andresfelipeflorezolivera/anaconda3/lib/python3.11/site-packages (from tensorboard<2.16,>=2.15->tensorflow-macos==2.15.0->tensorflow) (0.7.2)\n",
            "Requirement already satisfied: werkzeug>=1.0.1 in /Users/andresfelipeflorezolivera/anaconda3/lib/python3.11/site-packages (from tensorboard<2.16,>=2.15->tensorflow-macos==2.15.0->tensorflow) (2.2.3)\n",
            "Requirement already satisfied: cachetools<6.0,>=2.0.0 in /Users/andresfelipeflorezolivera/anaconda3/lib/python3.11/site-packages (from google-auth<3,>=1.6.3->tensorboard<2.16,>=2.15->tensorflow-macos==2.15.0->tensorflow) (5.3.2)\n",
            "Requirement already satisfied: pyasn1-modules>=0.2.1 in /Users/andresfelipeflorezolivera/anaconda3/lib/python3.11/site-packages (from google-auth<3,>=1.6.3->tensorboard<2.16,>=2.15->tensorflow-macos==2.15.0->tensorflow) (0.2.8)\n",
            "Requirement already satisfied: rsa<5,>=3.1.4 in /Users/andresfelipeflorezolivera/anaconda3/lib/python3.11/site-packages (from google-auth<3,>=1.6.3->tensorboard<2.16,>=2.15->tensorflow-macos==2.15.0->tensorflow) (4.9)\n",
            "Requirement already satisfied: requests-oauthlib>=0.7.0 in /Users/andresfelipeflorezolivera/anaconda3/lib/python3.11/site-packages (from google-auth-oauthlib<2,>=0.5->tensorboard<2.16,>=2.15->tensorflow-macos==2.15.0->tensorflow) (1.3.1)\n",
            "Requirement already satisfied: charset-normalizer<4,>=2 in /Users/andresfelipeflorezolivera/anaconda3/lib/python3.11/site-packages (from requests<3,>=2.21.0->tensorboard<2.16,>=2.15->tensorflow-macos==2.15.0->tensorflow) (2.0.4)\n",
            "Requirement already satisfied: idna<4,>=2.5 in /Users/andresfelipeflorezolivera/anaconda3/lib/python3.11/site-packages (from requests<3,>=2.21.0->tensorboard<2.16,>=2.15->tensorflow-macos==2.15.0->tensorflow) (3.4)\n",
            "Requirement already satisfied: urllib3<3,>=1.21.1 in /Users/andresfelipeflorezolivera/anaconda3/lib/python3.11/site-packages (from requests<3,>=2.21.0->tensorboard<2.16,>=2.15->tensorflow-macos==2.15.0->tensorflow) (1.26.16)\n",
            "Requirement already satisfied: certifi>=2017.4.17 in /Users/andresfelipeflorezolivera/anaconda3/lib/python3.11/site-packages (from requests<3,>=2.21.0->tensorboard<2.16,>=2.15->tensorflow-macos==2.15.0->tensorflow) (2023.11.17)\n",
            "Requirement already satisfied: MarkupSafe>=2.1.1 in /Users/andresfelipeflorezolivera/anaconda3/lib/python3.11/site-packages (from werkzeug>=1.0.1->tensorboard<2.16,>=2.15->tensorflow-macos==2.15.0->tensorflow) (2.1.1)\n",
            "Requirement already satisfied: pyasn1<0.5.0,>=0.4.6 in /Users/andresfelipeflorezolivera/anaconda3/lib/python3.11/site-packages (from pyasn1-modules>=0.2.1->google-auth<3,>=1.6.3->tensorboard<2.16,>=2.15->tensorflow-macos==2.15.0->tensorflow) (0.4.8)\n",
            "Requirement already satisfied: oauthlib>=3.0.0 in /Users/andresfelipeflorezolivera/anaconda3/lib/python3.11/site-packages (from requests-oauthlib>=0.7.0->google-auth-oauthlib<2,>=0.5->tensorboard<2.16,>=2.15->tensorflow-macos==2.15.0->tensorflow) (3.2.2)\n",
            "\u001b[33mWARNING: There was an error checking the latest version of pip.\u001b[0m\u001b[33m\n",
            "\u001b[0m"
          ]
        }
      ],
      "source": [
        "!pip install visualkeras\n",
        "!pip install tensorflow"
      ]
    },
    {
      "cell_type": "code",
      "execution_count": 3,
      "metadata": {
        "id": "gfz-UUYDe-id"
      },
      "outputs": [],
      "source": [
        "import matplotlib.pyplot as plt\n",
        "import numpy as np\n",
        "import pandas as pd\n",
        "import scipy\n",
        "import tensorflow as tf\n",
        "from sklearn.compose import ColumnTransformer\n",
        "from sklearn.impute import SimpleImputer\n",
        "from sklearn.model_selection import RandomizedSearchCV, train_test_split\n",
        "from sklearn.pipeline import Pipeline\n",
        "from sklearn.preprocessing import OneHotEncoder, StandardScaler\n",
        "from sklearn.tree import DecisionTreeClassifier\n",
        "from tensorflow import keras\n",
        "from tensorflow.keras import layers\n",
        "import visualkeras\n"
      ]
    },
    {
      "cell_type": "code",
      "execution_count": 4,
      "metadata": {
        "id": "9MP-Ow39Ix9d"
      },
      "outputs": [],
      "source": [
        "def plot_history(history):\n",
        "    # Plot training & validation accuracy values\n",
        "    plt.plot(history.history['accuracy'])\n",
        "    plt.plot(history.history['val_accuracy'])\n",
        "    plt.title('Model accuracy')\n",
        "    plt.ylabel('Accuracy')\n",
        "    plt.xlabel('Epoch')\n",
        "    plt.legend(['Train', 'Test'], loc='upper left')\n",
        "    plt.show()\n",
        "\n",
        "    # Plot training & validation loss values\n",
        "    plt.plot(history.history['loss'])\n",
        "    plt.plot(history.history['val_loss'])\n",
        "    plt.title('Model loss')\n",
        "    plt.ylabel('Loss')\n",
        "    plt.xlabel('Epoch')\n",
        "    plt.legend(['Train', 'Test'], loc='upper left')\n",
        "    plt.show()"
      ]
    },
    {
      "cell_type": "markdown",
      "metadata": {
        "id": "8RX7ihzu2Ok_"
      },
      "source": [
        "## Load dataset"
      ]
    },
    {
      "cell_type": "code",
      "execution_count": 5,
      "metadata": {
        "colab": {
          "base_uri": "https://localhost:8080/",
          "height": 496
        },
        "id": "-p4JtPA_fEGb",
        "outputId": "42600069-ae63-4ba4-eb79-a1e5716fd0f8"
      },
      "outputs": [
        {
          "name": "stdout",
          "output_type": "stream",
          "text": [
            "zsh:1: command not found: gdown\n"
          ]
        },
        {
          "data": {
            "text/html": [
              "<div>\n",
              "<style scoped>\n",
              "    .dataframe tbody tr th:only-of-type {\n",
              "        vertical-align: middle;\n",
              "    }\n",
              "\n",
              "    .dataframe tbody tr th {\n",
              "        vertical-align: top;\n",
              "    }\n",
              "\n",
              "    .dataframe thead th {\n",
              "        text-align: right;\n",
              "    }\n",
              "</style>\n",
              "<table border=\"1\" class=\"dataframe\">\n",
              "  <thead>\n",
              "    <tr style=\"text-align: right;\">\n",
              "      <th></th>\n",
              "      <th>RowNumber</th>\n",
              "      <th>CustomerId</th>\n",
              "      <th>Surname</th>\n",
              "      <th>CreditScore</th>\n",
              "      <th>Geography</th>\n",
              "      <th>Gender</th>\n",
              "      <th>Age</th>\n",
              "      <th>Tenure</th>\n",
              "      <th>Balance</th>\n",
              "      <th>NumOfProducts</th>\n",
              "      <th>HasCrCard</th>\n",
              "      <th>IsActiveMember</th>\n",
              "      <th>EstimatedSalary</th>\n",
              "      <th>Exited</th>\n",
              "    </tr>\n",
              "  </thead>\n",
              "  <tbody>\n",
              "    <tr>\n",
              "      <th>0</th>\n",
              "      <td>1</td>\n",
              "      <td>15634602</td>\n",
              "      <td>Hargrave</td>\n",
              "      <td>619</td>\n",
              "      <td>France</td>\n",
              "      <td>Female</td>\n",
              "      <td>42</td>\n",
              "      <td>2</td>\n",
              "      <td>0.00</td>\n",
              "      <td>1</td>\n",
              "      <td>1</td>\n",
              "      <td>1</td>\n",
              "      <td>101348.88</td>\n",
              "      <td>1</td>\n",
              "    </tr>\n",
              "    <tr>\n",
              "      <th>1</th>\n",
              "      <td>2</td>\n",
              "      <td>15647311</td>\n",
              "      <td>Hill</td>\n",
              "      <td>608</td>\n",
              "      <td>Spain</td>\n",
              "      <td>Female</td>\n",
              "      <td>41</td>\n",
              "      <td>1</td>\n",
              "      <td>83807.86</td>\n",
              "      <td>1</td>\n",
              "      <td>0</td>\n",
              "      <td>1</td>\n",
              "      <td>112542.58</td>\n",
              "      <td>0</td>\n",
              "    </tr>\n",
              "    <tr>\n",
              "      <th>2</th>\n",
              "      <td>3</td>\n",
              "      <td>15619304</td>\n",
              "      <td>Onio</td>\n",
              "      <td>502</td>\n",
              "      <td>France</td>\n",
              "      <td>Female</td>\n",
              "      <td>42</td>\n",
              "      <td>8</td>\n",
              "      <td>159660.80</td>\n",
              "      <td>3</td>\n",
              "      <td>1</td>\n",
              "      <td>0</td>\n",
              "      <td>113931.57</td>\n",
              "      <td>1</td>\n",
              "    </tr>\n",
              "    <tr>\n",
              "      <th>3</th>\n",
              "      <td>4</td>\n",
              "      <td>15701354</td>\n",
              "      <td>Boni</td>\n",
              "      <td>699</td>\n",
              "      <td>France</td>\n",
              "      <td>Female</td>\n",
              "      <td>39</td>\n",
              "      <td>1</td>\n",
              "      <td>0.00</td>\n",
              "      <td>2</td>\n",
              "      <td>0</td>\n",
              "      <td>0</td>\n",
              "      <td>93826.63</td>\n",
              "      <td>0</td>\n",
              "    </tr>\n",
              "    <tr>\n",
              "      <th>4</th>\n",
              "      <td>5</td>\n",
              "      <td>15737888</td>\n",
              "      <td>Mitchell</td>\n",
              "      <td>850</td>\n",
              "      <td>Spain</td>\n",
              "      <td>Female</td>\n",
              "      <td>43</td>\n",
              "      <td>2</td>\n",
              "      <td>125510.82</td>\n",
              "      <td>1</td>\n",
              "      <td>1</td>\n",
              "      <td>1</td>\n",
              "      <td>79084.10</td>\n",
              "      <td>0</td>\n",
              "    </tr>\n",
              "    <tr>\n",
              "      <th>...</th>\n",
              "      <td>...</td>\n",
              "      <td>...</td>\n",
              "      <td>...</td>\n",
              "      <td>...</td>\n",
              "      <td>...</td>\n",
              "      <td>...</td>\n",
              "      <td>...</td>\n",
              "      <td>...</td>\n",
              "      <td>...</td>\n",
              "      <td>...</td>\n",
              "      <td>...</td>\n",
              "      <td>...</td>\n",
              "      <td>...</td>\n",
              "      <td>...</td>\n",
              "    </tr>\n",
              "    <tr>\n",
              "      <th>9995</th>\n",
              "      <td>9996</td>\n",
              "      <td>15606229</td>\n",
              "      <td>Obijiaku</td>\n",
              "      <td>771</td>\n",
              "      <td>France</td>\n",
              "      <td>Male</td>\n",
              "      <td>39</td>\n",
              "      <td>5</td>\n",
              "      <td>0.00</td>\n",
              "      <td>2</td>\n",
              "      <td>1</td>\n",
              "      <td>0</td>\n",
              "      <td>96270.64</td>\n",
              "      <td>0</td>\n",
              "    </tr>\n",
              "    <tr>\n",
              "      <th>9996</th>\n",
              "      <td>9997</td>\n",
              "      <td>15569892</td>\n",
              "      <td>Johnstone</td>\n",
              "      <td>516</td>\n",
              "      <td>France</td>\n",
              "      <td>Male</td>\n",
              "      <td>35</td>\n",
              "      <td>10</td>\n",
              "      <td>57369.61</td>\n",
              "      <td>1</td>\n",
              "      <td>1</td>\n",
              "      <td>1</td>\n",
              "      <td>101699.77</td>\n",
              "      <td>0</td>\n",
              "    </tr>\n",
              "    <tr>\n",
              "      <th>9997</th>\n",
              "      <td>9998</td>\n",
              "      <td>15584532</td>\n",
              "      <td>Liu</td>\n",
              "      <td>709</td>\n",
              "      <td>France</td>\n",
              "      <td>Female</td>\n",
              "      <td>36</td>\n",
              "      <td>7</td>\n",
              "      <td>0.00</td>\n",
              "      <td>1</td>\n",
              "      <td>0</td>\n",
              "      <td>1</td>\n",
              "      <td>42085.58</td>\n",
              "      <td>1</td>\n",
              "    </tr>\n",
              "    <tr>\n",
              "      <th>9998</th>\n",
              "      <td>9999</td>\n",
              "      <td>15682355</td>\n",
              "      <td>Sabbatini</td>\n",
              "      <td>772</td>\n",
              "      <td>Germany</td>\n",
              "      <td>Male</td>\n",
              "      <td>42</td>\n",
              "      <td>3</td>\n",
              "      <td>75075.31</td>\n",
              "      <td>2</td>\n",
              "      <td>1</td>\n",
              "      <td>0</td>\n",
              "      <td>92888.52</td>\n",
              "      <td>1</td>\n",
              "    </tr>\n",
              "    <tr>\n",
              "      <th>9999</th>\n",
              "      <td>10000</td>\n",
              "      <td>15628319</td>\n",
              "      <td>Walker</td>\n",
              "      <td>792</td>\n",
              "      <td>France</td>\n",
              "      <td>Female</td>\n",
              "      <td>28</td>\n",
              "      <td>4</td>\n",
              "      <td>130142.79</td>\n",
              "      <td>1</td>\n",
              "      <td>1</td>\n",
              "      <td>0</td>\n",
              "      <td>38190.78</td>\n",
              "      <td>0</td>\n",
              "    </tr>\n",
              "  </tbody>\n",
              "</table>\n",
              "<p>10000 rows × 14 columns</p>\n",
              "</div>"
            ],
            "text/plain": [
              "      RowNumber  CustomerId    Surname  CreditScore Geography  Gender  Age  \\\n",
              "0             1    15634602   Hargrave          619    France  Female   42   \n",
              "1             2    15647311       Hill          608     Spain  Female   41   \n",
              "2             3    15619304       Onio          502    France  Female   42   \n",
              "3             4    15701354       Boni          699    France  Female   39   \n",
              "4             5    15737888   Mitchell          850     Spain  Female   43   \n",
              "...         ...         ...        ...          ...       ...     ...  ...   \n",
              "9995       9996    15606229   Obijiaku          771    France    Male   39   \n",
              "9996       9997    15569892  Johnstone          516    France    Male   35   \n",
              "9997       9998    15584532        Liu          709    France  Female   36   \n",
              "9998       9999    15682355  Sabbatini          772   Germany    Male   42   \n",
              "9999      10000    15628319     Walker          792    France  Female   28   \n",
              "\n",
              "      Tenure    Balance  NumOfProducts  HasCrCard  IsActiveMember  \\\n",
              "0          2       0.00              1          1               1   \n",
              "1          1   83807.86              1          0               1   \n",
              "2          8  159660.80              3          1               0   \n",
              "3          1       0.00              2          0               0   \n",
              "4          2  125510.82              1          1               1   \n",
              "...      ...        ...            ...        ...             ...   \n",
              "9995       5       0.00              2          1               0   \n",
              "9996      10   57369.61              1          1               1   \n",
              "9997       7       0.00              1          0               1   \n",
              "9998       3   75075.31              2          1               0   \n",
              "9999       4  130142.79              1          1               0   \n",
              "\n",
              "      EstimatedSalary  Exited  \n",
              "0           101348.88       1  \n",
              "1           112542.58       0  \n",
              "2           113931.57       1  \n",
              "3            93826.63       0  \n",
              "4            79084.10       0  \n",
              "...               ...     ...  \n",
              "9995         96270.64       0  \n",
              "9996        101699.77       0  \n",
              "9997         42085.58       1  \n",
              "9998         92888.52       1  \n",
              "9999         38190.78       0  \n",
              "\n",
              "[10000 rows x 14 columns]"
            ]
          },
          "execution_count": 5,
          "metadata": {},
          "output_type": "execute_result"
        }
      ],
      "source": [
        "!gdown \"1Tv_kSKRkyLhcRZgzvYZzeWBm3Qv9XxRy\"\n",
        "\n",
        "data = pd.read_csv(\"Churn_Modelling.csv\")\n",
        "data"
      ]
    },
    {
      "cell_type": "code",
      "execution_count": 6,
      "metadata": {
        "colab": {
          "base_uri": "https://localhost:8080/",
          "height": 300
        },
        "id": "GbltDbO-fECC",
        "outputId": "823048df-308e-4914-dd2c-632440b82862"
      },
      "outputs": [
        {
          "data": {
            "text/html": [
              "<div>\n",
              "<style scoped>\n",
              "    .dataframe tbody tr th:only-of-type {\n",
              "        vertical-align: middle;\n",
              "    }\n",
              "\n",
              "    .dataframe tbody tr th {\n",
              "        vertical-align: top;\n",
              "    }\n",
              "\n",
              "    .dataframe thead th {\n",
              "        text-align: right;\n",
              "    }\n",
              "</style>\n",
              "<table border=\"1\" class=\"dataframe\">\n",
              "  <thead>\n",
              "    <tr style=\"text-align: right;\">\n",
              "      <th></th>\n",
              "      <th>RowNumber</th>\n",
              "      <th>CustomerId</th>\n",
              "      <th>CreditScore</th>\n",
              "      <th>Age</th>\n",
              "      <th>Tenure</th>\n",
              "      <th>Balance</th>\n",
              "      <th>NumOfProducts</th>\n",
              "      <th>HasCrCard</th>\n",
              "      <th>IsActiveMember</th>\n",
              "      <th>EstimatedSalary</th>\n",
              "      <th>Exited</th>\n",
              "    </tr>\n",
              "  </thead>\n",
              "  <tbody>\n",
              "    <tr>\n",
              "      <th>count</th>\n",
              "      <td>10000.00000</td>\n",
              "      <td>1.000000e+04</td>\n",
              "      <td>10000.000000</td>\n",
              "      <td>10000.000000</td>\n",
              "      <td>10000.000000</td>\n",
              "      <td>10000.000000</td>\n",
              "      <td>10000.000000</td>\n",
              "      <td>10000.00000</td>\n",
              "      <td>10000.000000</td>\n",
              "      <td>10000.000000</td>\n",
              "      <td>10000.000000</td>\n",
              "    </tr>\n",
              "    <tr>\n",
              "      <th>mean</th>\n",
              "      <td>5000.50000</td>\n",
              "      <td>1.569094e+07</td>\n",
              "      <td>650.528800</td>\n",
              "      <td>38.921800</td>\n",
              "      <td>5.012800</td>\n",
              "      <td>76485.889288</td>\n",
              "      <td>1.530200</td>\n",
              "      <td>0.70550</td>\n",
              "      <td>0.515100</td>\n",
              "      <td>100090.239881</td>\n",
              "      <td>0.203700</td>\n",
              "    </tr>\n",
              "    <tr>\n",
              "      <th>std</th>\n",
              "      <td>2886.89568</td>\n",
              "      <td>7.193619e+04</td>\n",
              "      <td>96.653299</td>\n",
              "      <td>10.487806</td>\n",
              "      <td>2.892174</td>\n",
              "      <td>62397.405202</td>\n",
              "      <td>0.581654</td>\n",
              "      <td>0.45584</td>\n",
              "      <td>0.499797</td>\n",
              "      <td>57510.492818</td>\n",
              "      <td>0.402769</td>\n",
              "    </tr>\n",
              "    <tr>\n",
              "      <th>min</th>\n",
              "      <td>1.00000</td>\n",
              "      <td>1.556570e+07</td>\n",
              "      <td>350.000000</td>\n",
              "      <td>18.000000</td>\n",
              "      <td>0.000000</td>\n",
              "      <td>0.000000</td>\n",
              "      <td>1.000000</td>\n",
              "      <td>0.00000</td>\n",
              "      <td>0.000000</td>\n",
              "      <td>11.580000</td>\n",
              "      <td>0.000000</td>\n",
              "    </tr>\n",
              "    <tr>\n",
              "      <th>25%</th>\n",
              "      <td>2500.75000</td>\n",
              "      <td>1.562853e+07</td>\n",
              "      <td>584.000000</td>\n",
              "      <td>32.000000</td>\n",
              "      <td>3.000000</td>\n",
              "      <td>0.000000</td>\n",
              "      <td>1.000000</td>\n",
              "      <td>0.00000</td>\n",
              "      <td>0.000000</td>\n",
              "      <td>51002.110000</td>\n",
              "      <td>0.000000</td>\n",
              "    </tr>\n",
              "    <tr>\n",
              "      <th>50%</th>\n",
              "      <td>5000.50000</td>\n",
              "      <td>1.569074e+07</td>\n",
              "      <td>652.000000</td>\n",
              "      <td>37.000000</td>\n",
              "      <td>5.000000</td>\n",
              "      <td>97198.540000</td>\n",
              "      <td>1.000000</td>\n",
              "      <td>1.00000</td>\n",
              "      <td>1.000000</td>\n",
              "      <td>100193.915000</td>\n",
              "      <td>0.000000</td>\n",
              "    </tr>\n",
              "    <tr>\n",
              "      <th>75%</th>\n",
              "      <td>7500.25000</td>\n",
              "      <td>1.575323e+07</td>\n",
              "      <td>718.000000</td>\n",
              "      <td>44.000000</td>\n",
              "      <td>7.000000</td>\n",
              "      <td>127644.240000</td>\n",
              "      <td>2.000000</td>\n",
              "      <td>1.00000</td>\n",
              "      <td>1.000000</td>\n",
              "      <td>149388.247500</td>\n",
              "      <td>0.000000</td>\n",
              "    </tr>\n",
              "    <tr>\n",
              "      <th>max</th>\n",
              "      <td>10000.00000</td>\n",
              "      <td>1.581569e+07</td>\n",
              "      <td>850.000000</td>\n",
              "      <td>92.000000</td>\n",
              "      <td>10.000000</td>\n",
              "      <td>250898.090000</td>\n",
              "      <td>4.000000</td>\n",
              "      <td>1.00000</td>\n",
              "      <td>1.000000</td>\n",
              "      <td>199992.480000</td>\n",
              "      <td>1.000000</td>\n",
              "    </tr>\n",
              "  </tbody>\n",
              "</table>\n",
              "</div>"
            ],
            "text/plain": [
              "         RowNumber    CustomerId   CreditScore           Age        Tenure  \\\n",
              "count  10000.00000  1.000000e+04  10000.000000  10000.000000  10000.000000   \n",
              "mean    5000.50000  1.569094e+07    650.528800     38.921800      5.012800   \n",
              "std     2886.89568  7.193619e+04     96.653299     10.487806      2.892174   \n",
              "min        1.00000  1.556570e+07    350.000000     18.000000      0.000000   \n",
              "25%     2500.75000  1.562853e+07    584.000000     32.000000      3.000000   \n",
              "50%     5000.50000  1.569074e+07    652.000000     37.000000      5.000000   \n",
              "75%     7500.25000  1.575323e+07    718.000000     44.000000      7.000000   \n",
              "max    10000.00000  1.581569e+07    850.000000     92.000000     10.000000   \n",
              "\n",
              "             Balance  NumOfProducts    HasCrCard  IsActiveMember  \\\n",
              "count   10000.000000   10000.000000  10000.00000    10000.000000   \n",
              "mean    76485.889288       1.530200      0.70550        0.515100   \n",
              "std     62397.405202       0.581654      0.45584        0.499797   \n",
              "min         0.000000       1.000000      0.00000        0.000000   \n",
              "25%         0.000000       1.000000      0.00000        0.000000   \n",
              "50%     97198.540000       1.000000      1.00000        1.000000   \n",
              "75%    127644.240000       2.000000      1.00000        1.000000   \n",
              "max    250898.090000       4.000000      1.00000        1.000000   \n",
              "\n",
              "       EstimatedSalary        Exited  \n",
              "count     10000.000000  10000.000000  \n",
              "mean     100090.239881      0.203700  \n",
              "std       57510.492818      0.402769  \n",
              "min          11.580000      0.000000  \n",
              "25%       51002.110000      0.000000  \n",
              "50%      100193.915000      0.000000  \n",
              "75%      149388.247500      0.000000  \n",
              "max      199992.480000      1.000000  "
            ]
          },
          "execution_count": 6,
          "metadata": {},
          "output_type": "execute_result"
        }
      ],
      "source": [
        "data.describe()"
      ]
    },
    {
      "cell_type": "markdown",
      "metadata": {
        "id": "qrdsx6232RwH"
      },
      "source": [
        "## Feature engineering"
      ]
    },
    {
      "cell_type": "code",
      "execution_count": 7,
      "metadata": {
        "colab": {
          "base_uri": "https://localhost:8080/"
        },
        "id": "mO-xXGZdNoKj",
        "outputId": "d4be2109-2c1c-4dcb-c3f6-32eec0222300"
      },
      "outputs": [
        {
          "data": {
            "text/plain": [
              "RowNumber          0\n",
              "CustomerId         0\n",
              "Surname            0\n",
              "CreditScore        0\n",
              "Geography          0\n",
              "Gender             0\n",
              "Age                0\n",
              "Tenure             0\n",
              "Balance            0\n",
              "NumOfProducts      0\n",
              "HasCrCard          0\n",
              "IsActiveMember     0\n",
              "EstimatedSalary    0\n",
              "Exited             0\n",
              "dtype: int64"
            ]
          },
          "execution_count": 7,
          "metadata": {},
          "output_type": "execute_result"
        }
      ],
      "source": [
        "# Let's check if we have NaNs\n",
        "data.isna().sum()"
      ]
    },
    {
      "cell_type": "code",
      "execution_count": 8,
      "metadata": {
        "id": "TDNGwFgbN9Oy"
      },
      "outputs": [],
      "source": [
        "# Let's drop some columns we shouldn't use\n",
        "data = data.drop(columns=[\"RowNumber\", \"CustomerId\", \"Surname\"])\n"
      ]
    },
    {
      "cell_type": "code",
      "execution_count": 9,
      "metadata": {
        "colab": {
          "base_uri": "https://localhost:8080/"
        },
        "id": "ZeYhg82mfD_q",
        "outputId": "ce2060bc-3e4b-432c-eb84-8c58ed8b27b3"
      },
      "outputs": [
        {
          "name": "stdout",
          "output_type": "stream",
          "text": [
            "(10000, 10) (10000,)\n"
          ]
        }
      ],
      "source": [
        "# Separate features and target (Exited will be our target)\n",
        "X = data[data.columns.drop(\"Exited\")]\n",
        "y = data[\"Exited\"]\n",
        "\n",
        "print(X.shape, y.shape)"
      ]
    },
    {
      "cell_type": "code",
      "execution_count": 10,
      "metadata": {
        "colab": {
          "base_uri": "https://localhost:8080/"
        },
        "id": "20Q3MB5G2iRK",
        "outputId": "3a939431-8946-424a-fa35-9fe42f949155"
      },
      "outputs": [
        {
          "name": "stdout",
          "output_type": "stream",
          "text": [
            "(8000, 10) (2000, 10) (8000,) (2000,)\n"
          ]
        }
      ],
      "source": [
        "# Do train/test splits\n",
        "X_train, X_test, y_train, y_test = train_test_split(X, y, test_size=0.2, random_state=2023)\n",
        "\n",
        "print(X_train.shape, X_test.shape, y_train.shape, y_test.shape)"
      ]
    },
    {
      "cell_type": "markdown",
      "metadata": {
        "id": "fawx88kxOmTT"
      },
      "source": [
        "### Prepare Numeric and Non-numeric features"
      ]
    },
    {
      "cell_type": "code",
      "execution_count": 11,
      "metadata": {
        "colab": {
          "base_uri": "https://localhost:8080/"
        },
        "id": "cL3KuA2GNztp",
        "outputId": "01601a85-53d1-4aed-b660-3ba40da3cda6"
      },
      "outputs": [
        {
          "name": "stdout",
          "output_type": "stream",
          "text": [
            "There are 8 numerical features: ['CreditScore', 'Age', 'Tenure', 'Balance', 'NumOfProducts', 'HasCrCard', 'IsActiveMember', 'EstimatedSalary']\n",
            "\n",
            "There are 2 string features: ['Geography', 'Gender']\n",
            "\n"
          ]
        }
      ],
      "source": [
        "numerical_features = X_train.select_dtypes(include='number').columns.tolist()\n",
        "print(f\"There are {len(numerical_features)} numerical features: {numerical_features}\\n\")\n",
        "\n",
        "string_features = X_train.select_dtypes(exclude='number').columns.tolist()\n",
        "print(f\"There are {len(string_features)} string features: {string_features}\\n\")\n"
      ]
    },
    {
      "cell_type": "code",
      "execution_count": 12,
      "metadata": {
        "id": "vBe_ePWDPIeW"
      },
      "outputs": [],
      "source": [
        "# Pipeline for numeric features\n",
        "numeric_pipeline = Pipeline(steps=[\n",
        "    ('impute', SimpleImputer(strategy='mean')),\n",
        "    ('scale', StandardScaler())\n",
        "  ]\n",
        ")\n",
        "\n",
        "# Pipeline for string features\n",
        "string_pipeline = Pipeline(steps=[\n",
        "    ('impute', SimpleImputer(strategy='most_frequent')),\n",
        "    ('encode', OneHotEncoder(handle_unknown='ignore', sparse_output=False))\n",
        "  ]\n",
        ")\n",
        "\n",
        "# Now let's merge both pipeline into one single pre-processing object\n",
        "# We can use ColumnTransformer for this\n",
        "full_processor = ColumnTransformer(transformers=[\n",
        "    ('number', numeric_pipeline, numerical_features),\n",
        "    ('string', string_pipeline, string_features)\n",
        "  ]\n",
        ")\n"
      ]
    },
    {
      "cell_type": "code",
      "execution_count": 13,
      "metadata": {
        "colab": {
          "base_uri": "https://localhost:8080/"
        },
        "id": "ldooYVPQQNVz",
        "outputId": "42b66285-812c-4852-ea34-00eada7119be"
      },
      "outputs": [
        {
          "name": "stdout",
          "output_type": "stream",
          "text": [
            "(8000, 13) (2000, 13)\n"
          ]
        }
      ],
      "source": [
        "X_train_p = full_processor.fit_transform(X_train)\n",
        "X_test_p = full_processor.transform(X_test)\n",
        "\n",
        "print(X_train_p.shape, X_test_p.shape)"
      ]
    },
    {
      "cell_type": "code",
      "execution_count": 14,
      "metadata": {
        "colab": {
          "base_uri": "https://localhost:8080/"
        },
        "id": "NE5vzp4Yvgx8",
        "outputId": "fd3d47b8-2283-4afc-e74f-b1610cc88357"
      },
      "outputs": [
        {
          "data": {
            "text/plain": [
              "array([-1.22610329, -0.74986619, -0.69271963, -1.21691622, -0.91838017,\n",
              "        0.64337173,  0.98093177, -0.99426055,  1.        ,  0.        ,\n",
              "        0.        ,  0.        ,  1.        ])"
            ]
          },
          "execution_count": 14,
          "metadata": {},
          "output_type": "execute_result"
        }
      ],
      "source": [
        "X_train_p[0]"
      ]
    },
    {
      "cell_type": "markdown",
      "metadata": {
        "id": "ysSETr2eHQkp"
      },
      "source": [
        "## Define the model"
      ]
    },
    {
      "cell_type": "code",
      "execution_count": 15,
      "metadata": {
        "colab": {
          "base_uri": "https://localhost:8080/"
        },
        "id": "ODKQVQWwYEEq",
        "outputId": "7e124dce-5767-434d-864e-b08923555f56"
      },
      "outputs": [
        {
          "data": {
            "text/plain": [
              "(13,)"
            ]
          },
          "execution_count": 15,
          "metadata": {},
          "output_type": "execute_result"
        }
      ],
      "source": [
        "X_train_p[0].shape"
      ]
    },
    {
      "cell_type": "code",
      "execution_count": 16,
      "metadata": {
        "colab": {
          "base_uri": "https://localhost:8080/"
        },
        "id": "zXGToO2-3Crd",
        "outputId": "f7cf96c5-6d90-4ef0-a374-64b91ea718db"
      },
      "outputs": [
        {
          "name": "stdout",
          "output_type": "stream",
          "text": [
            "Model: \"sequential\"\n",
            "_________________________________________________________________\n",
            " Layer (type)                Output Shape              Param #   \n",
            "=================================================================\n",
            " dense (Dense)               (None, 8)                 112       \n",
            "                                                                 \n",
            " dense_1 (Dense)             (None, 4)                 36        \n",
            "                                                                 \n",
            " dense_2 (Dense)             (None, 2)                 10        \n",
            "                                                                 \n",
            "=================================================================\n",
            "Total params: 158 (632.00 Byte)\n",
            "Trainable params: 158 (632.00 Byte)\n",
            "Non-trainable params: 0 (0.00 Byte)\n",
            "_________________________________________________________________\n"
          ]
        }
      ],
      "source": [
        "# Let's create a simple MLP with Keras\n",
        "model = keras.Sequential()\n",
        "model.add(layers.Dense(8, input_dim=13, activation='relu'))\n",
        "model.add(layers.Dense(4, activation='relu'))\n",
        "model.add(layers.Dense(2, activation='softmax'))\n",
        "\n",
        "model.summary()"
      ]
    },
    {
      "cell_type": "code",
      "execution_count": 17,
      "metadata": {},
      "outputs": [
        {
          "name": "stdout",
          "output_type": "stream",
          "text": [
            "Checking Pillow version...\n",
            "Current Pillow version: 10.2.0\n",
            "\n",
            "Updating Pillow...\n"
          ]
        },
        {
          "name": "stdout",
          "output_type": "stream",
          "text": [
            "Requirement already satisfied: Pillow in /Users/andresfelipeflorezolivera/anaconda3/lib/python3.11/site-packages (10.2.0)\n"
          ]
        },
        {
          "name": "stderr",
          "output_type": "stream",
          "text": [
            "\u001b[33mWARNING: There was an error checking the latest version of pip.\u001b[0m\u001b[33m\n",
            "\u001b[0m"
          ]
        },
        {
          "name": "stdout",
          "output_type": "stream",
          "text": [
            "Current Pillow version: 10.2.0\n",
            "\n",
            "Reinstalling visualkeras...\n",
            "Found existing installation: visualkeras 0.0.2\n",
            "Uninstalling visualkeras-0.0.2:\n",
            "  Successfully uninstalled visualkeras-0.0.2\n",
            "Collecting visualkeras\n",
            "  Using cached visualkeras-0.0.2-py3-none-any.whl (12 kB)\n",
            "Requirement already satisfied: pillow>=6.2.0 in /Users/andresfelipeflorezolivera/anaconda3/lib/python3.11/site-packages (from visualkeras) (10.2.0)\n",
            "Requirement already satisfied: numpy>=1.18.1 in /Users/andresfelipeflorezolivera/anaconda3/lib/python3.11/site-packages (from visualkeras) (1.24.3)\n",
            "Requirement already satisfied: aggdraw>=1.3.11 in /Users/andresfelipeflorezolivera/anaconda3/lib/python3.11/site-packages (from visualkeras) (1.3.18)\n",
            "Installing collected packages: visualkeras\n",
            "Successfully installed visualkeras-0.0.2\n",
            "\n",
            "Process completed. Please try running your code again.\n"
          ]
        },
        {
          "name": "stderr",
          "output_type": "stream",
          "text": [
            "\u001b[33mWARNING: There was an error checking the latest version of pip.\u001b[0m\u001b[33m\n",
            "\u001b[0m"
          ]
        }
      ],
      "source": [
        "import subprocess\n",
        "import sys\n",
        "\n",
        "def check_pillow_version():\n",
        "    # Check the current version of Pillow\n",
        "    try:\n",
        "        import PIL\n",
        "        print(f\"Current Pillow version: {PIL.__version__}\")\n",
        "    except ImportError as e:\n",
        "        print(str(e))\n",
        "\n",
        "def update_pillow():\n",
        "    # Update Pillow\n",
        "    subprocess.check_call([sys.executable, \"-m\", \"pip\", \"install\", \"--upgrade\", \"Pillow\"])\n",
        "\n",
        "def reinstall_visualkeras():\n",
        "    # Reinstall visualkeras\n",
        "    subprocess.check_call([sys.executable, \"-m\", \"pip\", \"uninstall\", \"-y\", \"visualkeras\"])\n",
        "    subprocess.check_call([sys.executable, \"-m\", \"pip\", \"install\", \"visualkeras\"])\n",
        "\n",
        "def main():\n",
        "    print(\"Checking Pillow version...\")\n",
        "    check_pillow_version()\n",
        "\n",
        "    print(\"\\nUpdating Pillow...\")\n",
        "    update_pillow()\n",
        "    check_pillow_version()\n",
        "\n",
        "    print(\"\\nReinstalling visualkeras...\")\n",
        "    reinstall_visualkeras()\n",
        "\n",
        "    print(\"\\nProcess completed. Please try running your code again.\")\n",
        "\n",
        "if __name__ == \"__main__\":\n",
        "    main()\n"
      ]
    },
    {
      "cell_type": "code",
      "execution_count": 22,
      "metadata": {
        "colab": {
          "base_uri": "https://localhost:8080/",
          "height": 80
        },
        "id": "o4yWPyXQsB__",
        "outputId": "e6d5cc95-b493-4c18-bdf6-6958749648f4"
      },
      "outputs": [
        {
          "ename": "AttributeError",
          "evalue": "'FreeTypeFont' object has no attribute 'getsize'",
          "output_type": "error",
          "traceback": [
            "\u001b[0;31m---------------------------------------------------------------------------\u001b[0m",
            "\u001b[0;31mAttributeError\u001b[0m                            Traceback (most recent call last)",
            "\u001b[1;32m/Users/andresfelipeflorezolivera/Downloads/Multilayer-Perceptron-Keras.ipynb Celda 23\u001b[0m line \u001b[0;36m1\n\u001b[0;32m----> <a href='vscode-notebook-cell:/Users/andresfelipeflorezolivera/Downloads/Multilayer-Perceptron-Keras.ipynb#X31sZmlsZQ%3D%3D?line=0'>1</a>\u001b[0m visualkeras\u001b[39m.\u001b[39mlayered_view(model, legend\u001b[39m=\u001b[39m\u001b[39mTrue\u001b[39;00m)\n",
            "File \u001b[0;32m~/anaconda3/lib/python3.11/site-packages/visualkeras/layered.py:194\u001b[0m, in \u001b[0;36mlayered_view\u001b[0;34m(model, to_file, min_z, min_xy, max_z, max_xy, scale_z, scale_xy, type_ignore, index_ignore, color_map, one_dim_orientation, background_fill, draw_volume, padding, spacing, draw_funnel, shade_step, legend, font, font_color)\u001b[0m\n\u001b[1;32m    191\u001b[0m \u001b[39mif\u001b[39;00m font \u001b[39mis\u001b[39;00m \u001b[39mNone\u001b[39;00m:\n\u001b[1;32m    192\u001b[0m     font \u001b[39m=\u001b[39m ImageFont\u001b[39m.\u001b[39mload_default()\n\u001b[0;32m--> 194\u001b[0m text_height \u001b[39m=\u001b[39m font\u001b[39m.\u001b[39mgetsize(\u001b[39m\"\u001b[39m\u001b[39mAg\u001b[39m\u001b[39m\"\u001b[39m)[\u001b[39m1\u001b[39m]\n\u001b[1;32m    195\u001b[0m cube_size \u001b[39m=\u001b[39m text_height\n\u001b[1;32m    197\u001b[0m de \u001b[39m=\u001b[39m \u001b[39m0\u001b[39m\n",
            "\u001b[0;31mAttributeError\u001b[0m: 'FreeTypeFont' object has no attribute 'getsize'"
          ]
        }
      ],
      "source": [
        "visualkeras.layered_view(model, legend=True)\n"
      ]
    },
    {
      "cell_type": "code",
      "execution_count": null,
      "metadata": {
        "id": "gS_QlQBR0lkt"
      },
      "outputs": [],
      "source": [
        "# We must compile the keras model before training\n",
        "# During compile we must define:\n",
        "#  - Loss functions to be used\n",
        "#  - Optimizer, we will see more about this in \"Training tips and tricks\"\n",
        "#  - Metrics, for this particular case we have a classification problem so we\n",
        "#    can use accuracy\n",
        "model.compile(\n",
        "  loss='sparse_categorical_crossentropy',\n",
        "  optimizer='adam',\n",
        "  metrics=['accuracy'],\n",
        ")\n"
      ]
    },
    {
      "cell_type": "code",
      "execution_count": null,
      "metadata": {
        "colab": {
          "base_uri": "https://localhost:8080/"
        },
        "id": "Wp2UGrC60lh2",
        "outputId": "bba69fba-3bb0-4351-8ceb-6280eec1430f"
      },
      "outputs": [
        {
          "name": "stdout",
          "output_type": "stream",
          "text": [
            "Epoch 1/50\n",
            "400/400 [==============================] - 1s 845us/step - loss: 0.4958 - accuracy: 0.7997 - val_loss: 0.4532 - val_accuracy: 0.7925\n",
            "Epoch 2/50\n",
            "400/400 [==============================] - 0s 571us/step - loss: 0.4398 - accuracy: 0.7997 - val_loss: 0.4317 - val_accuracy: 0.7925\n",
            "Epoch 3/50\n",
            "400/400 [==============================] - 0s 721us/step - loss: 0.4289 - accuracy: 0.7997 - val_loss: 0.4252 - val_accuracy: 0.7925\n",
            "Epoch 4/50\n",
            "400/400 [==============================] - 0s 714us/step - loss: 0.4243 - accuracy: 0.8050 - val_loss: 0.4208 - val_accuracy: 0.8037\n",
            "Epoch 5/50\n",
            "400/400 [==============================] - 0s 792us/step - loss: 0.4204 - accuracy: 0.8119 - val_loss: 0.4183 - val_accuracy: 0.8081\n",
            "Epoch 6/50\n",
            "400/400 [==============================] - 0s 622us/step - loss: 0.4175 - accuracy: 0.8178 - val_loss: 0.4152 - val_accuracy: 0.8175\n",
            "Epoch 7/50\n",
            "400/400 [==============================] - 0s 563us/step - loss: 0.4153 - accuracy: 0.8227 - val_loss: 0.4124 - val_accuracy: 0.8238\n",
            "Epoch 8/50\n",
            "400/400 [==============================] - 0s 569us/step - loss: 0.4133 - accuracy: 0.8269 - val_loss: 0.4100 - val_accuracy: 0.8263\n",
            "Epoch 9/50\n",
            "400/400 [==============================] - 0s 580us/step - loss: 0.4119 - accuracy: 0.8281 - val_loss: 0.4073 - val_accuracy: 0.8281\n",
            "Epoch 10/50\n",
            "400/400 [==============================] - 0s 559us/step - loss: 0.4105 - accuracy: 0.8284 - val_loss: 0.4064 - val_accuracy: 0.8306\n",
            "Epoch 11/50\n",
            "400/400 [==============================] - 0s 579us/step - loss: 0.4089 - accuracy: 0.8302 - val_loss: 0.4054 - val_accuracy: 0.8313\n",
            "Epoch 12/50\n",
            "400/400 [==============================] - 0s 584us/step - loss: 0.4088 - accuracy: 0.8305 - val_loss: 0.4038 - val_accuracy: 0.8319\n",
            "Epoch 13/50\n",
            "400/400 [==============================] - 0s 575us/step - loss: 0.4078 - accuracy: 0.8328 - val_loss: 0.4025 - val_accuracy: 0.8313\n",
            "Epoch 14/50\n",
            "400/400 [==============================] - 0s 629us/step - loss: 0.4071 - accuracy: 0.8322 - val_loss: 0.4015 - val_accuracy: 0.8338\n",
            "Epoch 15/50\n",
            "400/400 [==============================] - 0s 577us/step - loss: 0.4067 - accuracy: 0.8333 - val_loss: 0.4011 - val_accuracy: 0.8338\n",
            "Epoch 16/50\n",
            "400/400 [==============================] - 0s 569us/step - loss: 0.4064 - accuracy: 0.8333 - val_loss: 0.4000 - val_accuracy: 0.8350\n",
            "Epoch 17/50\n",
            "400/400 [==============================] - 0s 578us/step - loss: 0.4062 - accuracy: 0.8303 - val_loss: 0.4002 - val_accuracy: 0.8344\n",
            "Epoch 18/50\n",
            "400/400 [==============================] - 0s 581us/step - loss: 0.4059 - accuracy: 0.8341 - val_loss: 0.3994 - val_accuracy: 0.8363\n",
            "Epoch 19/50\n",
            "400/400 [==============================] - 0s 576us/step - loss: 0.4053 - accuracy: 0.8331 - val_loss: 0.3993 - val_accuracy: 0.8344\n",
            "Epoch 20/50\n",
            "400/400 [==============================] - 0s 573us/step - loss: 0.4044 - accuracy: 0.8330 - val_loss: 0.3986 - val_accuracy: 0.8356\n",
            "Epoch 21/50\n",
            "400/400 [==============================] - 0s 586us/step - loss: 0.4042 - accuracy: 0.8344 - val_loss: 0.3977 - val_accuracy: 0.8369\n",
            "Epoch 22/50\n",
            "400/400 [==============================] - 0s 578us/step - loss: 0.4037 - accuracy: 0.8341 - val_loss: 0.3974 - val_accuracy: 0.8381\n",
            "Epoch 23/50\n",
            "400/400 [==============================] - 0s 565us/step - loss: 0.4037 - accuracy: 0.8328 - val_loss: 0.3974 - val_accuracy: 0.8388\n",
            "Epoch 24/50\n",
            "400/400 [==============================] - 0s 568us/step - loss: 0.4034 - accuracy: 0.8348 - val_loss: 0.3971 - val_accuracy: 0.8419\n",
            "Epoch 25/50\n",
            "400/400 [==============================] - 0s 617us/step - loss: 0.4031 - accuracy: 0.8341 - val_loss: 0.3964 - val_accuracy: 0.8413\n",
            "Epoch 26/50\n",
            "400/400 [==============================] - 0s 574us/step - loss: 0.4028 - accuracy: 0.8352 - val_loss: 0.3961 - val_accuracy: 0.8375\n",
            "Epoch 27/50\n",
            "400/400 [==============================] - 0s 585us/step - loss: 0.4024 - accuracy: 0.8353 - val_loss: 0.3956 - val_accuracy: 0.8419\n",
            "Epoch 28/50\n",
            "400/400 [==============================] - 0s 584us/step - loss: 0.4018 - accuracy: 0.8342 - val_loss: 0.3950 - val_accuracy: 0.8431\n",
            "Epoch 29/50\n",
            "400/400 [==============================] - 0s 599us/step - loss: 0.4017 - accuracy: 0.8359 - val_loss: 0.3947 - val_accuracy: 0.8425\n",
            "Epoch 30/50\n",
            "400/400 [==============================] - 0s 568us/step - loss: 0.4013 - accuracy: 0.8342 - val_loss: 0.3948 - val_accuracy: 0.8406\n",
            "Epoch 31/50\n",
            "400/400 [==============================] - 0s 569us/step - loss: 0.4014 - accuracy: 0.8364 - val_loss: 0.3948 - val_accuracy: 0.8450\n",
            "Epoch 32/50\n",
            "400/400 [==============================] - 0s 568us/step - loss: 0.4011 - accuracy: 0.8352 - val_loss: 0.3945 - val_accuracy: 0.8413\n",
            "Epoch 33/50\n",
            "400/400 [==============================] - 0s 567us/step - loss: 0.4006 - accuracy: 0.8361 - val_loss: 0.3939 - val_accuracy: 0.8419\n",
            "Epoch 34/50\n",
            "400/400 [==============================] - 0s 583us/step - loss: 0.4001 - accuracy: 0.8353 - val_loss: 0.3941 - val_accuracy: 0.8425\n",
            "Epoch 35/50\n",
            "400/400 [==============================] - 0s 566us/step - loss: 0.4002 - accuracy: 0.8356 - val_loss: 0.3947 - val_accuracy: 0.8425\n",
            "Epoch 36/50\n",
            "400/400 [==============================] - 0s 613us/step - loss: 0.4002 - accuracy: 0.8355 - val_loss: 0.3931 - val_accuracy: 0.8450\n",
            "Epoch 37/50\n",
            "400/400 [==============================] - 0s 571us/step - loss: 0.3999 - accuracy: 0.8364 - val_loss: 0.3935 - val_accuracy: 0.8444\n",
            "Epoch 38/50\n",
            "400/400 [==============================] - 0s 579us/step - loss: 0.3993 - accuracy: 0.8370 - val_loss: 0.3929 - val_accuracy: 0.8444\n",
            "Epoch 39/50\n",
            "400/400 [==============================] - 0s 574us/step - loss: 0.3992 - accuracy: 0.8366 - val_loss: 0.3931 - val_accuracy: 0.8462\n",
            "Epoch 40/50\n",
            "400/400 [==============================] - 0s 568us/step - loss: 0.3987 - accuracy: 0.8377 - val_loss: 0.3923 - val_accuracy: 0.8431\n",
            "Epoch 41/50\n",
            "400/400 [==============================] - 0s 567us/step - loss: 0.3986 - accuracy: 0.8377 - val_loss: 0.3930 - val_accuracy: 0.8438\n",
            "Epoch 42/50\n",
            "400/400 [==============================] - 0s 575us/step - loss: 0.3983 - accuracy: 0.8377 - val_loss: 0.3929 - val_accuracy: 0.8450\n",
            "Epoch 43/50\n",
            "400/400 [==============================] - 0s 572us/step - loss: 0.3981 - accuracy: 0.8366 - val_loss: 0.3919 - val_accuracy: 0.8456\n",
            "Epoch 44/50\n",
            "400/400 [==============================] - 0s 595us/step - loss: 0.3982 - accuracy: 0.8369 - val_loss: 0.3922 - val_accuracy: 0.8444\n",
            "Epoch 45/50\n",
            "400/400 [==============================] - 0s 591us/step - loss: 0.3978 - accuracy: 0.8366 - val_loss: 0.3923 - val_accuracy: 0.8462\n",
            "Epoch 46/50\n",
            "400/400 [==============================] - 0s 646us/step - loss: 0.3977 - accuracy: 0.8366 - val_loss: 0.3923 - val_accuracy: 0.8487\n",
            "Epoch 47/50\n",
            "400/400 [==============================] - 0s 585us/step - loss: 0.3970 - accuracy: 0.8367 - val_loss: 0.3937 - val_accuracy: 0.8494\n",
            "Epoch 48/50\n",
            "400/400 [==============================] - 0s 575us/step - loss: 0.3972 - accuracy: 0.8373 - val_loss: 0.3921 - val_accuracy: 0.8475\n",
            "Epoch 49/50\n",
            "400/400 [==============================] - 0s 571us/step - loss: 0.3966 - accuracy: 0.8388 - val_loss: 0.3920 - val_accuracy: 0.8469\n",
            "Epoch 50/50\n",
            "400/400 [==============================] - 0s 575us/step - loss: 0.3967 - accuracy: 0.8384 - val_loss: 0.3917 - val_accuracy: 0.8462\n"
          ]
        }
      ],
      "source": [
        "# Now we can start training\n",
        "history = model.fit(\n",
        "  X_train_p,\n",
        "  y_train,\n",
        "  epochs=50,\n",
        "  batch_size=16,\n",
        "  validation_split=0.2\n",
        ")"
      ]
    },
    {
      "cell_type": "code",
      "execution_count": null,
      "metadata": {
        "colab": {
          "base_uri": "https://localhost:8080/",
          "height": 927
        },
        "id": "h96XjQJV0lff",
        "outputId": "fcc8060b-9260-490f-d9d5-194eeee53892"
      },
      "outputs": [
        {
          "data": {
            "image/png": "[encoded data removed]",
            "text/plain": [
              "<Figure size 640x480 with 1 Axes>"
            ]
          },
          "metadata": {},
          "output_type": "display_data"
        },
        {
          "data": {
            "image/png": "[encoded data removed]",
            "text/plain": [
              "<Figure size 640x480 with 1 Axes>"
            ]
          },
          "metadata": {},
          "output_type": "display_data"
        }
      ],
      "source": [
        "plot_history(history)"
      ]
    },
    {
      "cell_type": "markdown",
      "metadata": {
        "id": "iNA1jO2BSItJ"
      },
      "source": [
        "## Let's compare with other types of models\n"
      ]
    },
    {
      "cell_type": "code",
      "execution_count": null,
      "metadata": {
        "colab": {
          "base_uri": "https://localhost:8080/",
          "height": 286
        },
        "id": "ndEL647wSIHJ",
        "outputId": "e0163b27-5ac3-4b7d-daac-aa9fed60acd4"
      },
      "outputs": [
        {
          "name": "stdout",
          "output_type": "stream",
          "text": [
            "CPU times: user 813 ms, sys: 302 ms, total: 1.12 s\n",
            "Wall time: 4.78 s\n"
          ]
        },
        {
          "data": {
            "text/html": [
              "<style>#sk-container-id-1 {color: black;}#sk-container-id-1 pre{padding: 0;}#sk-container-id-1 div.sk-toggleable {background-color: white;}#sk-container-id-1 label.sk-toggleable__label {cursor: pointer;display: block;width: 100%;margin-bottom: 0;padding: 0.3em;box-sizing: border-box;text-align: center;}#sk-container-id-1 label.sk-toggleable__label-arrow:before {content: \"▸\";float: left;margin-right: 0.25em;color: #696969;}#sk-container-id-1 label.sk-toggleable__label-arrow:hover:before {color: black;}#sk-container-id-1 div.sk-estimator:hover label.sk-toggleable__label-arrow:before {color: black;}#sk-container-id-1 div.sk-toggleable__content {max-height: 0;max-width: 0;overflow: hidden;text-align: left;background-color: #f0f8ff;}#sk-container-id-1 div.sk-toggleable__content pre {margin: 0.2em;color: black;border-radius: 0.25em;background-color: #f0f8ff;}#sk-container-id-1 input.sk-toggleable__control:checked~div.sk-toggleable__content {max-height: 200px;max-width: 100%;overflow: auto;}#sk-container-id-1 input.sk-toggleable__control:checked~label.sk-toggleable__label-arrow:before {content: \"▾\";}#sk-container-id-1 div.sk-estimator input.sk-toggleable__control:checked~label.sk-toggleable__label {background-color: #d4ebff;}#sk-container-id-1 div.sk-label input.sk-toggleable__control:checked~label.sk-toggleable__label {background-color: #d4ebff;}#sk-container-id-1 input.sk-hidden--visually {border: 0;clip: rect(1px 1px 1px 1px);clip: rect(1px, 1px, 1px, 1px);height: 1px;margin: -1px;overflow: hidden;padding: 0;position: absolute;width: 1px;}#sk-container-id-1 div.sk-estimator {font-family: monospace;background-color: #f0f8ff;border: 1px dotted black;border-radius: 0.25em;box-sizing: border-box;margin-bottom: 0.5em;}#sk-container-id-1 div.sk-estimator:hover {background-color: #d4ebff;}#sk-container-id-1 div.sk-parallel-item::after {content: \"\";width: 100%;border-bottom: 1px solid gray;flex-grow: 1;}#sk-container-id-1 div.sk-label:hover label.sk-toggleable__label {background-color: #d4ebff;}#sk-container-id-1 div.sk-serial::before {content: \"\";position: absolute;border-left: 1px solid gray;box-sizing: border-box;top: 0;bottom: 0;left: 50%;z-index: 0;}#sk-container-id-1 div.sk-serial {display: flex;flex-direction: column;align-items: center;background-color: white;padding-right: 0.2em;padding-left: 0.2em;position: relative;}#sk-container-id-1 div.sk-item {position: relative;z-index: 1;}#sk-container-id-1 div.sk-parallel {display: flex;align-items: stretch;justify-content: center;background-color: white;position: relative;}#sk-container-id-1 div.sk-item::before, #sk-container-id-1 div.sk-parallel-item::before {content: \"\";position: absolute;border-left: 1px solid gray;box-sizing: border-box;top: 0;bottom: 0;left: 50%;z-index: -1;}#sk-container-id-1 div.sk-parallel-item {display: flex;flex-direction: column;z-index: 1;position: relative;background-color: white;}#sk-container-id-1 div.sk-parallel-item:first-child::after {align-self: flex-end;width: 50%;}#sk-container-id-1 div.sk-parallel-item:last-child::after {align-self: flex-start;width: 50%;}#sk-container-id-1 div.sk-parallel-item:only-child::after {width: 0;}#sk-container-id-1 div.sk-dashed-wrapped {border: 1px dashed gray;margin: 0 0.4em 0.5em 0.4em;box-sizing: border-box;padding-bottom: 0.4em;background-color: white;}#sk-container-id-1 div.sk-label label {font-family: monospace;font-weight: bold;display: inline-block;line-height: 1.2em;}#sk-container-id-1 div.sk-label-container {text-align: center;}#sk-container-id-1 div.sk-container {/* jupyter's `normalize.less` sets `[hidden] { display: none; }` but bootstrap.min.css set `[hidden] { display: none !important; }` so we also need the `!important` here to be able to override the default hidden behavior on the sphinx rendered scikit-learn.org. See: https://github.com/scikit-learn/scikit-learn/issues/21755 */display: inline-block !important;position: relative;}#sk-container-id-1 div.sk-text-repr-fallback {display: none;}</style><div id=\"sk-container-id-1\" class=\"sk-top-container\"><div class=\"sk-text-repr-fallback\"><pre>RandomizedSearchCV(cv=5,\n",
              "                   estimator=Pipeline(steps=[(&#x27;preprocess&#x27;,\n",
              "                                              ColumnTransformer(transformers=[(&#x27;number&#x27;,\n",
              "                                                                               Pipeline(steps=[(&#x27;impute&#x27;,\n",
              "                                                                                                SimpleImputer()),\n",
              "                                                                                               (&#x27;scale&#x27;,\n",
              "                                                                                                StandardScaler())]),\n",
              "                                                                               [&#x27;CreditScore&#x27;,\n",
              "                                                                                &#x27;Age&#x27;,\n",
              "                                                                                &#x27;Tenure&#x27;,\n",
              "                                                                                &#x27;Balance&#x27;,\n",
              "                                                                                &#x27;NumOfProducts&#x27;,\n",
              "                                                                                &#x27;HasCrCard&#x27;,\n",
              "                                                                                &#x27;IsActiveMember&#x27;,\n",
              "                                                                                &#x27;EstimatedSalary&#x27;]),\n",
              "                                                                              (&#x27;string&#x27;,\n",
              "                                                                               Pipeline(steps=[(&#x27;impute&#x27;,\n",
              "                                                                                                SimpleImputer(strategy=&#x27;most_fr...\n",
              "                   param_distributions={&#x27;model__criterion&#x27;: [&#x27;gini&#x27;, &#x27;entropy&#x27;],\n",
              "                                        &#x27;model__max_depth&#x27;: [2, 3, 5, 10, None],\n",
              "                                        &#x27;model__max_features&#x27;: &lt;scipy.stats._distn_infrastructure.rv_discrete_frozen object at 0x168e54b10&gt;,\n",
              "                                        &#x27;model__min_samples_leaf&#x27;: &lt;scipy.stats._distn_infrastructure.rv_discrete_frozen object at 0x1691d2f10&gt;,\n",
              "                                        &#x27;model__splitter&#x27;: [&#x27;best&#x27;, &#x27;random&#x27;]},\n",
              "                   random_state=2023, scoring=&#x27;accuracy&#x27;)</pre><b>In a Jupyter environment, please rerun this cell to show the HTML representation or trust the notebook. <br />On GitHub, the HTML representation is unable to render, please try loading this page with nbviewer.org.</b></div><div class=\"sk-container\" hidden><div class=\"sk-item sk-dashed-wrapped\"><div class=\"sk-label-container\"><div class=\"sk-label sk-toggleable\"><input class=\"sk-toggleable__control sk-hidden--visually\" id=\"sk-estimator-id-1\" type=\"checkbox\" ><label for=\"sk-estimator-id-1\" class=\"sk-toggleable__label sk-toggleable__label-arrow\">RandomizedSearchCV</label><div class=\"sk-toggleable__content\"><pre>RandomizedSearchCV(cv=5,\n",
              "                   estimator=Pipeline(steps=[(&#x27;preprocess&#x27;,\n",
              "                                              ColumnTransformer(transformers=[(&#x27;number&#x27;,\n",
              "                                                                               Pipeline(steps=[(&#x27;impute&#x27;,\n",
              "                                                                                                SimpleImputer()),\n",
              "                                                                                               (&#x27;scale&#x27;,\n",
              "                                                                                                StandardScaler())]),\n",
              "                                                                               [&#x27;CreditScore&#x27;,\n",
              "                                                                                &#x27;Age&#x27;,\n",
              "                                                                                &#x27;Tenure&#x27;,\n",
              "                                                                                &#x27;Balance&#x27;,\n",
              "                                                                                &#x27;NumOfProducts&#x27;,\n",
              "                                                                                &#x27;HasCrCard&#x27;,\n",
              "                                                                                &#x27;IsActiveMember&#x27;,\n",
              "                                                                                &#x27;EstimatedSalary&#x27;]),\n",
              "                                                                              (&#x27;string&#x27;,\n",
              "                                                                               Pipeline(steps=[(&#x27;impute&#x27;,\n",
              "                                                                                                SimpleImputer(strategy=&#x27;most_fr...\n",
              "                   param_distributions={&#x27;model__criterion&#x27;: [&#x27;gini&#x27;, &#x27;entropy&#x27;],\n",
              "                                        &#x27;model__max_depth&#x27;: [2, 3, 5, 10, None],\n",
              "                                        &#x27;model__max_features&#x27;: &lt;scipy.stats._distn_infrastructure.rv_discrete_frozen object at 0x168e54b10&gt;,\n",
              "                                        &#x27;model__min_samples_leaf&#x27;: &lt;scipy.stats._distn_infrastructure.rv_discrete_frozen object at 0x1691d2f10&gt;,\n",
              "                                        &#x27;model__splitter&#x27;: [&#x27;best&#x27;, &#x27;random&#x27;]},\n",
              "                   random_state=2023, scoring=&#x27;accuracy&#x27;)</pre></div></div></div><div class=\"sk-parallel\"><div class=\"sk-parallel-item\"><div class=\"sk-item\"><div class=\"sk-label-container\"><div class=\"sk-label sk-toggleable\"><input class=\"sk-toggleable__control sk-hidden--visually\" id=\"sk-estimator-id-2\" type=\"checkbox\" ><label for=\"sk-estimator-id-2\" class=\"sk-toggleable__label sk-toggleable__label-arrow\">estimator: Pipeline</label><div class=\"sk-toggleable__content\"><pre>Pipeline(steps=[(&#x27;preprocess&#x27;,\n",
              "                 ColumnTransformer(transformers=[(&#x27;number&#x27;,\n",
              "                                                  Pipeline(steps=[(&#x27;impute&#x27;,\n",
              "                                                                   SimpleImputer()),\n",
              "                                                                  (&#x27;scale&#x27;,\n",
              "                                                                   StandardScaler())]),\n",
              "                                                  [&#x27;CreditScore&#x27;, &#x27;Age&#x27;,\n",
              "                                                   &#x27;Tenure&#x27;, &#x27;Balance&#x27;,\n",
              "                                                   &#x27;NumOfProducts&#x27;, &#x27;HasCrCard&#x27;,\n",
              "                                                   &#x27;IsActiveMember&#x27;,\n",
              "                                                   &#x27;EstimatedSalary&#x27;]),\n",
              "                                                 (&#x27;string&#x27;,\n",
              "                                                  Pipeline(steps=[(&#x27;impute&#x27;,\n",
              "                                                                   SimpleImputer(strategy=&#x27;most_frequent&#x27;)),\n",
              "                                                                  (&#x27;encode&#x27;,\n",
              "                                                                   OneHotEncoder(handle_unknown=&#x27;ignore&#x27;,\n",
              "                                                                                 sparse_output=False))]),\n",
              "                                                  [&#x27;Geography&#x27;, &#x27;Gender&#x27;])])),\n",
              "                (&#x27;model&#x27;, DecisionTreeClassifier())])</pre></div></div></div><div class=\"sk-serial\"><div class=\"sk-item\"><div class=\"sk-serial\"><div class=\"sk-item sk-dashed-wrapped\"><div class=\"sk-label-container\"><div class=\"sk-label sk-toggleable\"><input class=\"sk-toggleable__control sk-hidden--visually\" id=\"sk-estimator-id-3\" type=\"checkbox\" ><label for=\"sk-estimator-id-3\" class=\"sk-toggleable__label sk-toggleable__label-arrow\">preprocess: ColumnTransformer</label><div class=\"sk-toggleable__content\"><pre>ColumnTransformer(transformers=[(&#x27;number&#x27;,\n",
              "                                 Pipeline(steps=[(&#x27;impute&#x27;, SimpleImputer()),\n",
              "                                                 (&#x27;scale&#x27;, StandardScaler())]),\n",
              "                                 [&#x27;CreditScore&#x27;, &#x27;Age&#x27;, &#x27;Tenure&#x27;, &#x27;Balance&#x27;,\n",
              "                                  &#x27;NumOfProducts&#x27;, &#x27;HasCrCard&#x27;,\n",
              "                                  &#x27;IsActiveMember&#x27;, &#x27;EstimatedSalary&#x27;]),\n",
              "                                (&#x27;string&#x27;,\n",
              "                                 Pipeline(steps=[(&#x27;impute&#x27;,\n",
              "                                                  SimpleImputer(strategy=&#x27;most_frequent&#x27;)),\n",
              "                                                 (&#x27;encode&#x27;,\n",
              "                                                  OneHotEncoder(handle_unknown=&#x27;ignore&#x27;,\n",
              "                                                                sparse_output=False))]),\n",
              "                                 [&#x27;Geography&#x27;, &#x27;Gender&#x27;])])</pre></div></div></div><div class=\"sk-parallel\"><div class=\"sk-parallel-item\"><div class=\"sk-item\"><div class=\"sk-label-container\"><div class=\"sk-label sk-toggleable\"><input class=\"sk-toggleable__control sk-hidden--visually\" id=\"sk-estimator-id-4\" type=\"checkbox\" ><label for=\"sk-estimator-id-4\" class=\"sk-toggleable__label sk-toggleable__label-arrow\">number</label><div class=\"sk-toggleable__content\"><pre>[&#x27;CreditScore&#x27;, &#x27;Age&#x27;, &#x27;Tenure&#x27;, &#x27;Balance&#x27;, &#x27;NumOfProducts&#x27;, &#x27;HasCrCard&#x27;, &#x27;IsActiveMember&#x27;, &#x27;EstimatedSalary&#x27;]</pre></div></div></div><div class=\"sk-serial\"><div class=\"sk-item\"><div class=\"sk-serial\"><div class=\"sk-item\"><div class=\"sk-estimator sk-toggleable\"><input class=\"sk-toggleable__control sk-hidden--visually\" id=\"sk-estimator-id-5\" type=\"checkbox\" ><label for=\"sk-estimator-id-5\" class=\"sk-toggleable__label sk-toggleable__label-arrow\">SimpleImputer</label><div class=\"sk-toggleable__content\"><pre>SimpleImputer()</pre></div></div></div><div class=\"sk-item\"><div class=\"sk-estimator sk-toggleable\"><input class=\"sk-toggleable__control sk-hidden--visually\" id=\"sk-estimator-id-6\" type=\"checkbox\" ><label for=\"sk-estimator-id-6\" class=\"sk-toggleable__label sk-toggleable__label-arrow\">StandardScaler</label><div class=\"sk-toggleable__content\"><pre>StandardScaler()</pre></div></div></div></div></div></div></div></div><div class=\"sk-parallel-item\"><div class=\"sk-item\"><div class=\"sk-label-container\"><div class=\"sk-label sk-toggleable\"><input class=\"sk-toggleable__control sk-hidden--visually\" id=\"sk-estimator-id-7\" type=\"checkbox\" ><label for=\"sk-estimator-id-7\" class=\"sk-toggleable__label sk-toggleable__label-arrow\">string</label><div class=\"sk-toggleable__content\"><pre>[&#x27;Geography&#x27;, &#x27;Gender&#x27;]</pre></div></div></div><div class=\"sk-serial\"><div class=\"sk-item\"><div class=\"sk-serial\"><div class=\"sk-item\"><div class=\"sk-estimator sk-toggleable\"><input class=\"sk-toggleable__control sk-hidden--visually\" id=\"sk-estimator-id-8\" type=\"checkbox\" ><label for=\"sk-estimator-id-8\" class=\"sk-toggleable__label sk-toggleable__label-arrow\">SimpleImputer</label><div class=\"sk-toggleable__content\"><pre>SimpleImputer(strategy=&#x27;most_frequent&#x27;)</pre></div></div></div><div class=\"sk-item\"><div class=\"sk-estimator sk-toggleable\"><input class=\"sk-toggleable__control sk-hidden--visually\" id=\"sk-estimator-id-9\" type=\"checkbox\" ><label for=\"sk-estimator-id-9\" class=\"sk-toggleable__label sk-toggleable__label-arrow\">OneHotEncoder</label><div class=\"sk-toggleable__content\"><pre>OneHotEncoder(handle_unknown=&#x27;ignore&#x27;, sparse_output=False)</pre></div></div></div></div></div></div></div></div></div></div><div class=\"sk-item\"><div class=\"sk-estimator sk-toggleable\"><input class=\"sk-toggleable__control sk-hidden--visually\" id=\"sk-estimator-id-10\" type=\"checkbox\" ><label for=\"sk-estimator-id-10\" class=\"sk-toggleable__label sk-toggleable__label-arrow\">DecisionTreeClassifier</label><div class=\"sk-toggleable__content\"><pre>DecisionTreeClassifier()</pre></div></div></div></div></div></div></div></div></div></div></div></div>"
            ],
            "text/plain": [
              "RandomizedSearchCV(cv=5,\n",
              "                   estimator=Pipeline(steps=[('preprocess',\n",
              "                                              ColumnTransformer(transformers=[('number',\n",
              "                                                                               Pipeline(steps=[('impute',\n",
              "                                                                                                SimpleImputer()),\n",
              "                                                                                               ('scale',\n",
              "                                                                                                StandardScaler())]),\n",
              "                                                                               ['CreditScore',\n",
              "                                                                                'Age',\n",
              "                                                                                'Tenure',\n",
              "                                                                                'Balance',\n",
              "                                                                                'NumOfProducts',\n",
              "                                                                                'HasCrCard',\n",
              "                                                                                'IsActiveMember',\n",
              "                                                                                'EstimatedSalary']),\n",
              "                                                                              ('string',\n",
              "                                                                               Pipeline(steps=[('impute',\n",
              "                                                                                                SimpleImputer(strategy='most_fr...\n",
              "                   param_distributions={'model__criterion': ['gini', 'entropy'],\n",
              "                                        'model__max_depth': [2, 3, 5, 10, None],\n",
              "                                        'model__max_features': <scipy.stats._distn_infrastructure.rv_discrete_frozen object at 0x168e54b10>,\n",
              "                                        'model__min_samples_leaf': <scipy.stats._distn_infrastructure.rv_discrete_frozen object at 0x1691d2f10>,\n",
              "                                        'model__splitter': ['best', 'random']},\n",
              "                   random_state=2023, scoring='accuracy')"
            ]
          },
          "execution_count": 39,
          "metadata": {},
          "output_type": "execute_result"
        }
      ],
      "source": [
        "%%time\n",
        "\n",
        "# Let's create a pipeline re-using the preprocessing\n",
        "# but adding a DecisionTreeClassifier\n",
        "tree_pipeline = Pipeline(steps=[\n",
        "    ('preprocess', full_processor),\n",
        "    ('model', DecisionTreeClassifier())\n",
        "  ]\n",
        ")\n",
        "\n",
        "param_dist = {\n",
        "  \"model__max_depth\": [2, 3, 5, 10, None],\n",
        "  \"model__splitter\": [\"best\", \"random\"],\n",
        "  \"model__max_features\": scipy.stats.randint(1, 13),\n",
        "  \"model__min_samples_leaf\": scipy.stats.randint(1, 25),\n",
        "  \"model__criterion\": [\"gini\", \"entropy\"]\n",
        "}\n",
        "\n",
        "rsearch = RandomizedSearchCV(\n",
        "  tree_pipeline,\n",
        "  param_dist,\n",
        "  n_iter=150,\n",
        "  scoring=\"accuracy\",\n",
        "  cv=5,\n",
        "  n_jobs=-1,\n",
        "  random_state=2023,\n",
        ")\n",
        "\n",
        "rsearch.fit(X_train, y_train)\n"
      ]
    },
    {
      "cell_type": "code",
      "execution_count": null,
      "metadata": {
        "colab": {
          "base_uri": "https://localhost:8080/"
        },
        "id": "dr2yoYNQSIFF",
        "outputId": "a7a0d11c-c471-4472-9138-b8b56eb42285"
      },
      "outputs": [
        {
          "data": {
            "text/plain": [
              "{'model__criterion': 'gini',\n",
              " 'model__max_depth': 5,\n",
              " 'model__max_features': 11,\n",
              " 'model__min_samples_leaf': 12,\n",
              " 'model__splitter': 'best'}"
            ]
          },
          "execution_count": 40,
          "metadata": {},
          "output_type": "execute_result"
        }
      ],
      "source": [
        "rsearch.best_params_"
      ]
    },
    {
      "cell_type": "code",
      "execution_count": null,
      "metadata": {
        "colab": {
          "base_uri": "https://localhost:8080/"
        },
        "id": "Qgz_PjoTSICz",
        "outputId": "ceab3115-aa22-4da1-dada-5b615f27f0fd"
      },
      "outputs": [
        {
          "data": {
            "text/plain": [
              "0.8559999999999999"
            ]
          },
          "execution_count": 41,
          "metadata": {},
          "output_type": "execute_result"
        }
      ],
      "source": [
        " rsearch.best_score_"
      ]
    }
  ],
  "metadata": {
    "accelerator": "GPU",
    "colab": {
      "gpuType": "T4",
      "provenance": []
    },
    "kernelspec": {
      "display_name": "Python 3",
      "name": "python3"
    },
    "language_info": {
      "codemirror_mode": {
        "name": "ipython",
        "version": 3
      },
      "file_extension": ".py",
      "mimetype": "text/x-python",
      "name": "python",
      "nbconvert_exporter": "python",
      "pygments_lexer": "ipython3",
      "version": "3.11.5"
    }
  },
  "nbformat": 4,
  "nbformat_minor": 0
}
