{
  "nbformat": 4,
  "nbformat_minor": 0,
  "metadata": {
    "colab": {
      "provenance": []
    },
    "kernelspec": {
      "name": "python3",
      "display_name": "Python 3"
    }
  },
  "cells": [
    {
      "cell_type": "markdown",
      "metadata": {
        "id": "kDBLSUUJ2JJp"
      },
      "source": [
        "# Entrenar un autoencoder basado en capas Dense en Mnist"
      ]
    },
    {
      "cell_type": "code",
      "metadata": {
        "id": "49xlYf-HfgNM",
        "colab": {
          "base_uri": "https://localhost:8080/"
        },
        "outputId": "cdf86d08-37e1-4bd5-dab7-f5b884fe0d07"
      },
      "source": [
        "import keras\n",
        "from keras.layers import Activation, Dense, Input\n",
        "from keras.layers import Conv2D, Flatten\n",
        "from keras.layers import Reshape, Conv2DTranspose\n",
        "from keras.models import Model\n",
        "from keras.datasets import mnist\n",
        "import numpy as np\n",
        "import matplotlib.pyplot as plt\n",
        "from PIL import Image\n",
        "\n",
        "np.random.seed(1337)\n",
        "\n",
        "# MNIST dataset\n",
        "def load_data():\n",
        "  (x_train, _), (x_test, _) = mnist.load_data()\n",
        "  input_dim = 28*28\n",
        "  x_train = np.reshape(x_train, [-1, input_dim])/255.0\n",
        "  x_test = np.reshape(x_test,   [-1, input_dim])/255.0\n",
        "\n",
        "  return x_train,x_test,input_dim\n",
        "\n",
        "\n",
        "def DenseAutoencoder(input_dim,latent_dim):\n",
        "  def generate_encoder():\n",
        "    encoder_input = Input(shape=(input_dim,), name='encoder_input')\n",
        "    code = Dense(latent_dim, name='latent_vector')(encoder_input)\n",
        "    encoder = Model(encoder_input, code, name='encoder')\n",
        "    return encoder,encoder_input\n",
        "\n",
        "  def generate_decoder():\n",
        "    latent_input = Input(shape=(latent_dim,), name='decoder_input')\n",
        "    decoded_image = Dense(input_dim,activation=\"sigmoid\",name='decoder_output')(latent_input)\n",
        "    decoder = Model(latent_input, decoded_image, name='decoder')\n",
        "    return decoder\n",
        "\n",
        "  encoder,encoder_input = generate_encoder()\n",
        "  decoder = generate_decoder()\n",
        "  autoencoder = Model(encoder_input, decoder(encoder(encoder_input)), name='autoencoder')\n",
        "  return autoencoder,encoder,decoder\n",
        "\n",
        "\n",
        "latent_dim = 16\n",
        "x_train,x_test,input_dim = load_data()\n",
        "print(x_train.shape,x_test.shape,input_dim)\n",
        "\n",
        "autoencoder,encoder,decoder=DenseAutoencoder(input_dim,latent_dim)\n",
        "\n",
        "autoencoder.compile(loss='binary_crossentropy', optimizer='adam')\n",
        "\n",
        "print(autoencoder.summary())\n",
        "print(encoder.summary())\n",
        "print(decoder.summary())\n",
        "\n",
        "batch_size = 128\n",
        "# Train the autoencoder\n",
        "autoencoder.fit(x_train+ruido,\n",
        "                x_train,\n",
        "                validation_data=(x_test, x_test),\n",
        "                epochs=10,\n",
        "                batch_size=batch_size)\n",
        "\n",
        "# Predict the Autoencoder output from test images\n",
        "x_decoded = autoencoder.predict(x_test)\n",
        "\n",
        "\n",
        "\n",
        "\n"
      ],
      "execution_count": null,
      "outputs": [
        {
          "output_type": "stream",
          "text": [
            "Downloading data from https://storage.googleapis.com/tensorflow/tf-keras-datasets/mnist.npz\n",
            "11493376/11490434 [==============================] - 0s 0us/step\n",
            "11501568/11490434 [==============================] - 0s 0us/step\n",
            "(60000, 784) (10000, 784) 784\n",
            "Model: \"autoencoder\"\n",
            "_________________________________________________________________\n",
            "Layer (type)                 Output Shape              Param #   \n",
            "=================================================================\n",
            "encoder_input (InputLayer)   [(None, 784)]             0         \n",
            "_________________________________________________________________\n",
            "encoder (Functional)         (None, 16)                12560     \n",
            "_________________________________________________________________\n",
            "decoder (Functional)         (None, 784)               13328     \n",
            "=================================================================\n",
            "Total params: 25,888\n",
            "Trainable params: 25,888\n",
            "Non-trainable params: 0\n",
            "_________________________________________________________________\n",
            "None\n",
            "Model: \"encoder\"\n",
            "_________________________________________________________________\n",
            "Layer (type)                 Output Shape              Param #   \n",
            "=================================================================\n",
            "encoder_input (InputLayer)   [(None, 784)]             0         \n",
            "_________________________________________________________________\n",
            "latent_vector (Dense)        (None, 16)                12560     \n",
            "=================================================================\n",
            "Total params: 12,560\n",
            "Trainable params: 12,560\n",
            "Non-trainable params: 0\n",
            "_________________________________________________________________\n",
            "None\n",
            "Model: \"decoder\"\n",
            "_________________________________________________________________\n",
            "Layer (type)                 Output Shape              Param #   \n",
            "=================================================================\n",
            "decoder_input (InputLayer)   [(None, 16)]              0         \n",
            "_________________________________________________________________\n",
            "decoder_output (Dense)       (None, 784)               13328     \n",
            "=================================================================\n",
            "Total params: 13,328\n",
            "Trainable params: 13,328\n",
            "Non-trainable params: 0\n",
            "_________________________________________________________________\n",
            "None\n",
            "Epoch 1/10\n",
            "469/469 [==============================] - 18s 9ms/step - loss: 0.3444 - val_loss: 0.1846\n",
            "Epoch 2/10\n",
            "469/469 [==============================] - 4s 8ms/step - loss: 0.1769 - val_loss: 0.1544\n",
            "Epoch 3/10\n",
            "469/469 [==============================] - 4s 8ms/step - loss: 0.1514 - val_loss: 0.1426\n",
            "Epoch 4/10\n",
            "469/469 [==============================] - 4s 8ms/step - loss: 0.1423 - val_loss: 0.1377\n",
            "Epoch 5/10\n",
            "469/469 [==============================] - 4s 8ms/step - loss: 0.1378 - val_loss: 0.1340\n",
            "Epoch 6/10\n",
            "469/469 [==============================] - 4s 8ms/step - loss: 0.1344 - val_loss: 0.1312\n",
            "Epoch 7/10\n",
            "469/469 [==============================] - 4s 8ms/step - loss: 0.1318 - val_loss: 0.1293\n",
            "Epoch 8/10\n",
            "469/469 [==============================] - 4s 8ms/step - loss: 0.1307 - val_loss: 0.1284\n",
            "Epoch 9/10\n",
            "469/469 [==============================] - 4s 8ms/step - loss: 0.1298 - val_loss: 0.1277\n",
            "Epoch 10/10\n",
            "469/469 [==============================] - 4s 8ms/step - loss: 0.1294 - val_loss: 0.1274\n"
          ],
          "name": "stdout"
        }
      ]
    },
    {
      "cell_type": "markdown",
      "metadata": {
        "id": "c9-VrqzS1qvp"
      },
      "source": [
        "# Mostrar imágenes antes y después de pasar por el modelo\n",
        "\n",
        "---\n"
      ]
    },
    {
      "cell_type": "code",
      "metadata": {
        "id": "ltqfL4Hbh6-m",
        "colab": {
          "base_uri": "https://localhost:8080/",
          "height": 188
        },
        "outputId": "5f4a39dd-5091-4e61-a9af-dd59bfb7299b"
      },
      "source": [
        "# Display images with decoded\n",
        "\n",
        "\n",
        "def show_as_single_image(imgs,image_shape):\n",
        "  h,w=image_shape\n",
        "  n,c=imgs.shape\n",
        "  imgs = imgs.reshape((n, h,w))\n",
        "  imgs = imgs.swapaxes(1,2).reshape((n*w, h)).swapaxes(0,1)\n",
        "  imgs = (imgs * 255).astype(np.uint8)\n",
        "\n",
        "  plt.figure(figsize=(1*8,n*8),dpi=100)\n",
        "  plt.axis('off')\n",
        "  plt.imshow(imgs, interpolation='none', cmap='gray')\n",
        "  plt.tight_layout()\n",
        "\n",
        "num=16\n",
        "print(\"Original images\")\n",
        "show_as_single_image(x_test[:num],(28,28))\n",
        "print(\"Restored images\")\n",
        "show_as_single_image(x_decoded[:num],(28,28))\n"
      ],
      "execution_count": null,
      "outputs": [
        {
          "output_type": "stream",
          "text": [
            "Original images\n",
            "Restored images\n"
          ],
          "name": "stdout"
        },
        {
          "output_type": "display_data",
          "data": {
            "image/png": "[encoded data removed]",
            "text/plain": [
              "<Figure size 800x12800 with 1 Axes>"
            ]
          },
          "metadata": {
            "tags": [],
            "needs_background": "light"
          }
        },
        {
          "output_type": "display_data",
          "data": {
            "image/png": "[encoded data removed]",
            "text/plain": [
              "<Figure size 800x12800 with 1 Axes>"
            ]
          },
          "metadata": {
            "tags": [],
            "needs_background": "light"
          }
        }
      ]
    },
    {
      "cell_type": "markdown",
      "metadata": {
        "id": "C16vvfFt1ipZ"
      },
      "source": [
        "# Intentar generar nuevas muestras desde el espacio latente (no funciona, necesito usar [Autoencoders variacionales](https://blog.keras.io/building-autoencoders-in-keras.html) or GANs)\n",
        "\n"
      ]
    },
    {
      "cell_type": "code",
      "metadata": {
        "id": "gvjDIMh70EwJ",
        "colab": {
          "base_uri": "https://localhost:8080/",
          "height": 120
        },
        "outputId": "eea26db1-ef64-4d9e-be6a-fa3e479ab41b"
      },
      "source": [
        "\n",
        "num_images=16\n",
        "random_latent_code = np.random.random_sample([num_images,latent_dim])\n",
        "\n",
        "random_images = decoder.predict(random_latent_code)\n",
        "\n",
        "print(random_images.shape)\n",
        "print(\"Randomly generated images\")\n",
        "show_as_single_image(random_images,(28,28))"
      ],
      "execution_count": null,
      "outputs": [
        {
          "output_type": "stream",
          "text": [
            "(16, 784)\n",
            "Randomly generated images\n"
          ],
          "name": "stdout"
        },
        {
          "output_type": "display_data",
          "data": {
            "image/png": "[encoded data removed]",
            "text/plain": [
              "<Figure size 800x12800 with 1 Axes>"
            ]
          },
          "metadata": {
            "tags": [],
            "needs_background": "light"
          }
        }
      ]
    },
    {
      "cell_type": "code",
      "metadata": {
        "colab": {
          "base_uri": "https://localhost:8080/",
          "height": 300
        },
        "id": "P8PIPIcRZECS",
        "outputId": "f5a89d5e-680b-438e-db03-0c737a475027"
      },
      "source": [
        "encoded_test = encoder.predict(x_test)\n",
        "average_code = encoded_test[0,:].reshape((1,-1))-2\n",
        "print(average_code.shape)\n",
        "average_image = decoder.predict(average_code)\n",
        "plt.imshow(average_image[0,:].reshape((28,28)))"
      ],
      "execution_count": null,
      "outputs": [
        {
          "output_type": "stream",
          "text": [
            "(1, 16)\n"
          ],
          "name": "stdout"
        },
        {
          "output_type": "execute_result",
          "data": {
            "text/plain": [
              "<matplotlib.image.AxesImage at 0x7ff75487ec90>"
            ]
          },
          "metadata": {
            "tags": []
          },
          "execution_count": 22
        },
        {
          "output_type": "display_data",
          "data": {
            "image/png": "[encoded data removed]",
            "text/plain": [
              "<Figure size 432x288 with 1 Axes>"
            ]
          },
          "metadata": {
            "tags": [],
            "needs_background": "light"
          }
        }
      ]
    }
  ]
}