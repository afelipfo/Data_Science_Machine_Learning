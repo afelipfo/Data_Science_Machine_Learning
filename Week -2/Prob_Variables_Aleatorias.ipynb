{
  "cells": [
    {
      "cell_type": "markdown",
      "source": [
        "# DIPLOMADO DE CIENCIA DE DATOS / UNIVERSIDAD PEDAGÓGICA Y TECNOLÓGICA DE COLOMBIA.\n",
        "\n",
        "**DOCENTE:** ANDRÉS FELIPE FLÓREZ O."
      ],
      "metadata": {
        "id": "vk_1QVgPUIGk"
      }
    },
    {
      "cell_type": "markdown",
      "metadata": {
        "id": "4ZFPgXGrqUqd"
      },
      "source": [
        "# Variables Aleatorias![dados.png](data:image/png;base64,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)"
      ]
    },
    {
      "cell_type": "markdown",
      "metadata": {
        "id": "MKfPS5OPqUqi"
      },
      "source": [
        "## <span style=\"color:blue\">Contenido</span>"
      ]
    },
    {
      "cell_type": "markdown",
      "metadata": {
        "id": "LXilE40mqUqi"
      },
      "source": [
        "* [Introducción](#Introducción)\n",
        "* [Ejemplo de los dados](#Ejemplo-de-los-dados)\n",
        "* [Variable aleatoria](#Variable-aleatoria)\n",
        "* [Cálculo de frecuencias](#Cálculo-de-frecuencias)\n",
        "* [Función de Probabilidad de una variable numérica discreta](#Función-de-Probabilidad-de-una-variable-numérica-discreta)\n",
        "* [Interpretación de la función de probabilidad](#Interpretación-de-la-función-de-probabilidad)\n",
        "* [Ejemplos de variables numéricas discretas](#Ejemplos-de-variables-numéricas-discretas)\n",
        "* [Variable categóricas](#Variable-categóricas)\n",
        "* [Esperanza Matemática de una variable aleatoria numérica](#Esperanza-Matemática-de-una-variable-aleatoria-numérica)\n",
        "* [Varianza y desviación estándar de una variable aleatoria](#Varianza-y-desviación-estándar-de-una-variable-aleatoria)\n",
        "* [Entropía de una variable aleatoria](#Entropía-de-una-variable-aleatoria)"
      ]
    },
    {
      "cell_type": "markdown",
      "metadata": {
        "id": "Al9tlAuCqUqi"
      },
      "source": [
        "## <span style=\"color:blue\">Introducción</span>"
      ]
    },
    {
      "cell_type": "markdown",
      "metadata": {
        "id": "HJuT3ZxHqUqi"
      },
      "source": [
        "En esta sección se introducen conceptos básicos de variables aleatorias, funciones de probabilidad y distribución acumulada."
      ]
    },
    {
      "cell_type": "markdown",
      "metadata": {
        "id": "8ZAHVea8qUqi"
      },
      "source": [
        "## <span style=\"color:blue\">Ejemplo de los dados</span>"
      ]
    },
    {
      "cell_type": "markdown",
      "metadata": {
        "id": "HiyKsuQrqUqj"
      },
      "source": [
        "Recordando la situación cuando tenemos dos dados...\n"
      ]
    },
    {
      "cell_type": "markdown",
      "metadata": {
        "id": "mvDqaMeiqUqj"
      },
      "source": [
        "Como ya sabe del ejercicio hay 36 posibles resultados. Es decir el espacio muestral $\\mathcal{M}$ tiene 36 elementos y $2^{36}$ eventos.\n",
        "\n",
        "Supongamos que $(x,y)$ es un elemento de $\\mathcal{M}$. Observe que $(x,y)$ es en realidad una pareja de números. Por ejemplo $(3,4)$. Definamos ahora la siguiente función:\n",
        "\n",
        "$$\n",
        "f(x,y) = x+y,\n",
        "$$\n",
        "\n",
        "es decir la función $f$ simplemente calcula la suma de los dos números. Como el espacio muestral tiene 36 elementos, entonces hay 36 posibles resultados, aunque no todos son diferentes.\n",
        "\n",
        "\n",
        "La función $f$ se llama una **variable aleatoria**. Veamos algunos posibles valores que puede tomar la función:\n",
        "\n",
        "$$\n",
        "\\begin{align}\n",
        "f(1,1) & = 2\\\\\n",
        "f(3,2) & = 5\\\\\n",
        "f(4,3) & = 7\\\\\n",
        "f(3,4) & = 7\\\\\n",
        "f(6,5) & = 11\n",
        "\\end{align}\n",
        "$$\n"
      ]
    },
    {
      "cell_type": "markdown",
      "metadata": {
        "id": "d5Q3UtcjqUqj"
      },
      "source": [
        "## <span style=\"color:blue\">Variable aleatoria</span>"
      ]
    },
    {
      "cell_type": "markdown",
      "metadata": {
        "id": "Zh-aKgzqqUqj"
      },
      "source": [
        "Dado un espacio muestral $\\mathcal{M}$, es una función que asigna a los elementos del espacio muestral un número real.\n",
        "\n",
        "\n",
        "En el espacio muestral de los dos dados de seis lados, se pueden definir muchas variables aleatorias. Considere por ejemplo la variable aleatoria definida por $g(x,y) = x\\times y$."
      ]
    },
    {
      "cell_type": "markdown",
      "metadata": {
        "id": "uAZguCDjqUqj"
      },
      "source": [
        "### Ejercicio"
      ]
    },
    {
      "cell_type": "code",
      "execution_count": null,
      "metadata": {
        "id": "oVVPbAG-qUqk",
        "outputId": "45dd3c91-a5b0-4b58-8ac9-e5cc9acc9c01"
      },
      "outputs": [
        {
          "name": "stdout",
          "output_type": "stream",
          "text": [
            "f( 1.0 , 1.0 ) = 2.0\n",
            "f( 1.0 , 2.0 ) = 3.0\n",
            "f( 1.0 , 3.0 ) = 4.0\n",
            "f( 1.0 , 4.0 ) = 5.0\n",
            "f( 1.0 , 5.0 ) = 6.0\n",
            "f( 1.0 , 6.0 ) = 7.0\n",
            "f( 2.0 , 1.0 ) = 3.0\n",
            "f( 2.0 , 2.0 ) = 4.0\n",
            "f( 2.0 , 3.0 ) = 5.0\n",
            "f( 2.0 , 4.0 ) = 6.0\n",
            "f( 2.0 , 5.0 ) = 7.0\n",
            "f( 2.0 , 6.0 ) = 8.0\n",
            "f( 3.0 , 1.0 ) = 4.0\n",
            "f( 3.0 , 2.0 ) = 5.0\n",
            "f( 3.0 , 3.0 ) = 6.0\n",
            "f( 3.0 , 4.0 ) = 7.0\n",
            "f( 3.0 , 5.0 ) = 8.0\n",
            "f( 3.0 , 6.0 ) = 9.0\n",
            "f( 4.0 , 1.0 ) = 5.0\n",
            "f( 4.0 , 2.0 ) = 6.0\n",
            "f( 4.0 , 3.0 ) = 7.0\n",
            "f( 4.0 , 4.0 ) = 8.0\n",
            "f( 4.0 , 5.0 ) = 9.0\n",
            "f( 4.0 , 6.0 ) = 10.0\n",
            "f( 5.0 , 1.0 ) = 6.0\n",
            "f( 5.0 , 2.0 ) = 7.0\n",
            "f( 5.0 , 3.0 ) = 8.0\n",
            "f( 5.0 , 4.0 ) = 9.0\n",
            "f( 5.0 , 5.0 ) = 10.0\n",
            "f( 5.0 , 6.0 ) = 11.0\n",
            "f( 6.0 , 1.0 ) = 7.0\n",
            "f( 6.0 , 2.0 ) = 8.0\n",
            "f( 6.0 , 3.0 ) = 9.0\n",
            "f( 6.0 , 4.0 ) = 10.0\n",
            "f( 6.0 , 5.0 ) = 11.0\n",
            "f( 6.0 , 6.0 ) = 12.0\n"
          ]
        }
      ],
      "source": [
        "# Considere el ejemplo del espacio muestral de los dos dados de seis caras, no cargados.\n",
        "\n",
        "\n",
        "\n",
        "# libreria numérica\n",
        "import numpy as np\n",
        "\n",
        "# Construir la tabla completa de los posibles resultados de de las funcioens  f  y  g\n",
        "\n",
        "# Construir tensor 36 x 2\n",
        "M = np.zeros((36,2))\n",
        "k = 0\n",
        "for i in range(1,7):\n",
        "    for j in range(1,7):\n",
        "        M[k,] = (i,j)\n",
        "        k+=1\n",
        "\n",
        "\n",
        "# Proponer otra variable aleatoria definida sobre el espacio muestral M $.\n",
        "f = np.zeros(36)\n",
        "for k in range(36):\n",
        "    f[k] = M[k,0] + M[k,1]\n",
        "\n",
        "\n",
        "# presenta los resultados\n",
        "for k in range(36):\n",
        "    print('f(',M[k,0],',',M[k,1],') =', f[k])"
      ]
    },
    {
      "cell_type": "markdown",
      "metadata": {
        "id": "cde2xu0zqUqm"
      },
      "source": [
        "## <span style=\"color:blue\">Cálculo de frecuencias</span>"
      ]
    },
    {
      "cell_type": "markdown",
      "metadata": {
        "id": "lwBeA9h0qUqm"
      },
      "source": [
        "Observe que en el ejemplo anterior, la variable aleatoria toma once(11) posibles valores diferentes:\n",
        "\n",
        "$$f=\\{ 2,3,4,5,6,7,8,9,10,11,12\\}$$.\n",
        "\n",
        "\n",
        "Entonces tenemos lo siguiente: 36 posibles valores, pero solamente 11 diferentes.  El siguiente fragmento de código muestra como obtener los posibles valores diferentes que toma la variable aleatoria $f$."
      ]
    },
    {
      "cell_type": "code",
      "execution_count": null,
      "metadata": {
        "id": "O41jZHSNqUqm",
        "outputId": "678ead7d-1526-4e31-c907-08fbb45fe1c4"
      },
      "outputs": [
        {
          "name": "stdout",
          "output_type": "stream",
          "text": [
            "[ 2.  3.  4.  5.  6.  7.  8.  9. 10. 11. 12.]\n"
          ]
        }
      ],
      "source": [
        "print(np.unique(f))"
      ]
    },
    {
      "cell_type": "markdown",
      "metadata": {
        "id": "NX15xgQkqUqm"
      },
      "source": [
        "### Función Python para calcular una tabla de frecuencias"
      ]
    },
    {
      "cell_type": "markdown",
      "metadata": {
        "id": "Mcm-fA0nqUqn"
      },
      "source": [
        "La siguiente función muestra un camino de como calcular la tabla de frecuencias de un conjunto de datos, puestos en una lista de Python."
      ]
    },
    {
      "cell_type": "code",
      "execution_count": null,
      "metadata": {
        "id": "OdEnTM13qUqn"
      },
      "outputs": [],
      "source": [
        "# Función Python para contar los elementos la fecuencia\n",
        "# de los elementos de una lista, usando un diccionario\n",
        "\n",
        "def CountFrequency(my_list):\n",
        "\n",
        "    # Creating an empty dictionary\n",
        "    freq = {}\n",
        "    for item in my_list:\n",
        "        if (item in freq):\n",
        "            freq[item] += 1\n",
        "        else:\n",
        "            freq[item] = 1\n",
        "    return freq\n"
      ]
    },
    {
      "cell_type": "markdown",
      "metadata": {
        "id": "Zz0LnrwEqUqn"
      },
      "source": [
        "Asegúrese de entender completamente el código. Vamos a probar la función con dos ejemplos. Primero calculamos la frecuencia de los valores de la variable aleatoria $f$."
      ]
    },
    {
      "cell_type": "code",
      "execution_count": null,
      "metadata": {
        "id": "UAKmsyH1qUqn",
        "outputId": "ca7ffd29-f4e8-4f04-ef4c-cc6a5b647e04"
      },
      "outputs": [
        {
          "name": "stdout",
          "output_type": "stream",
          "text": [
            " 2 :  1\n",
            " 3 :  2\n",
            " 4 :  3\n",
            " 5 :  4\n",
            " 6 :  5\n",
            " 7 :  6\n",
            " 8 :  5\n",
            " 9 :  4\n",
            " 10 :  3\n",
            " 11 :  2\n",
            " 12 :  1\n"
          ]
        },
        {
          "data": {
            "text/plain": [
              "{2.0: 1,\n",
              " 3.0: 2,\n",
              " 4.0: 3,\n",
              " 5.0: 4,\n",
              " 6.0: 5,\n",
              " 7.0: 6,\n",
              " 8.0: 5,\n",
              " 9.0: 4,\n",
              " 10.0: 3,\n",
              " 11.0: 2,\n",
              " 12.0: 1}"
            ]
          },
          "execution_count": 4,
          "metadata": {},
          "output_type": "execute_result"
        }
      ],
      "source": [
        "frec = CountFrequency(f)\n",
        "\n",
        "for key, value in frec.items():\n",
        "    print (\"% d : % d\"%(key, value))\n",
        "\n",
        "frec"
      ]
    },
    {
      "cell_type": "markdown",
      "metadata": {
        "id": "FskUGCbSqUqo"
      },
      "source": [
        "Podemos manipular directamente los valores del diccionario. Por ejemplo para calcular la frecuencia de 7, que ya sabemos es 6, se escribe"
      ]
    },
    {
      "cell_type": "code",
      "execution_count": null,
      "metadata": {
        "id": "_PWwcwucqUqo",
        "outputId": "9727411f-dd4a-4bfa-e375-18de036801d9"
      },
      "outputs": [
        {
          "data": {
            "text/plain": [
              "6"
            ]
          },
          "execution_count": 5,
          "metadata": {},
          "output_type": "execute_result"
        }
      ],
      "source": [
        "frec[7]"
      ]
    },
    {
      "cell_type": "markdown",
      "metadata": {
        "id": "vMznZXAZqUqu"
      },
      "source": [
        "En un segundo ejemplo, consideremos el conjunto $ W= \\{A,B,B,C,A,A \\}$"
      ]
    },
    {
      "cell_type": "code",
      "execution_count": null,
      "metadata": {
        "id": "rI2XwjM-qUqu",
        "outputId": "987cf6f7-9c22-4d45-9ec0-309b6a068f94"
      },
      "outputs": [
        {
          "data": {
            "text/plain": [
              "2"
            ]
          },
          "execution_count": 6,
          "metadata": {},
          "output_type": "execute_result"
        }
      ],
      "source": [
        "W = ['A','B','B','C','A','A']\n",
        "frec = CountFrequency(W)\n",
        "frec['B']"
      ]
    },
    {
      "cell_type": "markdown",
      "metadata": {
        "id": "q7vEsWcIqUqv"
      },
      "source": [
        "## <span style=\"color:blue\">Función de Probabilidad de una variable numérica discreta</span>"
      ]
    },
    {
      "cell_type": "markdown",
      "metadata": {
        "id": "ukJjMxjwqUqv"
      },
      "source": [
        "Ahora que hemos aprendido a calcular tablas de frecuencias de conjuntos de datos organizados en una lista, vamos a introducir el concepto clave de función de probabilidad. En esta sección consideramos variables aleatorias numéricas discretas como la función $f$ asociada al espacio muestral del lanzamiento de dos dados no cargados.\n",
        "\n",
        "Como observamos antes, la variable aleatoria $f$ es discreta (particularmente es finita), debido a que toma únicamente 11 posibles valores numéricos. Por otro lado sabemos que el resultado del experimento de lanzar los dados puede arrojar 36 posibles resultados. La **función de probabilidad de la variable aleatoria** *f*, que notaremos $p_f$ se define como la probabilidad de obtener cada posible valor de *f*.\n",
        "\n",
        "\n",
        "Entonces como vimos arriba tenemos que la función de probabilidad de la variable aleatoria $f$ esta definida por extensión de la siguiente forma:\n",
        "\n",
        "$$\n",
        "\\begin{align}\n",
        "p_f[2] & = 1/36\\\\\n",
        "p_f[3] & = 2/36\\\\\n",
        "p_f[4] & = 3/36\\\\\n",
        "p_f[5] & = 4/36\\\\\n",
        "p_f[6] & = 5/36\\\\\n",
        "p_f[7] & = 6/36\\\\\n",
        "p_f[8] & = 5/36\\\\\n",
        "p_f[9] & = 4/36\\\\\n",
        "p_f[10] & = 3/36\\\\\n",
        "p_f[11] & = 2/36\\\\\n",
        "p_f[12] & = 1/36\n",
        "\\end{align}\n",
        "$$\n",
        "\n",
        "Podemos obtener una imagen de la función, utilizando un histograma. Un histograma es un gráfico de una función de probabilidad de una variable numérica. El siguiente código Python muestra como construir un histograma de la variable aleatoria *f*."
      ]
    },
    {
      "cell_type": "code",
      "execution_count": null,
      "metadata": {
        "id": "att5TsPkqUqv",
        "outputId": "9b645e00-82c2-43b3-97e3-f8eb7dd62caa"
      },
      "outputs": [
        {
          "data": {
            "image/png": "[encoded data removed]",
            "text/plain": [
              "<Figure size 432x288 with 1 Axes>"
            ]
          },
          "metadata": {
            "needs_background": "light"
          },
          "output_type": "display_data"
        }
      ],
      "source": [
        "import matplotlib.pyplot as plt\n",
        "plt.hist(f, bins=11,density=True)\n",
        "plt.title('Funcion de probabilidad de la V.A. $f$')\n",
        "plt.xlabel('Valores de  $f$')\n",
        "plt.ylabel('Probabilidad')\n",
        "plt.show()"
      ]
    },
    {
      "cell_type": "markdown",
      "metadata": {
        "id": "fVEsuxrpqUqv"
      },
      "source": [
        "### Cálculo de algunas probabilidades"
      ]
    },
    {
      "cell_type": "markdown",
      "metadata": {
        "id": "5ct8YkqCqUqv"
      },
      "source": [
        "Dado que la variable aleatoria $f$ es numérica, podemos calcular la probabilidad de diferentes eventos del espacio muestral, basados en el valor de $f$. Veamos algunos ejemplos.\n",
        "\n",
        "$$\n",
        "\\begin{align}\n",
        "\\text{Prob}[f \\text{ es par }] &= 18/36\\\\\n",
        "\\text{Prob}[f\\le 6] &= 15/36\\\\\n",
        "\\text{Prob}[f> 10] &= 3/36\\\\\n",
        "\\text{Prob}[f \\text{ es par }|f<5] &= 4/6\n",
        "\\end{align}\n",
        "$$"
      ]
    },
    {
      "cell_type": "markdown",
      "metadata": {
        "id": "480Cc-b7qUqw"
      },
      "source": [
        "## <span style=\"color:blue\">Interpretación de la función de probabilidad</span>"
      ]
    },
    {
      "cell_type": "markdown",
      "metadata": {
        "id": "NUeTrlmbqUqw"
      },
      "source": [
        "Supongamos que el experimento de lanzar se repite muchas veces. Digamos 100 veces. Como la probabilidad de obtener digamos $f=7$ es $6/36$, entonces lo que se espera que ocurra es que en los 100 lanzamientos se obtenga un valor cercano a\n",
        "\n",
        "$$\n",
        "\\text{Número de veces que se espera que ocurra }\\{f=7\\} = \\tfrac{6}{36}\\times 100 \\approx 17.\n",
        "$$\n",
        "\n",
        "Por supuesto, no necesariamente el resultado será 17. Pero si un número cercano. Por ejemplo no esperamos que no ocurra ninguna vez o que ocurra todas las veces el resultado $\\{f=7\\}$."
      ]
    },
    {
      "cell_type": "markdown",
      "metadata": {
        "id": "5YvYpqqXqUqw"
      },
      "source": [
        "## <span style=\"color:blue\">Ejemplos de variables numéricas discretas</span>"
      ]
    },
    {
      "cell_type": "markdown",
      "metadata": {
        "id": "L7Mtt9jOqUqw"
      },
      "source": [
        "### Variable de Bernoulli (Distribución de Bernoulli)"
      ]
    },
    {
      "cell_type": "markdown",
      "metadata": {
        "id": "CyfdTfTXqUqw"
      },
      "source": [
        "Una variable aleatoria $f$ es Bernoulli, si solamente toma dos posibles valores, los cuales por convención son $\\{0,1\\}$. Es común llamar al resultado 1 como *éxito* y a cero como *fallo*. Observe que en este caso se tiene que la función de probabilidad es dada por\n",
        "\n",
        "$$\n",
        "\\begin{align}\n",
        "p_f[1] &= \\pi\\\\\n",
        "p_f[0] &= 1-\\pi,\n",
        "\\end{align}\n",
        "$$\n",
        "\n",
        "en donde $\\pi = \\text{Prob}[f=1]$. En este caso, se puede escribir la función en una forma más compacta como\n",
        "\n",
        "$$\n",
        "p_f[x] = \\pi^{x}(1-\\pi)^{1-x}, \\quad x=0,1.\n",
        "$$\n",
        "\n",
        "Asegúrese de entender la fórmula anterior.\n",
        "\n",
        "Un ejemplo es el siguiente. En el experimento del lanzamiento dados no cargados, definimos la variable aleatoria $g$ como sigue:\n",
        "\n",
        "$$\n",
        "g = \\begin{cases} &1, \\text{ si  la suma de los dos dados es par} \\\\\n",
        "&0, \\text{ si  la suma de los dos dados es impar}\n",
        "\\end{cases}\n",
        "$$\n",
        "\n",
        "Verifique que en este caso $\\pi =18/36=1/2$."
      ]
    },
    {
      "cell_type": "markdown",
      "metadata": {
        "id": "8SI0qAy4qUqw"
      },
      "source": [
        "### Variable Binomial (Distribución Binomial)"
      ]
    },
    {
      "cell_type": "markdown",
      "metadata": {
        "id": "RdmUK3YrqUqw"
      },
      "source": [
        "Consideremos la variable aleatoria $g$ definida arriba. Pero ahora vamos a considerar que hacemos el experimento digamos $N=3$ veces y contamos el número de veces en que $g=1$. Por otro lado vamos a suponer que que hay un sesgo en el experimento (una especie de dados cargados y se verifica que $\\text{Prob}[g=1] = 0.6$. Por lo tanto se tiene que $\\text{Prob}[g=0] = 0.4$.\n",
        "\n",
        "\n",
        "Entonces obtenemos una variable aleatoria que llamaremos $q$ y diremos que $q$ es una variable Binomial. La función de probabilidad de la variable aleatoria $q$ es dada por extensión como sigue. La variable $q$ toma 4 posibles valores, $q = \\{0,1,2,3\\}$\n",
        "\n",
        "Veamos como calcular las probabilidades de los valores de $q$.  La siguiente tabla muestra como calcular tales probabilidades.\n",
        "\n",
        "|Valor |Experimentos| probabilidad cada experimento| probabilidad para este valor de f| total|\n",
        "|---|---|---| ---|---|\n",
        "|0| 000| $0.4\\times 0.4 \\times 0.4$|0.064|0.064|\n",
        "|1| 100| $0.6\\times 0.4 \\times 0.4$|0.096||\n",
        "|1| 010| $0.4 \\times 0.6\\times 0.4$|0.096||\n",
        "|1| 001| $0.4 \\times 0.4\\times 0.6$|0.096|0.288|\n",
        "|2| 110| $0.6\\times 0.6 \\times 0.4$|0.144||\n",
        "|2| 011| $0.4 \\times 0.6\\times 0.6$|0.144||\n",
        "|2| 101| $0.6 \\times 0.4 \\times 0.6$|0.144|0.432|\n",
        "|3| 111| $0.6 \\times 0.6\\times 0.6$|0.216|0.216 |\n",
        "\n",
        "\n",
        "Entonces se tienen que\n",
        "\n",
        "$$\n",
        "\\begin{align}\n",
        "p_q[0] & = 0.064 \\\\\n",
        "p_q[1] & = 0.288\\\\\n",
        "p_q[2] & = 0.432\\\\\n",
        "p_q[3] & = 0.216\n",
        "\\end{align}\n",
        "$$"
      ]
    },
    {
      "cell_type": "markdown",
      "metadata": {
        "id": "nb9axe6FqUqw"
      },
      "source": [
        "\n",
        "El siguiente código muestra como calcular la función de probabilidad de la variable Binomial $q$ y  como obtener un  gráfico de la función."
      ]
    },
    {
      "cell_type": "code",
      "execution_count": null,
      "metadata": {
        "id": "j5PWP_ikqUqw",
        "outputId": "46de5e41-c5ce-405f-f3ed-ff09bd6eb4a3"
      },
      "outputs": [
        {
          "name": "stdout",
          "output_type": "stream",
          "text": [
            "p_q= [0.064 0.288 0.432 0.216]\n"
          ]
        },
        {
          "data": {
            "image/png": "[encoded data removed]",
            "text/plain": [
              "<Figure size 432x288 with 1 Axes>"
            ]
          },
          "metadata": {
            "needs_background": "light"
          },
          "output_type": "display_data"
        }
      ],
      "source": [
        "import numpy as np\n",
        "from scipy.stats import binom\n",
        "import matplotlib.pyplot as plt\n",
        "\n",
        "N, p  = 3, 0.6\n",
        "p_q = np.zeros(4)\n",
        "\n",
        "for k in range(4):\n",
        "    p_q[k] = binom.pmf(k,N,p)\n",
        "\n",
        "print('p_q=',p_q)\n",
        "label = ['0','1','2','3']\n",
        "plt.bar(label, p_q, color = 'orange', edgecolor='blue',width=1)\n",
        "plt.title('Funcion de probabilidad distribución $Binomial(3,0.6)$')\n",
        "plt.xlabel('Valores de  de la variable aleatoria')\n",
        "plt.ylabel('Probabilidad')\n",
        "plt.show()"
      ]
    },
    {
      "cell_type": "markdown",
      "metadata": {
        "id": "VuKV_cmAqUqx"
      },
      "source": [
        "Note que la función de probabilidad de Bernoulli es un caso especial de la Binomial con $N=1$.\n",
        "\n",
        "Existe una formula general para la función de probabilidad de una variable Binomial. Si se supone que se hacen  $N$ experimentos de Bernoulli realizados de manera independientes con la misma probabilidad de éxito (obtener 1), y se anota el número de unos (*éxitos*) obtenidos, entonces la probabilidad de obtener $k$ exitos es dada por\n",
        "\n",
        "$$\n",
        "p_{bin}[k] = \\binom{N}{k}\\pi^k(1-\\pi)^{N-k},\n",
        "$$\n",
        "\n",
        "en donde $\\binom{N}{k}$ es el símbolo combinatorio y $\\pi$ es la probabilidad de éxito de cada experimento de Bernoulli.\n",
        "\n",
        "**Nota.**\n",
        "\n",
        "Recuerde que el combinatorio $\\binom{N}{k}$ es el número de grupos diferentes de tamaño *k* que se pueden formar teniendo *N* elementos. Consulte cualquier libro de probabilidad para los detalles matemáticos.\n",
        "\n"
      ]
    },
    {
      "cell_type": "markdown",
      "metadata": {
        "id": "8jCpAc6BqUqx"
      },
      "source": [
        "### Variable Poisson (Distribución de Poisson)"
      ]
    },
    {
      "cell_type": "markdown",
      "metadata": {
        "id": "Iv_d0zmJqUqx"
      },
      "source": [
        "Esta distribución es utilizada en problemas de conteo. Por ejemplo el número de bacterias por unidad de área o volumen encontradas en un cultivo micro biológico.\n",
        "\n",
        "Una variable Poisson puede tomar teóricamente valores enteros entre cero e infinito. La función de probabilidad en este caso está dada por\n",
        "\n",
        "$$\n",
        "p_{poi}[k] = \\frac{e^{\\lambda}\\lambda^k}{k!},\\quad k=0,1, \\ldots\n",
        "$$\n",
        "\n",
        "El valor $\\lambda$ se interpreta como la cantidad promedio de elementos encontrados por unidad de área, volumen, etc."
      ]
    },
    {
      "cell_type": "markdown",
      "metadata": {
        "id": "ykV54DVeqUqx"
      },
      "source": [
        "## <span style=\"color:blue\">Variables categóricas</span>"
      ]
    },
    {
      "cell_type": "markdown",
      "metadata": {
        "id": "w1C4e2EeqUqx"
      },
      "source": [
        "En esta sección vamos a suponer que la variable aleatoria no asigna valores numéricos a los elementos del espacio muestral. En lugar de eso, asigna etiquetas. Usualmente dice que en este caso la variable es en realidad un objeto aleatorio. No haremos esa distinción en este desarrollo, pero si seremos cuidadosos en tener en cuenta que la variable no es numérica.\n",
        "\n",
        "Por facilidad usaremos de nuevo el ejemplo de los dados no cargados. Definimos la siguiente variable aleatoria que llamaremos  $X$. Para este ejercicio vamos a distinguir el color de los dados. Entonces en la pareja $(x,y)$, $x$ corresponde al valor del dado rojo. adicionalmente $y$ representa el valor del dado azul. Entonces\n",
        "\n",
        "$$\n",
        "X((x,y)) = \\begin{cases} &R, \\text{ si } x>y\\\\\n",
        "&A, \\text{ si } x<y\\\\\n",
        "&B, \\text{ si } x=y\\\\\n",
        "\\end{cases}\n",
        "$$\n",
        "\n",
        "Observe que en realidad el color del dado es indiferente para la definición de la variable aleatoria\n",
        "\n",
        "Entonces, la función de probabilidad en este caso es dada por\n",
        "\n",
        "$$\n",
        "\\begin{align}\n",
        "p_X[R] &= \\tfrac{15}{36}\\\\\n",
        "p_X[A] &= \\tfrac{15}{36}\\\\\n",
        "p_X[B] &= \\tfrac{6}{36}\\\\\n",
        "\\end{align}\n",
        "$$\n",
        "\n",
        "Aún podemos hacer un gráfico de la función de probabilidad $p_X$ como sigue."
      ]
    },
    {
      "cell_type": "code",
      "execution_count": null,
      "metadata": {
        "id": "ZdbnewrdqUqx",
        "outputId": "dfeaa358-f07c-43a7-ea4d-0eb234103f7d"
      },
      "outputs": [
        {
          "data": {
            "image/png": "[encoded data removed]",
            "text/plain": [
              "<Figure size 432x288 with 1 Axes>"
            ]
          },
          "metadata": {
            "needs_background": "light"
          },
          "output_type": "display_data"
        }
      ],
      "source": [
        "import numpy as np\n",
        "import matplotlib.pyplot as plt\n",
        "\n",
        "p_X = np.array([15/36,15/36, 6/36])\n",
        "label = ['R','A','B']\n",
        "\n",
        "plt.bar(label,p_X, color = 'red', edgecolor='black',width=1)\n",
        "plt.title('Funcion de probabilidad  $p_X$')\n",
        "plt.xlabel('Etiquetas de  $p_X$')\n",
        "plt.ylabel('Probabilidad')\n",
        "plt.show()"
      ]
    },
    {
      "cell_type": "markdown",
      "metadata": {
        "id": "iNLRy4Z0qUqy"
      },
      "source": [
        "Obviamente en este caso no hay cantidades numéricas, por lo que el gráfico puede obtenerse de distintas formas, cambiando el orden de la etiquetas.  Sin embargo, aún podemos hacer algunos cálculos de probabilidad.\n",
        "\n",
        "Por ejemplo, la probabilidad de obtener *R* o *A* es dada por $30/36$.\n"
      ]
    },
    {
      "cell_type": "markdown",
      "metadata": {
        "id": "nngb9QIgqUqy"
      },
      "source": [
        "## <span style=\"color:blue\">Esperanza Matemática de una variable aleatoria numérica</span>"
      ]
    },
    {
      "cell_type": "markdown",
      "metadata": {
        "id": "42YOu8-UqUqy"
      },
      "source": [
        "La esperanza matemática de una variable aleatoria numérica discreta es el promedio ponderado  de todos sus posibles valores. La ponderación como se puede sospechar es dada por la función de probabilidad de la variable.\n",
        "\n",
        "La definición se basa en el hecho que la función de probabilidad de la variable aleatoria representa la frecuencia relativa teórica de cada resultado particular.\n",
        "\n",
        "Se tiene  que si $X=\\{x_1,x_2,\\ldots \\}$ es el conjunto de valores de la variable aleatoria $X$ y si la función de probabilidad de $X$ es dada por $p_X =\\{p_1, p_2,\\ldots \\}$, en donde $p_X[x_i] = p_i$, entonces la esperanza matemática de $X$ se denota por $\\mathbb{E}[X]$ y es dada por\n",
        "\n",
        "$$\n",
        "\\mathbb{E}[X] = p_1x_1 + p_2x_2 +\\ldots = \\sum_{i} p_ix_i\n",
        "$$"
      ]
    },
    {
      "cell_type": "markdown",
      "metadata": {
        "id": "4N5c0drxqUqy"
      },
      "source": [
        "### Ejemplo"
      ]
    },
    {
      "cell_type": "markdown",
      "metadata": {
        "id": "wVPAf8h7qUqy"
      },
      "source": [
        "En el ejemplo de los dados se tiene que\n",
        "\n",
        "$$\n",
        "\\mathbb{E}[f] = \\tfrac{1}{36}[2\\times 1 + 3\\times 2 + 4\\times 3 + 5 \\times 4 + 6\\times 5 +  7\\times 6 +8\\times 5 + 9\\times 4 + 10 \\times 3 + 11 \\times 2 + 12 \\times 1 ] = 7.\n",
        "$$\n",
        "\n",
        "\n",
        "\n",
        "Puede tambien calcular la esperanza de $f$ con numpy como sigue."
      ]
    },
    {
      "cell_type": "code",
      "execution_count": null,
      "metadata": {
        "id": "vVRETfZDqUqy",
        "outputId": "73e7c80e-6bbd-4150-cd90-d7fc241be4d3"
      },
      "outputs": [
        {
          "data": {
            "text/plain": [
              "7.0"
            ]
          },
          "execution_count": 10,
          "metadata": {},
          "output_type": "execute_result"
        }
      ],
      "source": [
        "np.mean(f)"
      ]
    },
    {
      "cell_type": "markdown",
      "metadata": {
        "id": "hBIkNGOnqUqy"
      },
      "source": [
        "### Esperanza de la distribución Binomial"
      ]
    },
    {
      "cell_type": "markdown",
      "metadata": {
        "id": "pR9Is2wrqUqy"
      },
      "source": [
        "En el caso del ejemplo Binomial de la moneda cargada que se lanza tres veces tenemos que\n",
        "\n",
        "$$\n",
        "\\mathbb{E}[f] = 0\\times 0.064  + 1 \\times 0.288 + 2 \\times 0.432 + 3 \\times 0.216= 1.8.\n",
        "$$\n",
        "\n",
        "\n",
        "\n",
        "Se puede verificar que si una variable aleatoria $X$ tiene distribución (función de probabilidad) Binomial, $\\text{Bin}(N,p)$, entonces\n",
        "\n",
        "$$\n",
        "\\mathbb{E}[X] = Np.\n",
        "$$\n",
        "\n",
        "Puede consultar cualquier texto de probabilidad para verificar el resultado. El siguiente código muestra como calcular la esperanza para el caso $\\text{Bin}(3,0.6)$, con Python."
      ]
    },
    {
      "cell_type": "code",
      "execution_count": null,
      "metadata": {
        "id": "8XD5dC7-qUqz",
        "outputId": "8d96de52-2c56-45b9-dd66-f76be2a07e7a"
      },
      "outputs": [
        {
          "data": {
            "text/plain": [
              "1.7999999999999998"
            ]
          },
          "execution_count": 11,
          "metadata": {},
          "output_type": "execute_result"
        }
      ],
      "source": [
        "from scipy.stats import binom\n",
        "binom.expect(args=(3,0.6))"
      ]
    },
    {
      "cell_type": "markdown",
      "metadata": {
        "id": "FPoej11UqUqz"
      },
      "source": [
        "### Esperanza de la distribución Poisson"
      ]
    },
    {
      "cell_type": "markdown",
      "metadata": {
        "id": "PKDwJgrWqUqz"
      },
      "source": [
        "Una variable aleatoria con distribución $\\text{Pois}(\\lambda)$ tiene esperanza matemática $\\lambda$."
      ]
    },
    {
      "cell_type": "markdown",
      "metadata": {
        "id": "fm0-eOSyqUqz"
      },
      "source": [
        "## Varianza y desviación estándar de una variable aleatoria"
      ]
    },
    {
      "cell_type": "markdown",
      "metadata": {
        "id": "js9xSlvfqUqz"
      },
      "source": [
        "La varianza de una variable aleatoria mide su nivel de predictibilidad. Dicho en otras palabras, que tan dispersos son los valores de la variable aleatoria en relación con la esperanza matemática. Denotemos la esperanza de $X$ por $\\mu_X$.\n",
        "Técnicamente la varianza de una variable aleatoria se define por\n",
        "\n",
        "$$\n",
        "Var[X] = \\mathbb{E}[X-\\mu_X]^2 = \\sum_{i}p_i (x_i- \\mu_X)^2.\n",
        "$$"
      ]
    },
    {
      "cell_type": "markdown",
      "metadata": {
        "id": "nddPBDLmqUqz"
      },
      "source": [
        "### Desviación estándar"
      ]
    },
    {
      "cell_type": "markdown",
      "metadata": {
        "id": "XtyLywFcqUqz"
      },
      "source": [
        "La desviación estándar de una variable aleatoria se denota $\\sigma_X$ y es simplemente la raíz cuadrada de la varianza, es decir,\n",
        "\n",
        "$$\n",
        "\\sigma_X = \\sqrt{Var[X]}.\n",
        "$$"
      ]
    },
    {
      "cell_type": "markdown",
      "metadata": {
        "id": "4hP7YXjzqUq0"
      },
      "source": [
        "Para entender el porque la varianza mide el nivel de predictibilidad de una variable aleatoria consideremos una variable Bernoulli $X$. Escribimos  $X \\sim \\text{Ber}(\\pi)$. En este caso puede verificarse que la varianza es dada por\n",
        "\n",
        "$$\n",
        "Var(X) = \\pi(1-\\pi).\n",
        "$$\n",
        "\n",
        "El siguiente gráfico muestra la varianza de las distribuciones  Bernoulli con valorea distintos del parámetro $\\pi$."
      ]
    },
    {
      "cell_type": "code",
      "execution_count": null,
      "metadata": {
        "id": "0D37Ag-MqUq0",
        "outputId": "ab7f0f65-487e-46bb-8f1e-ba6bb97ad63b"
      },
      "outputs": [
        {
          "data": {
            "image/png": "[encoded data removed]",
            "text/plain": [
              "<Figure size 432x288 with 1 Axes>"
            ]
          },
          "metadata": {
            "needs_background": "light"
          },
          "output_type": "display_data"
        }
      ],
      "source": [
        "import numpy as np\n",
        "import matplotlib.pyplot as plt\n",
        "\n",
        "pi = np.linspace(0,1,100)\n",
        "var = pi*(1-pi)\n",
        "plt.plot(pi,var)\n",
        "plt.title('Funcion de varianza de distribciones Bernoulli')\n",
        "plt.xlabel( '$\\pi$')\n",
        "plt.ylabel('Var')\n",
        "plt.show()"
      ]
    },
    {
      "cell_type": "markdown",
      "metadata": {
        "id": "Zo9pzTcdqUq0"
      },
      "source": [
        "Se observa entonces que la máxima varianza se alcanza para el caso $\\pi=0.5$. Es porque en este caso, es mas difícil predecir el resultado del experimento, dado que la probabilidad de *acierto* y *fallo* son la misma. Pero a medida que el valor $\\pi$ está cerca de  cero o uno, la varianza desciende hasta cero. Por ejemplo si $\\pi = 0.9$, casi siempre se obtendrá *éxito*. Esto significa que la variable es más predictible para valores muy altos o muy bajos de $\\pi$. **A menor varianza mayor precisión para predecir el resultado del experimento y viceversa**."
      ]
    },
    {
      "cell_type": "markdown",
      "metadata": {
        "id": "VKHAr9ubqUq0"
      },
      "source": [
        "## <span style=\"color:blue\">Entropía de una variable aleatoria</span>"
      ]
    },
    {
      "cell_type": "markdown",
      "metadata": {
        "id": "48dEdetKqUq0"
      },
      "source": [
        "Similar a la varianza, la entropía de una variable aleatoria mide su grado de predictibilidad desde el punto de vista de la teoría de información de Shanon. Dada una variable aleatoria discreta $X=\\{x_1,x_2,\\ldots \\}$ con función de probabilidad $p_X =\\{p_1, p_2,\\ldots \\}$, la entropía de $X$ se define por\n",
        "\n",
        "$$\n",
        "H(X) = -\\sum_i p_i\\log p_i = -\\mathbb{E}[\\log P_X]\n",
        "$$\n",
        "\n",
        "Es usual utilizar la base 2 o la base de los logaritmos Neperianos. En el primer caso, la unidad de medida de la entropía de denomina bit.  En el caso de los logaritmos Neperianos, la unidad de medida se acostumbra a llamar nat. En realidad pasar de una base a otra es simplemente un cambio de escala. Estructuralmente miden lo mismo en distintas unidades.\n",
        "\n",
        "Como en el caso de la varianza ilustramos el concepto para la distribución Bernoulli."
      ]
    },
    {
      "cell_type": "code",
      "execution_count": null,
      "metadata": {
        "id": "-MhCGxqMqUq0",
        "outputId": "647abbb0-1b9c-4cca-be17-2ee5c82169af"
      },
      "outputs": [
        {
          "data": {
            "image/png": "[encoded data removed]",
            "text/plain": [
              "<Figure size 432x288 with 1 Axes>"
            ]
          },
          "metadata": {
            "needs_background": "light"
          },
          "output_type": "display_data"
        }
      ],
      "source": [
        "import numpy as np\n",
        "import matplotlib.pyplot as plt\n",
        "\n",
        "pi = np.linspace(0.0000001,0.999999,100)\n",
        "H = -(pi*np.log(pi) + (1-pi)*np.log(1-pi))\n",
        "plt.plot(pi,H)\n",
        "plt.title('Entropía de distribuciones Bernoulli')\n",
        "plt.xlabel( '$\\pi$')\n",
        "plt.ylabel('Entropía')\n",
        "plt.show()"
      ]
    },
    {
      "cell_type": "markdown",
      "metadata": {
        "id": "fFsOk8trqUq0"
      },
      "source": [
        "Como se observa la entropía mide de la misma forma que la varianza pero en una escala diferente. Por otro lado observe que en el cálculo de la entropía no se utilizan los valores que toma la variable aleatoria. Solamente se requiere la función de probabilidad de la variable.\n",
        "\n",
        "En palabras se dice que **la entropía no depende de la escala de la  variable**. Solamente de su estructura de probabilidad. Por su parte la varianza si es dependiente de la escala de la variable aleatoria."
      ]
    },
    {
      "cell_type": "markdown",
      "metadata": {
        "id": "MrvCNDl8qUq0"
      },
      "source": [
        "- [Regresar al inicio](#Contenido)"
      ]
    }
  ],
  "metadata": {
    "kernelspec": {
      "display_name": "Python 3 (ipykernel)",
      "language": "python",
      "name": "python3"
    },
    "language_info": {
      "codemirror_mode": {
        "name": "ipython",
        "version": 3
      },
      "file_extension": ".py",
      "mimetype": "text/x-python",
      "name": "python",
      "nbconvert_exporter": "python",
      "pygments_lexer": "ipython3",
      "version": "3.8.12"
    },
    "toc-autonumbering": false,
    "colab": {
      "provenance": []
    }
  },
  "nbformat": 4,
  "nbformat_minor": 0
}