{
  "nbformat": 4,
  "nbformat_minor": 0,
  "metadata": {
    "colab": {
      "provenance": []
    },
    "kernelspec": {
      "name": "python3",
      "display_name": "Python 3"
    },
    "language_info": {
      "name": "python"
    }
  },
  "cells": [
    {
      "cell_type": "code",
      "source": [
        "# Installing the necessary libraries\n",
        "!pip install langchain > /dev/null\n",
        "!pip install -U langchain-openai > /dev/null"
      ],
      "metadata": {
        "id": "F2pOcAwOrxYq"
      },
      "execution_count": 1,
      "outputs": []
    },
    {
      "cell_type": "code",
      "source": [
        "# Importing necessary libraries\n",
        "from langchain.chains import ConversationChain\n",
        "from langchain_openai import OpenAI"
      ],
      "metadata": {
        "id": "L3Cl7geNHRxT"
      },
      "execution_count": 2,
      "outputs": []
    },
    {
      "cell_type": "code",
      "source": [
        "# Importing getpass to enter the OpenAI API Key\n",
        "import getpass\n",
        "\n",
        "openai_api_key = getpass.getpass(prompt='Enter your OpenAI API Key: ')"
      ],
      "metadata": {
        "colab": {
          "base_uri": "https://localhost:8080/"
        },
        "id": "v8D8vx5RH8a0",
        "outputId": "5961cda3-a236-4b76-c04c-888454ff9c3b"
      },
      "execution_count": 3,
      "outputs": [
        {
          "name": "stdout",
          "output_type": "stream",
          "text": [
            "Enter your OpenAI API Key: ··········\n"
          ]
        }
      ]
    },
    {
      "cell_type": "code",
      "source": [
        "# Calling an OpenAI model to create an llm object\n",
        "llm = OpenAI(temperature=0,  openai_api_key=openai_api_key)"
      ],
      "metadata": {
        "id": "t8ghgR62LRcp"
      },
      "execution_count": 4,
      "outputs": []
    },
    {
      "cell_type": "code",
      "source": [
        "# Creating a conversation chain\n",
        "conversation = ConversationChain(\n",
        "    llm=llm,\n",
        "    verbose=True\n",
        ")"
      ],
      "metadata": {
        "id": "R0hcGjbTIF8M"
      },
      "execution_count": 5,
      "outputs": []
    },
    {
      "cell_type": "code",
      "source": [
        "# Asking a question and predicting the answer\n",
        "conversation.predict(input=\"Hi, my name is Alan\")"
      ],
      "metadata": {
        "colab": {
          "base_uri": "https://localhost:8080/",
          "height": 244
        },
        "id": "j_Pqhh1LK3dF",
        "outputId": "d33ce4e0-5cb7-4376-d63b-fb22c315dba8"
      },
      "execution_count": 6,
      "outputs": [
        {
          "output_type": "stream",
          "name": "stdout",
          "text": [
            "\n",
            "\n",
            "\u001b[1m> Entering new ConversationChain chain...\u001b[0m\n",
            "Prompt after formatting:\n",
            "\u001b[32;1m\u001b[1;3mThe following is a friendly conversation between a human and an AI. The AI is talkative and provides lots of specific details from its context. If the AI does not know the answer to a question, it truthfully says it does not know.\n",
            "\n",
            "Current conversation:\n",
            "\n",
            "Human: Hi, my name is Alan\n",
            "AI:\u001b[0m\n",
            "\n",
            "\u001b[1m> Finished chain.\u001b[0m\n"
          ]
        },
        {
          "output_type": "execute_result",
          "data": {
            "text/plain": [
              "\" Hello Alan, it's nice to meet you! My name is AI and I am an artificial intelligence designed to assist and communicate with humans. How can I help you today?\""
            ],
            "application/vnd.google.colaboratory.intrinsic+json": {
              "type": "string"
            }
          },
          "metadata": {},
          "execution_count": 6
        }
      ]
    },
    {
      "cell_type": "code",
      "source": [
        "# Asking a question and predicting the answer\n",
        "conversation.predict(input=\"What is the tallest mountain in the Americas?\")"
      ],
      "metadata": {
        "colab": {
          "base_uri": "https://localhost:8080/",
          "height": 278
        },
        "id": "oUw_KNbJNKgP",
        "outputId": "868e381c-68fd-434e-b8e0-8762bbfc9326"
      },
      "execution_count": 7,
      "outputs": [
        {
          "output_type": "stream",
          "name": "stdout",
          "text": [
            "\n",
            "\n",
            "\u001b[1m> Entering new ConversationChain chain...\u001b[0m\n",
            "Prompt after formatting:\n",
            "\u001b[32;1m\u001b[1;3mThe following is a friendly conversation between a human and an AI. The AI is talkative and provides lots of specific details from its context. If the AI does not know the answer to a question, it truthfully says it does not know.\n",
            "\n",
            "Current conversation:\n",
            "Human: Hi, my name is Alan\n",
            "AI:  Hello Alan, it's nice to meet you! My name is AI and I am an artificial intelligence designed to assist and communicate with humans. How can I help you today?\n",
            "Human: What is the tallest mountain in the Americas?\n",
            "AI:\u001b[0m\n",
            "\n",
            "\u001b[1m> Finished chain.\u001b[0m\n"
          ]
        },
        {
          "output_type": "execute_result",
          "data": {
            "text/plain": [
              "' The tallest mountain in the Americas is Mount Aconcagua, located in the Andes mountain range in Argentina. It stands at a height of 22,837 feet (6,961 meters). Fun fact, it is also the highest mountain outside of Asia. Is there anything else you would like to know?'"
            ],
            "application/vnd.google.colaboratory.intrinsic+json": {
              "type": "string"
            }
          },
          "metadata": {},
          "execution_count": 7
        }
      ]
    },
    {
      "cell_type": "code",
      "source": [
        "# Asking a question and predicting the answer\n",
        "conversation.predict(input=\"Why is Easter called that way in English?\")"
      ],
      "metadata": {
        "colab": {
          "base_uri": "https://localhost:8080/",
          "height": 333
        },
        "id": "wceoEKtdK14j",
        "outputId": "a356d7f5-2d91-45d7-8ae6-00adb902fc8e"
      },
      "execution_count": 8,
      "outputs": [
        {
          "output_type": "stream",
          "name": "stdout",
          "text": [
            "\n",
            "\n",
            "\u001b[1m> Entering new ConversationChain chain...\u001b[0m\n",
            "Prompt after formatting:\n",
            "\u001b[32;1m\u001b[1;3mThe following is a friendly conversation between a human and an AI. The AI is talkative and provides lots of specific details from its context. If the AI does not know the answer to a question, it truthfully says it does not know.\n",
            "\n",
            "Current conversation:\n",
            "Human: Hi, my name is Alan\n",
            "AI:  Hello Alan, it's nice to meet you! My name is AI and I am an artificial intelligence designed to assist and communicate with humans. How can I help you today?\n",
            "Human: What is the tallest mountain in the Americas?\n",
            "AI:  The tallest mountain in the Americas is Mount Aconcagua, located in the Andes mountain range in Argentina. It stands at a height of 22,837 feet (6,961 meters). Fun fact, it is also the highest mountain outside of Asia. Is there anything else you would like to know?\n",
            "Human: Why is Easter called that way in English?\n",
            "AI:\u001b[0m\n",
            "\n",
            "\u001b[1m> Finished chain.\u001b[0m\n"
          ]
        },
        {
          "output_type": "execute_result",
          "data": {
            "text/plain": [
              "' Easter is called that way in English because it is derived from the name of a pagan goddess of spring and fertility, Eostre. This name was later adopted by Christians to refer to the holiday celebrating the resurrection of Jesus Christ. In other languages, such as Spanish and French, the holiday is still referred to as \"Pascua\" and \"Pâques,\" which are derived from the Latin word \"Pascha\" meaning \"Passover.\" Is there anything else you would like to know?'"
            ],
            "application/vnd.google.colaboratory.intrinsic+json": {
              "type": "string"
            }
          },
          "metadata": {},
          "execution_count": 8
        }
      ]
    },
    {
      "cell_type": "code",
      "source": [
        "# Asking a question and predicting the answer\n",
        "conversation.predict(input=\"Was Eostre represented with any symbols?\")"
      ],
      "metadata": {
        "colab": {
          "base_uri": "https://localhost:8080/",
          "height": 350
        },
        "id": "-vceQbw_L3_T",
        "outputId": "7efb4d94-3d43-423b-a136-0c5c823e2468"
      },
      "execution_count": 9,
      "outputs": [
        {
          "output_type": "stream",
          "name": "stdout",
          "text": [
            "\n",
            "\n",
            "\u001b[1m> Entering new ConversationChain chain...\u001b[0m\n",
            "Prompt after formatting:\n",
            "\u001b[32;1m\u001b[1;3mThe following is a friendly conversation between a human and an AI. The AI is talkative and provides lots of specific details from its context. If the AI does not know the answer to a question, it truthfully says it does not know.\n",
            "\n",
            "Current conversation:\n",
            "Human: Hi, my name is Alan\n",
            "AI:  Hello Alan, it's nice to meet you! My name is AI and I am an artificial intelligence designed to assist and communicate with humans. How can I help you today?\n",
            "Human: What is the tallest mountain in the Americas?\n",
            "AI:  The tallest mountain in the Americas is Mount Aconcagua, located in the Andes mountain range in Argentina. It stands at a height of 22,837 feet (6,961 meters). Fun fact, it is also the highest mountain outside of Asia. Is there anything else you would like to know?\n",
            "Human: Why is Easter called that way in English?\n",
            "AI:  Easter is called that way in English because it is derived from the name of a pagan goddess of spring and fertility, Eostre. This name was later adopted by Christians to refer to the holiday celebrating the resurrection of Jesus Christ. In other languages, such as Spanish and French, the holiday is still referred to as \"Pascua\" and \"Pâques,\" which are derived from the Latin word \"Pascha\" meaning \"Passover.\" Is there anything else you would like to know?\n",
            "Human: Was Eostre represented with any symbols?\n",
            "AI:\u001b[0m\n",
            "\n",
            "\u001b[1m> Finished chain.\u001b[0m\n"
          ]
        },
        {
          "output_type": "execute_result",
          "data": {
            "text/plain": [
              "' Yes, Eostre was often represented with symbols of fertility and rebirth, such as eggs and rabbits. These symbols were later incorporated into the Christian celebration of Easter. Is there anything else you would like to know?'"
            ],
            "application/vnd.google.colaboratory.intrinsic+json": {
              "type": "string"
            }
          },
          "metadata": {},
          "execution_count": 9
        }
      ]
    }
  ]
}