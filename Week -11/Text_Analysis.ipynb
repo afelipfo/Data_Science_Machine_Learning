{
  "nbformat": 4,
  "nbformat_minor": 0,
  "metadata": {
    "colab": {
      "provenance": [],
      "include_colab_link": true
    },
    "kernelspec": {
      "name": "python3",
      "display_name": "Python 3"
    },
    "language_info": {
      "name": "python"
    }
  },
  "cells": [
    {
      "cell_type": "markdown",
      "metadata": {
        "id": "view-in-github",
        "colab_type": "text"
      },
      "source": [
        "<a href=\"https://colab.research.google.com/github/FelipeFlorezO/Analytics/blob/main/Text_Analysis.ipynb\" target=\"_parent\"><img src=\"https://colab.research.google.com/assets/colab-badge.svg\" alt=\"Open In Colab\"/></a>"
      ]
    },
    {
      "cell_type": "code",
      "execution_count": 1,
      "metadata": {
        "colab": {
          "base_uri": "https://localhost:8080/"
        },
        "id": "9L7CnU3KjCUe",
        "outputId": "d2a56086-978b-4fb4-fbb6-f12a08149ab9"
      },
      "outputs": [
        {
          "output_type": "stream",
          "name": "stdout",
          "text": [
            "Downloading...\n",
            "From: https://drive.google.com/uc?id=1UOF-7R5MHXTQcCPp7rPMZTFZZSCmKzko\n",
            "To: /content/registered-names-1922-2015.csv\n",
            "100% 221M/221M [00:03<00:00, 56.5MB/s]\n"
          ]
        }
      ],
      "source": [
        "!gdown 1UOF-7R5MHXTQcCPp7rPMZTFZZSCmKzko"
      ]
    },
    {
      "cell_type": "code",
      "source": [
        "import csv"
      ],
      "metadata": {
        "id": "jIY848NKjFoa"
      },
      "execution_count": 2,
      "outputs": []
    },
    {
      "cell_type": "code",
      "source": [
        "with open(\"/content/registered-names-1922-2015.csv\") as csvfile:\n",
        "    reader = csv.DictReader(csvfile)\n",
        "\n",
        "    count = 10\n",
        "    for idx, row in enumerate(reader):\n",
        "        print(row)\n",
        "        if idx == count:\n",
        "            break\n"
      ],
      "metadata": {
        "colab": {
          "base_uri": "https://localhost:8080/"
        },
        "id": "ld7XbhH3jFlg",
        "outputId": "4e8a0951-46ee-49f8-9d4d-2b4a28ed84b0"
      },
      "execution_count": 3,
      "outputs": [
        {
          "output_type": "stream",
          "name": "stdout",
          "text": [
            "{'name': 'Maria', 'count': '314', 'year': '1922'}\n",
            "{'name': 'Rosa', 'count': '203', 'year': '1922'}\n",
            "{'name': 'Jose', 'count': '163', 'year': '1922'}\n",
            "{'name': 'Maria Luisa', 'count': '127', 'year': '1922'}\n",
            "{'name': 'Carmen', 'count': '117', 'year': '1922'}\n",
            "{'name': 'Ana', 'count': '113', 'year': '1922'}\n",
            "{'name': 'Maria Elena', 'count': '112', 'year': '1922'}\n",
            "{'name': 'Juana', 'count': '111', 'year': '1922'}\n",
            "{'name': 'Maria Esther', 'count': '109', 'year': '1922'}\n",
            "{'name': 'Antonio', 'count': '103', 'year': '1922'}\n",
            "{'name': 'Elena', 'count': '102', 'year': '1922'}\n"
          ]
        }
      ]
    },
    {
      "cell_type": "code",
      "source": [
        "data = []\n",
        "with open(\"/content/registered-names-1922-2015.csv\") as csvfile:\n",
        "    reader = csv.DictReader(csvfile)\n",
        "    for idx, row in enumerate(reader):\n",
        "        data.append(row)"
      ],
      "metadata": {
        "id": "XhdnEhC3svK2"
      },
      "execution_count": 4,
      "outputs": []
    },
    {
      "cell_type": "code",
      "source": [
        "print('How many people were registered each year?')\n",
        "people_year = {}\n",
        "\n",
        "for row in data:\n",
        "    year = row['year']\n",
        "    count = row['count']\n",
        "\n",
        "    if year is not None and count is not None:\n",
        "        if year in people_year:\n",
        "            people_year[year] += int(count)\n",
        "        else:\n",
        "            people_year[year] = int(count)\n",
        "\n",
        "print(people_year)\n"
      ],
      "metadata": {
        "id": "chz1PTwLicvl",
        "outputId": "fbb3a6dc-0a19-423b-e5b1-1bc7c84c7642",
        "colab": {
          "base_uri": "https://localhost:8080/"
        }
      },
      "execution_count": 11,
      "outputs": [
        {
          "output_type": "stream",
          "name": "stdout",
          "text": [
            "How many people were registered each year?\n",
            "{'1922': 23667, '1923': 30289, '1924': 39075, '1925': 48328, '1926': 58350, '1927': 71182, '1928': 85659, '1929': 98792, '1930': 115965, '1931': 126450, '1932': 142855, '1933': 150008, '1934': 162662, '1935': 183562, '1936': 195782, '1937': 211501, '1938': 231419, '1939': 254843, '1940': 283184, '1941': 295764, '1942': 295416, '1943': 422043, '1944': 744428, '1945': 809538, '1946': 832564, '1947': 877154, '1948': 858046, '1949': 476270, '1950': 505873, '1951': 499066, '1952': 503985, '1953': 517644, '1954': 527342, '1955': 540534, '1956': 555714, '1957': 559624, '1958': 563382, '1959': 571394, '1960': 583053, '1961': 596696, '1962': 622130, '1963': 620341, '1964': 626002, '1965': 632594, '1966': 627229, '1967': 639428, '1968': 651192, '1969': 682153, '1970': 716628, '1971': 758152, '1972': 774379, '1973': 789091, '1974': 829883, '1975': 886937, '1976': 895615, '1977': 955405, '1978': 979938, '1979': 1019994, '1980': 961606, '1981': 1020591, '1982': 1036620, '1983': 993079, '1984': 1010882, '1985': 1056682, '1986': 1101961, '1987': 1097908, '1988': 1118740, '1989': 1116945, '1990': 1167924, '1991': 1245813, '1992': 1257479, '1993': 1351210, '1994': 1327782, '1995': 1228279, '1996': 1132763, '1997': 938137, '1998': 951784, '1999': 867112, '2000': 843525, '2001': 791107, '2002': 747118, '2003': 806142, '2004': 831336, '2005': 784934, '2006': 750246, '2007': 707364, '2008': 696160, '2009': 583182, '2010': 546042, '2011': 450370, '2012': 950740, '2013': 900028, '2014': 881267, '2015': 793166}\n"
          ]
        }
      ]
    },
    {
      "cell_type": "code",
      "source": [
        "print('What is the shorter name in the dataset?')\n",
        "short_name = {}\n",
        "for row in data:\n",
        "    name = row['name'].replace(' ','')\n",
        "    if len(name) in short_name.keys() and name!= '' and name!= ' ':\n",
        "        short_name[len(name)].append(name)\n",
        "    elif name!='' and name!= ' ':\n",
        "        short_name[len(name)] = [name]\n",
        "short_min_key = min([int(k) for k in short_name.keys()])"
      ],
      "metadata": {
        "id": "OQRi9ixCnyGp",
        "outputId": "df979bb2-ddde-4f8e-c1e7-7fa6f90727ca",
        "colab": {
          "base_uri": "https://localhost:8080/"
        }
      },
      "execution_count": 9,
      "outputs": [
        {
          "output_type": "stream",
          "name": "stdout",
          "text": [
            "What is the shorter name in the dataset?\n"
          ]
        }
      ]
    },
    {
      "cell_type": "code",
      "source": [
        "short_name[short_min_key]"
      ],
      "metadata": {
        "id": "9lG60oMzn2-J",
        "outputId": "fd88a4e1-dd7f-467d-fef7-9fae5f320ba6",
        "colab": {
          "base_uri": "https://localhost:8080/"
        }
      },
      "execution_count": 10,
      "outputs": [
        {
          "output_type": "execute_result",
          "data": {
            "text/plain": [
              "['P', 'E', 'E', ',']"
            ]
          },
          "metadata": {},
          "execution_count": 10
        }
      ]
    },
    {
      "cell_type": "code",
      "source": [
        "print('What is the largest name in the dataset?')\n",
        "largest_name = \"\"\n",
        "\n",
        "for row in data:\n",
        "    name = row.get('name', '')\n",
        "\n",
        "    if len(name) > len(largest_name):\n",
        "        largest_name = name\n",
        "\n",
        "print('The largest name is:', largest_name)\n"
      ],
      "metadata": {
        "id": "gUZYzBTHrYtw",
        "outputId": "d3fe0ea2-6884-4902-c14b-ee5a3f59b14a",
        "colab": {
          "base_uri": "https://localhost:8080/"
        }
      },
      "execution_count": 12,
      "outputs": [
        {
          "output_type": "stream",
          "name": "stdout",
          "text": [
            "What is the largest name in the dataset?\n",
            "The largest name is: Juan Atanacio                                                                                       \n"
          ]
        }
      ]
    },
    {
      "cell_type": "code",
      "source": [
        "print('Is there a palindrome name in the dataset?')\n",
        "\n",
        "def is_palindrome(s):\n",
        "    return s.lower() == s.lower()[::-1]\n",
        "\n",
        "palindrome_name = None\n",
        "\n",
        "for row in data:\n",
        "    name = row.get('name', '')\n",
        "\n",
        "    if is_palindrome(name):\n",
        "        palindrome_name = name\n",
        "        break\n",
        "\n",
        "if palindrome_name:\n",
        "    print(f'Yes, \"{palindrome_name}\" is a palindrome name.')\n",
        "else:\n",
        "    print('No palindrome names found in the dataset.')\n"
      ],
      "metadata": {
        "id": "f6lv3XXkuZvW",
        "outputId": "400f3aa1-54ad-4f89-b05e-0bdfce4442ed",
        "colab": {
          "base_uri": "https://localhost:8080/"
        }
      },
      "execution_count": 13,
      "outputs": [
        {
          "output_type": "stream",
          "name": "stdout",
          "text": [
            "Is there a palindrome name in the dataset?\n",
            "Yes, \"Ana\" is a palindrome name.\n"
          ]
        }
      ]
    },
    {
      "cell_type": "code",
      "source": [
        "print('What is the name with the largest number of people registered?')\n",
        "largest_name = \"\"\n",
        "largest_count = 0\n",
        "\n",
        "for row in data:\n",
        "    name = row.get('name', '')\n",
        "    count_str = row.get('count')\n",
        "\n",
        "    if count_str is not None:\n",
        "        try:\n",
        "            count = int(count_str)\n",
        "        except ValueError:\n",
        "            count = 0\n",
        "\n",
        "        if count > largest_count:\n",
        "            largest_count = count\n",
        "            largest_name = name\n",
        "\n",
        "print(f'The name with the largest number of people registered is \"{largest_name}\" with {largest_count} registrations.')\n",
        "\n"
      ],
      "metadata": {
        "id": "iONIaLsdukdV",
        "outputId": "465f2d2e-081c-4bdf-c8d4-5ac50923da06",
        "colab": {
          "base_uri": "https://localhost:8080/"
        }
      },
      "execution_count": 17,
      "outputs": [
        {
          "output_type": "stream",
          "name": "stdout",
          "text": [
            "What is the name with the largest number of people registered?\n",
            "The name with the largest number of people registered is \"Leonel Hernan\" with 7939 registrations.\n"
          ]
        }
      ]
    }
  ]
}