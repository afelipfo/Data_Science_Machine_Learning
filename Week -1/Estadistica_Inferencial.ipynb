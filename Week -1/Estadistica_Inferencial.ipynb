{
  "nbformat": 4,
  "nbformat_minor": 0,
  "metadata": {
    "colab": {
      "provenance": []
    },
    "kernelspec": {
      "name": "python3",
      "display_name": "Python 3"
    },
    "language_info": {
      "name": "python"
    }
  },
  "cells": [
    {
      "cell_type": "markdown",
      "source": [
        "# **Estadística Inferencial**\n",
        "\n",
        "La estadística inferencial es una rama de la estadística que se encarga de hacer inferencias sobre las características de una población a partir de muestras."
      ],
      "metadata": {
        "id": "Aby4msj-w5l-"
      }
    },
    {
      "cell_type": "markdown",
      "source": [
        "# 1. Conceptos Básicos de Estadística Inferencial\n",
        "\n",
        "**Población:** Se refiere al conjunto completo de elementos o resultados que se están estudiando.\n",
        "Por ejemplo, si queremos analizar la estatura promedio de todos los estudiantes de una universidad, la población sería todos los estudiantes de esa universidad.\n",
        "\n",
        "**Muestra:** Es un subconjunto de la población que se selecciona para la observación y análisis.\n",
        "Continuando con el ejemplo anterior, si no podemos medir la estatura de todos los estudiantes, podríamos seleccionar un grupo representativo de 100 estudiantes como nuestra muestra.\n",
        "\n",
        "**Parámetro:** Un parámetro es una medida numérica que describe una característica de la población.\n",
        "En el caso de nuestro ejemplo, la estatura promedio de todos los estudiantes de la universidad sería un parámetro.\n",
        "\n",
        "**Estadístico:** Es una medida numérica calculada a partir de los datos de la muestra.\n",
        "Si calculamos la estatura promedio de nuestra muestra de 100 estudiantes, este promedio sería nuestro estadístico.\n",
        "\n",
        "**Muestreo:** El proceso de seleccionar una muestra de la población. Es crucial que este proceso sea aleatorio para asegurar que la muestra sea representativa de la población.\n",
        "\n",
        "**Error de muestreo:** La diferencia entre un parámetro poblacional y el estadístico calculado a partir de una muestra. Este error surge debido a que la muestra puede no representar perfectamente a toda la población.\n",
        "\n",
        "Distinguir entre estadística descriptiva e inferencial es fundamental. Mientras que la estadística descriptiva se enfoca en describir y resumir los datos de una muestra o población a través de medidas como la media, mediana, modo y desviación estándar, la estadística inferencial va más allá, utilizando los datos de una muestra para hacer generalizaciones sobre una población. Esto incluye estimar parámetros poblacionales, realizar pruebas de hipótesis, y más.\n",
        "\n",
        "Una parte crucial de la estadística inferencial es el muestreo aleatorio. La validez de las inferencias hechas sobre una población depende en gran medida de la representatividad de la muestra. El muestreo aleatorio asegura que cada miembro de la población tenga la misma probabilidad de ser seleccionado para la muestra, minimizando el sesgo y permitiendo que los resultados sean generalizables a toda la población."
      ],
      "metadata": {
        "id": "5Cw_uOOKxRA7"
      }
    },
    {
      "cell_type": "code",
      "source": [
        "import numpy as np\n",
        "from scipy import stats\n",
        "\n",
        "# Paso 1: Generar datos de muestra aleatorios\n",
        "np.random.seed(1000) # Para reproducibilidad\n",
        "tamaño_muestra = 100\n",
        "media_poblacional_real = 170\n",
        "desviacion_estandar_poblacional = 10\n",
        "muestra = np.random.normal(media_poblacional_real, desviacion_estandar_poblacional, tamaño_muestra)\n",
        "\n",
        "# Paso 2: Estimación de la media de la muestra\n",
        "media_muestra = np.mean(muestra)\n",
        "\n",
        "(media_muestra)"
      ],
      "metadata": {
        "colab": {
          "base_uri": "https://localhost:8080/"
        },
        "id": "UsxOlwbcxYsD",
        "outputId": "0019b073-507e-4eef-9573-22d66a8c6c73"
      },
      "execution_count": null,
      "outputs": [
        {
          "output_type": "execute_result",
          "data": {
            "text/plain": [
              "170.56939605669976"
            ]
          },
          "metadata": {},
          "execution_count": 8
        }
      ]
    },
    {
      "cell_type": "markdown",
      "source": [
        "# 2. Distribuciones de Probabilidad\n",
        "\n",
        "\n",
        "Las distribuciones de probabilidad son fundamentales en la estadística inferencial, ya que nos permiten modelar diferentes tipos de datos y situaciones. Entre las más comunes y útiles se encuentran la distribución normal, la t-Student, la chi-cuadrado, y la F, cada una con sus propios usos y características en el contexto de la inferencia estadística.\n",
        "\n",
        "**Distribución Normal:** Conocida también como distribución gaussiana, es quizás la más importante y ampliamente utilizada debido a su propiedad fundamental descrita en el Teorema del Límite Central. Este teorema establece que, bajo ciertas condiciones, la suma (o promedio) de un gran número de variables aleatorias independientes y distribuidas idénticamente tiende a seguir una distribución normal, independientemente de la distribución original de las variables. Esto hace que la distribución normal sea central en la estadística inferencial, pues muchas técnicas asumen que los datos se distribuyen de esta manera, especialmente cuando el tamaño de la muestra es grande.\n",
        "\n",
        "**Distribución t-Student:** Esta distribución es particularmente útil cuando se trabaja con muestras pequeñas y la desviación estándar de la población es desconocida. La t-Student ayuda a ajustar la incertidumbre adicional en la estimación del error estándar y se utiliza ampliamente en pruebas de hipótesis y en la construcción de intervalos de confianza cuando el tamaño de la muestra es reducido.\n",
        "\n",
        "**Distribución Chi-cuadrado (χ²):** Se aplica principalmente en pruebas de bondad de ajuste, pruebas de independencia en tablas de contingencia y en la estimación de varianzas. Una característica clave de la distribución chi-cuadrado es que se utiliza para analizar variables aleatorias que deben ser siempre positivas, ya que se basa en sumas de cuadrados de variables aleatorias normales estandarizadas.\n",
        "\n",
        "**Distribución F:** Se utiliza en el análisis de varianza (ANOVA), para comparar las varianzas de dos poblaciones y en el análisis de regresión. La distribución F es clave para determinar si las diferencias entre las medias de diferentes grupos son estadísticamente significativas, permitiendo a los investigadores evaluar la varianza entre grupos frente a la varianza dentro de los grupos."
      ],
      "metadata": {
        "id": "HfGLxwwSxYLC"
      }
    },
    {
      "cell_type": "code",
      "source": [
        "import numpy as np\n",
        "from scipy import stats\n",
        "\n",
        "# 1. Distribución Normal: Generación de datos\n",
        "datos_normales = np.random.normal(loc=0, scale=1, size=1000)  # media=0, desviación estándar=1\n",
        "\n",
        "# 2. Distribución t-Student: Intervalo de confianza para la media de una muestra pequeña\n",
        "muestra_pequeña = np.random.choice(datos_normales, size=30)  # Tomamos una muestra de 30 elementos\n",
        "confianza = 0.95\n",
        "grados_libertad = len(muestra_pequeña)-1\n",
        "media_muestra = np.mean(muestra_pequeña)\n",
        "sem = stats.sem(muestra_pequeña)  # Error estándar de la media\n",
        "intervalo_confianza = stats.t.interval(confianza, grados_libertad, media_muestra, sem)\n",
        "\n",
        "# 3. Distribución Chi-cuadrado: Prueba de bondad de ajuste\n",
        "# Supongamos que queremos comprobar si nuestra 'datos_normales' sigue una distribución normal\n",
        "# Para simplificar, usaremos la prueba de kurtosis, que es una parte de lo que podría implicar una prueba de bondad de ajuste\n",
        "kurtosis_test = stats.kurtosistest(datos_normales)\n",
        "\n",
        "# 4. Distribución F: ANOVA simplificado para comparar varianzas\n",
        "# Generamos dos grupos de datos para comparar sus varianzas\n",
        "datos_grupo1 = np.random.normal(loc=0, scale=1, size=30)\n",
        "datos_grupo2 = np.random.normal(loc=0, scale=1.5, size=30)\n",
        "#anova_resultado = stats.f_oneway(datos_grupo1, datos_grupo2)\n",
        "\n",
        "(intervalo_confianza, kurtosis_test) #anova_resultado\n"
      ],
      "metadata": {
        "colab": {
          "base_uri": "https://localhost:8080/"
        },
        "id": "--M-V-D9xZti",
        "outputId": "4b666126-2653-47b9-b57b-00032559079b"
      },
      "execution_count": null,
      "outputs": [
        {
          "output_type": "execute_result",
          "data": {
            "text/plain": [
              "((-0.4289398320496087, 0.22870232272662294),\n",
              " KurtosistestResult(statistic=-1.5885564231571003, pvalue=0.11216057301378543))"
            ]
          },
          "metadata": {},
          "execution_count": 10
        }
      ]
    },
    {
      "cell_type": "markdown",
      "source": [
        "# 3. Estimación de Parámetros\n",
        "\n",
        "La estimación de parámetros poblacionales es un proceso crucial en estadística inferencial que nos permite hacer generalizaciones sobre una población entera a partir del análisis de una muestra de dicha población. Los parámetros poblacionales, como la media y la varianza, son valores que resumen características de la totalidad de la población. Dado que no siempre es práctico o posible estudiar cada miembro de una población, utilizamos muestras y a partir de ellas calculamos estadísticos muestrales, como la media y la varianza de la muestra, para estimar dichos parámetros.\n",
        "\n",
        "Existen dos tipos principales de estimaciones: puntuales e intervalares. Una estimación puntual proporciona un único valor como estimación del parámetro poblacional. Por ejemplo, si queremos estimar la altura media de todos los estudiantes de una universidad, podríamos tomar una muestra de estudiantes, calcular la media de la altura de esos estudiantes (estadístico muestral), y usar ese valor como nuestra estimación puntual de la altura media de la población de todos los estudiantes.\n",
        "\n",
        "Sin embargo, las estimaciones puntuales tienen una limitación importante: no nos dicen nada sobre la precisión o la incertidumbre asociada con la estimación. Aquí es donde entran en juego las estimaciones por intervalo, que proporcionan un rango de valores dentro del cual esperamos que se encuentre el parámetro poblacional. Este rango se conoce como intervalo de confianza.\n",
        "\n",
        "El intervalo de confianza es una herramienta poderosa en estadística inferencial porque no solo ofrece una estimación del parámetro poblacional, sino que también indica un nivel de confianza en esa estimación. Por ejemplo, un intervalo de confianza del 95% para la altura media de los estudiantes significa que, si repitiéramos el proceso de muestreo muchas veces, esperaríamos que el parámetro poblacional real (la altura media de todos los estudiantes) estuviera dentro de ese intervalo en el 95% de los casos.\n",
        "\n",
        "La importancia del intervalo de confianza radica en su capacidad para expresar la precisión de una estimación. Un intervalo más estrecho indica una mayor precisión y un alto nivel de confianza en que el parámetro poblacional se encuentra dentro de ese intervalo. Por el contrario, un intervalo más amplio sugiere mayor incertidumbre sobre la ubicación exacta del parámetro. La selección del nivel de confianza (como 95% o 99%) y el cálculo del intervalo de confianza dependen del tamaño de la muestra y de la variabilidad de los datos en la muestra."
      ],
      "metadata": {
        "id": "x5Z_oS40xdMa"
      }
    },
    {
      "cell_type": "code",
      "source": [
        "# Importamos las librerías necesarias\n",
        "import numpy as np\n",
        "\n",
        "#Importando Scipy\n",
        "from scipy import stats\n",
        "\n",
        "# Generamos una muestra aleatoria para el ejemplo\n",
        "# Supongamos que esta muestra representa las alturas (en cm) de un grupo de estudiantes\n",
        "np.random.seed(42)  # Para garantizar reproducibilidad\n",
        "muestra_alturas = np.random.normal(170, 10, 100)  # media = 170 cm, desviación estándar = 10 cm, n = 100\n",
        "\n",
        "# Estimación puntual de la media y la varianza de la muestra\n",
        "media_muestra = np.mean(muestra_alturas)\n",
        "varianza_muestra = np.var(muestra_alturas, ddof=1)  # ddof=1 para la varianza muestral\n",
        "\n",
        "# Estimación por intervalo (Intervalo de confianza) para la media\n",
        "# Usamos un intervalo de confianza del 95%\n",
        "confianza = 0.95\n",
        "sem = stats.sem(muestra_alturas)  # Error estándar de la media\n",
        "intervalo_confianza = stats.t.interval(confianza, len(muestra_alturas)-1, media_muestra, sem)\n",
        "\n",
        "(media_muestra, varianza_muestra, intervalo_confianza)"
      ],
      "metadata": {
        "colab": {
          "base_uri": "https://localhost:8080/"
        },
        "id": "cHNhcWcvxeOi",
        "outputId": "cb05ab6b-b3b4-4856-f56f-018ad2fc3a85"
      },
      "execution_count": null,
      "outputs": [
        {
          "output_type": "execute_result",
          "data": {
            "text/plain": [
              "(168.96153482605902,\n",
              " 82.47698936301602,\n",
              " (167.15953163638096, 170.76353801573708))"
            ]
          },
          "metadata": {},
          "execution_count": 11
        }
      ]
    },
    {
      "cell_type": "markdown",
      "source": [
        "4. Pruebas de Hipótesis\n",
        "Resumen: Se introducen los conceptos de hipótesis nula y alternativa, y se explica cómo realizar pruebas de hipótesis para evaluar afirmaciones sobre parámetros poblacionales. Se discuten los errores tipo I y tipo II, el valor p y el nivel de significancia.\n",
        "\n",
        "Las pruebas de hipótesis son un pilar fundamental de la estadística inferencial, proporcionando un marco formal para tomar decisiones y evaluar afirmaciones sobre parámetros poblacionales basados en datos de muestra. Este proceso comienza con la formulación de dos hipótesis opuestas: la hipótesis nula (H0) y la hipótesis alternativa (H1 o Ha).\n",
        "\n",
        "Hipótesis Nula (H0): Es una declaración de \"no efecto\" o \"no diferencia\" que indica que el parámetro poblacional es igual a un valor especificado. La hipótesis nula es lo que se pone a prueba en un análisis estadístico, y el objetivo es determinar si hay suficiente evidencia en los datos de la muestra para rechazarla.\n",
        "\n",
        "Hipótesis Alternativa (H1 o Ha): Contrasta directamente con la hipótesis nula y representa una afirmación de que hay un efecto, una diferencia o una relación. La hipótesis alternativa se acepta si los datos de la muestra proporcionan suficiente evidencia para rechazar la hipótesis nula.\n",
        "\n",
        "Errores Tipo I y Tipo II:\n",
        "\n",
        "Error Tipo I (α): Ocurre cuando la hipótesis nula es rechazada incorrectamente, aunque en realidad es verdadera. El nivel de significancia (α), comúnmente fijado en 0.05, indica la probabilidad de cometer un error de Tipo I.\n",
        "Error Tipo II (β): Se da cuando la hipótesis nula no es rechazada, a pesar de que la hipótesis alternativa es verdadera. La potencia de una prueba (1 - β) mide la capacidad de la prueba para detectar un efecto real cuando existe.\n",
        "Valor P: Es la probabilidad de observar los resultados de la muestra, o algo más extremo, asumiendo que la hipótesis nula es cierta. Un valor p bajo sugiere que los datos observados son inusuales bajo la suposición de que la hipótesis nula es verdadera. Si el valor p es menor que el nivel de significancia α, se rechaza la hipótesis nula, indicando que hay evidencia suficiente para apoyar la hipótesis alternativa.\n",
        "\n",
        "Nivel de Significancia (α): Es el umbral utilizado para determinar si el valor p es lo suficientemente bajo como para rechazar la hipótesis nula. Un nivel de significancia común es 0.05, aunque este valor puede ajustarse dependiendo del contexto y la tolerancia al riesgo de cometer un error de Tipo I.\n",
        "\n",
        "El proceso de realizar una prueba de hipótesis implica seleccionar la prueba estadística adecuada para los datos y los objetivos del estudio, calcular el estadístico de prueba y el valor p correspondiente, y luego comparar el valor p con el nivel de significancia para tomar una decisión sobre las hipótesis."
      ],
      "metadata": {
        "id": "wxE6tf4FxjJ7"
      }
    },
    {
      "cell_type": "code",
      "source": [
        "# Para ilustrar una prueba de hipótesis, vamos a utilizar un ejemplo sencillo:\n",
        "# Supongamos que queremos probar si la media de una muestra difiere de un valor poblacional conocido.\n",
        "# Por ejemplo, queremos saber si la altura media de un grupo de estudiantes es diferente de 170 cm.\n",
        "\n",
        "# Generamos datos de muestra aleatorios que representen las alturas de los estudiantes\n",
        "np.random.seed(0)  # Para garantizar la reproducibilidad\n",
        "alturas_muestra = np.random.normal(172, 5, 30)  # media = 172 cm, desviación estándar = 5 cm, n = 30\n",
        "\n",
        "# Definimos la hipótesis nula y la hipótesis alternativa:\n",
        "# H0: La media de la altura es 170 cm (μ = 170)\n",
        "# H1: La media de la altura no es 170 cm (μ ≠ 170)\n",
        "\n",
        "# Nivel de significancia\n",
        "alpha = 0.05\n",
        "\n",
        "# Realizamos una prueba t de una muestra para comparar la media muestral con la media poblacional conocida de 170 cm\n",
        "t_stat, p_valor = stats.ttest_1samp(alturas_muestra, 170)\n",
        "\n",
        "# Decisión basada en el valor p y el nivel de significancia\n",
        "resultado = \"rechazar la hipótesis nula\" if p_valor < alpha else \"no rechazar la hipótesis nula\"\n",
        "\n",
        "(t_stat, p_valor, resultado)"
      ],
      "metadata": {
        "colab": {
          "base_uri": "https://localhost:8080/"
        },
        "id": "u40YzzlLxk1C",
        "outputId": "e165556c-53ad-495c-90dc-57821be1fdb2"
      },
      "execution_count": null,
      "outputs": [
        {
          "output_type": "execute_result",
          "data": {
            "text/plain": [
              "(4.195579082381944, 0.00023467104623454843, 'rechazar la hipótesis nula')"
            ]
          },
          "metadata": {},
          "execution_count": 14
        }
      ]
    },
    {
      "cell_type": "markdown",
      "source": [
        "5. Regresión y Correlación\n",
        "Resumen: Se examina cómo modelar la relación entre dos o más variables mediante la regresión lineal y no lineal, y cómo medir la fuerza y dirección de la relación con el coeficiente de correlación. Se discuten los conceptos de causalidad y correlación.\n",
        "\n",
        "En el estudio de la estadística, los conceptos de regresión y correlación son fundamentales para analizar y entender la relación entre variables. Estas herramientas nos permiten examinar cómo una variable puede predecir o estar asociada con otra, proporcionando una base sólida para la toma de decisiones basada en datos y el análisis científico.\n",
        "\n",
        "Regresión: La regresión se centra en modelar y analizar la relación entre una variable dependiente (o variable de respuesta) y una o más variables independientes (o predictores). El objetivo es entender cómo la variable dependiente cambia con respecto a las variables independientes. La regresión puede ser lineal o no lineal.\n",
        "\n",
        "Regresión Lineal: En la regresión lineal, se asume que existe una relación lineal entre las variables. Esto se representa mediante una línea recta en un gráfico bidimensional, donde una variable es explicada o predicha por otra. La regresión lineal es adecuada cuando la relación entre las variables se puede aproximar por una línea recta.\n",
        "Regresión No Lineal: Cuando la relación entre las variables no sigue una línea recta, se utiliza la regresión no lineal. Este tipo de regresión es útil para modelar relaciones más complejas, donde los cambios en una variable independiente pueden tener efectos no proporcionales en la variable dependiente.\n",
        "Correlación: Mientras que la regresión proporciona un modelo para la relación entre variables, la correlación mide la fuerza y la dirección de esta relación. El coeficiente de correlación varía entre -1 y 1, donde valores cercanos a 1 o -1 indican una fuerte relación lineal positiva o negativa, respectivamente, y valores cercanos a 0 indican una falta de relación lineal.\n",
        "\n",
        "Correlación Positiva: Ocurre cuando ambas variables se mueven en la misma dirección; es decir, cuando una variable aumenta, la otra también lo hace.\n",
        "Correlación Negativa: Se da cuando las variables se mueven en direcciones opuestas; es decir, cuando una variable aumenta, la otra disminuye.\n",
        "Es crucial distinguir entre correlación y causalidad. Mientras que la correlación indica la existencia de una relación entre dos variables, no implica que una variable cause el cambio en la otra. La causalidad, por otro lado, implica que un cambio en una variable provoca un cambio en otra. Establecer causalidad requiere un análisis más profundo y, a menudo, experimentación controlada o técnicas estadísticas avanzadas para descartar factores confundentes."
      ],
      "metadata": {
        "id": "DLUswCHAxvGC"
      }
    },
    {
      "cell_type": "code",
      "source": [
        "# Para ilustrar regresión y correlación, usaremos un conjunto de datos ficticios que representan\n",
        "# las horas de estudio (variable independiente) y las calificaciones obtenidas (variable dependiente).\n",
        "\n",
        "import pandas as pd\n",
        "import matplotlib.pyplot as plt\n",
        "import seaborn as sns\n",
        "from scipy.stats import linregress\n",
        "\n",
        "# Generamos datos ficticios\n",
        "np.random.seed(1)  # Para garantizar la reproducibilidad\n",
        "horas_estudio = np.random.uniform(0, 10, 50)  # Horas de estudio varían de 0 a 10\n",
        "calificaciones = 5 + horas_estudio * 3 + np.random.normal(0, 2, 50)  # Calificación basada en horas de estudio más ruido\n",
        "\n",
        "# Creamos un DataFrame con pandas\n",
        "datos = pd.DataFrame({\n",
        "    'Horas de Estudio': horas_estudio,\n",
        "    'Calificaciones': calificaciones\n",
        "})\n",
        "\n",
        "# Calculamos la correlación\n",
        "coef_correlacion = datos.corr()\n",
        "\n",
        "# Realizamos una regresión lineal\n",
        "slope, intercept, r_value, p_value, std_err = linregress(horas_estudio, calificaciones)\n",
        "\n",
        "# Predecimos calificaciones usando la regresión lineal para graficar\n",
        "calificaciones_predichas = intercept + slope * horas_estudio\n",
        "\n",
        "# Graficamos los datos junto con la línea de regresión\n",
        "plt.figure(figsize=(10, 6))\n",
        "sns.scatterplot(x='Horas de Estudio', y='Calificaciones', data=datos, label='Datos')\n",
        "plt.plot(horas_estudio, calificaciones_predichas, color='red', label='Línea de Regresión')\n",
        "plt.title('Regresión Lineal: Horas de Estudio vs. Calificaciones')\n",
        "plt.xlabel('Horas de Estudio')\n",
        "plt.ylabel('Calificaciones')\n",
        "plt.legend()\n",
        "plt.show()\n",
        "\n",
        "(coef_correlacion, r_value**2)\n"
      ],
      "metadata": {
        "colab": {
          "base_uri": "https://localhost:8080/",
          "height": 639
        },
        "id": "V63IJJEixvrS",
        "outputId": "2f322caa-abb0-4699-ed9b-a7ba660c5b1e"
      },
      "execution_count": null,
      "outputs": [
        {
          "output_type": "display_data",
          "data": {
            "text/plain": [
              "<Figure size 1000x600 with 1 Axes>"
            ],
            "image/png": "[encoded data removed]"
          },
          "metadata": {}
        },
        {
          "output_type": "execute_result",
          "data": {
            "text/plain": [
              "(                  Horas de Estudio  Calificaciones\n",
              " Horas de Estudio          1.000000        0.981691\n",
              " Calificaciones            0.981691        1.000000,\n",
              " 0.9637179123308933)"
            ]
          },
          "metadata": {},
          "execution_count": 5
        }
      ]
    }
  ]
}