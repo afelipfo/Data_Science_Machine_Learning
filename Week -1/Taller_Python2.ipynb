{
  "cells": [
    {
      "cell_type": "markdown",
      "metadata": {},
      "source": [
        "<!-- Main Title -->\n",
        "\n",
        "**<h1 style=\"color: #FECB05; text-align: center;\"> Fundamentos de Python - Taller Práctico </h1>**"
      ]
    },
    {
      "cell_type": "markdown",
      "metadata": {},
      "source": [
        "<!-- Table of Contents -->\n",
        "**<h2 style=\"color: #007ACC;\">Tabla de contenido</h2>**\n",
        "\n",
        "- [<span style=\"color: #005C99;\">1. Estructuras de datos en Python</span>](#section1)\n",
        "- [<span style=\"color: #005C99;\">2. Control de flujo en Python</span>](#section2)\n",
        "  - [<span style=\"color: #003366;\">2.1. Condicionales</span>](#subsection21)\n",
        "  - [<span style=\"color: #003366;\">2.2. Cíclo For</span>](#subsection22)\n",
        "  - [<span style=\"color: #003366;\">2.3. Cíclos Anidados con Condicionales</span>](#subsection23)\n",
        "  - [<span style=\"color: #003366;\">2.4. Comprehensions</span>](#subsection24)\n",
        "  - [<span style=\"color: #003366;\">2.5. Cíclo While</span>](#subsection25)\n",
        "- [<span style=\"color: #005C99;\">3. Clases y constructores</span>](#section3)\n"
      ]
    },
    {
      "cell_type": "markdown",
      "metadata": {},
      "source": [
        "---"
      ]
    },
    {
      "cell_type": "markdown",
      "metadata": {
        "id": "2T73d1bptQMR"
      },
      "source": [
        "**<h2 style=\"color: #007ACC;\">Introducción</h2>**\n",
        "\n",
        "Bienvenido al curso \"*Fundamentos de programación Python*\".\n",
        "En este taller práctico se le pedirá que realice una serie de algoritmos de diferente complejidad donde tendrá que aplicar todos los conocimientos impartidos en clase durante el Módulo 1 y 2 de este curso de Python básico. Para ayudarle, se le indicará en cada caso una serie de pistas que le permitirán orientar su proceso y se le darán las respuestas a las que debe usted llegar para que tenga una idea clara de cuál es el resultado esperado.\n",
        "\n",
        "En caso de presentar dudas a cerca de como resolver los ejercicios, puede dirigirse a los docentes encargados y solicitar asesoría. Una vez se haya dado un tiempo prudente para que usted pueda practicar sus habilidades, se hará una retroalimentación a cerca de la solución de los ejercicios aquí formulados durante las sesiones sincrónicas y mediante tutorías debidamente agendadas.\n",
        "\n",
        "---\n",
        "\n",
        "**<h2 style=\"color: #007ACC;\">Algunas recomendaciones</h2>**\n",
        "\n",
        "Para poder resolver este taller práctico se recomienda lo siguiente:\n",
        "\n",
        "* Enfréntese a los ejercicios con paciencia y calma, puede ser desafiante dominar el arte de la programación, pero recuerde que el éxito de su práctica dependerá de que tanta atención usted disponga para formular la lógica de su respuesta.\n",
        "\n",
        "* Si presenta dudas a cerca de que sintaxis debe emplear, diríjase en primera instancia a las notas de clase provístas por el docente, allí encontrará de manera detallada la manera para empezar a proceder.\n",
        "\n",
        "* En caso de no resolver su duda facilmente a cerca de la sintaxis que necesita para la formulación del problema, diríjase a la documentación en línea correspondiente a Python.\n",
        "\n",
        "* Es imporante que tenga en cuenta que se le proveerá una estructura básica a seguir en cada ejercicio, en donde cuando vea `...` en el código deberá completar las líneas incompletas siguiendo las instrucciones dadas en cada caso.\n",
        "\n",
        "---\n"
      ]
    },
    {
      "cell_type": "markdown",
      "metadata": {
        "id": "e3xXlj50t5--"
      },
      "source": [
        "# <!-- Section 1 -->\n",
        "**<h2 id=\"section1\" style=\"color: #007ACC;\">1. Estructuras de datos en Python</h2>**"
      ]
    },
    {
      "cell_type": "markdown",
      "metadata": {
        "id": "iADXFGIsze07"
      },
      "source": [
        "En la presente sección encontrará seis ejercicios a cerca de las estructuras de datos en Python, en donde aplicará conocimientos básicos sobre los métodos escenciales de las lístas y conocimientos básicos sobre diccionarios. Éstos ejercicios al ser sencillos de resolver, ***son obligatorios*** para su calificación."
      ]
    },
    {
      "cell_type": "markdown",
      "metadata": {
        "id": "m4Pxhg7YlNvf"
      },
      "source": [
        "**Ejercicio 1.1:**\n",
        "* Emplee el método `insert()` para insertar elementos en una lísta."
      ]
    },
    {
      "cell_type": "code",
      "execution_count": null,
      "metadata": {
        "id": "_SsJ8aTsl2Fy"
      },
      "outputs": [],
      "source": [
        "# Programa para insertar elementos en una lísta en una posición determinada\n",
        "\n",
        "numeros = [1,2,3,4,5,6]\n",
        "posicion_del_elemento = 2\n",
        "\n",
        "# Escriba su código aquí: Emplee el método insert\n",
        "numeros. ...\n",
        "\n",
        "print('Lista después de insertar 100 en la posición 2:', numeros)\n"
      ]
    },
    {
      "cell_type": "markdown",
      "metadata": {
        "id": "agyUMK1PcYw0"
      },
      "source": [
        "```\n",
        "Solución esperada:\n",
        "\n",
        "Lista después de insertar 100 en la posición 2: [1, 2, 100, 3, 4, 5, 6]\n",
        "\n",
        "```"
      ]
    },
    {
      "cell_type": "markdown",
      "metadata": {
        "id": "AjT2tYe9mi7W"
      },
      "source": [
        "**Ejercicio 1.2:**\n",
        "* Complete el siguiente programa que remueve un objeto de la lísta, para ello, emplee el método `remove()` para remover el elemento indicado."
      ]
    },
    {
      "cell_type": "code",
      "execution_count": null,
      "metadata": {
        "id": "QNBKa6O5m3qX"
      },
      "outputs": [],
      "source": [
        "\n",
        "# Programa para remover elementos de una lísta\n",
        "\n",
        "colores = ['rojo', 'verde', 'azul', ' amarillo', 'púrpura']\n",
        "elemento_a_remover = 'púrpura'\n",
        "\n",
        "# Escriba su código aquí: Emplee el método remove\n",
        "colores. ...\n",
        "\n",
        "print('Lista después de eliminar \"púrpura\": ', colores)\n"
      ]
    },
    {
      "cell_type": "markdown",
      "metadata": {
        "id": "bEw_uieFcefe"
      },
      "source": [
        "```\n",
        "Solución esperada:\n",
        "\n",
        "Lista después de eliminar \"púrpura\":  ['rojo', 'verde', 'azul', ' amarillo']\n",
        "```"
      ]
    },
    {
      "cell_type": "markdown",
      "metadata": {
        "id": "mlzZPW8UnhX4"
      },
      "source": [
        "**Ejercicio 1.3**:\n",
        "* Complete el siguiente programa que remueve el último objeto de la lísta y lo asigna a una variable, para ello, emplee el método `pop()`."
      ]
    },
    {
      "cell_type": "code",
      "execution_count": null,
      "metadata": {
        "id": "ydGB3h6OnlZm"
      },
      "outputs": [],
      "source": [
        "# Programa para remover el último elemento de una lísta\n",
        "\n",
        "nombres = [\"Ana\", \"Juan\", \"María\", \"Carlos\"]\n",
        "\n",
        "# Escriba su código aquí: Emplee el método pop\n",
        "ultimo_nombre = ...\n",
        "\n",
        "print(f\"Último nombre eliminado: {ultimo_nombre}\")\n",
        "print(\"Lista después de eliminar el último nombre:\", nombres)\n"
      ]
    },
    {
      "cell_type": "markdown",
      "metadata": {
        "id": "-G8WT0nhcmor"
      },
      "source": [
        "```\n",
        "Solución esperada:\n",
        "\n",
        "Último nombre eliminado: Carlos\n",
        "Lista después de eliminar el último nombre: ['Ana', 'Juan', 'María']\n",
        "```"
      ]
    },
    {
      "cell_type": "markdown",
      "metadata": {
        "id": "qn4JPp3pofNY"
      },
      "source": [
        "**Ejercicio 1.4:**\n",
        "* Complete el siguiente programa que organiza los elementos de una lísta, para ello emplee el método `sort()`."
      ]
    },
    {
      "cell_type": "code",
      "execution_count": null,
      "metadata": {
        "id": "67A_h_xQopZl"
      },
      "outputs": [],
      "source": [
        "# Programa para organizar los elementos de una lísta\n",
        "\n",
        "numeros = [3, 7, 2, 8, 1]\n",
        "\n",
        "# Escriba su código aquí: Emplee el método sort\n",
        "numeros. ...\n",
        "print(\"Lista ordenada de forma ascendente:\", numeros)\n"
      ]
    },
    {
      "cell_type": "markdown",
      "metadata": {
        "id": "PVlBjh5UctWl"
      },
      "source": [
        "```\n",
        "Solución esperada:\n",
        "\n",
        "Lista ordenada de forma ascendente: [1, 2, 3, 7, 8]\n",
        "```"
      ]
    },
    {
      "cell_type": "markdown",
      "metadata": {
        "id": "P6N2umSCpkX2"
      },
      "source": [
        "**Ejercicio 1.5**:\n",
        "* Complete el siguiente un programa que cuenta usa conjuntos para eliminar los duplicados de una lísta, para ello emplee el método `set()`. Luego, convierta el conjunto resultante de nuevo a una lísta mediante el método `list()`."
      ]
    },
    {
      "cell_type": "code",
      "execution_count": null,
      "metadata": {
        "id": "QKWrWkWtpdiP"
      },
      "outputs": [],
      "source": [
        "# Programa para eliminar duplicados de una lísta\n",
        "\n",
        "lista_con_duplicados = [1, 2, 3, 1, 2, 4, 5, 3, 6, 7, 7, 8, 9]\n",
        "\n",
        "# Escriba su código aquí: Complete las siguientes variables\n",
        "conjunto_sin_duplicados = ...\n",
        "\n",
        "# Convertir el conjunto de nuevo a lista\n",
        "lista_sin_duplicados = ...\n",
        "\n",
        "print(\"Lista original con duplicados:\", lista_con_duplicados)\n",
        "print(\"Lista sin duplicados:\", lista_sin_duplicados)\n"
      ]
    },
    {
      "cell_type": "markdown",
      "metadata": {
        "id": "9N9yEcwKcPM2"
      },
      "source": [
        "```\n",
        "Solución esperada:\n",
        "\n",
        "Lista original con duplicados: [1, 2, 3, 1, 2, 4, 5, 3, 6, 7, 7, 8, 9]\n",
        "Lista sin duplicados: [1, 2, 3, 4, 5, 6, 7, 8, 9]\n",
        "```\n",
        "\n"
      ]
    },
    {
      "cell_type": "markdown",
      "metadata": {
        "id": "dTVo-326gsyn"
      },
      "source": [
        "**Ejercicio 1.6**:\n",
        "* Complete el siguiente un programa que cuenta la cantidad de veces que un objeto dentro de una lísta aparece, para ello emplee el método `count()`. Luego complete la función que determina el índice en donde cada objeto se encuentra dentro de la lísta, para ello emplee el método `index()`."
      ]
    },
    {
      "cell_type": "code",
      "execution_count": null,
      "metadata": {
        "id": "B2ssKYwrkDyB"
      },
      "outputs": [],
      "source": [
        "# Programa para detectar el número de veces que un objeto aparece en una lísta\n",
        "\n",
        "frutas = [\"manzana\", \"plátano\",\"manzana\", \"naranja\", \"manzana\", \"uva\",\"plátano\",]\n",
        "diccionario_de_veces = {}\n",
        "indices_de_frutas = {}\n",
        "\n",
        "for elemento in frutas:\n",
        "  # Escriba su código aquí: Complete las siguientes variables\n",
        "  cantidad_de_veces = ...\n",
        "  diccionario_de_veces[elemento] = ...\n",
        "  indices_de_frutas[elemento] = ...\n",
        "\n",
        "print(f'El diccionario del número de veces es: {diccionario_de_veces}')\n",
        "print(f'El diccionario de los índices es: {indices_de_frutas}')\n"
      ]
    },
    {
      "cell_type": "markdown",
      "metadata": {
        "id": "3XKhI5nVc398"
      },
      "source": [
        "```\n",
        "Solución esperada:\n",
        "\n",
        "El diccionario del número de veces es: {'manzana': 3, 'plátano': 2, 'naranja': 1, 'uva': 1}\n",
        "El diccionario de los índices es: {'manzana': 0, 'plátano': 1, 'naranja': 3, 'uva': 5}\n",
        "```"
      ]
    },
    {
      "cell_type": "markdown",
      "metadata": {
        "id": "wfxkZ2y5rNz6"
      },
      "source": [
        "# <!-- Section 2 -->\n",
        "**<h2 id=\"section2\" style=\"color: #007ACC;\">2. Control de Flujo</h2>**"
      ]
    },
    {
      "cell_type": "markdown",
      "metadata": {
        "id": "Dre0SGvksEBO"
      },
      "source": [
        "En la presente sección encontrará 24 ejercicios a cerca de los diferentes métodos de control de flujo de datos en Python, en donde aplicará conocimientos básicos e intermedios sobre condicionales, cíclos definidos, ciclos indefinidos y comprensiones. En ésta sección, deberá solo resolver los ejercicios marcados como ***obligatorios*** y podrá realizar los otros ejercicios marcados como ***opcionales*** si desea, pero se le recomienda hacerlos para poder reforzar aún más los conocimientos vístos en clase."
      ]
    },
    {
      "cell_type": "markdown",
      "metadata": {
        "id": "th9UI0EnIzxp"
      },
      "source": [
        "### <!-- Subsection 2.1 -->\n",
        "**<h3 id=\"subsection21\" style=\"color: #003366;\">2.1. Condicionales</h3>**"
      ]
    },
    {
      "cell_type": "markdown",
      "metadata": {
        "id": "qOpf4b8RLapX"
      },
      "source": [
        "**Ejercicio 2.1**:\n",
        "* Construya un programa que calcule el logaritmo natural de un número.El logaritmo natural denotado por $ln$, es una función matemática que representa el logaritmo en base $e$, donde $e$ es la constante matemática (aproximada) $e=2.71828...$, donde para un número positivo $x$, el logaritmo natural de $x$ es el exponente de $y$ que satisface $e^y = x$.\n",
        "Para resolver éste problema, emplee una condición `if` que verifique si el número es negativo o positivo. Para hacer el cálculo numérico del logaritmo, emplee el atributo `.log(x)` de la librería `math`\n",
        "\n",
        "\n",
        "\n"
      ]
    },
    {
      "cell_type": "code",
      "execution_count": null,
      "metadata": {
        "id": "QYBWdFV44nIP"
      },
      "outputs": [],
      "source": [
        "# Importe la librería math\n",
        "import math\n",
        "\n",
        "# Escriba su código aquí: Pida un número float por entrada input()\n",
        "x = ...\n",
        "\n",
        "# Escriba su código aquí: Use un condicional símple para poder hallar el logaritmo\n",
        "\n",
        "# Verifique si el número ingresado es positivo o no\n",
        "if ...\n",
        "  print(\"Ingrese un número positivo\")\n",
        "\n",
        "# En caso de ser positivo el número ingresado, calcule el logaritmo e imprima su resultado\n",
        "else:\n",
        "  resultado = ...\n",
        "  print(f\"El logaritmo de su número {x} es {resultado}\")"
      ]
    },
    {
      "cell_type": "markdown",
      "metadata": {
        "id": "SjI3KEOpdKG1"
      },
      "source": [
        "```\n",
        "Solución esperada:\n",
        "\n",
        "Ingrese un numero: 4\n",
        "El logaritmo de su número 4.0 es 1.3862943611198906\n",
        "```"
      ]
    },
    {
      "cell_type": "markdown",
      "metadata": {
        "id": "BqOkSh7Y1fyP"
      },
      "source": [
        "**Ejercicio 2.2**:\n",
        "*  Complete el siguiente programa que resuelva la ecuación cuadrática. Para ello, realice los siguientes pasos:\n",
        "  * Pida por consola tres números y conviértalos en tipo `float` para asignar las constantes `a`, `b` y `c`.\n",
        "  * Calcule el discriminante $ d = b^2 - 4ac$.\n",
        "  * Clasifique el discriminante. Si $d$ es mayor a cero calcule las soluciones para una ecuación cuadrática simple en la forma: $(-b ± (b^2 - 4ac)^{1/2}) / 2a$.\n",
        "  * Si $d$ es igual a cero, calcule $-b / (2a)$.\n",
        "  * Si $d$ es negativo, tendrá que calcular una solución compleja, para ello, calcule la parte real como $-b / (2a)$ y la parte imaginaria como $(abs(d))^{1/2} / (2a)$. Finalmente, sume la parte real y la párte imaginaria. Para calcular raíces cuadradas puede emplear el método `math.sqrt()`.\n"
      ]
    },
    {
      "cell_type": "code",
      "execution_count": null,
      "metadata": {
        "id": "sA1zhcu01fSH"
      },
      "outputs": [],
      "source": [
        "# Programa para calcular la solución de una ecuación cuadrática\n",
        "\n",
        "import math\n",
        "\n",
        "# Escriba su código aquí: Variables globales\n",
        "a = ...\n",
        "b = ...\n",
        "c = ...\n",
        "\n",
        "# Escriba su código aquí: Cálculo del discriminante\n",
        "discriminante = ...\n",
        "\n",
        "# Escriba su código aquí: Clasificación del discriminante\n",
        "if discriminante > 0:\n",
        "  # Escriba su código aquí: Raices reales distintas\n",
        "   raiz1 = ...\n",
        "   raiz2 = ...\n",
        "\n",
        "   print(f\"Raiz 1 = {raiz1}\" )\n",
        "   print(f\"Raiz 2 = {raiz2}\" )\n",
        "\n",
        "elif discriminante == 0:\n",
        "  # Escriba su código aquí: Solo una raiz real\n",
        "  raiz = ...\n",
        "  print(f\"Raiz = {raiz}\" )\n",
        "\n",
        "else:\n",
        "  # Escriba su código aquí: Raices complejas\n",
        "  parte_real = ...\n",
        "  parte_imaginaria = ...\n",
        "\n",
        "  print(f\"Raiz 1: {parte_real} + {parte_imaginaria}i\" )\n",
        "  print(f\"Raiz 2: {parte_real} - {parte_imaginaria}i\")\n"
      ]
    },
    {
      "cell_type": "markdown",
      "metadata": {
        "id": "UHHRouW9dXm9"
      },
      "source": [
        "```\n",
        "Solución esperada:\n",
        "\n",
        "Ingrese el coeficiente a: 1\n",
        "Ingrese el coeficiente b: 4\n",
        "Ingrese el coeficiente c: 5\n",
        "Raiz 1: -2.0 + 1.0i\n",
        "Raiz 2: -2.0 - 1.0i\n",
        "```"
      ]
    },
    {
      "cell_type": "markdown",
      "metadata": {
        "id": "cjTE6whIiORF"
      },
      "source": [
        "**Ejercicio 2.3**:\n",
        "*  Complete la siguiente función de Python la cual extrae el i-ésimo caracter de una cadena por medio de slicing de cadenas. Para realizar esta tarea, primero emplee un condicional `if` que verifique el índice `i`  está dentro del rango del tamaño de la cadena, tal que `i <= len(cadena)`. Recuerde también que la sintaxis necesaria para hacer un slicing es `iterable[inicio:fin]`."
      ]
    },
    {
      "cell_type": "code",
      "execution_count": null,
      "metadata": {
        "id": "lgw5Vla4if8Q"
      },
      "outputs": [],
      "source": [
        "# Función para eliminar el i-ésimo elemento\n",
        "\n",
        "def remover_caracter(cadena, i):\n",
        "  # Escriba su código aquí: Verifique que i esté dentro del largo de la cadena\n",
        "  if ...\n",
        "    print(f'Índice inálido {i}, la cadena permanecerá sin cambios.')\n",
        "    return cadena\n",
        "\n",
        "  # Escriba su código aquí: Remueva el i-ésimo elemento usando slicing\n",
        "  resultado = ...\n",
        "  return resultado\n",
        "\n",
        "\n",
        "# Implementación de la función\n",
        "cadena = 'Bienvenido a este taller!!!'\n",
        "i = 4\n",
        "cadena_nueva = remover_caracter(cadena, i )\n",
        "print(f'Su cadena sin el elemento {i} es: {cadena_nueva}')\n"
      ]
    },
    {
      "cell_type": "markdown",
      "metadata": {
        "id": "FS4AnD-DdrBk"
      },
      "source": [
        "```\n",
        "Solución esperada:\n",
        "\n",
        "Su cadena sin el elemento 4 es: Bienenido a este taller!!!\n",
        "```"
      ]
    },
    {
      "cell_type": "markdown",
      "metadata": {
        "id": "_ZYrL6apNox5"
      },
      "source": [
        "### <!-- Subsection 2.1 -->\n",
        "**<h3 id=\"subsection22\" style=\"color: #003366;\">2.2. Cíclo For</h3>**\n"
      ]
    },
    {
      "cell_type": "markdown",
      "metadata": {
        "id": "pE1ffaJ-6v_q"
      },
      "source": [
        "**Ejercicio 2.4**\n",
        "*  Escriba un programa que genere e imprima la tabla de multiplicación de un número entero ingresado por consola."
      ]
    },
    {
      "cell_type": "code",
      "execution_count": null,
      "metadata": {
        "id": "fCFCivNU6vdm"
      },
      "outputs": [],
      "source": [
        "# Programa para generar la tabla de multiplicación de un número\n",
        "\n",
        "# Escriba su código aquí: Complete el siguiente cíclo\n",
        "numero = int(input(\"Ingrese un numero para el cual desea construir su tabla de multiplicación: \"))\n",
        "\n",
        "for ...:\n",
        "  print(f\"{...} X {...} = {...}\")\n"
      ]
    },
    {
      "cell_type": "markdown",
      "metadata": {
        "id": "J5S5iu7Md6Pg"
      },
      "source": [
        "```\n",
        "Solución esperada:\n",
        "\n",
        "Ingrese un numero para el cual desea construir su tabla de multiplicación: 13\n",
        "13 X 1 = 13\n",
        "13 X 2 = 26\n",
        "13 X 3 = 39\n",
        "13 X 4 = 52\n",
        "13 X 5 = 65\n",
        "13 X 6 = 78\n",
        "13 X 7 = 91\n",
        "13 X 8 = 104\n",
        "13 X 9 = 117\n",
        "13 X 10 = 130\n",
        "13 X 11 = 143\n",
        "```"
      ]
    },
    {
      "cell_type": "markdown",
      "metadata": {
        "id": "1PYUs-l3QMrI"
      },
      "source": [
        "**Ejercicio 2.5:**\n",
        "*  Complete la siguiente función la cual genera la suma acumulada de los elementos de una lísta, emplee un ciclo `for()` para realizar ésta tarea."
      ]
    },
    {
      "cell_type": "code",
      "execution_count": null,
      "metadata": {
        "id": "BSQaWC-7Qaff"
      },
      "outputs": [],
      "source": [
        "# Programa para hallar la suma acumulada de una lísta\n",
        "\n",
        "def suma_de_una_lista(lista):\n",
        "  # Escriba su código aquí: Complete el ciclo for\n",
        "  total = ...\n",
        "\n",
        "  for elemento in lista:\n",
        "    # Escriba su código aquí: Acumule el resultado en la variable total\n",
        "    total = ...\n",
        "  return total\n",
        "\n",
        "\n",
        "# Implementación de la función\n",
        "numeros = [2,5,1,6,2,3,2,3,1]\n",
        "resultado = suma_de_una_lista(numeros)\n",
        "print('La suma de su lista es: ', resultado)\n"
      ]
    },
    {
      "cell_type": "markdown",
      "metadata": {
        "id": "15uiBh-VeHV1"
      },
      "source": [
        "```\n",
        "Solución esperada:\n",
        "\n",
        "La suma de su lista es:  25\n",
        "```"
      ]
    },
    {
      "cell_type": "markdown",
      "metadata": {
        "id": "uwKoEka3RbNf"
      },
      "source": [
        "**Ejercicio 2.6:**\n",
        "*  Complete la siguiente función la cual busca el número mayor de  una lista. Emplee un ciclo `for()` para leer la lista e ir comparando los elementos uno a uno.\n",
        "  * Inicialice una variable llamada `numero_mayor` como el primer elemento de la lísta.\n",
        "  * Emplee un ciclo para iterar sobre los elementos de la lista.\n",
        "  * Dentro del cíclo, emplee un condicional `if-else` para comparar el actual candidato a ser el número mayor con el número actual que el cíclo esta leyendo."
      ]
    },
    {
      "cell_type": "code",
      "execution_count": null,
      "metadata": {
        "id": "Hfjlhb5YR1I5"
      },
      "outputs": [],
      "source": [
        "# Programa para encontrar el elemento mayor de una lista\n",
        "\n",
        "def numero_mayor_en_lista(lista):\n",
        "\n",
        "  # # Escriba su código aquí: Inicialice el primer elemento como el mayor\n",
        "  numero_mayor = ...\n",
        "\n",
        "  # # Escriba su código aquí: Itere a lo largo de la lista para encontrar el número mayor\n",
        "  for ...:\n",
        "    # # Escriba su código aquí: Compare el actual número mayor con el elemento actual del ciclo\n",
        "    if ...:\n",
        "    # Escriba su código aquí: Actualice el valor del candidato a numero mayor\n",
        "      numero_mayor = ...\n",
        "\n",
        "  return numero_mayor\n",
        "\n",
        "\n",
        "# Implementación de la función\n",
        "mi_lista = [10,45,23,54,1,56,32,76]\n",
        "resultado = numero_mayor_en_lista(mi_lista)\n",
        "print(f'El número mayor de su lísta es {resultado}')\n"
      ]
    },
    {
      "cell_type": "markdown",
      "metadata": {
        "id": "aUoHFLjweS_8"
      },
      "source": [
        "```\n",
        "Solución esperada:\n",
        "\n",
        "El número mayor de su lísta es 76\n",
        "```"
      ]
    },
    {
      "cell_type": "markdown",
      "metadata": {
        "id": "k7cdFFFpexRA"
      },
      "source": [
        "**Ejercicio 2.7:**\n",
        "*  Complete la siguiente función la cual extrae los \"N\" elementos mayores de una lísta. Para ésta tarea emplee el método `sorted(lista, reverse = True)` para organizar la lísta de manera descendente, luego, emplee el método de slicing de listas para extraer los \"N\" elementos mayores."
      ]
    },
    {
      "cell_type": "code",
      "execution_count": null,
      "metadata": {
        "id": "-9G4oo_se1Gf"
      },
      "outputs": [],
      "source": [
        "# Programa para hallar los N números mayores en una lista\n",
        "\n",
        "def n_numeros_mayores(lista, n):\n",
        "  # Escriba su código aquí: Complete las variables\n",
        "\n",
        "  lista_ordenada = ...\n",
        "  numeros_mayores = ...\n",
        "  return numeros_mayores\n",
        "\n",
        "\n",
        "# Implementación de la función\n",
        "lista = [30, 10, 23,43,12,1,65,87,23,56]\n",
        "N = int(input(\"N= \"))\n",
        "resultado = n_numeros_mayores(lista, N)\n",
        "print(f'Los {N} números mayores de su lista son: ', resultado)\n"
      ]
    },
    {
      "cell_type": "markdown",
      "metadata": {
        "id": "DmGLpYTweh40"
      },
      "source": [
        "```\n",
        "Solución esperada:\n",
        "\n",
        "N= 5\n",
        "Los 5 números mayores de su lista son:  [87, 65, 56, 43, 30]\n",
        "```"
      ]
    },
    {
      "cell_type": "markdown",
      "metadata": {
        "id": "u7zTy9K3TfeX"
      },
      "source": [
        "**Ejercicio 2.8:**\n",
        "*  Complete la siguiente función la cuál valida si una lísta es monotónica, es decir, verifica que los elementos que conforman la lístas son estríctamente crecientes o decrecientes en magnitud, en su lectura de izquierda a derecha.\n",
        "  * Emplee un cíclo `for()` para leer los elementos de la lista.\n",
        "  * emplee un condicional `if-elif`  que valide ( es decir, que retorne  `True`) si el elemento actual `lista[i]` es mayor que el elemento anterior `lista[i-1]`.\n",
        "  * Emplee el bloque `elif` para que en caso de que ésta condición no se cumpla, retorne `False`."
      ]
    },
    {
      "cell_type": "code",
      "execution_count": null,
      "metadata": {
        "id": "5SWs_190Uiwg"
      },
      "outputs": [],
      "source": [
        "# Programa para verificar si una lísta es monotónica o no\n",
        "\n",
        "def es_monotonico(lista):\n",
        "  incrementa = decrece = True\n",
        "  # Escriba su código aquí: Complete los ciclos y los condicionales\n",
        "\n",
        "  l = len(lista)\n",
        "  for i in range(1,...):\n",
        "\n",
        "    if ...:\n",
        "      decrece = False\n",
        "\n",
        "    elif ...:\n",
        "      incrementa = False\n",
        "\n",
        "  return incrementa or decrece\n",
        "\n",
        "\n",
        "# Implementación de la función\n",
        "lista1 = [1,2,2,3] # monotónico\n",
        "lista2 = [3,2,1] # monotónico\n",
        "lista3 = [1,3,2,4] # no-monotónico\n",
        "\n",
        "print('La lista 1 es monotónica: ',es_monotonico(lista1))\n",
        "print('La lista 2 es monotónica: ',es_monotonico(lista2))\n",
        "print('La lista 3 es monotónica: ',es_monotonico(lista3))"
      ]
    },
    {
      "cell_type": "markdown",
      "metadata": {
        "id": "ThSlAGAjeqS8"
      },
      "source": [
        "```\n",
        "Solución esperada:\n",
        "\n",
        "La lista 1 es monotónica:  True\n",
        "La lista 2 es monotónica:  True\n",
        "La lista 3 es monotónica:  False\n",
        "```"
      ]
    },
    {
      "cell_type": "markdown",
      "metadata": {
        "id": "5UZdNUSigvbP"
      },
      "source": [
        "**Ejercicio 2.9:**\n",
        "*  Complete la siguiente función la cual permite filtrar los elementos de una lísta por su largo, de modo tal que solo retorne aquellas palabras que tengan una logitud mayor a `k`."
      ]
    },
    {
      "cell_type": "code",
      "execution_count": null,
      "metadata": {
        "id": "DGWkJlvMg6m0"
      },
      "outputs": [],
      "source": [
        "# Programa para filtrar palabras de una lísta por su largo\n",
        "\n",
        "def encontrar_palabras(palabras , k ):\n",
        "  resultado = []\n",
        "\n",
        "  # Escriba su código aquí: Complete el cíclo\n",
        "  for i in palabras:\n",
        "    if ...:\n",
        "      resultado. ...\n",
        "  return resultado\n",
        "\n",
        "\n",
        "# Implementación de la función\n",
        "lista_palabras = ['banana', 'extremadamente', 'compromiso', 'disciplina', 'estrella', 'luz', 'matiz']\n",
        "k = 5\n",
        "palabras_largas = encontrar_palabras(lista_palabras, k)\n",
        "print(f'Las palabras que son más largas que {k} son {palabras_largas}')\n"
      ]
    },
    {
      "cell_type": "markdown",
      "metadata": {
        "id": "9odSgU2se6_x"
      },
      "source": [
        "```\n",
        "Solución esperada:\n",
        "\n",
        "Las palabras que son más largas que 5 son ['banana', 'extremadamente', 'compromiso', 'disciplina', 'estrella']\n",
        "```"
      ]
    },
    {
      "cell_type": "markdown",
      "metadata": {
        "id": "-WkXkfw0gtKf"
      },
      "source": [
        "**Ejercicio 2.10:**\n",
        "* ***(Opcional)*** Escriba un programa que determine si un número es primo o no. Un número primo es un número entero que no puede ser enteramente dividido por otro a excepción del 1 y si mísmo. For ejemplo, 2, 3, 5, 7, 11, y 13 son numeros primos.\n",
        "  * Emplee un condicional `if` para verificar si el número ingresado es 1 o no.\n",
        "  * En el bloque `elif` si el número es mayor a uno, emplee un ciclo `for()` que itere desde 2 hasta el valor del número ingresado.\n",
        "  * Dentro del ciclo `for()` emplee un condicional `if` que revise el cociente de la división ente el número y el iterador, es decir, que verifique `num % i == 0`.\n",
        "  * Si el cociente es cero, retorne `True` y rompa el ciclo con la cláusula `break`.\n",
        "  * Emplee un condicional `if-else` para imprimir si el resultado es primo o no."
      ]
    },
    {
      "cell_type": "code",
      "execution_count": null,
      "metadata": {
        "id": "mi4QqiHD4zDq"
      },
      "outputs": [],
      "source": [
        "# Programa para verificar si un número es primo o no\n",
        "\n",
        "num = int(input(\"Enter a number: \"))\n",
        "# Escriba su código aquí: Complete los condicionales y el ciclo\n",
        "\n",
        "flag = False\n",
        "if ...:\n",
        "  print(f\"{num}, is not a prime number\")\n",
        "elif num > 1:\n",
        "\n",
        "  for i in ...:\n",
        "    if ...:\n",
        "      flag = True\n",
        "\n",
        "      break\n",
        "\n",
        "\n",
        "if flag:\n",
        "  print(f\"{num}, is not a prime number\")\n",
        "else:\n",
        "  print(f\"{num}, is a prime number\")\n"
      ]
    },
    {
      "cell_type": "markdown",
      "metadata": {
        "id": "65t64slYfG0V"
      },
      "source": [
        "```\n",
        "Solución esperada:\n",
        "\n",
        "Enter a number: 7\n",
        "7, is a prime number\n",
        "```"
      ]
    },
    {
      "cell_type": "markdown",
      "metadata": {
        "id": "KrEeaArk6KC_"
      },
      "source": [
        "**Ejercicio 2.11:**\n",
        "*  Escriba un programa que determine el factorial de un número.\n",
        "  * Emplee un condicional `if` para verificar que el número sea positivo.\n",
        "  * Dentro del ciclo `for()` acumule el producto del iterador.\n"
      ]
    },
    {
      "cell_type": "code",
      "execution_count": null,
      "metadata": {
        "id": "6n6kzhDw6IY2"
      },
      "outputs": [],
      "source": [
        "# Programa para calcular el factorial de un número\n",
        "\n",
        "numero = int(input(\"Ingrese un numero: \"))\n",
        "factorial = 1\n",
        "\n",
        "# Escriba su código aquí: Complete los condicionales\n",
        "\n",
        "if ...:\n",
        "  print(\"El factorial de un numero no exíste para números negativos\")\n",
        "elif numero == 0:\n",
        "  print(\"El factorial de 0 es 1\")\n",
        "else:\n",
        "  for i in range(1, numero + 1):\n",
        "    factorial = ...\n",
        "  print(f\"El factorial de su número {numero} es {factorial}\")\n"
      ]
    },
    {
      "cell_type": "markdown",
      "metadata": {
        "id": "7cmqpksIfROU"
      },
      "source": [
        "```\n",
        "Solución esperada:\n",
        "\n",
        "Ingrese un numero: 4\n",
        "El factorial de su número 4 es 24\n",
        "```"
      ]
    },
    {
      "cell_type": "markdown",
      "metadata": {
        "id": "Dpnub-Xlj7ds"
      },
      "source": [
        "### <!-- Subsection 2.1 -->\n",
        "**<h3 id=\"subsection23\" style=\"color: #003366;\">2.3. Ciclos anidados con condicionales</h3>**"
      ]
    },
    {
      "cell_type": "markdown",
      "metadata": {
        "id": "WhLx6NaGFn0m"
      },
      "source": [
        "**Ejercicio 2.12:**\n",
        "*  Escriba un programa que determine el producto acumulado de los elementos de una matriz."
      ]
    },
    {
      "cell_type": "code",
      "execution_count": null,
      "metadata": {
        "id": "9WCKsqpaeLWf"
      },
      "outputs": [],
      "source": [
        "# Programa para calcular el producto acumulado de una matriz\n",
        "\n",
        "numeros = [\n",
        "    [1,4,2,3,2,6],\n",
        "    [10,54,3,2,54,5],\n",
        "    [23,3,9,1,3,23]\n",
        "]\n",
        "\n",
        "# Escriba su cófigo aquí: Complete el ciclo\n",
        "producto_numeros = 1\n",
        "\n",
        "for i in range(len(...)):\n",
        "  for j in range(len(...)):\n",
        "    producto_numeros = ...\n",
        "\n",
        "# Imprima el resultado\n",
        "print('El prodúcto de los elementos de la lísta es: ', producto_numeros)\n"
      ]
    },
    {
      "cell_type": "markdown",
      "metadata": {
        "id": "frHsboREfcNm"
      },
      "source": [
        "```\n",
        "Solución esperada:\n",
        "\n",
        "El prodúcto de los elementos de la lísta es:  10795479897600\n",
        "```"
      ]
    },
    {
      "cell_type": "markdown",
      "metadata": {
        "id": "Bo8ThUF0HiEW"
      },
      "source": [
        "**Ejercicio 2.13:**\n",
        "* ***(Opcional)*** Complete la siguiente función la cuál permite adicionar matrices. Para ésta tarea deberá emplear dos ciclos.\n",
        "  * Emplee un condicional `if` que verifique si las dimensiones de la matriz uno son iguales a las domensiones de la matriz dos. Emplee un operador `or` que verifique la condición `len(mat1) != len(mat2)` y `len(mat1[0]) != len(mat2[0])`.\n",
        "  * Emplee un ciclo `for()` que itere sobre las filas de las matrices.\n",
        "  * Emplee un ciclo `for()` que itere sobre los elementos de las filas de las matrices (sus columnas).\n",
        "  * Dentro del ciclo interno, agrege la suma `mat1[i][j] + mat2[i][j]` a una lísta vacía llamada `fila`, luego, agregue esta fila a una lista llamada `resultado`, la cual será la matriz de salida."
      ]
    },
    {
      "cell_type": "code",
      "execution_count": null,
      "metadata": {
        "id": "mFdGpVoiHhrm"
      },
      "outputs": [],
      "source": [
        "# Programa para la adición de matrices\n",
        "\n",
        "def suma_matrices(mat1, mat2):\n",
        "  # Escriba su código aquí: Verifique si las matrices tienen las mismas dimensiones\n",
        "\n",
        "  if ...:\n",
        "    return \"Las matrices deben tener las mísmas dimensiones para poder sumarlas.\"\n",
        "\n",
        "  # Escriba su código aquí: complete los ciclos for\n",
        "  resultado = []\n",
        "  for i in range(len(...)):\n",
        "    fila = []\n",
        "    for j in range(len(...)):\n",
        "      fila.append(...)\n",
        "    resultado.append(...)\n",
        "\n",
        "  return resultado\n",
        "\n",
        "\n",
        "# Matrices de prueba\n",
        "\n",
        "matriz1 = [\n",
        "    [1, 2, 3],\n",
        "    [4, 5, 6],\n",
        "    [7, 8, 9]\n",
        "]\n",
        "\n",
        "matriz2 = [\n",
        "    [9, 8, 7],\n",
        "    [6, 5, 4],\n",
        "    [3, 2, 1]\n",
        "]\n",
        "\n",
        "# Implementación de la función\n",
        "resultado_suma = suma_matrices(matriz1, matriz2)\n",
        "resultado_suma\n"
      ]
    },
    {
      "cell_type": "markdown",
      "metadata": {
        "id": "hq2WjJ_CfpJs"
      },
      "source": [
        "```\n",
        "Solución esperada:\n",
        "\n",
        "[[10, 10, 10], [10, 10, 10], [10, 10, 10]]\n",
        "```"
      ]
    },
    {
      "cell_type": "markdown",
      "metadata": {
        "id": "xRNGz7pneJhH"
      },
      "source": [
        "**Ejercicio 2.14:**\n",
        "* ***(Opcional)*** Escriba un programa que calcule los números primos dentro de un rango estipulado.\n",
        "  * Emplee un ciclo `for()` para iterar desde el límite inferior hasta el límite superior del rango.\n",
        "  * Emplee un condicional `if` para verificar que el valor del iterador sea mayor a 1.\n",
        "  * Emplee un un ciclo `for()` que itere desde dos hasta el valor del iterador del primer ciclo.\n",
        "  * Dentro del ciclo interno, compruebe si el cociente `numero % i` es igual o a cero.\n",
        "  * Si el cociente es distínto de cero, imprima el valor del iterador."
      ]
    },
    {
      "cell_type": "code",
      "execution_count": null,
      "metadata": {
        "id": "56yaPtGv5VhO"
      },
      "outputs": [],
      "source": [
        "# Programa para determinar los números primos dentro de un intervalo\n",
        "\n",
        "limite_inferior = 1\n",
        "limite_superior = 10\n",
        "\n",
        "print(f\"Números primos entre {limite_inferior} y {limite_superior}:\")\n",
        "\n",
        "# Escriba su código aquí: Complete los ciclos for\n",
        "\n",
        "for numero in range(...):\n",
        "\n",
        "  if ...:\n",
        "    for ...:\n",
        "\n",
        "      # Escriba su código aquí: Complete los condicionales\n",
        "      if ...:\n",
        "        break\n",
        "    else:\n",
        "      print(numero)\n"
      ]
    },
    {
      "cell_type": "markdown",
      "metadata": {
        "id": "NG-H5tBlf7fo"
      },
      "source": [
        "```\n",
        "Solución esperada:\n",
        "\n",
        "Números primos entre 1 y 10:\n",
        "2\n",
        "3\n",
        "5\n",
        "7\n",
        "```"
      ]
    },
    {
      "cell_type": "markdown",
      "metadata": {
        "id": "dJ23b8nUj_Ns"
      },
      "source": [
        "### <!-- Subsection 2.4 -->\n",
        "**<h3 id=\"subsection24\" style=\"color: #003366;\">2.4. Comprehensions</h3>**"
      ]
    },
    {
      "cell_type": "markdown",
      "metadata": {
        "id": "HDZwsnkyJuBQ"
      },
      "source": [
        "**Ejercicio 2.15:**\n",
        "*  Escriba un programa que cree un diccionario mediante comprensión de diccionarios, tal que las llaves del diccionario sean los elementos de una lísta y sus valores, el cuadrado de éstos valores."
      ]
    },
    {
      "cell_type": "code",
      "execution_count": null,
      "metadata": {
        "id": "b4LMiClolqJw"
      },
      "outputs": [],
      "source": [
        "# Programa para determinar un diccionario mediante comprensión de diccionarios\n",
        "\n",
        "numeros = [1, 2, 3, 4, 5]\n",
        "\n",
        "# Escriba su código aquí: Cree un diccionario mediante comprensión de diccionarios\n",
        "\n",
        "cuadrados = ...\n",
        "\n",
        "# Mostrar el resultado\n",
        "print(\"Cuadrados de los números:\", cuadrados)\n"
      ]
    },
    {
      "cell_type": "markdown",
      "metadata": {
        "id": "MWIvbJSAgKc4"
      },
      "source": [
        "```\n",
        "Solución esperada:\n",
        "\n",
        "Cuadrados de los números: {1: 1, 2: 4, 3: 9, 4: 16, 5: 25}\n",
        "```"
      ]
    },
    {
      "cell_type": "markdown",
      "metadata": {
        "id": "mVaT8WTKKlGw"
      },
      "source": [
        "**Ejercicio 2.16:**\n",
        "*  Escriba un programa que cree un diccionario mediante comprensión de diccionarios, tal que las llaves del diccionario sean los elementos de una cadena de caracteres y sus valores, el número de veces que cada caracter aparece en la cadena."
      ]
    },
    {
      "cell_type": "code",
      "execution_count": null,
      "metadata": {
        "id": "ZOXlXn9lluOA"
      },
      "outputs": [],
      "source": [
        "# Programa para determinar un diccionario mediante comprensión de diccionarios\n",
        "\n",
        "texto = \"pythonprogramming\"\n",
        "\n",
        "# Escriba su código aquí: Cree un diccionario mediante comprensión de diccionarios\n",
        "\n",
        "frecuencia_letras = ...\n",
        "\n",
        "# Mostrar el resultado\n",
        "print(\"Frecuencia de letras:\", frecuencia_letras)\n"
      ]
    },
    {
      "cell_type": "markdown",
      "metadata": {
        "id": "vLr3hDRJgRXd"
      },
      "source": [
        "```\n",
        "Solución esperada:\n",
        "\n",
        "Frecuencia de letras: {'t': 1, 'h': 1, 'y': 1, 'a': 1, 'm': 2, 'g': 2, 'p': 2, 'n': 2, 'r': 2, 'o': 2, 'i': 1}\n",
        "```"
      ]
    },
    {
      "cell_type": "markdown",
      "metadata": {
        "id": "0CEbhFivf2uq"
      },
      "source": [
        "**Ejercicio 2.17:**\n",
        "* Escriba un programa que cree una lista mediante comprensión de listas tal que los elementos de ésta sean los números pares de otra lísta. Luego, realice la mísma tarea pero para los elementos impares."
      ]
    },
    {
      "cell_type": "code",
      "execution_count": null,
      "metadata": {
        "id": "yZ0eqbppf40g"
      },
      "outputs": [],
      "source": [
        "# Función para extraer los números pares de una lísta\n",
        "numeros = [1,3,2,4,5,4,3,2,3,1,6,4,52]\n",
        "\n",
        "pares = ...\n",
        "impares = ...\n",
        "\n",
        "print('Los números pares de su lista son: ', pares)\n",
        "print('Los números impares de su lista son: ', impares)\n"
      ]
    },
    {
      "cell_type": "markdown",
      "metadata": {
        "id": "g5D5c2BOgY9V"
      },
      "source": [
        "```\n",
        "Solución esperada:\n",
        "\n",
        "Los números pares de su lista son:  [2, 4, 4, 2, 6, 4, 52]\n",
        "Los números impares de su lista son:  [1, 3, 5, 3, 3, 1]\n",
        "```"
      ]
    },
    {
      "cell_type": "markdown",
      "metadata": {
        "id": "cOkZbA5MLY1W"
      },
      "source": [
        "**Ejercicio 2.18:**\n",
        "* ***(Opcional)*** Estudie el siguiente programa, el cual determina el promedio de las calificaciones de cada estudiante mediante comprensión de diccionarios, luego, establece cuales son los estudiantes destacados, aquellos cuya calificación es superior a 90. En este problema deberá escribir en detalle que ocurre en cada línea de código y la acción de cada método empleado."
      ]
    },
    {
      "cell_type": "code",
      "execution_count": null,
      "metadata": {
        "colab": {
          "base_uri": "https://localhost:8080/"
        },
        "id": "8zLMakkClxJ5",
        "outputId": "81d77164-67b1-4fc6-82c4-170f32e3d800"
      },
      "outputs": [
        {
          "name": "stdout",
          "output_type": "stream",
          "text": [
            "Promedio de calificaciones por estudiante: {'Estudiante1': 89.0, 'Estudiante2': 86.66666666666667, 'Estudiante3': 91.66666666666667, 'Estudiante4': 91.0}\n",
            "Estudiantes con promedio superior a 90: {'Estudiante3': 91.66666666666667, 'Estudiante4': 91.0}\n"
          ]
        }
      ],
      "source": [
        "# Diccionario de estudiantes y sus calificaciones\n",
        "estudiantes_calificaciones = {\n",
        "    'Estudiante1': [90, 85, 92],\n",
        "    'Estudiante2': [78, 89, 93],\n",
        "    'Estudiante3': [88, 92, 95],\n",
        "    'Estudiante4': [95, 87, 91],\n",
        "}\n",
        "\n",
        "# Calcular el promedio de calificaciones para cada estudiante\n",
        "promedios_estudiantes = {estudiante: sum(calificaciones) / len(calificaciones) for estudiante, calificaciones in estudiantes_calificaciones.items()}\n",
        "\n",
        "# Establecer un umbral para el promedio\n",
        "umbral_promedio = 90\n",
        "\n",
        "# Determinar quiénes tienen un promedio superior al umbral\n",
        "estudiantes_destacados = {estudiante: promedio for estudiante, promedio in promedios_estudiantes.items() if promedio > umbral_promedio}\n",
        "\n",
        "# Mostrar los resultados\n",
        "print(\"Promedio de calificaciones por estudiante:\", promedios_estudiantes)\n",
        "print(f\"Estudiantes con promedio superior a {umbral_promedio}:\", estudiantes_destacados)\n"
      ]
    },
    {
      "cell_type": "markdown",
      "metadata": {
        "id": "zzoVZj6rY0EQ"
      },
      "source": [
        "**Ejercicio 2.19:**\n",
        "* ***(Opcional)*** Complete el siguiente programa, el cual organiza alfabéticamente las palabras de una cadena de palabras.\n",
        "  * Emplee el método `.split()` para descomponer la cadena de palabras ingresada en una lísta de palabras.\n",
        "  * Emplee comprensión de listas para crear una lista de palabras capitalizadas. Para esto, emplee el método `.capitalize()` en cada palabra para transformar cada caracter de la palabra en  mayuscula.\n",
        "  * Emplee el método `sort()` para organizar alfabéticamente las palabras."
      ]
    },
    {
      "cell_type": "code",
      "execution_count": null,
      "metadata": {
        "colab": {
          "base_uri": "https://localhost:8080/"
        },
        "id": "m4gNI2ItY2jv",
        "outputId": "4dd6674e-46cc-4a9c-e73f-a2d7ea0a6d70"
      },
      "outputs": [
        {
          "name": "stdout",
          "output_type": "stream",
          "text": [
            "Ingrese una cadena:Una lista de caracteres\n",
            "Las palabras alfabéticamente organizadas son: \n",
            "Caracteres\n",
            "De\n",
            "Lista\n",
            "Una\n"
          ]
        }
      ],
      "source": [
        "# Programa para organizar strings en órden alfabético\n",
        "\n",
        "cadena = input('Ingrese una cadena:')\n",
        "\n",
        "# Escriba su código aquí: rompa la cadena ingresda en una lísta de cadenas y genere esta lista por comprensión de lístas\n",
        "palabras = ...\n",
        "\n",
        "# Escriba su código aquí: Organice la lísta\n",
        "palabras. ...\n",
        "\n",
        "# Imprima el resultado\n",
        "print('Las palabras alfabéticamente organizadas son: ')\n",
        "for palabra in palabras:\n",
        "  print(palabra)\n"
      ]
    },
    {
      "cell_type": "markdown",
      "metadata": {
        "id": "YBZR0sPxgj1e"
      },
      "source": [
        "```\n",
        "Solución esperada:\n",
        "\n",
        "Ingrese una cadena:Una lista de caracteres\n",
        "Las palabras alfabéticamente organizadas son:\n",
        "Caracteres\n",
        "De\n",
        "Lista\n",
        "Una\n",
        "```"
      ]
    },
    {
      "cell_type": "markdown",
      "metadata": {
        "id": "z7mZiNTY1WRz"
      },
      "source": [
        "**Ejercicio 2.20**:\n",
        "* ***(Opcional)*** Escriba un programa que tome 2 dígitos, `X`, `Y` como entrada y genere una lista bidimensional (una matriz). El valor del elemento en la i-ésima fila y j-ésima columna de la matriz debe ser `i*j`.\n",
        "\n",
        "Nota: $i=0,1.., X-1; j=0,1,Y-1$.\n",
        "\n",
        "Por ejemplo, supongamos que el programa recibe las siguientes entradas `X = 3`, `Y = 5`. Entonces, la salida del programa debería ser:\n",
        "\n",
        "```\n",
        "[[0, 0, 0, 0, 0],\n",
        " [0, 1, 2, 3, 4],\n",
        " [0, 2, 4, 6, 8]]\n",
        "```"
      ]
    },
    {
      "cell_type": "code",
      "execution_count": null,
      "metadata": {
        "id": "uEFtTLup154n"
      },
      "outputs": [],
      "source": [
        "# Programa para generar una matriz a partir de dos enteros\n",
        "\n",
        "x, y = map(int, input('Ingrese dos dígitos (x, y): ').split(','))\n",
        "\n",
        "# Escriba su código aquí: Emplee comprensión de listas\n",
        "\n",
        "array = [[0 for j in range(y)] for i in range(x)]\n",
        "\n",
        "for ...:\n",
        "  for ...:\n",
        "\n",
        "    # Escriba su código aquí: Escriba el producto de los elementos de la matriz\n",
        "    array[i][j] = ...\n",
        "\n",
        "print(array)\n"
      ]
    },
    {
      "cell_type": "markdown",
      "metadata": {
        "id": "dVCCKKcqgz2E"
      },
      "source": [
        "```\n",
        "Solución esperada:\n",
        "\n",
        "Ingrese dos dígitos (x, y): 3,5\n",
        "[[0, 0, 0, 0, 0], [0, 1, 2, 3, 4], [0, 2, 4, 6, 8]]\n",
        "```"
      ]
    },
    {
      "cell_type": "markdown",
      "metadata": {
        "id": "2Hwfu6zTPKOo"
      },
      "source": [
        "**Ejercicio 2.21:**\n",
        "* Complete la siguiente función, la cual calcula la suma cúbica de una lista conformada por los primeros `n` números naturales. Una suma cúbica es la suma de los primeros `n` números naturales elevados al cubo. Para completar este ejercicio realice una comprensión de listas de la forma `[expresion for i in range(limite)]`, donde para realizar la suma de los elementos de la lísta emplee el comando `sum()`."
      ]
    },
    {
      "cell_type": "code",
      "execution_count": null,
      "metadata": {
        "id": "fVByZBs7NujI"
      },
      "outputs": [],
      "source": [
        "# Programa para calcular la suma cúbica de una lista mediante comprensión de listas\n",
        "\n",
        "def suma_cubica_de_numeros_naturales(cantidad_de_numeros):\n",
        "  n = cantidad_de_numeros\n",
        "\n",
        "  if ...:\n",
        "    return 0\n",
        "  else:\n",
        "    # Escriba su código aquí: Genere la suma de los elementos al cubo mediante comprensión de listas\n",
        "    total = ...\n",
        "    return total\n",
        "\n",
        "\n",
        "# Implementación de la función\n",
        "n = int(input('Ingrese un número: '))\n",
        "\n",
        "if n <= 0:\n",
        "  print('Ingrese un numero positivo')\n",
        "else:\n",
        "  resultado = suma_cubica_de_numeros_naturales(n)\n",
        "  print(f'La suma cúbica de los primeros {n} números naturales es: {resultado}')\n"
      ]
    },
    {
      "cell_type": "markdown",
      "metadata": {
        "id": "75iM1wRZhDps"
      },
      "source": [
        "```\n",
        "Solución esperada:\n",
        "\n",
        "Ingrese un número: 3\n",
        "La suma cúbica de los primeros 3 números naturales es: 36\n",
        "```"
      ]
    },
    {
      "cell_type": "markdown",
      "metadata": {
        "id": "Mwwh9AZtjqi7"
      },
      "source": [
        "**Ejercicio 2.22:**\n",
        "* ***(Opcional)*** Complete la siguiente función, la cual determina los elementos duplicados en una lista."
      ]
    },
    {
      "cell_type": "code",
      "execution_count": null,
      "metadata": {
        "id": "wALxDtUlj838"
      },
      "outputs": [],
      "source": [
        "# Programa para hallar los elementos duplicados de una lista\n",
        "\n",
        "def encontrar_duplicados(lista):\n",
        "  cuentas = {}\n",
        "  duplicados = []\n",
        "\n",
        "  # Escriba su código aquí: Complete los ciclos\n",
        "\n",
        "  for i in lista:\n",
        "    if i in cuentas:\n",
        "      cuentas[i] = ...\n",
        "    else:\n",
        "      cuentas[i] = ...\n",
        "\n",
        "  for elemento, cuenta in cuentas.items():\n",
        "    if cuenta > 1:\n",
        "      duplicados. ...\n",
        "\n",
        "  return duplicados\n",
        "\n",
        "\n",
        "# Implementación de la función\n",
        "cadena = \"reconocer que es un duplicado\"\n",
        "caracteres_duplicados = encontrar_duplicados(cadena)\n",
        "print(f'Los caracteres duplicados en: {cadena}, son {caracteres_duplicados}')\n"
      ]
    },
    {
      "cell_type": "markdown",
      "metadata": {
        "id": "ZDeLGrUAhMnv"
      },
      "source": [
        "```\n",
        "Solución esperada:\n",
        "\n",
        "Los caracteres duplicados en: reconocer que es un duplicado, son ['r', 'e', 'c', 'o', 'n', ' ', 'u', 'd']\n",
        "```"
      ]
    },
    {
      "cell_type": "markdown",
      "metadata": {
        "id": "7_jeIaQuO5rS"
      },
      "source": [
        "### <!-- Subsection 2.5 -->\n",
        "**<h3 id=\"subsection25\" style=\"color: #003366;\">2.5. Cíclo While</h3>**"
      ]
    },
    {
      "cell_type": "markdown",
      "metadata": {
        "id": "JSjVKnzv7Txr"
      },
      "source": [
        "**Ejercicio 2.23:**\n",
        "* Escribe un programa en Python para imprimir la secuencia de Fibonacci.\n",
        "La secuencia de Fibonacci es una serie de números donde cada número es la suma de los dos anteriores precedentes, típicamente comenzando con 0 y 1. Así, la secuencia comienza con 0 y 1, y el siguiente número se obtiene sumando los dos números anteriores. Este patrón continúa indefinidamente, generando una secuencia que se parece a esto: 0, 1, 1, 2, 3, 5, 8, 13, 21, 34, 55, 89, 144, y así sucesivamente. Matemáticamente, la sucesión de Fibonacci puede definirse mediante la siguiente relación de recurrencia\n",
        "relación:\n",
        "𝐹(0) = 0 𝐹(1) = 1 𝐹(𝑛) = 𝐹(𝑛 − 1) + 𝐹(𝑛 − 2)> 1\n",
        "\n",
        "  * Verifique que el número de términos que se quiere conocer es válido, es decir, que el número de términos sea un entero positivo.\n",
        "  * Si el número de términos es 1, retorne `[0,1]` como secuencia.\n",
        "  * Si el número de términos es mayor a 1, realice la suma de los dos dígitos anteriores mediante in ciclo `while`, donde cada término nuevo será igual a `nth = n1 + n2`.\n",
        "  * Actialice los valores de `n1` y `n2` a  `n1 = n2` y `n2 = nth` .\n",
        "  * Agregue `nth` a la lísta de secuencia.\n",
        "  * Incremente el contador cuenta en uno."
      ]
    },
    {
      "cell_type": "code",
      "execution_count": null,
      "metadata": {
        "id": "cn_ol-DE7aFQ"
      },
      "outputs": [],
      "source": [
        "# Programa para hallar la secuencia Fibonacci\n",
        "\n",
        "nterminos = int(input(\"Cuantos términos de la secuencia desea usted ver?\"))\n",
        "\n",
        "# Primeros dos términos\n",
        "n1, n2 = 0, 1\n",
        "cuenta = 0\n",
        "secuencia = [n1,n2]\n",
        "\n",
        "# # Escriba su código aquí: Verificar si el número de términos es valido\n",
        "\n",
        "if ... or ...:\n",
        "  print(\"Ingrese un número entero positivo\")\n",
        "\n",
        "# # Escriba su código aquí: Si el numero de términos es solo uno, regrese n1\n",
        "\n",
        "elif nterminos ==1:\n",
        "  print(f\"Su secuencia de Fibbonacci hasta {nterminos} términos es {secuencia}\")\n",
        "\n",
        "# # Escriba su código aquí: Generar la secuencia Fibbonacci\n",
        "else:\n",
        "  print(\"Secuencia Fibonacci:\")\n",
        "  while cuenta < nterminos:\n",
        "    nth = ...\n",
        "    # # Escriba su código aquí: Actualización de valores\n",
        "    n1 = ...\n",
        "    n2 = ...\n",
        "    secuencia. ...\n",
        "    cuenta = ...\n",
        "  print(f\"Su secuencia de Fibbonacci hasta {nterminos} términos es {secuencia}\")\n"
      ]
    },
    {
      "cell_type": "markdown",
      "metadata": {
        "id": "HV-doTzhhZoc"
      },
      "source": [
        "```\n",
        "Solución esperada:\n",
        "\n",
        "Cuantos términos de la secuencia desea usted ver?6\n",
        "Secuencia Fibonacci:\n",
        "Su secuencia de Fibbonacci hasta 6 términos es [0, 1, 1, 2, 3, 5, 8, 13]\n",
        "```"
      ]
    },
    {
      "cell_type": "markdown",
      "metadata": {
        "id": "GrKtOskjagwO"
      },
      "source": [
        "**Ejercicio 2.24**:\n",
        "\n",
        "* ***(Opcional)*** Complete la siguiente función la cuál comprueba si un número es feliz. Un número feliz es un número entero positivo que, al sustituir repetidamente el número por la suma de los cuadrados de sus dígitos y continuar el proceso, llega finalmente a 1. Si el proceso nunca llega a 1, sino que se repite sin fin en un ciclo, el número no es un número feliz.\n",
        "Por ejemplo:\n",
        "\n",
        "```\n",
        "1*1 + 9*9 = 82\n",
        "8*8 + 2*2 = 68\n",
        "6*6 + 8*8 = 100\n",
        "1*1 + 0*0 = 1\n",
        "```\n",
        "\n",
        "\n",
        "19 es un Número Feliz porque\n",
        "El proceso llega a 1, por lo que 19 es un Número Feliz.\n",
        "\n",
        "  * En el ciclo `while`, compruebe si `numero != 1` y si `numero` no se encuentra en `previos`.\n",
        "  * Si `numero` no se encuentra en `previos`, agregue `numero` a al conjunto `previos` mediante el método `add()`.\n",
        "  * Dentro del ciclo `while`, implemente la línea de código `int(i) ** 2 for i in str(numero)` y genere la suma de esta con `sum()`. Use esta suma para actualizar el valor de `numero` tal que `numero = suma de una comprensión`. En un apartado, explique por que esta linea ha sido implementada.\n",
        "  * Cuando el ciclo `while` se rompa por cumplimiento de la condición boleana, retorne `numero == 1`.\n",
        "\n"
      ]
    },
    {
      "cell_type": "code",
      "execution_count": null,
      "metadata": {
        "id": "Pv-fTq5fagTX"
      },
      "outputs": [],
      "source": [
        "# Programa para encontrar númreo felices\n",
        "\n",
        "def numero_feliz(numero):\n",
        "  previos = set() # Guardar los números previamente vistos\n",
        "\n",
        "  # Escriba su código aquí: Verifique si numero es diferente de 1 y no se encuentra en previos\n",
        "  while ... and ... not in ...:\n",
        "\n",
        "    # Escriba su código aquí: Agregue numero al conjunto\n",
        "    previos. ...\n",
        "\n",
        "    # Escriba su código aquí:Implemente una comprension y calcule la suma de ésta\n",
        "    numero = sum(...)\n",
        "\n",
        "  # Escriba su código aquí: Compruebe si el proceso ha llegado a 1\n",
        "  return numero == 1\n",
        "\n",
        "\n",
        "# Implementación de la función\n",
        "numero = int(input('Ingrese un número: '))\n",
        "if numero_feliz(numero):\n",
        "  print(f'{numero} es un número feliz.')\n",
        "else:\n",
        "  print(f'{numero} no es un número feliz.')"
      ]
    },
    {
      "cell_type": "markdown",
      "metadata": {
        "id": "zxxfg_Cxhw6c"
      },
      "source": [
        "```\n",
        "Solución esperada:\n",
        "\n",
        "Ingrese un número: 5\n",
        "5 no es un número feliz.\n",
        "```"
      ]
    },
    {
      "cell_type": "markdown",
      "metadata": {
        "id": "y4n0ZC7M0p_f"
      },
      "source": [
        "# <!-- Section 3 -->\n",
        "**<h2 id=\"section3\" style=\"color: #007ACC;\">3. Clases y Construcciones</h2>**"
      ]
    },
    {
      "cell_type": "markdown",
      "metadata": {
        "id": "0t1ZedTU22LI"
      },
      "source": [
        "**Ejercicio 2.25**:\n",
        "\n",
        "*  Complete la siguiente clase (constructor) la cual posee los siguientes atributos:\n",
        "  * `__init__ :` Es el método de iniciación y encapsulación de la clase, complete este bloque de tal manera que las variables `nombre`, `precio` y `stock` sean asginadas como los atributos própios de la clase.\n",
        "  * `reabastecer_inventario:` Aumenta la cantidad registrada del producto en cierta cantidad. Complete este método de manera que cada vez que sea llamado y se ingrese el parámetro `cantidad`, el valor de `self.stock` aumente por la cantidad ingresada. Es decir, debe re asignar el valor de ésta variable.\n",
        "  * `realizar_venta`: Este método se emplea para realizar una venta y actualizar la cantidad del producto en stock. Complete éste método de modo tal que si la el stock actual `self.stock` es menor que la `cantidad`, `self.stock` sea actualizado a `self.stock - cantidad`. Luego, regístre el valor de la venta `total_venta` mediante `cantidad * self.precio`.\n",
        "  * `calcular_valor_inventario`: Éste método calcula el valor del stock, calcule el valor del inventario mediante `self.stock * self.precio`.\n",
        "  * Emplee el método `reabastecer_inventario` ajustando su parámetro igual a 20.\n",
        "  * Emplee el método `realizar_venta` ajustando su parámetro igual a 15\n",
        "  * Calcule el inventario mediante el método `calcular_valor_inventario`."
      ]
    },
    {
      "cell_type": "code",
      "execution_count": null,
      "metadata": {
        "id": "I3BVyeEg4wHi"
      },
      "outputs": [],
      "source": [
        "# Programa para generar el constructor de un producto\n",
        "\n",
        "class Producto:\n",
        "    def __init__(self, nombre, precio, stock):\n",
        "       # Escriba su código aquí: Asigne los atributos de la clase\n",
        "        self.nombre = ...\n",
        "        self.precio = ...\n",
        "        self.stock = ...\n",
        "\n",
        "    def reabastecer_inventario(self, cantidad):\n",
        "        \"\"\"Aumentar la cantidad en stock del producto.\"\"\"\n",
        "        # Escriba su código aquí: Actualice el stock\n",
        "        self.stock = ...\n",
        "        print(f\"Inventario reabastecido. Nuevo stock de {self.nombre}: {self.stock}\")\n",
        "\n",
        "    def realizar_venta(self, cantidad):\n",
        "        \"\"\"Realizar una venta y actualizar el stock.\"\"\"\n",
        "        if cantidad <= self.stock:\n",
        "            # Escriba su código aquí: Actualice el stock después de una venta y calcule el valor de la venta\n",
        "            self.stock  = ...\n",
        "            total_venta = ...\n",
        "            print(f\"Venta realizada. Total: ${total_venta}. Stock actual de {self.nombre}: {self.stock}\")\n",
        "        else:\n",
        "            print(f\"No hay suficiente stock de {self.nombre} para realizar la venta.\")\n",
        "\n",
        "    def calcular_valor_inventario(self):\n",
        "        \"\"\"Calcular el valor total del inventario del producto.\"\"\"\n",
        "        # Escriba su código aquí: Calcule el valor del inventario\n",
        "        valor_inventario = ...\n",
        "        print(f\"Valor total del inventario de {self.nombre}: ${valor_inventario}\")\n",
        "\n",
        "\n",
        "# Ejemplo de uso\n",
        "producto1 = Producto(\"Laptop\", 1200, 50)\n",
        "\n",
        "# Realizar operaciones con el producto\n",
        "producto1. ...\n",
        "producto1. ...\n",
        "producto1. ...\n"
      ]
    },
    {
      "cell_type": "markdown",
      "metadata": {
        "id": "QYkxJJ4KizZ6"
      },
      "source": [
        "```\n",
        "Solución esperada:\n",
        "\n",
        "Inventario reabastecido. Nuevo stock de Laptop: 70\n",
        "Venta realizada. Total: $18000. Stock actual de Laptop: 55\n",
        "Valor total del inventario de Laptop: $66000\n",
        "```"
      ]
    },
    {
      "cell_type": "markdown",
      "metadata": {
        "id": "VPcQ7JmaZFwG"
      },
      "source": [
        "**Ejercicio 2.26**:\n",
        "\n",
        "*  Estudie el siguiente constructor y anexe a continuación los detalles a cerca de:\n",
        "  * Cual es la estructura del constructor.\n",
        "  * Cual es la función de cada método del constructor.\n",
        "  * Cómo funciona cada método del constructor.\n",
        "  * Inicialice el constructor con `titular = \"Juan Pérez\"` , `saldo_inicial = 1000`\n",
        "  * Emplee los métodos del constructor para generar un `depósito` de 500, un `retiro` de 200 y una `consulta de saldo`."
      ]
    },
    {
      "cell_type": "code",
      "execution_count": null,
      "metadata": {
        "id": "0ZYG7S3744_E"
      },
      "outputs": [],
      "source": [
        "class CuentaBancaria:\n",
        "    def __init__(self, titular, saldo_inicial=0):\n",
        "        self.titular = titular\n",
        "        self.saldo = saldo_inicial\n",
        "\n",
        "    def depositar(self, cantidad):\n",
        "        \"\"\"Realizar un depósito en la cuenta.\"\"\"\n",
        "        if cantidad > 0:\n",
        "            self.saldo += cantidad\n",
        "            print(f\"Depósito de ${cantidad} realizado. Nuevo saldo: ${self.saldo}\")\n",
        "        else:\n",
        "            print(\"La cantidad debe ser mayor que cero para realizar un depósito.\")\n",
        "\n",
        "    def retirar(self, cantidad):\n",
        "        \"\"\"Realizar un retiro de la cuenta.\"\"\"\n",
        "        if cantidad > 0 and cantidad <= self.saldo:\n",
        "            self.saldo -= cantidad\n",
        "            print(f\"Retiro de ${cantidad} realizado. Nuevo saldo: ${self.saldo}\")\n",
        "        elif cantidad <= 0:\n",
        "            print(\"La cantidad debe ser mayor que cero para realizar un retiro.\")\n",
        "        else:\n",
        "            print(\"Saldo insuficiente para realizar el retiro.\")\n",
        "\n",
        "    def consultar_saldo(self):\n",
        "        \"\"\"Consultar el saldo actual de la cuenta.\"\"\"\n",
        "        print(f\"Saldo actual de la cuenta de {self.titular}: ${self.saldo}\")\n",
        "\n",
        "# # Escriba su código aquí: Inicialización del constructor con titular = \"Juan Pérez\" , saldo_inicial = 1000\n",
        "cuenta_usuario = ...\n",
        "\n",
        "# Realizar operaciones con la cuenta\n",
        "cuenta_usuario. ...\n",
        "cuenta_usuario. ...\n",
        "cuenta_usuario. ...\n"
      ]
    },
    {
      "cell_type": "markdown",
      "metadata": {
        "id": "SRhvFoHQi487"
      },
      "source": [
        "```\n",
        "Solución esperada:\n",
        "\n",
        "Depósito de $500 realizado. Nuevo saldo: $1500\n",
        "Retiro de $200 realizado. Nuevo saldo: $1300\n",
        "Saldo actual de la cuenta de Juan Pérez: $1300\n",
        "```"
      ]
    }
  ],
  "metadata": {
    "colab": {
      "provenance": []
    },
    "kernelspec": {
      "display_name": "Python 3",
      "name": "python3"
    },
    "language_info": {
      "name": "python"
    }
  },
  "nbformat": 4,
  "nbformat_minor": 0
}
