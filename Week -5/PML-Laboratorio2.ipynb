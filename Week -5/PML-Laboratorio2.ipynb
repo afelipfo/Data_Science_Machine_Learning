{
 "cells": [
  {
   "cell_type": "markdown",
   "metadata": {
    "deletable": false,
    "editable": false,
    "nbgrader": {
     "cell_type": "markdown",
     "checksum": "be299851b643b99049b7a88860e4510f",
     "grade": false,
     "grade_id": "cell-9cfe80e88d706fa1",
     "locked": true,
     "schema_version": 3,
     "solution": false,
     "task": false
    }
   },
   "source": [
    "# Un problema de regresión logística\n",
    "\n",
    "En este laboratorio pondrás a prueba tus conocimientos sobre entrenamiento de modelos de clasificación utilizando regresión logística. Particularmente, realizarás los siguientes procedimientos:\n",
    "\n",
    "1. Cargar un conjunto de datos.\n",
    "2. Preparar los datos para el modelado.\n",
    "3. Realizar la búsqueda de hiperparámetros para la regresión logística.\n",
    "4. Evaluar los mejores modelos resultantes.\n",
    "\n",
    "El problema a resolver es el siguiente: dados algunos indicadores de salud de una persona, queremos predecir si está en riesgo de padecer de una enfermedad cardiovascular o no. A lo largo del laboratorio encontrarás múltiples celdas con la siguiente estructura:\n",
    "```python\n",
    "#---------- Celda de pruebas - Ejercicio X.X. ----------\n",
    "# Prueba 1\n",
    "# Prueba 2\n",
    "# ...\n",
    "#-------------------------------------------------------\n",
    "```\n",
    "Estas celdas son utilizadas para calificar tus respuestas después de que realices tu envío, por lo que en ellas encontrarás los puntos específicos que serán evaluados. Asegúrate de no incluir código en estas celdas, ya que cualquier modificación será eliminada automáticamente al momento de realizar la evaluación. \n",
    "\n",
    "Antes de iniciar, vamos a importar las librerías necesarias:"
   ]
  },
  {
   "cell_type": "code",
   "execution_count": 2,
   "metadata": {
    "deletable": false,
    "editable": false,
    "nbgrader": {
     "cell_type": "code",
     "checksum": "5dacd9b8c907958fc30bdf7a1fdefbd8",
     "grade": false,
     "grade_id": "cell-bec99cb37feb1075",
     "locked": true,
     "schema_version": 3,
     "solution": false,
     "task": false
    }
   },
   "outputs": [],
   "source": [
    "import pandas as pd\n",
    "import numpy as np\n",
    "\n",
    "from sklearn.preprocessing import StandardScaler\n",
    "from sklearn.linear_model import LogisticRegression\n",
    "from sklearn.model_selection import train_test_split, KFold, GridSearchCV\n",
    "from sklearn.metrics import accuracy_score, precision_score, recall_score, f1_score\n",
    "from sklearn.metrics import confusion_matrix\n",
    "from sklearn.pipeline import make_pipeline"
   ]
  },
  {
   "cell_type": "markdown",
   "metadata": {
    "deletable": false,
    "editable": false,
    "nbgrader": {
     "cell_type": "markdown",
     "checksum": "8b712a54845ec9403f03f3bbd16ffc77",
     "grade": false,
     "grade_id": "cell-f2a26065d652e609",
     "locked": true,
     "schema_version": 3,
     "solution": false,
     "task": false
    }
   },
   "source": [
    "## 1. Carga de datos\n",
    "\n",
    "Con las librerías importadas, realizaremos la carga del conjunto de datos:\n",
    "\n",
    "### Ejercicio 1.1.\n",
    "\n",
    "Utiliza Pandas para importar el archivo que contiene el conjunto de datos.\n",
    "\n",
    "* La ruta del archivo .csv es: `./data/heart_disease_health_indicators.csv`, y ya se encuentra en el entorno de Coursera, solo debes importarlo.\n",
    "* La variable resultante debe tener el nombre `data_raw`.\n",
    "* **Formato esperado de respuesta:** se verificará que tu respuesta sea un `DataFrame` de Pandas con dimensiones `(253680,22)`."
   ]
  },
  {
   "cell_type": "code",
   "execution_count": 3,
   "metadata": {
    "deletable": false,
    "nbgrader": {
     "cell_type": "code",
     "checksum": "8b0bf06cffc4b870c7dcc9ad2b6d2d9a",
     "grade": false,
     "grade_id": "E11",
     "locked": false,
     "schema_version": 3,
     "solution": true,
     "task": false
    },
    "scrolled": true
   },
   "outputs": [],
   "source": [
    "ruta = './data/heart_disease_health_indicators.csv'\n",
    "# your code here\n",
    "data_raw = pd.read_csv(ruta)"
   ]
  },
  {
   "cell_type": "code",
   "execution_count": 4,
   "metadata": {
    "deletable": false,
    "editable": false,
    "nbgrader": {
     "cell_type": "code",
     "checksum": "cb349a2d1801eeacdf9129b3f96a7a76",
     "grade": true,
     "grade_id": "E11-tests",
     "locked": true,
     "points": 1,
     "schema_version": 3,
     "solution": false,
     "task": false
    }
   },
   "outputs": [],
   "source": [
    "#---------- Celda de Pruebas ----------\n",
    "# El resultado existe\n",
    "# El resultado es un DataFrame\n",
    "# El resultado tiene las dimensiones correctas\n",
    "#--------------------------------------"
   ]
  },
  {
   "cell_type": "markdown",
   "metadata": {
    "deletable": false,
    "editable": false,
    "nbgrader": {
     "cell_type": "markdown",
     "checksum": "76155595011e98de4c99b85b74a51a7d",
     "grade": false,
     "grade_id": "cell-e6347dd4ddd9c277",
     "locked": true,
     "schema_version": 3,
     "solution": false,
     "task": false
    }
   },
   "source": [
    "## 2. Preparación de datos\n",
    "\n",
    "Primero vamos a definir la variable `data` para almacenar un conjunto de datos modificado:"
   ]
  },
  {
   "cell_type": "code",
   "execution_count": 5,
   "metadata": {
    "deletable": false,
    "editable": false,
    "nbgrader": {
     "cell_type": "code",
     "checksum": "313d608d65b96767040517da8efd3f3d",
     "grade": false,
     "grade_id": "cell-b6c610db507f43de",
     "locked": true,
     "schema_version": 3,
     "solution": false,
     "task": false
    }
   },
   "outputs": [],
   "source": [
    "data = data_raw.copy()"
   ]
  },
  {
   "cell_type": "markdown",
   "metadata": {
    "deletable": false,
    "editable": false,
    "nbgrader": {
     "cell_type": "markdown",
     "checksum": "19fc6b2e243363e72a8dc7eaab0bb16b",
     "grade": false,
     "grade_id": "cell-bc8b2b03448a32f2",
     "locked": true,
     "schema_version": 3,
     "solution": false,
     "task": false
    }
   },
   "source": [
    "### Ejercicio 2.1.\n",
    "\n",
    "Primero vas a realizar la limpieza de los datos. Utiliza Pandas para consultar si existen valores faltantes o filas duplicadas, y elimina estos datos.\n",
    "\n",
    "* Utiliza funciones sobre el DataFrame para saber si contiene valores faltantes o filas duplicadas. (**Ejemplo: `data.<<Función>>`**)\n",
    "* Utiliza las funciones de Pandas necesarias para eliminar valores faltantes y filas duplicadas. Asigna tu respuesta a la misma variable `data`. (**Ejemplo: `data = data.<<Función>>`**)\n",
    "* Encontrarás la línea `data` al final de la celda. Esta línea se usa para que puedas visualizar el resultado, por lo que debes dejarla al final y no debes modificarla.\n",
    "* **Formato esperado de respuesta:** se verificará que `data` sea un `DataFrame` de Pandas con dimensiones `(229781,22)`. La variable `data` no debe contener valores faltantes ni filas duplicadas para que tu respuesta sea correcta."
   ]
  },
  {
   "cell_type": "code",
   "execution_count": 7,
   "metadata": {
    "deletable": false,
    "nbgrader": {
     "cell_type": "code",
     "checksum": "0d8e0aae82827b32bfcd24bfbb5dd177",
     "grade": false,
     "grade_id": "E21",
     "locked": false,
     "schema_version": 3,
     "solution": true,
     "task": false
    }
   },
   "outputs": [
    {
     "name": "stdout",
     "output_type": "stream",
     "text": [
      "(229781, 22)\n"
     ]
    }
   ],
   "source": [
    "# Verificar y eliminar valores faltantes\n",
    "if data_raw.isnull().any().any():\n",
    "    data_raw = data_raw.dropna()\n",
    "\n",
    "# Verificar y eliminar filas duplicadas\n",
    "if data_raw.duplicated().any():\n",
    "    data_raw = data_raw.drop_duplicates()\n",
    "\n",
    "# Renombrar el DataFrame a data para seguir con las instrucciones\n",
    "data = data_raw\n",
    "\n",
    "# Mostrar las dimensiones del DataFrame para verificar\n",
    "print(data.shape)"
   ]
  },
  {
   "cell_type": "code",
   "execution_count": 8,
   "metadata": {
    "deletable": false,
    "editable": false,
    "nbgrader": {
     "cell_type": "code",
     "checksum": "9647e50a7e833e119207cf10bfeea165",
     "grade": true,
     "grade_id": "E21-tests",
     "locked": true,
     "points": 1,
     "schema_version": 3,
     "solution": false,
     "task": false
    }
   },
   "outputs": [],
   "source": [
    "#---------- Celda de Pruebas ----------\n",
    "# La variable 'data' existe\n",
    "# La variable 'data' es un DataFrame\n",
    "# La variable 'data' no contiene valores faltantes\n",
    "# La variable 'data' no contiene filas duplicadas\n",
    "#--------------------------------------"
   ]
  },
  {
   "cell_type": "markdown",
   "metadata": {
    "deletable": false,
    "editable": false,
    "nbgrader": {
     "cell_type": "markdown",
     "checksum": "c0c304d2d144f0a01c310555392a242e",
     "grade": false,
     "grade_id": "cell-fafaf0b4b3fb51e9",
     "locked": true,
     "schema_version": 3,
     "solution": false,
     "task": false
    }
   },
   "source": [
    "### Ejercicio 2.2.\n",
    "\n",
    "Ahora debes dividir el conjunto de datos en entrenamiento y pruebas. Usando el 80% de los datos para entrenar el modelo y el 20% restante para probarlo, utiliza `scikit-learn` para separar el conjunto de datos en dos.\n",
    "\n",
    "* Guarda tu respuesta en dos variables: `train` y `test`. (**Ejemplo: `train, test = <<Función>>`**)\n",
    "* Utiliza el parámetro `random_state=0`. Esto hará que la partición sea siempre la misma.\n",
    "* Encontrarás la línea `train.head()`. Esta línea se usa para que puedas visualizar el resultado del conjunto de entrenamiento. Déjala al final de la celda y no la modifiques.\n",
    "* **Formato esperado de respuesta:** se verificará que tu respuesta sean dos variables de tipo `pd.DataFrame`.\n",
    "    * `train` debe tener dimensiones `(183824,22)`.\n",
    "    * `test` debe tener dimensiones `(45957,22)`."
   ]
  },
  {
   "cell_type": "code",
   "execution_count": 9,
   "metadata": {
    "deletable": false,
    "nbgrader": {
     "cell_type": "code",
     "checksum": "322f0ee77f149e61b96a4f12146390ad",
     "grade": false,
     "grade_id": "E22",
     "locked": false,
     "schema_version": 3,
     "solution": true,
     "task": false
    }
   },
   "outputs": [
    {
     "name": "stdout",
     "output_type": "stream",
     "text": [
      "Dimensiones del conjunto de entrenamiento: (183824, 22)\n",
      "Dimensiones del conjunto de pruebas: (45957, 22)\n"
     ]
    },
    {
     "data": {
      "text/html": [
       "<div>\n",
       "<style scoped>\n",
       "    .dataframe tbody tr th:only-of-type {\n",
       "        vertical-align: middle;\n",
       "    }\n",
       "\n",
       "    .dataframe tbody tr th {\n",
       "        vertical-align: top;\n",
       "    }\n",
       "\n",
       "    .dataframe thead th {\n",
       "        text-align: right;\n",
       "    }\n",
       "</style>\n",
       "<table border=\"1\" class=\"dataframe\">\n",
       "  <thead>\n",
       "    <tr style=\"text-align: right;\">\n",
       "      <th></th>\n",
       "      <th>HeartDiseaseorAttack</th>\n",
       "      <th>HighBP</th>\n",
       "      <th>HighChol</th>\n",
       "      <th>CholCheck</th>\n",
       "      <th>BMI</th>\n",
       "      <th>Smoker</th>\n",
       "      <th>Stroke</th>\n",
       "      <th>Diabetes</th>\n",
       "      <th>PhysActivity</th>\n",
       "      <th>Fruits</th>\n",
       "      <th>...</th>\n",
       "      <th>AnyHealthcare</th>\n",
       "      <th>NoDocbcCost</th>\n",
       "      <th>GenHlth</th>\n",
       "      <th>MentHlth</th>\n",
       "      <th>PhysHlth</th>\n",
       "      <th>DiffWalk</th>\n",
       "      <th>Sex</th>\n",
       "      <th>Age</th>\n",
       "      <th>Education</th>\n",
       "      <th>Income</th>\n",
       "    </tr>\n",
       "  </thead>\n",
       "  <tbody>\n",
       "    <tr>\n",
       "      <th>115369</th>\n",
       "      <td>0.0</td>\n",
       "      <td>0.0</td>\n",
       "      <td>1.0</td>\n",
       "      <td>0.0</td>\n",
       "      <td>24.0</td>\n",
       "      <td>1.0</td>\n",
       "      <td>0.0</td>\n",
       "      <td>0.0</td>\n",
       "      <td>1.0</td>\n",
       "      <td>1.0</td>\n",
       "      <td>...</td>\n",
       "      <td>1.0</td>\n",
       "      <td>0.0</td>\n",
       "      <td>1.0</td>\n",
       "      <td>2.0</td>\n",
       "      <td>0.0</td>\n",
       "      <td>0.0</td>\n",
       "      <td>0.0</td>\n",
       "      <td>6.0</td>\n",
       "      <td>6.0</td>\n",
       "      <td>8.0</td>\n",
       "    </tr>\n",
       "    <tr>\n",
       "      <th>145209</th>\n",
       "      <td>0.0</td>\n",
       "      <td>0.0</td>\n",
       "      <td>0.0</td>\n",
       "      <td>1.0</td>\n",
       "      <td>29.0</td>\n",
       "      <td>1.0</td>\n",
       "      <td>0.0</td>\n",
       "      <td>0.0</td>\n",
       "      <td>1.0</td>\n",
       "      <td>1.0</td>\n",
       "      <td>...</td>\n",
       "      <td>0.0</td>\n",
       "      <td>1.0</td>\n",
       "      <td>3.0</td>\n",
       "      <td>2.0</td>\n",
       "      <td>3.0</td>\n",
       "      <td>0.0</td>\n",
       "      <td>0.0</td>\n",
       "      <td>2.0</td>\n",
       "      <td>5.0</td>\n",
       "      <td>4.0</td>\n",
       "    </tr>\n",
       "    <tr>\n",
       "      <th>241128</th>\n",
       "      <td>0.0</td>\n",
       "      <td>0.0</td>\n",
       "      <td>0.0</td>\n",
       "      <td>1.0</td>\n",
       "      <td>28.0</td>\n",
       "      <td>0.0</td>\n",
       "      <td>0.0</td>\n",
       "      <td>2.0</td>\n",
       "      <td>0.0</td>\n",
       "      <td>1.0</td>\n",
       "      <td>...</td>\n",
       "      <td>1.0</td>\n",
       "      <td>0.0</td>\n",
       "      <td>3.0</td>\n",
       "      <td>0.0</td>\n",
       "      <td>0.0</td>\n",
       "      <td>1.0</td>\n",
       "      <td>1.0</td>\n",
       "      <td>12.0</td>\n",
       "      <td>4.0</td>\n",
       "      <td>4.0</td>\n",
       "    </tr>\n",
       "    <tr>\n",
       "      <th>72372</th>\n",
       "      <td>0.0</td>\n",
       "      <td>1.0</td>\n",
       "      <td>0.0</td>\n",
       "      <td>1.0</td>\n",
       "      <td>32.0</td>\n",
       "      <td>1.0</td>\n",
       "      <td>1.0</td>\n",
       "      <td>0.0</td>\n",
       "      <td>0.0</td>\n",
       "      <td>1.0</td>\n",
       "      <td>...</td>\n",
       "      <td>1.0</td>\n",
       "      <td>0.0</td>\n",
       "      <td>2.0</td>\n",
       "      <td>0.0</td>\n",
       "      <td>0.0</td>\n",
       "      <td>0.0</td>\n",
       "      <td>1.0</td>\n",
       "      <td>10.0</td>\n",
       "      <td>4.0</td>\n",
       "      <td>5.0</td>\n",
       "    </tr>\n",
       "    <tr>\n",
       "      <th>236231</th>\n",
       "      <td>0.0</td>\n",
       "      <td>0.0</td>\n",
       "      <td>1.0</td>\n",
       "      <td>1.0</td>\n",
       "      <td>37.0</td>\n",
       "      <td>0.0</td>\n",
       "      <td>0.0</td>\n",
       "      <td>0.0</td>\n",
       "      <td>0.0</td>\n",
       "      <td>0.0</td>\n",
       "      <td>...</td>\n",
       "      <td>1.0</td>\n",
       "      <td>0.0</td>\n",
       "      <td>3.0</td>\n",
       "      <td>10.0</td>\n",
       "      <td>0.0</td>\n",
       "      <td>0.0</td>\n",
       "      <td>0.0</td>\n",
       "      <td>7.0</td>\n",
       "      <td>6.0</td>\n",
       "      <td>8.0</td>\n",
       "    </tr>\n",
       "  </tbody>\n",
       "</table>\n",
       "<p>5 rows × 22 columns</p>\n",
       "</div>"
      ],
      "text/plain": [
       "        HeartDiseaseorAttack  HighBP  HighChol  CholCheck   BMI  Smoker  \\\n",
       "115369                   0.0     0.0       1.0        0.0  24.0     1.0   \n",
       "145209                   0.0     0.0       0.0        1.0  29.0     1.0   \n",
       "241128                   0.0     0.0       0.0        1.0  28.0     0.0   \n",
       "72372                    0.0     1.0       0.0        1.0  32.0     1.0   \n",
       "236231                   0.0     0.0       1.0        1.0  37.0     0.0   \n",
       "\n",
       "        Stroke  Diabetes  PhysActivity  Fruits  ...  AnyHealthcare  \\\n",
       "115369     0.0       0.0           1.0     1.0  ...            1.0   \n",
       "145209     0.0       0.0           1.0     1.0  ...            0.0   \n",
       "241128     0.0       2.0           0.0     1.0  ...            1.0   \n",
       "72372      1.0       0.0           0.0     1.0  ...            1.0   \n",
       "236231     0.0       0.0           0.0     0.0  ...            1.0   \n",
       "\n",
       "        NoDocbcCost  GenHlth  MentHlth  PhysHlth  DiffWalk  Sex   Age  \\\n",
       "115369          0.0      1.0       2.0       0.0       0.0  0.0   6.0   \n",
       "145209          1.0      3.0       2.0       3.0       0.0  0.0   2.0   \n",
       "241128          0.0      3.0       0.0       0.0       1.0  1.0  12.0   \n",
       "72372           0.0      2.0       0.0       0.0       0.0  1.0  10.0   \n",
       "236231          0.0      3.0      10.0       0.0       0.0  0.0   7.0   \n",
       "\n",
       "        Education  Income  \n",
       "115369        6.0     8.0  \n",
       "145209        5.0     4.0  \n",
       "241128        4.0     4.0  \n",
       "72372         4.0     5.0  \n",
       "236231        6.0     8.0  \n",
       "\n",
       "[5 rows x 22 columns]"
      ]
     },
     "execution_count": 9,
     "metadata": {},
     "output_type": "execute_result"
    }
   ],
   "source": [
    "from sklearn.model_selection import train_test_split\n",
    "\n",
    "# Proporción de división: 80% para entrenamiento, 20% para pruebas\n",
    "proporcion_entrenamiento = 0.8\n",
    "\n",
    "# Dividir los datos en conjuntos de entrenamiento y pruebas\n",
    "train, test = train_test_split(data, test_size=1 - proporcion_entrenamiento, random_state=0)\n",
    "\n",
    "# Mostrar las dimensiones para verificar\n",
    "print(\"Dimensiones del conjunto de entrenamiento:\", train.shape)\n",
    "print(\"Dimensiones del conjunto de pruebas:\", test.shape)\n",
    "\n",
    "# Visualización del conjunto de entrenamiento (según lo solicitado)\n",
    "train.head()"
   ]
  },
  {
   "cell_type": "code",
   "execution_count": 10,
   "metadata": {
    "deletable": false,
    "editable": false,
    "nbgrader": {
     "cell_type": "code",
     "checksum": "f19bf4a6302596a096d43f83946dd0f0",
     "grade": true,
     "grade_id": "E22-tests",
     "locked": true,
     "points": 1,
     "schema_version": 3,
     "solution": false,
     "task": false
    }
   },
   "outputs": [],
   "source": [
    "#---------- Celda de Pruebas ----------\n",
    "# Las variables \"train\" y \"test\" existen\n",
    "# Las variables \"train\" y \"test\" son un DataFrame\n",
    "# Las variables tienen las dimensiones correctas\n",
    "#--------------------------------------"
   ]
  },
  {
   "cell_type": "markdown",
   "metadata": {
    "deletable": false,
    "editable": false,
    "nbgrader": {
     "cell_type": "markdown",
     "checksum": "9f35ab44de5b5d9897214e7aa13f73d4",
     "grade": false,
     "grade_id": "cell-93f7ebd91bb50f30",
     "locked": true,
     "schema_version": 3,
     "solution": false,
     "task": false
    }
   },
   "source": [
    "### Ejercicio 2.3.\n",
    "\n",
    "Ahora debes aislar la variable objetivo, `HeartDiseaseorAttack`, de las variables independientes.\n",
    "\n",
    "* Crea una variable con nombre `x_train` y asígnale la operación necesaria para almacenar solo las variables descriptoras del conjunto de entrenamiento.\n",
    "* Crea una variable con nombre `y_train` y asígnale la operación necesaria para almacenar la variable objetivo del conjunto de entrenamiento.\n",
    "* **Formato esperado de respuesta:** se verificará que tu respuesta sean dos variables. \n",
    "    * `x_train` debe ser de tipo `pd.DataFrame` y tener dimensiones `(183824,21)`.\n",
    "    * `y_train` debe ser de tipo `pd.Series` y tener dimensiones `(183824,)`."
   ]
  },
  {
   "cell_type": "code",
   "execution_count": 11,
   "metadata": {
    "deletable": false,
    "nbgrader": {
     "cell_type": "code",
     "checksum": "dfdf5b393180afa58e8a1ac3cc78285b",
     "grade": false,
     "grade_id": "E23",
     "locked": false,
     "schema_version": 3,
     "solution": true,
     "task": false
    }
   },
   "outputs": [
    {
     "name": "stdout",
     "output_type": "stream",
     "text": [
      "Dimensiones de x_train: (183824, 21)\n",
      "Dimensiones de y_train: (183824,)\n"
     ]
    }
   ],
   "source": [
    "# Crear x_train excluyendo la columna HeartDiseaseorAttack\n",
    "x_train = train.drop('HeartDiseaseorAttack', axis=1)\n",
    "\n",
    "# Crear y_train con solo la columna HeartDiseaseorAttack\n",
    "y_train = train['HeartDiseaseorAttack']\n",
    "\n",
    "# Mostrar las dimensiones para verificar\n",
    "print(\"Dimensiones de x_train:\", x_train.shape)\n",
    "print(\"Dimensiones de y_train:\", y_train.shape)"
   ]
  },
  {
   "cell_type": "code",
   "execution_count": 12,
   "metadata": {
    "deletable": false,
    "editable": false,
    "nbgrader": {
     "cell_type": "code",
     "checksum": "0ad441508d8c94a95ad05366c5b8c781",
     "grade": true,
     "grade_id": "E23-tests",
     "locked": true,
     "points": 1,
     "schema_version": 3,
     "solution": false,
     "task": false
    }
   },
   "outputs": [],
   "source": [
    "#---------- Celda de Pruebas ----------\n",
    "# Las variables \"x_train\" y \"y_train\" existen\n",
    "# La variable \"x_train\" es un DataFrame\n",
    "# La variable \"y_train\" es una Serie de Pandas\n",
    "# Las variables tienen las dimensiones correctas\n",
    "#--------------------------------------"
   ]
  },
  {
   "cell_type": "markdown",
   "metadata": {
    "deletable": false,
    "editable": false,
    "nbgrader": {
     "cell_type": "markdown",
     "checksum": "2629ee8057e11481da333c1991092d1c",
     "grade": false,
     "grade_id": "cell-5e1b6a7a03d4a7ab",
     "locked": true,
     "schema_version": 3,
     "solution": false,
     "task": false
    }
   },
   "source": [
    "### Ejercicio 2.4.\n",
    "\n",
    "El siguiente paso es realizar la estandarización de nuestros datos. Inicialmente, vamos a almacenar los nombres de las columnas del conjunto de entrenamiento en la variable `columns`:"
   ]
  },
  {
   "cell_type": "code",
   "execution_count": 13,
   "metadata": {
    "deletable": false,
    "editable": false,
    "nbgrader": {
     "cell_type": "code",
     "checksum": "879a8468da0c934da224bf4801cc670d",
     "grade": false,
     "grade_id": "cell-8a1cba81fc92aa6f",
     "locked": true,
     "schema_version": 3,
     "solution": false,
     "task": false
    }
   },
   "outputs": [],
   "source": [
    "columns = x_train.columns"
   ]
  },
  {
   "cell_type": "markdown",
   "metadata": {
    "deletable": false,
    "editable": false,
    "nbgrader": {
     "cell_type": "markdown",
     "checksum": "454f29432f549ed3be624468c8539f31",
     "grade": false,
     "grade_id": "cell-2554ff55146244af",
     "locked": true,
     "schema_version": 3,
     "solution": false,
     "task": false
    }
   },
   "source": [
    "Adicionalmente, definiremos un objeto de la clase `StandardScaler()`, que utilizarás para realizar la estandarización:"
   ]
  },
  {
   "cell_type": "code",
   "execution_count": 14,
   "metadata": {
    "deletable": false,
    "editable": false,
    "nbgrader": {
     "cell_type": "code",
     "checksum": "4a8c1a7f4b109fcfe8ff970f7b4396ee",
     "grade": false,
     "grade_id": "cell-a33055edb7298f61",
     "locked": true,
     "schema_version": 3,
     "solution": false,
     "task": false
    }
   },
   "outputs": [],
   "source": [
    "scaler = StandardScaler()"
   ]
  },
  {
   "cell_type": "markdown",
   "metadata": {
    "deletable": false,
    "editable": false,
    "nbgrader": {
     "cell_type": "markdown",
     "checksum": "226a646d81ccddbf030aa64820d979ce",
     "grade": false,
     "grade_id": "cell-f27480bae283c05e",
     "locked": true,
     "schema_version": 3,
     "solution": false,
     "task": false
    }
   },
   "source": [
    "Con las variables definidas, realiza la estandarización de los datos. Modifica el conjunto de variables independientes, `x_train`, con las operaciones necesarias para estandarizarlo. Particularmente, deberás seguir estos pasos:\n",
    "\n",
    "* Utiliza la variable `scaler` para transformar los datos de `x_train`. Asigna el resultado a la misma variable sobreescribiendo su contenido. (**Ejemplo: `x_train = scaler.<<Función>>`**)\n",
    "* Reconstruye el DataFrame de variables independientes utilizando la información almacenada en `columns`. Asigna el resultado a `x_train`. (**Ejemplo: `x_train = <<Función>>`**)\n",
    "* **Formato esperado de respuesta:** se verificará que `x_train` sea un `DataFrame` de Pandas con dimensiones `(183824,21)`. Los valores de `x_train` deben estar modificados por el `scaler`."
   ]
  },
  {
   "cell_type": "code",
   "execution_count": 15,
   "metadata": {
    "deletable": false,
    "nbgrader": {
     "cell_type": "code",
     "checksum": "88e14945fcbd1a2810603fb1e360cdb1",
     "grade": false,
     "grade_id": "E24",
     "locked": false,
     "schema_version": 3,
     "solution": true,
     "task": false
    }
   },
   "outputs": [
    {
     "name": "stdout",
     "output_type": "stream",
     "text": [
      "Dimensiones de x_train después de la estandarización: (183824, 21)\n"
     ]
    }
   ],
   "source": [
    "from sklearn.preprocessing import StandardScaler\n",
    "\n",
    "# Almacenar los nombres de las columnas\n",
    "columns = x_train.columns\n",
    "\n",
    "# Definir el objeto scaler\n",
    "scaler = StandardScaler()\n",
    "\n",
    "# Ajustar y transformar x_train\n",
    "x_train_scaled = scaler.fit_transform(x_train)\n",
    "\n",
    "# Reconstruir el DataFrame con las columnas originales\n",
    "x_train = pd.DataFrame(x_train_scaled, columns=columns)\n",
    "\n",
    "# Mostrar las dimensiones para verificar\n",
    "print(\"Dimensiones de x_train después de la estandarización:\", x_train.shape)"
   ]
  },
  {
   "cell_type": "code",
   "execution_count": 16,
   "metadata": {
    "deletable": false,
    "editable": false,
    "nbgrader": {
     "cell_type": "code",
     "checksum": "cb304ade2e3cb755f652d95030c64cf7",
     "grade": true,
     "grade_id": "E24-tests",
     "locked": true,
     "points": 1,
     "schema_version": 3,
     "solution": false,
     "task": false
    }
   },
   "outputs": [],
   "source": [
    "#---------- Celda de Pruebas ----------\n",
    "# La variable \"x_train\" es un DataFrame\n",
    "# La variable tiene las dimensiones correctas\n",
    "#--------------------------------------"
   ]
  },
  {
   "cell_type": "markdown",
   "metadata": {
    "deletable": false,
    "editable": false,
    "nbgrader": {
     "cell_type": "markdown",
     "checksum": "2b791d6aed787e201a8cc184dc7f5c51",
     "grade": false,
     "grade_id": "cell-74cb0483ef446c95",
     "locked": true,
     "schema_version": 3,
     "solution": false,
     "task": false
    }
   },
   "source": [
    "## 3. Búsqueda de hiperparámetros y entrenamiento del modelo\n",
    "\n",
    "Con el conjunto de datos preparado, es momento de entrenar el modelo de regresión logística. Primero vamos a definir un objeto de la clase `KFold`, con el que definiremos 10 subconjuntos sobre el conjunto de entrenamiento:"
   ]
  },
  {
   "cell_type": "code",
   "execution_count": null,
   "metadata": {
    "deletable": false,
    "editable": false,
    "nbgrader": {
     "cell_type": "code",
     "checksum": "a115d12d250ecce075442eda64074118",
     "grade": false,
     "grade_id": "cell-9d4616dc185ab169",
     "locked": true,
     "schema_version": 3,
     "solution": false,
     "task": false
    }
   },
   "outputs": [],
   "source": [
    "kfold = KFold(n_splits=10, shuffle=True, random_state = 0)"
   ]
  },
  {
   "cell_type": "markdown",
   "metadata": {
    "deletable": false,
    "editable": false,
    "nbgrader": {
     "cell_type": "markdown",
     "checksum": "221e2ee8edbe750fd3c36f279ad70797",
     "grade": false,
     "grade_id": "cell-77ac0016203f92e5",
     "locked": true,
     "schema_version": 3,
     "solution": false,
     "task": false
    }
   },
   "source": [
    "También definiremos el objeto de regresión logística:"
   ]
  },
  {
   "cell_type": "code",
   "execution_count": null,
   "metadata": {
    "deletable": false,
    "editable": false,
    "nbgrader": {
     "cell_type": "code",
     "checksum": "854a7c7adfe66443e784113eba9e7bf7",
     "grade": false,
     "grade_id": "cell-cb51d4d267650652",
     "locked": true,
     "schema_version": 3,
     "solution": false,
     "task": false
    }
   },
   "outputs": [],
   "source": [
    "reglog = LogisticRegression()"
   ]
  },
  {
   "cell_type": "markdown",
   "metadata": {
    "deletable": false,
    "editable": false,
    "nbgrader": {
     "cell_type": "markdown",
     "checksum": "0951929b821500b68a7d68c3229e0b89",
     "grade": false,
     "grade_id": "cell-7735bb48097f96c4",
     "locked": true,
     "schema_version": 3,
     "solution": false,
     "task": false
    }
   },
   "source": [
    "### Ejercicio 3.1.\n",
    "\n",
    "El siguiente paso es definir el espacio de búsqueda de los hiperparámetros.\n",
    "\n",
    "* Define una variable con el nombre `param_grid` y asígnale la expresión necesaria para crear un diccionario con dos tuplas (**Ejemplo: `param_grid = <<Expresión>>`**):\n",
    "    * Llave `C` y valor `valores_C`.\n",
    "    * Llave `solver` y valor `valores_solver`.\n",
    "* **Formato esperado de respuesta:** se verificará que `param_grid` sea un diccionario (`dict`) de Python con dos posiciones. Las tuplas deben tener las llaves descritas anteriormente y sus valores deben ser iguales a las variables definidas (`valores_C` y `valores_solver`), en ese orden."
   ]
  },
  {
   "cell_type": "code",
   "execution_count": 17,
   "metadata": {
    "deletable": false,
    "nbgrader": {
     "cell_type": "code",
     "checksum": "d53886622e293bc52e32ecef2b888126",
     "grade": false,
     "grade_id": "E31",
     "locked": false,
     "schema_version": 3,
     "solution": true,
     "task": false
    }
   },
   "outputs": [],
   "source": [
    "valores_C = [0.1, 0.5]\n",
    "valores_solver = ['newton-cg', 'liblinear']\n",
    "\n",
    "param_grid = {\n",
    "    'C': valores_C,\n",
    "    'solver': valores_solver\n",
    "}"
   ]
  },
  {
   "cell_type": "code",
   "execution_count": 18,
   "metadata": {
    "deletable": false,
    "editable": false,
    "nbgrader": {
     "cell_type": "code",
     "checksum": "e07436578124249f5428372895f067b7",
     "grade": true,
     "grade_id": "E31-tests",
     "locked": true,
     "points": 1,
     "schema_version": 3,
     "solution": false,
     "task": false
    }
   },
   "outputs": [],
   "source": [
    "#---------- Celda de Pruebas ----------\n",
    "# La variable \"param_grid\" existe\n",
    "# La variable \"param_grid\" es un diccionario\n",
    "# La variable tiene la longitud correcta\n",
    "#--------------------------------------"
   ]
  },
  {
   "cell_type": "markdown",
   "metadata": {
    "deletable": false,
    "editable": false,
    "nbgrader": {
     "cell_type": "markdown",
     "checksum": "eb707c56fb43dca3665ad692373c6d21",
     "grade": false,
     "grade_id": "cell-432fe9dabac6b445",
     "locked": true,
     "schema_version": 3,
     "solution": false,
     "task": false
    }
   },
   "source": [
    "### Ejercicio 3.2.\n",
    "\n",
    "Finalmente, debes crear el objeto de tipo `GridSearchCV` para realizar la búsqueda. Utiliza las variables `reglog`, `param_grid` y `kfold` para definirlo:\n",
    "\n",
    "* Define una variable con el nombre `grid` y asígnale la función necesaria para crear un objeto de la clase `GridSearchCV`. (**Ejemplo: `grid = <<Función>>`**)\n",
    "* Utiliza el parámetro `scoring='accuracy'` para que se seleccione el mejor modelo de acuerdo con los valores de exactitud.\n",
    "* Si quieres, puedes utilizar el parámetro `verbose=3` para que cada paso de la búsqueda se muestre en consola.\n",
    "* **Formato esperado de respuesta:** se verificará que `grid` sea de tipo `GridSearchCV`. El atributo `scoring` debe ser `'accuracy'` para que tu respuesta sea correcta."
   ]
  },
  {
   "cell_type": "code",
   "execution_count": 20,
   "metadata": {
    "deletable": false,
    "nbgrader": {
     "cell_type": "code",
     "checksum": "334c5e0067a5868725b22e9953edf1ec",
     "grade": false,
     "grade_id": "E32",
     "locked": false,
     "schema_version": 3,
     "solution": true,
     "task": false
    }
   },
   "outputs": [],
   "source": [
    "from sklearn.linear_model import LogisticRegression\n",
    "from sklearn.model_selection import GridSearchCV, KFold\n",
    "\n",
    "# Definir el modelo de regresión logística\n",
    "reglog = LogisticRegression()\n",
    "\n",
    "# Definir el espacio de búsqueda de hiperparámetros\n",
    "valores_C = [0.1, 0.5]\n",
    "valores_solver = ['newton-cg', 'liblinear']\n",
    "param_grid = {\n",
    "    'C': valores_C,\n",
    "    'solver': valores_solver\n",
    "}\n",
    "\n",
    "# Definir el método de validación cruzada\n",
    "kfold = KFold(n_splits=10, shuffle=True, random_state=0)\n",
    "\n",
    "# Crear el objeto GridSearchCV\n",
    "grid = GridSearchCV(estimator=reglog, param_grid=param_grid, cv=kfold, scoring='accuracy', verbose=3)\n",
    "\n",
    "# Nota: Ahora puedes proceder con la búsqueda de hiperparámetros utilizando grid.fit(x_train, y_train), etc."
   ]
  },
  {
   "cell_type": "code",
   "execution_count": 21,
   "metadata": {
    "deletable": false,
    "editable": false,
    "nbgrader": {
     "cell_type": "code",
     "checksum": "b88791dcb642c4f6edbf297bf4c04b22",
     "grade": true,
     "grade_id": "E32-tests",
     "locked": true,
     "points": 1,
     "schema_version": 3,
     "solution": false,
     "task": false
    }
   },
   "outputs": [],
   "source": [
    "#---------- Celda de Pruebas ----------\n",
    "# La variable \"grid\" existe\n",
    "# La variable \"grid\" es un objeto de la clase GridSearchCV\n",
    "# La variable \"grid\" usa la exactitud como método de selección\n",
    "#--------------------------------------"
   ]
  },
  {
   "cell_type": "markdown",
   "metadata": {
    "deletable": false,
    "editable": false,
    "nbgrader": {
     "cell_type": "markdown",
     "checksum": "16853d1e3b5d0816923012eef7110253",
     "grade": false,
     "grade_id": "cell-20c9aa3f36f295a5",
     "locked": true,
     "schema_version": 3,
     "solution": false,
     "task": false
    }
   },
   "source": [
    "### Ejercicio 3.3.\n",
    "\n",
    "A continuación, realiza la búsqueda de hiperparámetros utilizando el conjunto de entrenamiento, compuesto por las variables `x_train` y `y_train`.\n",
    "\n",
    "* Para este ejercicio no debes asignar tu resultado a ninguna variable. Es decir, solo debes ejecutar una función sobre la variable `grid`, utilizando las variables `x_train` y `y_train` como parámetros. (**Ejemplo: `grid.<<Función>>`**)\n",
    "* **Formato esperado de respuesta:** se verificará que el objeto `grid` tenga definidos los atributos `best_params_` y `best_estimator_`.\n",
    "    * `grid.best_params_` debe ser **exactamente igual** a 2.\n",
    "    * `grid.best_estimator_` debe ser de tipo `LogisticRegression`."
   ]
  },
  {
   "cell_type": "code",
   "execution_count": 22,
   "metadata": {
    "deletable": false,
    "nbgrader": {
     "cell_type": "code",
     "checksum": "432e6bbc6e7be336f7583ec401a5d012",
     "grade": false,
     "grade_id": "E33",
     "locked": false,
     "schema_version": 3,
     "solution": true,
     "task": false
    }
   },
   "outputs": [
    {
     "name": "stdout",
     "output_type": "stream",
     "text": [
      "Fitting 10 folds for each of 4 candidates, totalling 40 fits\n",
      "[CV] C=0.1, solver=newton-cg .........................................\n"
     ]
    },
    {
     "name": "stderr",
     "output_type": "stream",
     "text": [
      "[Parallel(n_jobs=1)]: Using backend SequentialBackend with 1 concurrent workers.\n"
     ]
    },
    {
     "name": "stdout",
     "output_type": "stream",
     "text": [
      "[CV] ............. C=0.1, solver=newton-cg, score=0.898, total=  12.3s\n",
      "[CV] C=0.1, solver=newton-cg .........................................\n"
     ]
    },
    {
     "name": "stderr",
     "output_type": "stream",
     "text": [
      "[Parallel(n_jobs=1)]: Done   1 out of   1 | elapsed:   12.3s remaining:    0.0s\n"
     ]
    },
    {
     "name": "stdout",
     "output_type": "stream",
     "text": [
      "[CV] ............. C=0.1, solver=newton-cg, score=0.901, total=  12.3s\n",
      "[CV] C=0.1, solver=newton-cg .........................................\n"
     ]
    },
    {
     "name": "stderr",
     "output_type": "stream",
     "text": [
      "[Parallel(n_jobs=1)]: Done   2 out of   2 | elapsed:   24.7s remaining:    0.0s\n"
     ]
    },
    {
     "name": "stdout",
     "output_type": "stream",
     "text": [
      "[CV] ............. C=0.1, solver=newton-cg, score=0.896, total=  11.8s\n",
      "[CV] C=0.1, solver=newton-cg .........................................\n",
      "[CV] ............. C=0.1, solver=newton-cg, score=0.902, total=  11.6s\n",
      "[CV] C=0.1, solver=newton-cg .........................................\n",
      "[CV] ............. C=0.1, solver=newton-cg, score=0.901, total=  12.7s\n",
      "[CV] C=0.1, solver=newton-cg .........................................\n",
      "[CV] ............. C=0.1, solver=newton-cg, score=0.899, total=  14.1s\n",
      "[CV] C=0.1, solver=newton-cg .........................................\n",
      "[CV] ............. C=0.1, solver=newton-cg, score=0.898, total=  12.2s\n",
      "[CV] C=0.1, solver=newton-cg .........................................\n",
      "[CV] ............. C=0.1, solver=newton-cg, score=0.899, total=  12.6s\n",
      "[CV] C=0.1, solver=newton-cg .........................................\n",
      "[CV] ............. C=0.1, solver=newton-cg, score=0.903, total=  12.0s\n",
      "[CV] C=0.1, solver=newton-cg .........................................\n",
      "[CV] ............. C=0.1, solver=newton-cg, score=0.897, total=  15.8s\n",
      "[CV] C=0.1, solver=liblinear .........................................\n",
      "[CV] ............. C=0.1, solver=liblinear, score=0.898, total=   0.9s\n",
      "[CV] C=0.1, solver=liblinear .........................................\n",
      "[CV] ............. C=0.1, solver=liblinear, score=0.901, total=   0.9s\n",
      "[CV] C=0.1, solver=liblinear .........................................\n",
      "[CV] ............. C=0.1, solver=liblinear, score=0.896, total=   0.9s\n",
      "[CV] C=0.1, solver=liblinear .........................................\n",
      "[CV] ............. C=0.1, solver=liblinear, score=0.902, total=   0.9s\n",
      "[CV] C=0.1, solver=liblinear .........................................\n",
      "[CV] ............. C=0.1, solver=liblinear, score=0.901, total=   0.9s\n",
      "[CV] C=0.1, solver=liblinear .........................................\n",
      "[CV] ............. C=0.1, solver=liblinear, score=0.899, total=   0.8s\n",
      "[CV] C=0.1, solver=liblinear .........................................\n",
      "[CV] ............. C=0.1, solver=liblinear, score=0.898, total=   0.8s\n",
      "[CV] C=0.1, solver=liblinear .........................................\n",
      "[CV] ............. C=0.1, solver=liblinear, score=0.899, total=   0.8s\n",
      "[CV] C=0.1, solver=liblinear .........................................\n",
      "[CV] ............. C=0.1, solver=liblinear, score=0.903, total=   1.0s\n",
      "[CV] C=0.1, solver=liblinear .........................................\n",
      "[CV] ............. C=0.1, solver=liblinear, score=0.897, total=   0.8s\n",
      "[CV] C=0.5, solver=newton-cg .........................................\n",
      "[CV] ............. C=0.5, solver=newton-cg, score=0.898, total=  12.2s\n",
      "[CV] C=0.5, solver=newton-cg .........................................\n",
      "[CV] ............. C=0.5, solver=newton-cg, score=0.901, total=  12.6s\n",
      "[CV] C=0.5, solver=newton-cg .........................................\n",
      "[CV] ............. C=0.5, solver=newton-cg, score=0.896, total=  12.0s\n",
      "[CV] C=0.5, solver=newton-cg .........................................\n",
      "[CV] ............. C=0.5, solver=newton-cg, score=0.901, total=  12.1s\n",
      "[CV] C=0.5, solver=newton-cg .........................................\n",
      "[CV] ............. C=0.5, solver=newton-cg, score=0.901, total=  14.2s\n",
      "[CV] C=0.5, solver=newton-cg .........................................\n",
      "[CV] ............. C=0.5, solver=newton-cg, score=0.899, total=  12.5s\n",
      "[CV] C=0.5, solver=newton-cg .........................................\n",
      "[CV] ............. C=0.5, solver=newton-cg, score=0.898, total=  12.2s\n",
      "[CV] C=0.5, solver=newton-cg .........................................\n",
      "[CV] ............. C=0.5, solver=newton-cg, score=0.900, total=  12.6s\n",
      "[CV] C=0.5, solver=newton-cg .........................................\n",
      "[CV] ............. C=0.5, solver=newton-cg, score=0.903, total=  12.8s\n",
      "[CV] C=0.5, solver=newton-cg .........................................\n",
      "[CV] ............. C=0.5, solver=newton-cg, score=0.897, total=  13.6s\n",
      "[CV] C=0.5, solver=liblinear .........................................\n",
      "[CV] ............. C=0.5, solver=liblinear, score=0.898, total=   0.9s\n",
      "[CV] C=0.5, solver=liblinear .........................................\n",
      "[CV] ............. C=0.5, solver=liblinear, score=0.901, total=   1.0s\n",
      "[CV] C=0.5, solver=liblinear .........................................\n",
      "[CV] ............. C=0.5, solver=liblinear, score=0.896, total=   0.8s\n",
      "[CV] C=0.5, solver=liblinear .........................................\n",
      "[CV] ............. C=0.5, solver=liblinear, score=0.902, total=   0.8s\n",
      "[CV] C=0.5, solver=liblinear .........................................\n",
      "[CV] ............. C=0.5, solver=liblinear, score=0.901, total=   0.9s\n",
      "[CV] C=0.5, solver=liblinear .........................................\n",
      "[CV] ............. C=0.5, solver=liblinear, score=0.899, total=   0.9s\n",
      "[CV] C=0.5, solver=liblinear .........................................\n",
      "[CV] ............. C=0.5, solver=liblinear, score=0.898, total=   0.7s\n",
      "[CV] C=0.5, solver=liblinear .........................................\n",
      "[CV] ............. C=0.5, solver=liblinear, score=0.899, total=   0.9s\n",
      "[CV] C=0.5, solver=liblinear .........................................\n",
      "[CV] ............. C=0.5, solver=liblinear, score=0.903, total=   0.9s\n",
      "[CV] C=0.5, solver=liblinear .........................................\n",
      "[CV] ............. C=0.5, solver=liblinear, score=0.897, total=   0.9s\n"
     ]
    },
    {
     "name": "stderr",
     "output_type": "stream",
     "text": [
      "[Parallel(n_jobs=1)]: Done  40 out of  40 | elapsed:  4.6min finished\n"
     ]
    },
    {
     "data": {
      "text/plain": [
       "GridSearchCV(cv=KFold(n_splits=10, random_state=0, shuffle=True),\n",
       "             error_score=nan,\n",
       "             estimator=LogisticRegression(C=1.0, class_weight=None, dual=False,\n",
       "                                          fit_intercept=True,\n",
       "                                          intercept_scaling=1, l1_ratio=None,\n",
       "                                          max_iter=100, multi_class='auto',\n",
       "                                          n_jobs=None, penalty='l2',\n",
       "                                          random_state=None, solver='lbfgs',\n",
       "                                          tol=0.0001, verbose=0,\n",
       "                                          warm_start=False),\n",
       "             iid='deprecated', n_jobs=None,\n",
       "             param_grid={'C': [0.1, 0.5], 'solver': ['newton-cg', 'liblinear']},\n",
       "             pre_dispatch='2*n_jobs', refit=True, return_train_score=False,\n",
       "             scoring='accuracy', verbose=3)"
      ]
     },
     "execution_count": 22,
     "metadata": {},
     "output_type": "execute_result"
    }
   ],
   "source": [
    "# Realizar la búsqueda de hiperparámetros utilizando GridSearchCV\n",
    "grid.fit(x_train, y_train)"
   ]
  },
  {
   "cell_type": "code",
   "execution_count": 26,
   "metadata": {
    "deletable": false,
    "editable": false,
    "nbgrader": {
     "cell_type": "code",
     "checksum": "181e6daba312f86f54ffa95aa396bd6c",
     "grade": true,
     "grade_id": "E33-tests",
     "locked": true,
     "points": 1,
     "schema_version": 3,
     "solution": false,
     "task": false
    }
   },
   "outputs": [],
   "source": [
    "#---------- Celda de Pruebas ----------\n",
    "# El atributo \"best_params_\" de la variable \"grid\" existe\n",
    "# El atributo \"best_estimator_\" de la variable \"grid\" existe\n",
    "#--------------------------------------"
   ]
  },
  {
   "cell_type": "markdown",
   "metadata": {
    "deletable": false,
    "editable": false,
    "nbgrader": {
     "cell_type": "markdown",
     "checksum": "fb247f57768eb33e08b8534e1418682b",
     "grade": false,
     "grade_id": "cell-c0c452a48027cae0",
     "locked": true,
     "schema_version": 3,
     "solution": false,
     "task": false
    }
   },
   "source": [
    "Podemos observar los mejores hiperparámetros usando el atributo `best_params_`:"
   ]
  },
  {
   "cell_type": "code",
   "execution_count": 27,
   "metadata": {
    "deletable": false,
    "editable": false,
    "nbgrader": {
     "cell_type": "code",
     "checksum": "ab410480db2bb1ef5554920b60df647b",
     "grade": false,
     "grade_id": "cell-2c688fab8b0d6fa4",
     "locked": true,
     "schema_version": 3,
     "solution": false,
     "task": false
    }
   },
   "outputs": [
    {
     "name": "stdout",
     "output_type": "stream",
     "text": [
      "Mejores parámetros:  {'C': 0.1, 'solver': 'liblinear'}\n"
     ]
    }
   ],
   "source": [
    "print(\"Mejores parámetros: \", grid.best_params_)"
   ]
  },
  {
   "cell_type": "markdown",
   "metadata": {
    "deletable": false,
    "editable": false,
    "nbgrader": {
     "cell_type": "markdown",
     "checksum": "f8bb031d4ddfce6a461e923cac27b0e5",
     "grade": false,
     "grade_id": "cell-c8b9bceefed21a4b",
     "locked": true,
     "schema_version": 3,
     "solution": false,
     "task": false
    }
   },
   "source": [
    "Además, vamos a definir la variable `mejor_modelo` para realizar las pruebas:"
   ]
  },
  {
   "cell_type": "code",
   "execution_count": 28,
   "metadata": {
    "deletable": false,
    "editable": false,
    "nbgrader": {
     "cell_type": "code",
     "checksum": "8b5f67aab3e12bd1ebbf4cf0c53d5a6e",
     "grade": false,
     "grade_id": "cell-d76efe36f1965fc3",
     "locked": true,
     "schema_version": 3,
     "solution": false,
     "task": false
    }
   },
   "outputs": [],
   "source": [
    "mejor_modelo = grid.best_estimator_"
   ]
  },
  {
   "cell_type": "markdown",
   "metadata": {
    "deletable": false,
    "editable": false,
    "nbgrader": {
     "cell_type": "markdown",
     "checksum": "06d9c32e008fef3a38048a77d58e6285",
     "grade": false,
     "grade_id": "cell-1be6b52a44455d15",
     "locked": true,
     "schema_version": 3,
     "solution": false,
     "task": false
    }
   },
   "source": [
    "## 4. Evaluación del modelo\n",
    "\n",
    "Por último, evaluarás el modelo entrenado utilizando el conjunto de pruebas.\n",
    "\n",
    "### Ejercicio 4.1.\n",
    "\n",
    "Separa las variables independientes y la variable objetivo en el conjunto de pruebas. Para ello, utiliza Pandas para crear dos variables, `x_test` y `y_test`, que almacenarán las variables independientes y la variable objetivo, respectivamente.\n",
    "\n",
    "* Crea una variable con nombre `x_test` y asígnale la operación necesaria para almacenar solo las variables independientes del conjunto de pruebas. (**Ejemplo: `x_test = test.<<Función>>`**)\n",
    "* Crea una variable con nombre `y_test` y asígnale la operación necesaria para almacenar la variable objetivo del conjunto de pruebas. (**Ejemplo: `y_test = <<Consulta>>`**)\n",
    "* **Formato esperado de respuesta:** se verificará que tu respuesta sean dos variables. \n",
    "    * `x_test` debe ser de tipo `pd.DataFrame` y tener dimensiones `(45957,21)`.\n",
    "    * `y_test` debe ser de tipo `pd.Series` y tener dimensiones `(45957,)`."
   ]
  },
  {
   "cell_type": "code",
   "execution_count": 29,
   "metadata": {
    "deletable": false,
    "nbgrader": {
     "cell_type": "code",
     "checksum": "0e7fcda78ad34849ea4cfd21c22c043f",
     "grade": false,
     "grade_id": "E41",
     "locked": false,
     "schema_version": 3,
     "solution": true,
     "task": false
    }
   },
   "outputs": [],
   "source": [
    "# Crear x_test excluyendo la columna HeartDiseaseorAttack\n",
    "x_test = test.drop('HeartDiseaseorAttack', axis=1)\n",
    "\n",
    "# Crear y_test con solo la columna HeartDiseaseorAttack\n",
    "y_test = test['HeartDiseaseorAttack']"
   ]
  },
  {
   "cell_type": "code",
   "execution_count": null,
   "metadata": {
    "deletable": false,
    "editable": false,
    "nbgrader": {
     "cell_type": "code",
     "checksum": "40ddd8c68773c7f7e77a78ac0d93d85b",
     "grade": true,
     "grade_id": "E41-tests",
     "locked": true,
     "points": 1,
     "schema_version": 3,
     "solution": false,
     "task": false
    }
   },
   "outputs": [],
   "source": [
    "#---------- Celda de Pruebas ----------\n",
    "# Las variables existen\n",
    "# La variable \"x_test\" es un DataFrame\n",
    "# La variable \"y_test\" es una Serie de Pandas\n",
    "# Las variables tienen las dimensiones correctas\n",
    "#--------------------------------------"
   ]
  },
  {
   "cell_type": "markdown",
   "metadata": {
    "deletable": false,
    "editable": false,
    "nbgrader": {
     "cell_type": "markdown",
     "checksum": "af6e3d95492b1ad7dd77195bf2bba1cc",
     "grade": false,
     "grade_id": "cell-1049dc61a5e5b121",
     "locked": true,
     "schema_version": 3,
     "solution": false,
     "task": false
    }
   },
   "source": [
    "### Ejercicio 4.2.\n",
    "\n",
    "Realiza la estandarización de los datos del conjunto de pruebas. Modifica el conjunto de variables independientes, `x_test`, con las operaciones necesarias para estandarizarlo. Particularmente, deberás seguir estos pasos:\n",
    "\n",
    "* Utiliza la variable `scaler` para transformar los datos de `x_test` **utilizando solamente la información del conjunto de entrenamiento**. Asigna el resultado a la misma variable, sobreescribiendo su contenido. (**Ejemplo: `x_test = scaler.<<Función>>`**)\n",
    "* Reconstruye el DataFrame de variables independientes utilizando la información almacenada en `columns`. Asigna el resultado a `x_test`. (**Ejemplo: `x_test = <<Función>>`**)\n",
    "* **Formato esperado de respuesta:** se verificará que `x_test` sea un `DataFrame` de Pandas con dimensiones `(45957,21)`. Los valores de `x_test` deben estar modificados por el `scaler`."
   ]
  },
  {
   "cell_type": "code",
   "execution_count": 30,
   "metadata": {
    "deletable": false,
    "nbgrader": {
     "cell_type": "code",
     "checksum": "8207d8c364c4c9c4112412066124625b",
     "grade": false,
     "grade_id": "E42",
     "locked": false,
     "schema_version": 3,
     "solution": true,
     "task": false
    }
   },
   "outputs": [],
   "source": [
    "# Transformar x_test utilizando el scaler ajustado con x_train\n",
    "x_test_scaled = scaler.transform(x_test)\n",
    "\n",
    "# Reconstruir el DataFrame con las columnas originales\n",
    "x_test = pd.DataFrame(x_test_scaled, columns=columns)"
   ]
  },
  {
   "cell_type": "code",
   "execution_count": 31,
   "metadata": {
    "deletable": false,
    "editable": false,
    "nbgrader": {
     "cell_type": "code",
     "checksum": "f1d51d70027954eee333ef8c783a3c6b",
     "grade": true,
     "grade_id": "E42-tests",
     "locked": true,
     "points": 1,
     "schema_version": 3,
     "solution": false,
     "task": false
    }
   },
   "outputs": [],
   "source": [
    "#---------- Celda de Pruebas ----------\n",
    "# La variable \"x_test\" es un DataFrame\n",
    "# La variable tiene las dimensiones correctas\n",
    "#--------------------------------------"
   ]
  },
  {
   "cell_type": "markdown",
   "metadata": {
    "deletable": false,
    "editable": false,
    "nbgrader": {
     "cell_type": "markdown",
     "checksum": "3732c75f1af49b3d0b7630ceaafe686b",
     "grade": false,
     "grade_id": "cell-44c22b5df843dcae",
     "locked": true,
     "schema_version": 3,
     "solution": false,
     "task": false
    }
   },
   "source": [
    "### Ejercicio 4.3.\n",
    "\n",
    "Con el conjunto de pruebas preparado, realiza predicciones con el fin de compararlas con los valores reales almacenados en `y_test`.\n",
    "\n",
    "* Utiliza la variable `mejor_modelo` para realizar las predicciones sobre el mejor modelo. Asigna el resultado a una variable con nombre `y_pred` (**Ejemplo: `y_pred = mejor_modelo.<<Función>>`**).\n",
    "* **Formato esperado de respuesta:** se verificará que `y_pred` sea de tipo `np.ndarray` y tenga dimensiones `(45957,)`."
   ]
  },
  {
   "cell_type": "code",
   "execution_count": 32,
   "metadata": {
    "deletable": false,
    "nbgrader": {
     "cell_type": "code",
     "checksum": "5016521a46eb504f3b97ab980501d1f4",
     "grade": false,
     "grade_id": "E43",
     "locked": false,
     "schema_version": 3,
     "solution": true,
     "task": false
    }
   },
   "outputs": [],
   "source": [
    "# Obtener el mejor modelo del objeto grid\n",
    "mejor_modelo = grid.best_estimator_\n",
    "\n",
    "# Realizar predicciones sobre el conjunto de pruebas\n",
    "y_pred = mejor_modelo.predict(x_test)"
   ]
  },
  {
   "cell_type": "code",
   "execution_count": 33,
   "metadata": {
    "deletable": false,
    "editable": false,
    "nbgrader": {
     "cell_type": "code",
     "checksum": "f7190bbe24cbd3a592daff360b39a4c8",
     "grade": true,
     "grade_id": "E43-tests",
     "locked": true,
     "points": 1,
     "schema_version": 3,
     "solution": false,
     "task": false
    }
   },
   "outputs": [],
   "source": [
    "#---------- Celda de Pruebas ----------\n",
    "# La variable \"y_pred\" existe\n",
    "# La variable \"y_pred\" es un arreglo\n",
    "# La variable \"y_pred\" tiene las dimensiones correctas\n",
    "#--------------------------------------"
   ]
  },
  {
   "cell_type": "markdown",
   "metadata": {
    "deletable": false,
    "editable": false,
    "nbgrader": {
     "cell_type": "markdown",
     "checksum": "3b6c48502ad02d07d6c52b3e7543fe9c",
     "grade": false,
     "grade_id": "cell-3f9824e3ca81ec7e",
     "locked": true,
     "schema_version": 3,
     "solution": false,
     "task": false
    }
   },
   "source": [
    "### Ejercicio 4.4.\n",
    "\n",
    "Utiliza el conjunto de predicciones `y_pred` y el conjunto de valores reales `y_test` para obtener la matriz de confusión del mejor modelo.\n",
    "\n",
    "* Haz un llamado a la función que retorna la matriz de confusión como un arreglo. Asigna el resultado a una nueva variable con el nombre `p44` (**Ejemplo: `p44 = <<Función>>`**).\n",
    "* Encontrarás la línea `p44` al final de la celda. Esta línea se usa para que puedas visualizar la matriz resultante, por lo que no la debes modificar.\n",
    "* **Formato esperado de respuesta:** se verificará que `p44` sea de tipo `np.ndarray` y tenga dimensiones `(2,2)`.\n",
    "    * El número de verdaderos negativos debe estar entre 40000 y 41000.\n",
    "    * El número de verdaderos positivos debe estar entre 550 y 650.\n",
    "    * El número de falsos negativos debe estar entre 450 y 550.\n",
    "    * El número de falsos positivos debe estar entre 4000 y 4500."
   ]
  },
  {
   "cell_type": "code",
   "execution_count": 34,
   "metadata": {
    "deletable": false,
    "nbgrader": {
     "cell_type": "code",
     "checksum": "cc2c9c3ab0289fc4bf42fb8b1332f647",
     "grade": false,
     "grade_id": "E44",
     "locked": false,
     "schema_version": 3,
     "solution": true,
     "task": false
    }
   },
   "outputs": [],
   "source": [
    "from sklearn.metrics import confusion_matrix\n",
    "\n",
    "# Obtener la matriz de confusión\n",
    "p44 = confusion_matrix(y_test, y_pred)"
   ]
  },
  {
   "cell_type": "code",
   "execution_count": 35,
   "metadata": {
    "deletable": false,
    "editable": false,
    "nbgrader": {
     "cell_type": "code",
     "checksum": "2f6c51bb923c6a225780dd518c2f639b",
     "grade": true,
     "grade_id": "E44-tests",
     "locked": true,
     "points": 1,
     "schema_version": 3,
     "solution": false,
     "task": false
    }
   },
   "outputs": [],
   "source": [
    "#---------- Celda de Pruebas ----------\n",
    "# La variable \"p44\" existe\n",
    "# La variable \"p44\" es un arreglo de numpy\n",
    "# La variable \"p44\" tiene las dimensiones correctas\n",
    "#--------------------------------------"
   ]
  },
  {
   "cell_type": "markdown",
   "metadata": {
    "deletable": false,
    "editable": false,
    "nbgrader": {
     "cell_type": "markdown",
     "checksum": "796e47968ed5206232ef7cc5cb19779f",
     "grade": false,
     "grade_id": "cell-be22f39fdda45b38",
     "locked": true,
     "schema_version": 3,
     "solution": false,
     "task": false
    }
   },
   "source": [
    "### Ejercicio 4.5.\n",
    "\n",
    "Finalmente, utiliza `scikit-learn` para obtener cuatro métricas de rendimiento sobre las predicciones del modelo:\n",
    "\n",
    "* Define una variable con el nombre `accuracy` y asígnale la función necesaria para obtener la exactitud (`accuracy = <<Función>>`).\n",
    "* Define una variable con el nombre `recall` y asígnale la función necesaria para obtener la sensibilidad (`recall = <<Función>>`).\n",
    "* Define una variable con el nombre `precision` y asígnale la función necesaria para obtener la precisión (`precision = <<Función>>`).\n",
    "* Define una variable con el nombre `f1_score` y asígnale la función necesaria para obtener el F1-Score (`f1_score = <<Función>>`).\n",
    "* **Formato esperado de respuesta:** se verificará que las cuatro variables sean de tipo `np.float64` o de tipo `float` de Python. Todas las métricas deben estar entre 0 y 1."
   ]
  },
  {
   "cell_type": "code",
   "execution_count": 36,
   "metadata": {
    "deletable": false,
    "nbgrader": {
     "cell_type": "code",
     "checksum": "96f2b369098a3325eda36b9acb63cbf5",
     "grade": false,
     "grade_id": "E45",
     "locked": false,
     "schema_version": 3,
     "solution": true,
     "task": false
    }
   },
   "outputs": [
    {
     "name": "stdout",
     "output_type": "stream",
     "text": [
      "----------Regresión logística----------\n",
      "Exactitud:  0.8962726026503035\n",
      "Sensibilidad:  0.1236880016464293\n",
      "Precisión:  0.5414414414414415\n",
      "F1-Score:  0.20137376444965654\n"
     ]
    }
   ],
   "source": [
    "from sklearn.metrics import accuracy_score, recall_score, precision_score, f1_score\n",
    "\n",
    "# Calcular la exactitud (accuracy)\n",
    "accuracy = accuracy_score(y_test, y_pred)\n",
    "\n",
    "# Calcular la sensibilidad (recall)\n",
    "recall = recall_score(y_test, y_pred)\n",
    "\n",
    "# Calcular la precisión (precision)\n",
    "precision = precision_score(y_test, y_pred)\n",
    "\n",
    "# Calcular el F1-Score\n",
    "f1_score = f1_score(y_test, y_pred)\n",
    "\n",
    "print('-'*10+\"Regresión logística\"+'-'*10)\n",
    "print(\"Exactitud: \", accuracy)\n",
    "print(\"Sensibilidad: \", recall)\n",
    "print('Precisión: ', precision)\n",
    "print('F1-Score: ', f1_score)"
   ]
  },
  {
   "cell_type": "code",
   "execution_count": 37,
   "metadata": {
    "deletable": false,
    "editable": false,
    "nbgrader": {
     "cell_type": "code",
     "checksum": "66b30eadafbafff435d4e82123e9a943",
     "grade": true,
     "grade_id": "E45-tests",
     "locked": true,
     "points": 1,
     "schema_version": 3,
     "solution": false,
     "task": false
    }
   },
   "outputs": [],
   "source": [
    "#---------- Celda de Pruebas ----------\n",
    "# Las variables \"accuracy\", \"recall\", \"precision\" y \"f1_score\" existen\n",
    "# Las variables son números\n",
    "# Las variables tienen valores válidos\n",
    "#--------------------------------------"
   ]
  }
 ],
 "metadata": {
  "kernelspec": {
   "display_name": "Python 3",
   "language": "python",
   "name": "python3"
  },
  "language_info": {
   "codemirror_mode": {
    "name": "ipython",
    "version": 3
   },
   "file_extension": ".py",
   "mimetype": "text/x-python",
   "name": "python",
   "nbconvert_exporter": "python",
   "pygments_lexer": "ipython3",
   "version": "3.7.6"
  }
 },
 "nbformat": 4,
 "nbformat_minor": 4
}
