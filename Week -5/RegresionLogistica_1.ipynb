{
 "cells": [
  {
   "cell_type": "markdown",
   "metadata": {},
   "source": [
    "# Solución de problemas con regresión logística\n",
    "\n",
    "En este tutorial aprenderás cómo crear un modelo de regresión logística con una búsqueda exhaustiva de hiperparámetros, y evaluarás el mejor modelo resultante con métricas de desempeño para un problema de clasificación. En ese sentido, veremos cómo realizar los siguientes procesos:\n",
    "\n",
    "1. Importar las librerías necesarias.\n",
    "2. Cargar un conjunto de datos.\n",
    "3. Explorar el conjunto de datos.\n",
    "4. Limpiar y preparar los datos para el modelado.\n",
    "5. Realizar la búsqueda de hiperparámetros para la regresión logística.\n",
    "6. Evaluar el mejor modelo resultante.\n",
    "7. Almacenar y recuperar el mejor modelo.\n",
    "\n",
    "Utilizaremos el conjunto de datos correspondiente a la compra de seguros de viaje. En este problema queremos predecir si una persona va a comprar un seguro de viaje dependiendo de factores como su edad, salario, educación, entre otros."
   ]
  },
  {
   "cell_type": "markdown",
   "metadata": {},
   "source": [
    "## 1. Importación de librerías requeridas\n",
    "\n",
    "Importaremos las librerías `pandas`, `matplotlib`, `numpy` y `scikit-learn`, además de `joblib` para la persistencia del modelo. En particular, usaremos las siguientes clases y funciones para entrenar y evaluar el modelo de regresión logística:\n",
    "\n",
    "* `LogisticRegression()`: clase para crear el modelo de regresión logística.\n",
    "* `accuracy_score()`: función para obtener la exactitud en un modelo de clasificación.\n",
    "* `precision_score()`: función para obtener la precisión en un modelo de clasificación.\n",
    "* `recall_score`: función para obtener la sensibilidad en un modelo de clasificación.\n",
    "* `f1_score`: función para obtener la métrica F1 en un modelo de clasificación.\n",
    "* `confusion_matrix()`: función para obtener la matriz de confusión sobre las predicciones del modelo.\n",
    "* `classification_report()`: función para obtener un reporte con las métricas por clase.\n",
    "* `plot_confusion_matrix()`: función para graficar la matriz de confusión."
   ]
  },
  {
   "cell_type": "code",
   "execution_count": 1,
   "metadata": {},
   "outputs": [],
   "source": [
    "import pandas as pd\n",
    "import matplotlib.pyplot as plt\n",
    "import numpy as np\n",
    "import joblib\n",
    "\n",
    "from sklearn.preprocessing import StandardScaler\n",
    "from sklearn.linear_model import LogisticRegression\n",
    "from sklearn.model_selection import train_test_split, KFold, GridSearchCV\n",
    "from sklearn.metrics import accuracy_score, precision_score, recall_score, f1_score\n",
    "from sklearn.metrics import confusion_matrix, classification_report\n",
    "from sklearn.metrics import plot_confusion_matrix"
   ]
  },
  {
   "cell_type": "markdown",
   "metadata": {},
   "source": [
    "## 2. Carga de datos\n",
    "\n",
    "Realizaremos la carga de datos usando la función de Pandas `read_csv()`, especificando la ruta y el separador del archivo:"
   ]
  },
  {
   "cell_type": "code",
   "execution_count": 2,
   "metadata": {},
   "outputs": [],
   "source": [
    "data_raw = pd.read_csv('data/TravelInsurancePrediction.csv', sep=',')"
   ]
  },
  {
   "cell_type": "markdown",
   "metadata": {},
   "source": [
    "Veamos los primeros datos del conjunto utilizando `head()`:"
   ]
  },
  {
   "cell_type": "code",
   "execution_count": 3,
   "metadata": {
    "scrolled": true
   },
   "outputs": [
    {
     "data": {
      "text/html": [
       "<div>\n",
       "<style scoped>\n",
       "    .dataframe tbody tr th:only-of-type {\n",
       "        vertical-align: middle;\n",
       "    }\n",
       "\n",
       "    .dataframe tbody tr th {\n",
       "        vertical-align: top;\n",
       "    }\n",
       "\n",
       "    .dataframe thead th {\n",
       "        text-align: right;\n",
       "    }\n",
       "</style>\n",
       "<table border=\"1\" class=\"dataframe\">\n",
       "  <thead>\n",
       "    <tr style=\"text-align: right;\">\n",
       "      <th></th>\n",
       "      <th>Index</th>\n",
       "      <th>Age</th>\n",
       "      <th>Employment Type</th>\n",
       "      <th>GraduateOrNot</th>\n",
       "      <th>AnnualIncome</th>\n",
       "      <th>FamilyMembers</th>\n",
       "      <th>ChronicDiseases</th>\n",
       "      <th>FrequentFlyer</th>\n",
       "      <th>EverTravelledAbroad</th>\n",
       "      <th>TravelInsurance</th>\n",
       "    </tr>\n",
       "  </thead>\n",
       "  <tbody>\n",
       "    <tr>\n",
       "      <th>0</th>\n",
       "      <td>0</td>\n",
       "      <td>31</td>\n",
       "      <td>Government Sector</td>\n",
       "      <td>Yes</td>\n",
       "      <td>400000</td>\n",
       "      <td>6</td>\n",
       "      <td>1</td>\n",
       "      <td>No</td>\n",
       "      <td>No</td>\n",
       "      <td>0</td>\n",
       "    </tr>\n",
       "    <tr>\n",
       "      <th>1</th>\n",
       "      <td>1</td>\n",
       "      <td>31</td>\n",
       "      <td>Private Sector/Self Employed</td>\n",
       "      <td>Yes</td>\n",
       "      <td>1250000</td>\n",
       "      <td>7</td>\n",
       "      <td>0</td>\n",
       "      <td>No</td>\n",
       "      <td>No</td>\n",
       "      <td>0</td>\n",
       "    </tr>\n",
       "    <tr>\n",
       "      <th>2</th>\n",
       "      <td>2</td>\n",
       "      <td>34</td>\n",
       "      <td>Private Sector/Self Employed</td>\n",
       "      <td>Yes</td>\n",
       "      <td>500000</td>\n",
       "      <td>4</td>\n",
       "      <td>1</td>\n",
       "      <td>No</td>\n",
       "      <td>No</td>\n",
       "      <td>1</td>\n",
       "    </tr>\n",
       "    <tr>\n",
       "      <th>3</th>\n",
       "      <td>3</td>\n",
       "      <td>28</td>\n",
       "      <td>Private Sector/Self Employed</td>\n",
       "      <td>Yes</td>\n",
       "      <td>700000</td>\n",
       "      <td>3</td>\n",
       "      <td>1</td>\n",
       "      <td>No</td>\n",
       "      <td>No</td>\n",
       "      <td>0</td>\n",
       "    </tr>\n",
       "    <tr>\n",
       "      <th>4</th>\n",
       "      <td>4</td>\n",
       "      <td>28</td>\n",
       "      <td>Private Sector/Self Employed</td>\n",
       "      <td>Yes</td>\n",
       "      <td>700000</td>\n",
       "      <td>8</td>\n",
       "      <td>1</td>\n",
       "      <td>Yes</td>\n",
       "      <td>No</td>\n",
       "      <td>0</td>\n",
       "    </tr>\n",
       "  </tbody>\n",
       "</table>\n",
       "</div>"
      ],
      "text/plain": [
       "   Index  Age               Employment Type GraduateOrNot  AnnualIncome  \\\n",
       "0      0   31             Government Sector           Yes        400000   \n",
       "1      1   31  Private Sector/Self Employed           Yes       1250000   \n",
       "2      2   34  Private Sector/Self Employed           Yes        500000   \n",
       "3      3   28  Private Sector/Self Employed           Yes        700000   \n",
       "4      4   28  Private Sector/Self Employed           Yes        700000   \n",
       "\n",
       "   FamilyMembers  ChronicDiseases FrequentFlyer EverTravelledAbroad  \\\n",
       "0              6                1            No                  No   \n",
       "1              7                0            No                  No   \n",
       "2              4                1            No                  No   \n",
       "3              3                1            No                  No   \n",
       "4              8                1           Yes                  No   \n",
       "\n",
       "   TravelInsurance  \n",
       "0                0  \n",
       "1                0  \n",
       "2                1  \n",
       "3                0  \n",
       "4                0  "
      ]
     },
     "execution_count": 3,
     "metadata": {},
     "output_type": "execute_result"
    }
   ],
   "source": [
    "data_raw.head()"
   ]
  },
  {
   "cell_type": "markdown",
   "metadata": {},
   "source": [
    "Como puedes observar, nuestro conjunto de datos contiene cuatro variables categóricas: `Employment Type`, `GraduateOrNot`, `FrequentFlyer` y `EverTravelledAbroad`."
   ]
  },
  {
   "cell_type": "markdown",
   "metadata": {},
   "source": [
    "## 3. Exploración del conjunto de datos\n",
    "\n",
    "Vamos a ver las dimensiones de nuestros datos utilizando `data_raw.shape`:"
   ]
  },
  {
   "cell_type": "code",
   "execution_count": 4,
   "metadata": {},
   "outputs": [
    {
     "data": {
      "text/plain": [
       "(1987, 10)"
      ]
     },
     "execution_count": 4,
     "metadata": {},
     "output_type": "execute_result"
    }
   ],
   "source": [
    "data_raw.shape"
   ]
  },
  {
   "cell_type": "markdown",
   "metadata": {},
   "source": [
    "Para obtener una vista más detallada de las variables numéricas de nuestro conjunto, podemos usar `data_raw.describe()`. Nota que esta función no tiene en cuenta las variables categóricas que visualizamos anteriormente, pues valores como la media o la desviación estándar no tendrían sentido para ese tipo de datos:"
   ]
  },
  {
   "cell_type": "code",
   "execution_count": 5,
   "metadata": {},
   "outputs": [
    {
     "data": {
      "text/html": [
       "<div>\n",
       "<style scoped>\n",
       "    .dataframe tbody tr th:only-of-type {\n",
       "        vertical-align: middle;\n",
       "    }\n",
       "\n",
       "    .dataframe tbody tr th {\n",
       "        vertical-align: top;\n",
       "    }\n",
       "\n",
       "    .dataframe thead th {\n",
       "        text-align: right;\n",
       "    }\n",
       "</style>\n",
       "<table border=\"1\" class=\"dataframe\">\n",
       "  <thead>\n",
       "    <tr style=\"text-align: right;\">\n",
       "      <th></th>\n",
       "      <th>Index</th>\n",
       "      <th>Age</th>\n",
       "      <th>AnnualIncome</th>\n",
       "      <th>FamilyMembers</th>\n",
       "      <th>ChronicDiseases</th>\n",
       "      <th>TravelInsurance</th>\n",
       "    </tr>\n",
       "  </thead>\n",
       "  <tbody>\n",
       "    <tr>\n",
       "      <th>count</th>\n",
       "      <td>1987.000000</td>\n",
       "      <td>1987.000000</td>\n",
       "      <td>1.987000e+03</td>\n",
       "      <td>1987.000000</td>\n",
       "      <td>1987.000000</td>\n",
       "      <td>1987.000000</td>\n",
       "    </tr>\n",
       "    <tr>\n",
       "      <th>mean</th>\n",
       "      <td>993.000000</td>\n",
       "      <td>29.650226</td>\n",
       "      <td>9.327630e+05</td>\n",
       "      <td>4.752894</td>\n",
       "      <td>0.277806</td>\n",
       "      <td>0.357323</td>\n",
       "    </tr>\n",
       "    <tr>\n",
       "      <th>std</th>\n",
       "      <td>573.741812</td>\n",
       "      <td>2.913308</td>\n",
       "      <td>3.768557e+05</td>\n",
       "      <td>1.609650</td>\n",
       "      <td>0.448030</td>\n",
       "      <td>0.479332</td>\n",
       "    </tr>\n",
       "    <tr>\n",
       "      <th>min</th>\n",
       "      <td>0.000000</td>\n",
       "      <td>25.000000</td>\n",
       "      <td>3.000000e+05</td>\n",
       "      <td>2.000000</td>\n",
       "      <td>0.000000</td>\n",
       "      <td>0.000000</td>\n",
       "    </tr>\n",
       "    <tr>\n",
       "      <th>25%</th>\n",
       "      <td>496.500000</td>\n",
       "      <td>28.000000</td>\n",
       "      <td>6.000000e+05</td>\n",
       "      <td>4.000000</td>\n",
       "      <td>0.000000</td>\n",
       "      <td>0.000000</td>\n",
       "    </tr>\n",
       "    <tr>\n",
       "      <th>50%</th>\n",
       "      <td>993.000000</td>\n",
       "      <td>29.000000</td>\n",
       "      <td>9.000000e+05</td>\n",
       "      <td>5.000000</td>\n",
       "      <td>0.000000</td>\n",
       "      <td>0.000000</td>\n",
       "    </tr>\n",
       "    <tr>\n",
       "      <th>75%</th>\n",
       "      <td>1489.500000</td>\n",
       "      <td>32.000000</td>\n",
       "      <td>1.250000e+06</td>\n",
       "      <td>6.000000</td>\n",
       "      <td>1.000000</td>\n",
       "      <td>1.000000</td>\n",
       "    </tr>\n",
       "    <tr>\n",
       "      <th>max</th>\n",
       "      <td>1986.000000</td>\n",
       "      <td>35.000000</td>\n",
       "      <td>1.800000e+06</td>\n",
       "      <td>9.000000</td>\n",
       "      <td>1.000000</td>\n",
       "      <td>1.000000</td>\n",
       "    </tr>\n",
       "  </tbody>\n",
       "</table>\n",
       "</div>"
      ],
      "text/plain": [
       "             Index          Age  AnnualIncome  FamilyMembers  ChronicDiseases  \\\n",
       "count  1987.000000  1987.000000  1.987000e+03    1987.000000      1987.000000   \n",
       "mean    993.000000    29.650226  9.327630e+05       4.752894         0.277806   \n",
       "std     573.741812     2.913308  3.768557e+05       1.609650         0.448030   \n",
       "min       0.000000    25.000000  3.000000e+05       2.000000         0.000000   \n",
       "25%     496.500000    28.000000  6.000000e+05       4.000000         0.000000   \n",
       "50%     993.000000    29.000000  9.000000e+05       5.000000         0.000000   \n",
       "75%    1489.500000    32.000000  1.250000e+06       6.000000         1.000000   \n",
       "max    1986.000000    35.000000  1.800000e+06       9.000000         1.000000   \n",
       "\n",
       "       TravelInsurance  \n",
       "count      1987.000000  \n",
       "mean          0.357323  \n",
       "std           0.479332  \n",
       "min           0.000000  \n",
       "25%           0.000000  \n",
       "50%           0.000000  \n",
       "75%           1.000000  \n",
       "max           1.000000  "
      ]
     },
     "execution_count": 5,
     "metadata": {},
     "output_type": "execute_result"
    }
   ],
   "source": [
    "data_raw.describe()"
   ]
  },
  {
   "cell_type": "markdown",
   "metadata": {},
   "source": [
    "En cambio, podemos utilizar `value_counts` para obtener cada valor posible de las variables categóricas y su frecuencia de aparición sobre el total de los datos. Por ejemplo, obtendremos la distribución de valores para la variable `Employment Type`:"
   ]
  },
  {
   "cell_type": "code",
   "execution_count": 6,
   "metadata": {},
   "outputs": [
    {
     "data": {
      "text/plain": [
       "Private Sector/Self Employed    1417\n",
       "Government Sector                570\n",
       "Name: Employment Type, dtype: int64"
      ]
     },
     "execution_count": 6,
     "metadata": {},
     "output_type": "execute_result"
    }
   ],
   "source": [
    "pd.value_counts(data_raw['Employment Type'])"
   ]
  },
  {
   "cell_type": "markdown",
   "metadata": {},
   "source": [
    "Igualmente, veremos la distribución de la variable `GraduateOrNot`:"
   ]
  },
  {
   "cell_type": "code",
   "execution_count": 7,
   "metadata": {},
   "outputs": [
    {
     "data": {
      "text/plain": [
       "Yes    1692\n",
       "No      295\n",
       "Name: GraduateOrNot, dtype: int64"
      ]
     },
     "execution_count": 7,
     "metadata": {},
     "output_type": "execute_result"
    }
   ],
   "source": [
    "pd.value_counts(data_raw['GraduateOrNot'])"
   ]
  },
  {
   "cell_type": "markdown",
   "metadata": {},
   "source": [
    "La distribución de la variable `FrequentFlyer`:"
   ]
  },
  {
   "cell_type": "code",
   "execution_count": 8,
   "metadata": {},
   "outputs": [
    {
     "data": {
      "text/plain": [
       "No     1570\n",
       "Yes     417\n",
       "Name: FrequentFlyer, dtype: int64"
      ]
     },
     "execution_count": 8,
     "metadata": {},
     "output_type": "execute_result"
    }
   ],
   "source": [
    "pd.value_counts(data_raw['FrequentFlyer'])"
   ]
  },
  {
   "cell_type": "markdown",
   "metadata": {},
   "source": [
    "Y finalmente la variable `EverTravelledAbroad`:"
   ]
  },
  {
   "cell_type": "code",
   "execution_count": 9,
   "metadata": {},
   "outputs": [
    {
     "data": {
      "text/plain": [
       "No     1607\n",
       "Yes     380\n",
       "Name: EverTravelledAbroad, dtype: int64"
      ]
     },
     "execution_count": 9,
     "metadata": {},
     "output_type": "execute_result"
    }
   ],
   "source": [
    "pd.value_counts(data_raw['EverTravelledAbroad'])"
   ]
  },
  {
   "cell_type": "markdown",
   "metadata": {},
   "source": [
    "## 4. Limpieza y preparación de datos\n",
    "\n",
    "Primero vamos a definir la variable `data` para almacenar un conjunto de datos modificado, utilizando el método `copy()`:"
   ]
  },
  {
   "cell_type": "code",
   "execution_count": 10,
   "metadata": {},
   "outputs": [],
   "source": [
    "data = data_raw.copy()"
   ]
  },
  {
   "cell_type": "markdown",
   "metadata": {},
   "source": [
    "### Eliminación de variables poco relevantes\n",
    "\n",
    "Este conjunto de datos solo tiene una variable poco relevante para predecir si el cliente va a comprar un seguro de viajes: `Index`. Haciendo uso de la función `drop()` eliminaremos esta variable del DataFrame:"
   ]
  },
  {
   "cell_type": "code",
   "execution_count": 11,
   "metadata": {},
   "outputs": [],
   "source": [
    "data = data.drop('Index', axis=1)"
   ]
  },
  {
   "cell_type": "markdown",
   "metadata": {},
   "source": [
    "### Eliminación de nulos y duplicados\n",
    "\n",
    "Posteriormente, revisaremos si nuestros datos contienen datos nulos usando `isna().sum()`:"
   ]
  },
  {
   "cell_type": "code",
   "execution_count": 12,
   "metadata": {},
   "outputs": [
    {
     "data": {
      "text/plain": [
       "Age                    0\n",
       "Employment Type        0\n",
       "GraduateOrNot          0\n",
       "AnnualIncome           0\n",
       "FamilyMembers          0\n",
       "ChronicDiseases        0\n",
       "FrequentFlyer          0\n",
       "EverTravelledAbroad    0\n",
       "TravelInsurance        0\n",
       "dtype: int64"
      ]
     },
     "execution_count": 12,
     "metadata": {},
     "output_type": "execute_result"
    }
   ],
   "source": [
    "data.isna().sum()"
   ]
  },
  {
   "cell_type": "markdown",
   "metadata": {},
   "source": [
    "Como no se tienen datos nulos, no tendremos que realizar ninguna modificación para tratarlos. Ahora veremos si hay duplicados utilizando `duplicated().sum()`:"
   ]
  },
  {
   "cell_type": "code",
   "execution_count": 13,
   "metadata": {},
   "outputs": [
    {
     "data": {
      "text/plain": [
       "738"
      ]
     },
     "execution_count": 13,
     "metadata": {},
     "output_type": "execute_result"
    }
   ],
   "source": [
    "data.duplicated().sum()"
   ]
  },
  {
   "cell_type": "markdown",
   "metadata": {},
   "source": [
    "Como puedes observar, tenemos 738 valores duplicados en el conjunto, lo que equivale a un 37.14% del total de datos. Debes preguntarte por qué hay una proporción alta de datos duplicados, pues puede que las observaciones sean erróneas o que, al contrario, sean coherentes en el contexto del negocio. Si las observaciones son coherentes, entonces es válido dejarlas dentro del conjunto, aunque esto afectará el entrenamiento del modelo al aumentar su peso entre el total de observaciones. Por el contrario, si las observaciones son erróneas, entonces es mejor eliminar los duplicados. En este caso asumiremos que se trata de observaciones erróneas, por lo que usaremos `drop_duplicates()` para eliminarlas:"
   ]
  },
  {
   "cell_type": "code",
   "execution_count": 14,
   "metadata": {},
   "outputs": [],
   "source": [
    "data = data.drop_duplicates()"
   ]
  },
  {
   "cell_type": "markdown",
   "metadata": {},
   "source": [
    "Finalmente, veremos las dimensiones del conjunto de datos modificado usando `data.shape`:"
   ]
  },
  {
   "cell_type": "code",
   "execution_count": 15,
   "metadata": {},
   "outputs": [
    {
     "data": {
      "text/plain": [
       "(1249, 9)"
      ]
     },
     "execution_count": 15,
     "metadata": {},
     "output_type": "execute_result"
    }
   ],
   "source": [
    "data.shape"
   ]
  },
  {
   "cell_type": "markdown",
   "metadata": {},
   "source": [
    "### Transformación de variables categóricas\n",
    "\n",
    "Debido a que nuestro modelo de regresión logística trabaja únicamente con variables numéricas, es necesario tratar nuestras variables categóricas para que sea posible incluirlas en el entrenamiento. Para esto realizaremos una codificación One Hot que, por cada variable categórica, crea k variables \"dummy\", donde k es el número de posibles valores de la variable original. Por ejemplo, anteriormente vimos que la variable `Employment Type` tiene dos posibles valores, por lo que se crearán dos nuevas variables, una representando el valor `Private Sector/Self Employed` y la otra representando el valor `Government Sector`. En ese orden de ideas usaremos la función `get_dummies()`, pasando por parámetro el conjunto de datos:"
   ]
  },
  {
   "cell_type": "code",
   "execution_count": 16,
   "metadata": {},
   "outputs": [],
   "source": [
    "data = pd.get_dummies(data)"
   ]
  },
  {
   "cell_type": "markdown",
   "metadata": {},
   "source": [
    "**Nota:** como alternativa para este método, `scikit_learn` ofrece una clase para realizar este proceso: `OneHotEncoder`. Puedes revisar la documentación en el [sitio web oficial](https://scikit-learn.org/stable/modules/generated/sklearn.preprocessing.OneHotEncoder.html).\n",
    "\n",
    "Al usar este tipo de codificación, ten en cuenta que estamos aumentando la complejidad del modelo al aumentar el número de variables descriptoras. La razón por la cual no mapeamos cada posible valor de la variable categórica a un entero es que, en ese caso, estaríamos asumiendo implícitamente que tienen una relación de orden. Es decir, si reemplazamos todas las apariciones de `Private Sector/Self Employed` con el valor 0 y todas las apariciones de `Government Sector` con el valor 1, nuestro modelo podría asumir que `Government Sector` es mayor que `Private Sector/Self Employed`, lo cual no tiene mucho sentido. Por otro lado, si la variable sí tiene una relación de orden (por ejemplo, sus valores son `Primero`, `Segundo` y `Tercero`), entonces realizar un mapeo manteniendo una única variable sería válido.\n",
    "\n",
    "Veremos el resultado de la codificación usando `data.head()`:"
   ]
  },
  {
   "cell_type": "code",
   "execution_count": 17,
   "metadata": {},
   "outputs": [
    {
     "data": {
      "text/html": [
       "<div>\n",
       "<style scoped>\n",
       "    .dataframe tbody tr th:only-of-type {\n",
       "        vertical-align: middle;\n",
       "    }\n",
       "\n",
       "    .dataframe tbody tr th {\n",
       "        vertical-align: top;\n",
       "    }\n",
       "\n",
       "    .dataframe thead th {\n",
       "        text-align: right;\n",
       "    }\n",
       "</style>\n",
       "<table border=\"1\" class=\"dataframe\">\n",
       "  <thead>\n",
       "    <tr style=\"text-align: right;\">\n",
       "      <th></th>\n",
       "      <th>Age</th>\n",
       "      <th>AnnualIncome</th>\n",
       "      <th>FamilyMembers</th>\n",
       "      <th>ChronicDiseases</th>\n",
       "      <th>TravelInsurance</th>\n",
       "      <th>Employment Type_Government Sector</th>\n",
       "      <th>Employment Type_Private Sector/Self Employed</th>\n",
       "      <th>GraduateOrNot_No</th>\n",
       "      <th>GraduateOrNot_Yes</th>\n",
       "      <th>FrequentFlyer_No</th>\n",
       "      <th>FrequentFlyer_Yes</th>\n",
       "      <th>EverTravelledAbroad_No</th>\n",
       "      <th>EverTravelledAbroad_Yes</th>\n",
       "    </tr>\n",
       "  </thead>\n",
       "  <tbody>\n",
       "    <tr>\n",
       "      <th>0</th>\n",
       "      <td>31</td>\n",
       "      <td>400000</td>\n",
       "      <td>6</td>\n",
       "      <td>1</td>\n",
       "      <td>0</td>\n",
       "      <td>1</td>\n",
       "      <td>0</td>\n",
       "      <td>0</td>\n",
       "      <td>1</td>\n",
       "      <td>1</td>\n",
       "      <td>0</td>\n",
       "      <td>1</td>\n",
       "      <td>0</td>\n",
       "    </tr>\n",
       "    <tr>\n",
       "      <th>1</th>\n",
       "      <td>31</td>\n",
       "      <td>1250000</td>\n",
       "      <td>7</td>\n",
       "      <td>0</td>\n",
       "      <td>0</td>\n",
       "      <td>0</td>\n",
       "      <td>1</td>\n",
       "      <td>0</td>\n",
       "      <td>1</td>\n",
       "      <td>1</td>\n",
       "      <td>0</td>\n",
       "      <td>1</td>\n",
       "      <td>0</td>\n",
       "    </tr>\n",
       "    <tr>\n",
       "      <th>2</th>\n",
       "      <td>34</td>\n",
       "      <td>500000</td>\n",
       "      <td>4</td>\n",
       "      <td>1</td>\n",
       "      <td>1</td>\n",
       "      <td>0</td>\n",
       "      <td>1</td>\n",
       "      <td>0</td>\n",
       "      <td>1</td>\n",
       "      <td>1</td>\n",
       "      <td>0</td>\n",
       "      <td>1</td>\n",
       "      <td>0</td>\n",
       "    </tr>\n",
       "    <tr>\n",
       "      <th>3</th>\n",
       "      <td>28</td>\n",
       "      <td>700000</td>\n",
       "      <td>3</td>\n",
       "      <td>1</td>\n",
       "      <td>0</td>\n",
       "      <td>0</td>\n",
       "      <td>1</td>\n",
       "      <td>0</td>\n",
       "      <td>1</td>\n",
       "      <td>1</td>\n",
       "      <td>0</td>\n",
       "      <td>1</td>\n",
       "      <td>0</td>\n",
       "    </tr>\n",
       "    <tr>\n",
       "      <th>4</th>\n",
       "      <td>28</td>\n",
       "      <td>700000</td>\n",
       "      <td>8</td>\n",
       "      <td>1</td>\n",
       "      <td>0</td>\n",
       "      <td>0</td>\n",
       "      <td>1</td>\n",
       "      <td>0</td>\n",
       "      <td>1</td>\n",
       "      <td>0</td>\n",
       "      <td>1</td>\n",
       "      <td>1</td>\n",
       "      <td>0</td>\n",
       "    </tr>\n",
       "  </tbody>\n",
       "</table>\n",
       "</div>"
      ],
      "text/plain": [
       "   Age  AnnualIncome  FamilyMembers  ChronicDiseases  TravelInsurance  \\\n",
       "0   31        400000              6                1                0   \n",
       "1   31       1250000              7                0                0   \n",
       "2   34        500000              4                1                1   \n",
       "3   28        700000              3                1                0   \n",
       "4   28        700000              8                1                0   \n",
       "\n",
       "   Employment Type_Government Sector  \\\n",
       "0                                  1   \n",
       "1                                  0   \n",
       "2                                  0   \n",
       "3                                  0   \n",
       "4                                  0   \n",
       "\n",
       "   Employment Type_Private Sector/Self Employed  GraduateOrNot_No  \\\n",
       "0                                             0                 0   \n",
       "1                                             1                 0   \n",
       "2                                             1                 0   \n",
       "3                                             1                 0   \n",
       "4                                             1                 0   \n",
       "\n",
       "   GraduateOrNot_Yes  FrequentFlyer_No  FrequentFlyer_Yes  \\\n",
       "0                  1                 1                  0   \n",
       "1                  1                 1                  0   \n",
       "2                  1                 1                  0   \n",
       "3                  1                 1                  0   \n",
       "4                  1                 0                  1   \n",
       "\n",
       "   EverTravelledAbroad_No  EverTravelledAbroad_Yes  \n",
       "0                       1                        0  \n",
       "1                       1                        0  \n",
       "2                       1                        0  \n",
       "3                       1                        0  \n",
       "4                       1                        0  "
      ]
     },
     "execution_count": 17,
     "metadata": {},
     "output_type": "execute_result"
    }
   ],
   "source": [
    "data.head()"
   ]
  },
  {
   "cell_type": "markdown",
   "metadata": {},
   "source": [
    "Como puedes ver, cada variable categórica fue reemplazada por dos variables correspondientes a sus dos posibles valores. Específicamente, veremos cuántas variables contiene el conjunto modificado usando `data.shape`:"
   ]
  },
  {
   "cell_type": "code",
   "execution_count": 18,
   "metadata": {},
   "outputs": [
    {
     "data": {
      "text/plain": [
       "(1249, 13)"
      ]
     },
     "execution_count": 18,
     "metadata": {},
     "output_type": "execute_result"
    }
   ],
   "source": [
    "data.shape"
   ]
  },
  {
   "cell_type": "markdown",
   "metadata": {},
   "source": [
    "### División de datos\n",
    "\n",
    "Ahora dividiremos el conjunto de datos resultante en un conjunto de entrenamiento y uno de pruebas mediante la función `train_test_split()`. Usaremos el 80% de los datos para el entrenamiento y el 20% restante para las pruebas:"
   ]
  },
  {
   "cell_type": "code",
   "execution_count": 19,
   "metadata": {},
   "outputs": [
    {
     "data": {
      "text/html": [
       "<div>\n",
       "<style scoped>\n",
       "    .dataframe tbody tr th:only-of-type {\n",
       "        vertical-align: middle;\n",
       "    }\n",
       "\n",
       "    .dataframe tbody tr th {\n",
       "        vertical-align: top;\n",
       "    }\n",
       "\n",
       "    .dataframe thead th {\n",
       "        text-align: right;\n",
       "    }\n",
       "</style>\n",
       "<table border=\"1\" class=\"dataframe\">\n",
       "  <thead>\n",
       "    <tr style=\"text-align: right;\">\n",
       "      <th></th>\n",
       "      <th>Age</th>\n",
       "      <th>AnnualIncome</th>\n",
       "      <th>FamilyMembers</th>\n",
       "      <th>ChronicDiseases</th>\n",
       "      <th>TravelInsurance</th>\n",
       "      <th>Employment Type_Government Sector</th>\n",
       "      <th>Employment Type_Private Sector/Self Employed</th>\n",
       "      <th>GraduateOrNot_No</th>\n",
       "      <th>GraduateOrNot_Yes</th>\n",
       "      <th>FrequentFlyer_No</th>\n",
       "      <th>FrequentFlyer_Yes</th>\n",
       "      <th>EverTravelledAbroad_No</th>\n",
       "      <th>EverTravelledAbroad_Yes</th>\n",
       "    </tr>\n",
       "  </thead>\n",
       "  <tbody>\n",
       "    <tr>\n",
       "      <th>722</th>\n",
       "      <td>33</td>\n",
       "      <td>400000</td>\n",
       "      <td>8</td>\n",
       "      <td>0</td>\n",
       "      <td>1</td>\n",
       "      <td>1</td>\n",
       "      <td>0</td>\n",
       "      <td>0</td>\n",
       "      <td>1</td>\n",
       "      <td>1</td>\n",
       "      <td>0</td>\n",
       "      <td>1</td>\n",
       "      <td>0</td>\n",
       "    </tr>\n",
       "    <tr>\n",
       "      <th>1263</th>\n",
       "      <td>28</td>\n",
       "      <td>600000</td>\n",
       "      <td>7</td>\n",
       "      <td>1</td>\n",
       "      <td>0</td>\n",
       "      <td>1</td>\n",
       "      <td>0</td>\n",
       "      <td>0</td>\n",
       "      <td>1</td>\n",
       "      <td>1</td>\n",
       "      <td>0</td>\n",
       "      <td>1</td>\n",
       "      <td>0</td>\n",
       "    </tr>\n",
       "    <tr>\n",
       "      <th>1690</th>\n",
       "      <td>35</td>\n",
       "      <td>800000</td>\n",
       "      <td>6</td>\n",
       "      <td>1</td>\n",
       "      <td>1</td>\n",
       "      <td>0</td>\n",
       "      <td>1</td>\n",
       "      <td>1</td>\n",
       "      <td>0</td>\n",
       "      <td>1</td>\n",
       "      <td>0</td>\n",
       "      <td>0</td>\n",
       "      <td>1</td>\n",
       "    </tr>\n",
       "    <tr>\n",
       "      <th>263</th>\n",
       "      <td>35</td>\n",
       "      <td>800000</td>\n",
       "      <td>4</td>\n",
       "      <td>0</td>\n",
       "      <td>0</td>\n",
       "      <td>0</td>\n",
       "      <td>1</td>\n",
       "      <td>1</td>\n",
       "      <td>0</td>\n",
       "      <td>1</td>\n",
       "      <td>0</td>\n",
       "      <td>1</td>\n",
       "      <td>0</td>\n",
       "    </tr>\n",
       "    <tr>\n",
       "      <th>913</th>\n",
       "      <td>31</td>\n",
       "      <td>1400000</td>\n",
       "      <td>4</td>\n",
       "      <td>0</td>\n",
       "      <td>1</td>\n",
       "      <td>0</td>\n",
       "      <td>1</td>\n",
       "      <td>0</td>\n",
       "      <td>1</td>\n",
       "      <td>1</td>\n",
       "      <td>0</td>\n",
       "      <td>0</td>\n",
       "      <td>1</td>\n",
       "    </tr>\n",
       "  </tbody>\n",
       "</table>\n",
       "</div>"
      ],
      "text/plain": [
       "      Age  AnnualIncome  FamilyMembers  ChronicDiseases  TravelInsurance  \\\n",
       "722    33        400000              8                0                1   \n",
       "1263   28        600000              7                1                0   \n",
       "1690   35        800000              6                1                1   \n",
       "263    35        800000              4                0                0   \n",
       "913    31       1400000              4                0                1   \n",
       "\n",
       "      Employment Type_Government Sector  \\\n",
       "722                                   1   \n",
       "1263                                  1   \n",
       "1690                                  0   \n",
       "263                                   0   \n",
       "913                                   0   \n",
       "\n",
       "      Employment Type_Private Sector/Self Employed  GraduateOrNot_No  \\\n",
       "722                                              0                 0   \n",
       "1263                                             0                 0   \n",
       "1690                                             1                 1   \n",
       "263                                              1                 1   \n",
       "913                                              1                 0   \n",
       "\n",
       "      GraduateOrNot_Yes  FrequentFlyer_No  FrequentFlyer_Yes  \\\n",
       "722                   1                 1                  0   \n",
       "1263                  1                 1                  0   \n",
       "1690                  0                 1                  0   \n",
       "263                   0                 1                  0   \n",
       "913                   1                 1                  0   \n",
       "\n",
       "      EverTravelledAbroad_No  EverTravelledAbroad_Yes  \n",
       "722                        1                        0  \n",
       "1263                       1                        0  \n",
       "1690                       0                        1  \n",
       "263                        1                        0  \n",
       "913                        0                        1  "
      ]
     },
     "execution_count": 19,
     "metadata": {},
     "output_type": "execute_result"
    }
   ],
   "source": [
    "train, test = train_test_split(data, test_size=0.2, random_state=9)\n",
    "train.head()"
   ]
  },
  {
   "cell_type": "markdown",
   "metadata": {},
   "source": [
    "Además, separaremos la variable objetivo `TravelInsurance` de las variables descriptoras:"
   ]
  },
  {
   "cell_type": "code",
   "execution_count": 20,
   "metadata": {},
   "outputs": [],
   "source": [
    "x_train = train.drop(['TravelInsurance'],axis=1)\n",
    "y_train = train['TravelInsurance']"
   ]
  },
  {
   "cell_type": "markdown",
   "metadata": {},
   "source": [
    "### Estandarización\n",
    "\n",
    "La implementación de regresión logística en `scikit_learn` puede incluir regularización, por lo que realizaremos una estandarización para que el efecto sea el mismo en todas las variables. Utilizaremos un objeto de la clase `StandardScaler()` que, por cada variable, elimina la media y la escala hasta llegar a una varianza unitaria, y reconstruiremos el DataFrame utilizando la variable `columns`, que almacena la información de las columnas:"
   ]
  },
  {
   "cell_type": "code",
   "execution_count": 21,
   "metadata": {},
   "outputs": [],
   "source": [
    "columns = x_train.columns\n",
    "scaler = StandardScaler()\n",
    "x_train = scaler.fit_transform(x_train)\n",
    "x_train = pd.DataFrame(x_train, columns=columns)"
   ]
  },
  {
   "cell_type": "markdown",
   "metadata": {},
   "source": [
    "## 5. Búsqueda de hiperparámetros\n",
    "\n",
    "Primero crearemos un objeto de la clase `LogisticRegression()`, que será nuestro modelo base para realizar la búsqueda exhaustiva de hiperparámetros:"
   ]
  },
  {
   "cell_type": "code",
   "execution_count": 22,
   "metadata": {},
   "outputs": [],
   "source": [
    "reglog = LogisticRegression()"
   ]
  },
  {
   "cell_type": "markdown",
   "metadata": {},
   "source": [
    "Utilizaremos los siguientes parámetros para realizar la búsqueda:\n",
    "* `C`: inverso de la fuerza de regularización. En este caso, un valor más pequeño de `C` implica una regularización más fuerte.\n",
    "* `penalty`: el tipo de regularización. Realizaremos la búsqueda probando con regularización con norma L1 y L2.\n",
    "* `solver`: algoritmo para solución del problema de optimización."
   ]
  },
  {
   "cell_type": "code",
   "execution_count": 23,
   "metadata": {},
   "outputs": [],
   "source": [
    "param_grid = {'C': [0.1, 0.2, 0.5, 0.8, 1],\n",
    "              'penalty': ['l1', 'l2'],\n",
    "              'solver': ['newton-cg', 'lbfgs', 'liblinear']}"
   ]
  },
  {
   "cell_type": "markdown",
   "metadata": {},
   "source": [
    "Además, definiremos un objeto de la clase `KFold()` para realizar la validación cruzada, especificando 10 subconjuntos con el parámetro `n_splits` y reordenando el conjunto de datos en cada iteración con el parámetro `shuffle`:"
   ]
  },
  {
   "cell_type": "code",
   "execution_count": 24,
   "metadata": {},
   "outputs": [],
   "source": [
    "kfold = KFold(n_splits=10, shuffle=True, random_state=0)"
   ]
  },
  {
   "cell_type": "markdown",
   "metadata": {},
   "source": [
    "Finalmente, definiremos la búsqueda con un objeto de la clase `GridSearchCV()` usando el modelo `reglog`, el espacio de búsqueda `param_grid`, la técnica de validación cruzada `kfold` y la exactitud como métrica de desempeño para decidir qué modelo es mejor:"
   ]
  },
  {
   "cell_type": "code",
   "execution_count": 25,
   "metadata": {},
   "outputs": [],
   "source": [
    "grid = GridSearchCV(reglog, param_grid, cv=kfold, scoring='accuracy', n_jobs=-1)"
   ]
  },
  {
   "cell_type": "markdown",
   "metadata": {},
   "source": [
    "Ejecutaremos la búsqueda sobre el conjunto de entrenamiento definido por las variables `x_train` y `y_train`:"
   ]
  },
  {
   "cell_type": "code",
   "execution_count": 26,
   "metadata": {},
   "outputs": [
    {
     "data": {
      "text/plain": [
       "GridSearchCV(cv=KFold(n_splits=10, random_state=0, shuffle=True),\n",
       "             error_score=nan,\n",
       "             estimator=LogisticRegression(C=1.0, class_weight=None, dual=False,\n",
       "                                          fit_intercept=True,\n",
       "                                          intercept_scaling=1, l1_ratio=None,\n",
       "                                          max_iter=100, multi_class='auto',\n",
       "                                          n_jobs=None, penalty='l2',\n",
       "                                          random_state=None, solver='lbfgs',\n",
       "                                          tol=0.0001, verbose=0,\n",
       "                                          warm_start=False),\n",
       "             iid='deprecated', n_jobs=-1,\n",
       "             param_grid={'C': [0.1, 0.2, 0.5, 0.8, 1], 'penalty': ['l1', 'l2'],\n",
       "                         'solver': ['newton-cg', 'lbfgs', 'liblinear']},\n",
       "             pre_dispatch='2*n_jobs', refit=True, return_train_score=False,\n",
       "             scoring='accuracy', verbose=0)"
      ]
     },
     "execution_count": 26,
     "metadata": {},
     "output_type": "execute_result"
    }
   ],
   "source": [
    "grid.fit(x_train, y_train)"
   ]
  },
  {
   "cell_type": "markdown",
   "metadata": {},
   "source": [
    "Ahora obtendremos los mejores valores de los hiperparámetros usando `grid.best_params_`:"
   ]
  },
  {
   "cell_type": "code",
   "execution_count": 27,
   "metadata": {},
   "outputs": [
    {
     "name": "stdout",
     "output_type": "stream",
     "text": [
      "Mejores parámetros: {'C': 0.1, 'penalty': 'l1', 'solver': 'liblinear'}\n"
     ]
    }
   ],
   "source": [
    "print(\"Mejores parámetros: {}\".format(grid.best_params_)) "
   ]
  },
  {
   "cell_type": "markdown",
   "metadata": {},
   "source": [
    "Como puedes ver, el mejor modelo tiene regularización con norma L1, un valor de 0.1 para `C` y utiliza el algoritmo `liblinear`. Almacenaremos el mejor modelo utilizando `grid.best_estimator_`:"
   ]
  },
  {
   "cell_type": "code",
   "execution_count": 28,
   "metadata": {},
   "outputs": [],
   "source": [
    "mejor_modelo = grid.best_estimator_"
   ]
  },
  {
   "cell_type": "markdown",
   "metadata": {},
   "source": [
    "Podemos ver los coeficientes resultantes usando `mejor_modelo.coef_[0]`:"
   ]
  },
  {
   "cell_type": "code",
   "execution_count": 29,
   "metadata": {},
   "outputs": [
    {
     "data": {
      "text/plain": [
       "[('Age', 0.10851808939734386),\n",
       " ('AnnualIncome', 0.4542013923437178),\n",
       " ('FamilyMembers', 0.12311110334621037),\n",
       " ('ChronicDiseases', -0.03394966688791423),\n",
       " ('Employment Type_Government Sector', 0.0),\n",
       " ('Employment Type_Private Sector/Self Employed', 0.0),\n",
       " ('GraduateOrNot_No', 0.0),\n",
       " ('GraduateOrNot_Yes', 0.0),\n",
       " ('FrequentFlyer_No', -0.060462116053827925),\n",
       " ('FrequentFlyer_Yes', 0.00018382982986735375),\n",
       " ('EverTravelledAbroad_No', 0.0),\n",
       " ('EverTravelledAbroad_Yes', 0.4194592303155342)]"
      ]
     },
     "execution_count": 29,
     "metadata": {},
     "output_type": "execute_result"
    }
   ],
   "source": [
    "list(zip(x_train.columns, mejor_modelo.coef_[0]))"
   ]
  },
  {
   "cell_type": "markdown",
   "metadata": {},
   "source": [
    "En regresión logística, la magnitud de cada coeficiente también indica la relevancia de la variable en la clasificación que realiza el modelo. Por ejemplo, podemos decir que el tipo de empleo, o si la persona es graduada, no son variables relevantes para la compra de un seguro de viaje. \n",
    "\n",
    "En general, cada coeficiente conforma un vector que indica la dirección del hiperplano de división del espacio. Por ejemplo, en un espacio de dos dimensiones (una variable descriptora y una objetivo), se define una recta que separa el plano en dos. Cada región representa una clase y, para un dato cualquiera, se calcula la distancia a la recta o hiperplano de división. En ese sentido, entre más cerca esté el punto de la recta, más incertidumbre hay sobre la clase a la que pertenece. "
   ]
  },
  {
   "cell_type": "markdown",
   "metadata": {},
   "source": [
    "## 6. Evaluación del mejor modelo\n",
    "\n",
    "Empezaremos separando la variable objetivo de las variables descriptoras en el conjunto de pruebas:"
   ]
  },
  {
   "cell_type": "code",
   "execution_count": 30,
   "metadata": {},
   "outputs": [],
   "source": [
    "x_test = test.drop(['TravelInsurance'],axis=1)\n",
    "y_test = test['TravelInsurance']"
   ]
  },
  {
   "cell_type": "markdown",
   "metadata": {},
   "source": [
    "Adicionalmente, escalaremos las variables descriptoras con la información del conjunto de entrenamiento:"
   ]
  },
  {
   "cell_type": "code",
   "execution_count": 31,
   "metadata": {},
   "outputs": [],
   "source": [
    "x_test = scaler.transform(x_test)\n",
    "x_test = pd.DataFrame(x_test, columns=columns)"
   ]
  },
  {
   "cell_type": "markdown",
   "metadata": {},
   "source": [
    "A continuación realizaremos predicciones sobre el conjunto de pruebas para comparar con los valores de `y_test`. Utilizaremos la función `predict()` sobre el mejor modelo:"
   ]
  },
  {
   "cell_type": "code",
   "execution_count": 32,
   "metadata": {},
   "outputs": [],
   "source": [
    "y_pred = mejor_modelo.predict(x_test)"
   ]
  },
  {
   "cell_type": "markdown",
   "metadata": {},
   "source": [
    "Inicialmente utilizaremos la función `confusion_matrix()` para generar la matriz de confusión sobre las predicciones obtenidas. Recuerda que esta matriz compara las clases que predice el modelo con las clases reales, separando las predicciones en cuatro tipos:\n",
    "\n",
    "* **Verdaderos positivos:** la cantidad de predicciones correctas para la clase de interés (la clase 1 en este caso).\n",
    "* **Verdaderos negativos:** la cantidad de predicciones correctas para la clase negativa (la clase 0 en este caso).\n",
    "* **Falsos positivos:** la cantidad de predicciones incorrectas para la clase negativa.\n",
    "* **Falsos negativos:** la cantidad de predicciones incorrectas para la clase de interés.\n",
    "\n",
    "Un modelo con buen desempeño tiene una mayor cantidad de verdaderos positivos y negativos, de modo que buscamos que la matriz sea lo más cercana posible a una matriz diagonal, es decir, que todas las predicciones concuerden con las clases reales:"
   ]
  },
  {
   "cell_type": "code",
   "execution_count": 33,
   "metadata": {},
   "outputs": [
    {
     "data": {
      "text/plain": [
       "array([[140,  24],\n",
       "       [ 53,  33]])"
      ]
     },
     "execution_count": 33,
     "metadata": {},
     "output_type": "execute_result"
    }
   ],
   "source": [
    "confusion_matrix(y_test, y_pred)"
   ]
  },
  {
   "cell_type": "markdown",
   "metadata": {},
   "source": [
    "Para que sea más sencillo de visualizar, usaremos la función `plot_confusion_matrix()` para generar un mapa de calor con los valores de la matriz de confusión:"
   ]
  },
  {
   "cell_type": "code",
   "execution_count": 34,
   "metadata": {},
   "outputs": [
    {
     "data": {
      "image/png": "[encoded data removed]",
      "text/plain": [
       "<Figure size 432x288 with 2 Axes>"
      ]
     },
     "metadata": {
      "needs_background": "light"
     },
     "output_type": "display_data"
    }
   ],
   "source": [
    "plot_confusion_matrix(mejor_modelo, x_test, y_test)  \n",
    "plt.show()"
   ]
  },
  {
   "cell_type": "markdown",
   "metadata": {},
   "source": [
    "Como puedes observar, el modelo tiende a predecir correctamente la clase 0, es decir, tiene mejor desempeño al predecir a las personas que no van a comprar un seguro de viaje. De hecho, para la clase 1, el modelo tiende a predecir erróneamente. Específicamente, podemos observar las siguientes métricas de desempeño para este problema:\n",
    "\n",
    "* `accuracy_score` **(Exactitud):** mide la relación entre la cantidad de predicciones correctas y el total de datos.\n",
    "* `recall_score` **(Sensibilidad):** indica cuántos datos de la clase positiva fueron clasificados correctamente (relaciona verdaderos positivos y falsos negativos).\n",
    "* `precision_score` **(Precisión):** indica, de los datos clasificados en la clase positiva, cuántos son clasificados correctamente (relaciona verdaderos positivos y falsos positivos).\n",
    "* `f1_score`**:** combina la precisión y la sensibilidad en una sola métrica."
   ]
  },
  {
   "cell_type": "code",
   "execution_count": 35,
   "metadata": {},
   "outputs": [
    {
     "name": "stdout",
     "output_type": "stream",
     "text": [
      "Exactitud: 0.69\n",
      "Sensibilidad: 0.38\n",
      "Precisión: 0.58\n",
      "F1-Score: 0.46\n"
     ]
    }
   ],
   "source": [
    "print('Exactitud: %.2f' % accuracy_score(y_test, y_pred))\n",
    "print('Sensibilidad: %.2f' % recall_score(y_test,y_pred))\n",
    "print('Precisión: %.2f' % precision_score(y_test,y_pred))\n",
    "print('F1-Score: %.2f' % f1_score(y_test,y_pred))"
   ]
  },
  {
   "cell_type": "markdown",
   "metadata": {},
   "source": [
    "Ten en cuenta que estas métricas se calculan, por defecto, sobre la clase positiva (la clase 1 en este problema). Sin embargo, todas las métricas se pueden calcular para cada clase, es decir, se puede asumir que una clase particular es positiva y que las demás son las clases negativas, obteniendo las métricas para todas las clases. Usando `scikit_learn`, podemos realizar este proceso usando la función `classification_report()`:"
   ]
  },
  {
   "cell_type": "code",
   "execution_count": 36,
   "metadata": {},
   "outputs": [
    {
     "name": "stdout",
     "output_type": "stream",
     "text": [
      "              precision    recall  f1-score   support\n",
      "\n",
      "           0       0.73      0.85      0.78       164\n",
      "           1       0.58      0.38      0.46        86\n",
      "\n",
      "    accuracy                           0.69       250\n",
      "   macro avg       0.65      0.62      0.62       250\n",
      "weighted avg       0.68      0.69      0.67       250\n",
      "\n"
     ]
    }
   ],
   "source": [
    "print(classification_report(y_test, y_pred))"
   ]
  },
  {
   "cell_type": "markdown",
   "metadata": {},
   "source": [
    "Para este modelo se tienen valores altos en la sensibilidad y precisión de la clase 0, lo que indica que tiene una alta probabilidad de detectar los datos de esta clase y de clasificarlos correctamente. Sin embargo, para la clase 1, la sensibilidad es tan solo del 0.38, lo que indica que este modelo no puede detectar muy bien a las personas que van a comprar un seguro de viaje. Ten en cuenta que, aún con este problema, la exactitud tiene un valor considerable de 0.69, pues la clase 0 es mayoritaria.\n",
    "\n",
    "Dependiendo del problema que se quiere resolver, un modelo como este puede ser correcto o no. La regresión logística tiende a acomodarse a la clase mayoritaria, es decir, puede modelar de mejor manera la clase con mayor información. Sin embargo, muchos problemas reales tienen como objetivo la predicción de la clase minoritaria, por lo que es necesario realizar algún procedimiento para balancear el conjunto de datos, de forma que la cantidad de información disponible sea similar para todas las clases. Por ejemplo, se podría realizar un remuestreo de los datos, o escalar los coeficientes de acuerdo con la frecuencia de cada clase. \n",
    "\n",
    "Usando la clase `LogisticRegression()` podemos definir el parámetro `class_weight='balanced'`, que ajusta los coeficientes con el inverso de la frecuencia de cada clase. Definiremos un modelo con los mismos valores de hiperparámetros para el mejor modelo, pero adicionando el balanceo de clases:"
   ]
  },
  {
   "cell_type": "code",
   "execution_count": 37,
   "metadata": {},
   "outputs": [
    {
     "data": {
      "text/plain": [
       "LogisticRegression(C=0.1, class_weight='balanced', dual=False,\n",
       "                   fit_intercept=True, intercept_scaling=1, l1_ratio=None,\n",
       "                   max_iter=100, multi_class='auto', n_jobs=None, penalty='l1',\n",
       "                   random_state=None, solver='liblinear', tol=0.0001, verbose=0,\n",
       "                   warm_start=False)"
      ]
     },
     "execution_count": 37,
     "metadata": {},
     "output_type": "execute_result"
    }
   ],
   "source": [
    "log_bal = LogisticRegression(C=0.1, penalty='l1', solver='liblinear', class_weight='balanced')\n",
    "log_bal.fit(x_train, y_train)"
   ]
  },
  {
   "cell_type": "markdown",
   "metadata": {},
   "source": [
    "Con este modelo ajustado, realizaremos las predicciones sobre el mismo conjunto de pruebas:"
   ]
  },
  {
   "cell_type": "code",
   "execution_count": 38,
   "metadata": {},
   "outputs": [],
   "source": [
    "y_pred = log_bal.predict(x_test)"
   ]
  },
  {
   "cell_type": "markdown",
   "metadata": {},
   "source": [
    "Y graficaremos la matriz de confusión:"
   ]
  },
  {
   "cell_type": "code",
   "execution_count": 39,
   "metadata": {},
   "outputs": [
    {
     "data": {
      "image/png": "[encoded data removed]",
      "text/plain": [
       "<Figure size 432x288 with 2 Axes>"
      ]
     },
     "metadata": {
      "needs_background": "light"
     },
     "output_type": "display_data"
    }
   ],
   "source": [
    "plot_confusion_matrix(log_bal, x_test, y_test)  \n",
    "plt.show()"
   ]
  },
  {
   "cell_type": "markdown",
   "metadata": {},
   "source": [
    "Finalmente, obtendremos las métricas de rendimiento para el modelo:"
   ]
  },
  {
   "cell_type": "code",
   "execution_count": 40,
   "metadata": {},
   "outputs": [
    {
     "name": "stdout",
     "output_type": "stream",
     "text": [
      "              precision    recall  f1-score   support\n",
      "\n",
      "           0       0.72      0.69      0.71       164\n",
      "           1       0.46      0.50      0.48        86\n",
      "\n",
      "    accuracy                           0.62       250\n",
      "   macro avg       0.59      0.59      0.59       250\n",
      "weighted avg       0.63      0.62      0.63       250\n",
      "\n"
     ]
    }
   ],
   "source": [
    "print(classification_report(y_test, y_pred))"
   ]
  },
  {
   "cell_type": "markdown",
   "metadata": {},
   "source": [
    "Puedes observar que la exactitud disminuyó con respecto al modelo original, pero la sensibilidad aumentó considerablemente para la clase 1, de 0.38 a 0.5. En general, debes tener en cuenta el contexto del problema para determinar qué clase es la de mayor interés y qué modificaciones debes realizar al modelo para que resuelva el problema correcto."
   ]
  },
  {
   "cell_type": "markdown",
   "metadata": {},
   "source": [
    "### Ejemplo de clasificación con el mejor modelo\n",
    "\n",
    "Ahora veremos cómo se realiza una clasificación sobre un único dato. Empezaremos definiendo la variable `x_clasif` con uno de los valores del conjunto de test. Ten en cuenta que realizaremos nuestra predicción partiendo de la variable `x_test`, por lo que nuestro dato está codificado y estandarizado:"
   ]
  },
  {
   "cell_type": "code",
   "execution_count": 41,
   "metadata": {},
   "outputs": [
    {
     "data": {
      "text/plain": [
       "Age                                             0.761248\n",
       "AnnualIncome                                   -0.230174\n",
       "FamilyMembers                                   0.629136\n",
       "ChronicDiseases                                -0.715085\n",
       "Employment Type_Government Sector               1.519193\n",
       "Employment Type_Private Sector/Self Employed   -1.519193\n",
       "GraduateOrNot_No                               -0.454447\n",
       "GraduateOrNot_Yes                               0.454447\n",
       "FrequentFlyer_No                                0.560780\n",
       "FrequentFlyer_Yes                              -0.560780\n",
       "EverTravelledAbroad_No                          0.492481\n",
       "EverTravelledAbroad_Yes                        -0.492481\n",
       "Name: 0, dtype: float64"
      ]
     },
     "execution_count": 41,
     "metadata": {},
     "output_type": "execute_result"
    }
   ],
   "source": [
    "x_clasif = x_test.iloc[0]\n",
    "x_clasif"
   ]
  },
  {
   "cell_type": "markdown",
   "metadata": {},
   "source": [
    "Utilizaremos `predict_proba` para realizar la clasificación. Esta función necesita un arreglo de datos, por lo que pasaremos como parámetro un arreglo con una única posición. Almacenaremos el resultado en la variable `y_clasif`:"
   ]
  },
  {
   "cell_type": "code",
   "execution_count": 42,
   "metadata": {},
   "outputs": [
    {
     "data": {
      "text/plain": [
       "array([[0.63716811, 0.36283189]])"
      ]
     },
     "execution_count": 42,
     "metadata": {},
     "output_type": "execute_result"
    }
   ],
   "source": [
    "y_clasif = mejor_modelo.predict_proba([x_clasif])\n",
    "y_clasif"
   ]
  },
  {
   "cell_type": "markdown",
   "metadata": {},
   "source": [
    "Como puedes observar, el resultado de la predicción es un arreglo de predicciones, que en este caso solo tiene un elemento. El arreglo interno contiene dos posiciones, que representan las dos clases del problema. En regresión logística, la salida corresponde a la aplicación de la función sigmoide sobre el resultado de la combinación lineal de los coeficientes y el dato de entrada. Estos valores, a su vez, son estimaciones de la probabilidad de pertenencia del dato a cada clase, es decir, `x_clasif` tiene una probabilidad estimada de 0.637 de pertenecer a la clase 0, y una probabilidad estimada de 0.363 de pertenecer a la clase 1.\n",
    "\n",
    "Si queremos obtener la clasificación de nuestro modelo, en vez de las estimaciones de probabilidad, podemos utilizar la función `argmax()` de `numpy`, que retorna el índice del arreglo con mayor valor. En ese sentido, estamos asignando la clase con mayor probabilidad a `x_clasif`:"
   ]
  },
  {
   "cell_type": "code",
   "execution_count": 43,
   "metadata": {},
   "outputs": [
    {
     "data": {
      "text/plain": [
       "0"
      ]
     },
     "execution_count": 43,
     "metadata": {},
     "output_type": "execute_result"
    }
   ],
   "source": [
    "np.argmax(y_clasif[0])"
   ]
  },
  {
   "cell_type": "markdown",
   "metadata": {},
   "source": [
    "## 7. Almacenamiento y recuperación del mejor modelo\n",
    "\n",
    "Finalmente, veremos cómo persistir los modelos creados con `scikit_learn` mediante la librería `joblib`, que nos permite almacenar objetos de Python en archivos. Esta librería está optimizada para almacenar objetos con gran cantidad de arreglos numéricos, como nuestro `mejor_modelo`. Primero crearemos el archivo con la función `dump()`, especificando el objeto a almacenar y el nombre del archivo (que tiene extensión `.joblib`):"
   ]
  },
  {
   "cell_type": "code",
   "execution_count": 44,
   "metadata": {},
   "outputs": [
    {
     "data": {
      "text/plain": [
       "['MejorModelo.joblib']"
      ]
     },
     "execution_count": 44,
     "metadata": {},
     "output_type": "execute_result"
    }
   ],
   "source": [
    "joblib.dump(mejor_modelo, 'MejorModelo.joblib')"
   ]
  },
  {
   "cell_type": "markdown",
   "metadata": {},
   "source": [
    "Si queremos recuperar el modelo, utilizaremos la función `load()`, especificando como parámetro la ruta del archivo creado previamente:"
   ]
  },
  {
   "cell_type": "code",
   "execution_count": 45,
   "metadata": {},
   "outputs": [],
   "source": [
    "modelo_final = joblib.load('MejorModelo.joblib')"
   ]
  },
  {
   "cell_type": "markdown",
   "metadata": {},
   "source": [
    "Con el modelo cargado podemos, por ejemplo, realizar la clasificación del mismo dato que utilizamos anteriormente:"
   ]
  },
  {
   "cell_type": "code",
   "execution_count": 46,
   "metadata": {},
   "outputs": [
    {
     "data": {
      "text/plain": [
       "array([[0.63716811, 0.36283189]])"
      ]
     },
     "execution_count": 46,
     "metadata": {},
     "output_type": "execute_result"
    }
   ],
   "source": [
    "modelo_final.predict_proba([x_clasif])"
   ]
  },
  {
   "cell_type": "markdown",
   "metadata": {},
   "source": [
    "## Cierre\n",
    "\n",
    "En este tutorial hemos utilizado nuevas clases de scikit-learn para entrenar y evaluar modelos de clasificación usando regresión logística. Específicamente, observamos cómo codificar variables categóricas usando la codificación One Hot, realizamos una búsqueda exhaustiva de hiperparámetros y aplicamos una técnica básica de balanceo de clases. Finalmente, observamos cómo se realiza una clasificación y persistimos nuestro mejor modelo.\n",
    "\n",
    "---\n",
    "Si quieres más información sobre regresión logística en `scikit_learn` puedes consultar el [sitio web oficial](https://scikit-learn.org/stable/modules/generated/sklearn.linear_model.LogisticRegression.html)\n",
    "\n",
    "Para la estandarización de datos con la clase `StandardScaler()` puedes consultar [este enlace](https://scikit-learn.org/stable/modules/generated/sklearn.preprocessing.StandardScaler.html)\n",
    "\n",
    "Para la búsqueda de hiperparámetros con la clase `GridSearchCV()` puedes consultar [este enlace](https://scikit-learn.org/stable/modules/generated/sklearn.model_selection.GridSearchCV.html)\n",
    "\n",
    "Para obtener más información sobre las métricas de rendimiento para clasificación en `scikit_learn` puedes consultar: [accuracy_score](https://scikit-learn.org/stable/modules/generated/sklearn.metrics.accuracy_score.html), [recall_score](https://scikit-learn.org/stable/modules/generated/sklearn.metrics.recall_score.html), [precision_score](https://scikit-learn.org/stable/modules/generated/sklearn.metrics.precision_score.html) y [f1_score](https://scikit-learn.org/stable/modules/generated/sklearn.metrics.f1_score.html)\n",
    "\n",
    "Para obtener más información sobre el reporte de clasificación `classification_report()` puedes ir [aquí](https://scikit-learn.org/stable/modules/generated/sklearn.metrics.classification_report.html)\n",
    "\n",
    "Finalmente, para obtener más información sobre persistencia usando `joblib` puedes consultar el [sitio web oficial](https://joblib.readthedocs.io/en/latest/persistence.html)"
   ]
  }
 ],
 "metadata": {
  "kernelspec": {
   "display_name": "Python 3",
   "language": "python",
   "name": "python3"
  },
  "language_info": {
   "codemirror_mode": {
    "name": "ipython",
    "version": 3
   },
   "file_extension": ".py",
   "mimetype": "text/x-python",
   "name": "python",
   "nbconvert_exporter": "python",
   "pygments_lexer": "ipython3",
   "version": "3.7.6"
  }
 },
 "nbformat": 4,
 "nbformat_minor": 4
}
