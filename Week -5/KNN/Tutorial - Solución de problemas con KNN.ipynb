{
 "cells": [
  {
   "cell_type": "markdown",
   "metadata": {},
   "source": [
    "# Solución de problemas con KNN\n",
    "\n",
    "En este tutorial aprenderás cómo crear un modelo de clasificación haciendo uso del algoritmo KNN (K vecinos más cercanos). En particular, realizarás una selección de hiperparámetros mediante una curva de validación, evaluando el mejor modelo de clasificación resultante. En este sentido, veremos cómo realizar los siguientes procesos:\n",
    "\n",
    "1. Importar las librerías necesarias.\n",
    "2. Cargar un conjunto de datos.\n",
    "3. Explorar el conjunto de datos.\n",
    "4. Limpiar y preparar los datos para el modelado.\n",
    "5. Graficar una curva de validación para el hiperparámetro K.\n",
    "6. Evaluar el mejor modelo resultante.\n",
    "\n",
    "Utilizaremos el conjunto de datos correspondiente a la compra de seguros de viaje. En este problema queremos predecir si una persona va a comprar un seguro de viaje dependiendo de factores como su edad, salario, educación, entre otros."
   ]
  },
  {
   "cell_type": "markdown",
   "metadata": {},
   "source": [
    "## 1. Importación de librerías requeridas\n",
    "\n",
    "Importaremos las librerías `pandas`, `matplotlib`, `numpy` y `scikit-learn`. En particular, usaremos las siguientes clases y funciones para entrenar y evaluar el modelo de KNN:\n",
    "\n",
    "* `KNeighborsClassifier()`: clase para crear el modelo de KNN.\n",
    "* `StandardScaler()`: clase para estandarizar los datos.\n",
    "* `validation_curve()`: función para generar las métricas de desempeño en una curva de validación.\n",
    "* `classification_report()`: función para obtener un reporte con las métricas por clase.\n",
    "* `plot_confusion_matrix()`: función para graficar la matriz de confusión."
   ]
  },
  {
   "cell_type": "code",
   "execution_count": 1,
   "metadata": {},
   "outputs": [],
   "source": [
    "import pandas as pd\n",
    "import matplotlib.pyplot as plt\n",
    "import numpy as np\n",
    "\n",
    "from sklearn.neighbors import KNeighborsClassifier\n",
    "from sklearn.preprocessing import StandardScaler\n",
    "from sklearn.model_selection import train_test_split, validation_curve\n",
    "from sklearn.metrics import classification_report, plot_confusion_matrix"
   ]
  },
  {
   "cell_type": "markdown",
   "metadata": {},
   "source": [
    "## 2. Carga de datos\n",
    "\n",
    "Realizaremos la carga de datos usando la función de Pandas `read_csv()`, especificando la ruta y el separador del archivo:"
   ]
  },
  {
   "cell_type": "code",
   "execution_count": 2,
   "metadata": {},
   "outputs": [],
   "source": [
    "data_raw = pd.read_csv('data/TravelInsurancePrediction.csv', sep=',')"
   ]
  },
  {
   "cell_type": "markdown",
   "metadata": {},
   "source": [
    "Veamos los primeros datos del conjunto utilizando `head()`:"
   ]
  },
  {
   "cell_type": "code",
   "execution_count": 3,
   "metadata": {
    "scrolled": true
   },
   "outputs": [
    {
     "data": {
      "text/html": [
       "<div>\n",
       "<style scoped>\n",
       "    .dataframe tbody tr th:only-of-type {\n",
       "        vertical-align: middle;\n",
       "    }\n",
       "\n",
       "    .dataframe tbody tr th {\n",
       "        vertical-align: top;\n",
       "    }\n",
       "\n",
       "    .dataframe thead th {\n",
       "        text-align: right;\n",
       "    }\n",
       "</style>\n",
       "<table border=\"1\" class=\"dataframe\">\n",
       "  <thead>\n",
       "    <tr style=\"text-align: right;\">\n",
       "      <th></th>\n",
       "      <th>Index</th>\n",
       "      <th>Age</th>\n",
       "      <th>Employment Type</th>\n",
       "      <th>GraduateOrNot</th>\n",
       "      <th>AnnualIncome</th>\n",
       "      <th>FamilyMembers</th>\n",
       "      <th>ChronicDiseases</th>\n",
       "      <th>FrequentFlyer</th>\n",
       "      <th>EverTravelledAbroad</th>\n",
       "      <th>TravelInsurance</th>\n",
       "    </tr>\n",
       "  </thead>\n",
       "  <tbody>\n",
       "    <tr>\n",
       "      <th>0</th>\n",
       "      <td>0</td>\n",
       "      <td>31</td>\n",
       "      <td>Government Sector</td>\n",
       "      <td>Yes</td>\n",
       "      <td>400000</td>\n",
       "      <td>6</td>\n",
       "      <td>1</td>\n",
       "      <td>No</td>\n",
       "      <td>No</td>\n",
       "      <td>0</td>\n",
       "    </tr>\n",
       "    <tr>\n",
       "      <th>1</th>\n",
       "      <td>1</td>\n",
       "      <td>31</td>\n",
       "      <td>Private Sector/Self Employed</td>\n",
       "      <td>Yes</td>\n",
       "      <td>1250000</td>\n",
       "      <td>7</td>\n",
       "      <td>0</td>\n",
       "      <td>No</td>\n",
       "      <td>No</td>\n",
       "      <td>0</td>\n",
       "    </tr>\n",
       "    <tr>\n",
       "      <th>2</th>\n",
       "      <td>2</td>\n",
       "      <td>34</td>\n",
       "      <td>Private Sector/Self Employed</td>\n",
       "      <td>Yes</td>\n",
       "      <td>500000</td>\n",
       "      <td>4</td>\n",
       "      <td>1</td>\n",
       "      <td>No</td>\n",
       "      <td>No</td>\n",
       "      <td>1</td>\n",
       "    </tr>\n",
       "    <tr>\n",
       "      <th>3</th>\n",
       "      <td>3</td>\n",
       "      <td>28</td>\n",
       "      <td>Private Sector/Self Employed</td>\n",
       "      <td>Yes</td>\n",
       "      <td>700000</td>\n",
       "      <td>3</td>\n",
       "      <td>1</td>\n",
       "      <td>No</td>\n",
       "      <td>No</td>\n",
       "      <td>0</td>\n",
       "    </tr>\n",
       "    <tr>\n",
       "      <th>4</th>\n",
       "      <td>4</td>\n",
       "      <td>28</td>\n",
       "      <td>Private Sector/Self Employed</td>\n",
       "      <td>Yes</td>\n",
       "      <td>700000</td>\n",
       "      <td>8</td>\n",
       "      <td>1</td>\n",
       "      <td>Yes</td>\n",
       "      <td>No</td>\n",
       "      <td>0</td>\n",
       "    </tr>\n",
       "  </tbody>\n",
       "</table>\n",
       "</div>"
      ],
      "text/plain": [
       "   Index  Age               Employment Type GraduateOrNot  AnnualIncome  \\\n",
       "0      0   31             Government Sector           Yes        400000   \n",
       "1      1   31  Private Sector/Self Employed           Yes       1250000   \n",
       "2      2   34  Private Sector/Self Employed           Yes        500000   \n",
       "3      3   28  Private Sector/Self Employed           Yes        700000   \n",
       "4      4   28  Private Sector/Self Employed           Yes        700000   \n",
       "\n",
       "   FamilyMembers  ChronicDiseases FrequentFlyer EverTravelledAbroad  \\\n",
       "0              6                1            No                  No   \n",
       "1              7                0            No                  No   \n",
       "2              4                1            No                  No   \n",
       "3              3                1            No                  No   \n",
       "4              8                1           Yes                  No   \n",
       "\n",
       "   TravelInsurance  \n",
       "0                0  \n",
       "1                0  \n",
       "2                1  \n",
       "3                0  \n",
       "4                0  "
      ]
     },
     "execution_count": 3,
     "metadata": {},
     "output_type": "execute_result"
    }
   ],
   "source": [
    "data_raw.head()"
   ]
  },
  {
   "cell_type": "markdown",
   "metadata": {},
   "source": [
    "Como puedes observar, nuestro conjunto de datos contiene cuatro variables categóricas: `Employment Type`, `GraduateOrNot`, `FrequentFlyer` y `EverTravelledAbroad`."
   ]
  },
  {
   "cell_type": "markdown",
   "metadata": {},
   "source": [
    "## 3. Exploración del conjunto de datos\n",
    "\n",
    "Primero utilizaremos `data_raw.describe()` para obtener una descripción de las variables numéricas del conjunto de datos. Ten en cuenta que esta función también incluye variables categóricas con clases numéricas como, por ejemplo, la variable `ChronicDiseases` o la variable objetivo `TravelInsurance`. Mediciones como la media o la desviación estándar no tienen mucho sentido en este caso, por lo que no debes tener en cuenta esas columnas:"
   ]
  },
  {
   "cell_type": "code",
   "execution_count": 4,
   "metadata": {},
   "outputs": [
    {
     "data": {
      "text/html": [
       "<div>\n",
       "<style scoped>\n",
       "    .dataframe tbody tr th:only-of-type {\n",
       "        vertical-align: middle;\n",
       "    }\n",
       "\n",
       "    .dataframe tbody tr th {\n",
       "        vertical-align: top;\n",
       "    }\n",
       "\n",
       "    .dataframe thead th {\n",
       "        text-align: right;\n",
       "    }\n",
       "</style>\n",
       "<table border=\"1\" class=\"dataframe\">\n",
       "  <thead>\n",
       "    <tr style=\"text-align: right;\">\n",
       "      <th></th>\n",
       "      <th>Index</th>\n",
       "      <th>Age</th>\n",
       "      <th>AnnualIncome</th>\n",
       "      <th>FamilyMembers</th>\n",
       "      <th>ChronicDiseases</th>\n",
       "      <th>TravelInsurance</th>\n",
       "    </tr>\n",
       "  </thead>\n",
       "  <tbody>\n",
       "    <tr>\n",
       "      <th>count</th>\n",
       "      <td>1987.000000</td>\n",
       "      <td>1987.000000</td>\n",
       "      <td>1.987000e+03</td>\n",
       "      <td>1987.000000</td>\n",
       "      <td>1987.000000</td>\n",
       "      <td>1987.000000</td>\n",
       "    </tr>\n",
       "    <tr>\n",
       "      <th>mean</th>\n",
       "      <td>993.000000</td>\n",
       "      <td>29.650226</td>\n",
       "      <td>9.327630e+05</td>\n",
       "      <td>4.752894</td>\n",
       "      <td>0.277806</td>\n",
       "      <td>0.357323</td>\n",
       "    </tr>\n",
       "    <tr>\n",
       "      <th>std</th>\n",
       "      <td>573.741812</td>\n",
       "      <td>2.913308</td>\n",
       "      <td>3.768557e+05</td>\n",
       "      <td>1.609650</td>\n",
       "      <td>0.448030</td>\n",
       "      <td>0.479332</td>\n",
       "    </tr>\n",
       "    <tr>\n",
       "      <th>min</th>\n",
       "      <td>0.000000</td>\n",
       "      <td>25.000000</td>\n",
       "      <td>3.000000e+05</td>\n",
       "      <td>2.000000</td>\n",
       "      <td>0.000000</td>\n",
       "      <td>0.000000</td>\n",
       "    </tr>\n",
       "    <tr>\n",
       "      <th>25%</th>\n",
       "      <td>496.500000</td>\n",
       "      <td>28.000000</td>\n",
       "      <td>6.000000e+05</td>\n",
       "      <td>4.000000</td>\n",
       "      <td>0.000000</td>\n",
       "      <td>0.000000</td>\n",
       "    </tr>\n",
       "    <tr>\n",
       "      <th>50%</th>\n",
       "      <td>993.000000</td>\n",
       "      <td>29.000000</td>\n",
       "      <td>9.000000e+05</td>\n",
       "      <td>5.000000</td>\n",
       "      <td>0.000000</td>\n",
       "      <td>0.000000</td>\n",
       "    </tr>\n",
       "    <tr>\n",
       "      <th>75%</th>\n",
       "      <td>1489.500000</td>\n",
       "      <td>32.000000</td>\n",
       "      <td>1.250000e+06</td>\n",
       "      <td>6.000000</td>\n",
       "      <td>1.000000</td>\n",
       "      <td>1.000000</td>\n",
       "    </tr>\n",
       "    <tr>\n",
       "      <th>max</th>\n",
       "      <td>1986.000000</td>\n",
       "      <td>35.000000</td>\n",
       "      <td>1.800000e+06</td>\n",
       "      <td>9.000000</td>\n",
       "      <td>1.000000</td>\n",
       "      <td>1.000000</td>\n",
       "    </tr>\n",
       "  </tbody>\n",
       "</table>\n",
       "</div>"
      ],
      "text/plain": [
       "             Index          Age  AnnualIncome  FamilyMembers  ChronicDiseases  \\\n",
       "count  1987.000000  1987.000000  1.987000e+03    1987.000000      1987.000000   \n",
       "mean    993.000000    29.650226  9.327630e+05       4.752894         0.277806   \n",
       "std     573.741812     2.913308  3.768557e+05       1.609650         0.448030   \n",
       "min       0.000000    25.000000  3.000000e+05       2.000000         0.000000   \n",
       "25%     496.500000    28.000000  6.000000e+05       4.000000         0.000000   \n",
       "50%     993.000000    29.000000  9.000000e+05       5.000000         0.000000   \n",
       "75%    1489.500000    32.000000  1.250000e+06       6.000000         1.000000   \n",
       "max    1986.000000    35.000000  1.800000e+06       9.000000         1.000000   \n",
       "\n",
       "       TravelInsurance  \n",
       "count      1987.000000  \n",
       "mean          0.357323  \n",
       "std           0.479332  \n",
       "min           0.000000  \n",
       "25%           0.000000  \n",
       "50%           0.000000  \n",
       "75%           1.000000  \n",
       "max           1.000000  "
      ]
     },
     "execution_count": 4,
     "metadata": {},
     "output_type": "execute_result"
    }
   ],
   "source": [
    "data_raw.describe()"
   ]
  },
  {
   "cell_type": "markdown",
   "metadata": {},
   "source": [
    "En cambio, podemos utilizar `value_counts` para obtener cada valor posible de las variables categóricas y su frecuencia de aparición sobre el total de los datos. Por ejemplo, obtendremos la distribución de valores para la variable `ChronicDiseases`:"
   ]
  },
  {
   "cell_type": "code",
   "execution_count": 5,
   "metadata": {},
   "outputs": [
    {
     "data": {
      "text/plain": [
       "0    1435\n",
       "1     552\n",
       "Name: ChronicDiseases, dtype: int64"
      ]
     },
     "execution_count": 5,
     "metadata": {},
     "output_type": "execute_result"
    }
   ],
   "source": [
    "pd.value_counts(data_raw['ChronicDiseases'])"
   ]
  },
  {
   "cell_type": "markdown",
   "metadata": {},
   "source": [
    "Si tienes variables categóricas con los mismos posibles valores (por ejemplo `Yes` y `No`), puedes utilizar la función `apply()` para ejecutar la función `value_counts` sobre todas las columnas simultáneamente (**Nota:** también puedes usar esta función con variables que no tengan los mismos posibles valores. En ese caso, se creará una fila para cada valor único, llenando las celdas con `NaN` en donde no se encuentre el valor):"
   ]
  },
  {
   "cell_type": "code",
   "execution_count": 6,
   "metadata": {},
   "outputs": [
    {
     "data": {
      "text/html": [
       "<div>\n",
       "<style scoped>\n",
       "    .dataframe tbody tr th:only-of-type {\n",
       "        vertical-align: middle;\n",
       "    }\n",
       "\n",
       "    .dataframe tbody tr th {\n",
       "        vertical-align: top;\n",
       "    }\n",
       "\n",
       "    .dataframe thead th {\n",
       "        text-align: right;\n",
       "    }\n",
       "</style>\n",
       "<table border=\"1\" class=\"dataframe\">\n",
       "  <thead>\n",
       "    <tr style=\"text-align: right;\">\n",
       "      <th></th>\n",
       "      <th>GraduateOrNot</th>\n",
       "      <th>FrequentFlyer</th>\n",
       "      <th>EverTravelledAbroad</th>\n",
       "    </tr>\n",
       "  </thead>\n",
       "  <tbody>\n",
       "    <tr>\n",
       "      <th>No</th>\n",
       "      <td>295</td>\n",
       "      <td>1570</td>\n",
       "      <td>1607</td>\n",
       "    </tr>\n",
       "    <tr>\n",
       "      <th>Yes</th>\n",
       "      <td>1692</td>\n",
       "      <td>417</td>\n",
       "      <td>380</td>\n",
       "    </tr>\n",
       "  </tbody>\n",
       "</table>\n",
       "</div>"
      ],
      "text/plain": [
       "     GraduateOrNot  FrequentFlyer  EverTravelledAbroad\n",
       "No             295           1570                 1607\n",
       "Yes           1692            417                  380"
      ]
     },
     "execution_count": 6,
     "metadata": {},
     "output_type": "execute_result"
    }
   ],
   "source": [
    "data_raw[['GraduateOrNot','FrequentFlyer','EverTravelledAbroad']].apply(pd.value_counts)"
   ]
  },
  {
   "cell_type": "markdown",
   "metadata": {},
   "source": [
    "## 4. Limpieza y preparación de datos\n",
    "\n",
    "Primero vamos a definir la variable `data` para almacenar un conjunto de datos modificado, utilizando el método `copy()`:"
   ]
  },
  {
   "cell_type": "code",
   "execution_count": 7,
   "metadata": {},
   "outputs": [],
   "source": [
    "data = data_raw.copy()"
   ]
  },
  {
   "cell_type": "markdown",
   "metadata": {},
   "source": [
    "### Eliminación de variables poco relevantes\n",
    "\n",
    "Este conjunto de datos solo tiene una variable poco relevante para predecir si el cliente va a comprar un seguro de viajes: `Index`. Haciendo uso de la función `drop()`, eliminaremos esta variable del DataFrame:"
   ]
  },
  {
   "cell_type": "code",
   "execution_count": 8,
   "metadata": {},
   "outputs": [],
   "source": [
    "data = data.drop('Index', axis=1)"
   ]
  },
  {
   "cell_type": "markdown",
   "metadata": {},
   "source": [
    "### Eliminación de nulos y duplicados\n",
    "\n",
    "Posteriormente, revisaremos si nuestros datos contienen datos nulos usando `isna().sum()`:"
   ]
  },
  {
   "cell_type": "code",
   "execution_count": 9,
   "metadata": {},
   "outputs": [
    {
     "data": {
      "text/plain": [
       "Age                    0\n",
       "Employment Type        0\n",
       "GraduateOrNot          0\n",
       "AnnualIncome           0\n",
       "FamilyMembers          0\n",
       "ChronicDiseases        0\n",
       "FrequentFlyer          0\n",
       "EverTravelledAbroad    0\n",
       "TravelInsurance        0\n",
       "dtype: int64"
      ]
     },
     "execution_count": 9,
     "metadata": {},
     "output_type": "execute_result"
    }
   ],
   "source": [
    "data.isna().sum()"
   ]
  },
  {
   "cell_type": "markdown",
   "metadata": {},
   "source": [
    "Como no se tienen datos nulos, no tendremos que realizar ninguna modificación para tratarlos. Ahora veremos si hay duplicados utilizando `duplicated().sum()`:"
   ]
  },
  {
   "cell_type": "code",
   "execution_count": 10,
   "metadata": {},
   "outputs": [
    {
     "data": {
      "text/plain": [
       "738"
      ]
     },
     "execution_count": 10,
     "metadata": {},
     "output_type": "execute_result"
    }
   ],
   "source": [
    "data.duplicated().sum()"
   ]
  },
  {
   "cell_type": "markdown",
   "metadata": {},
   "source": [
    "Como tenemos 738 datos duplicados, usaremos `drop_duplicates()` para eliminarlos:"
   ]
  },
  {
   "cell_type": "code",
   "execution_count": 11,
   "metadata": {},
   "outputs": [],
   "source": [
    "data = data.drop_duplicates()"
   ]
  },
  {
   "cell_type": "markdown",
   "metadata": {},
   "source": [
    "Finalmente, veremos las dimensiones del conjunto de datos modificado usando `data.shape`:"
   ]
  },
  {
   "cell_type": "code",
   "execution_count": 12,
   "metadata": {},
   "outputs": [
    {
     "data": {
      "text/plain": [
       "(1249, 9)"
      ]
     },
     "execution_count": 12,
     "metadata": {},
     "output_type": "execute_result"
    }
   ],
   "source": [
    "data.shape"
   ]
  },
  {
   "cell_type": "markdown",
   "metadata": {},
   "source": [
    "### Transformación de variables categóricas\n",
    "\n",
    "Debido a que KNN calcula distancias entre un punto particular y los puntos a su alrededor, es necesario tratar nuestras variables categóricas para que sea posible incluirlas en el entrenamiento como variables numéricas. Usaremos la función `get_dummies()`, pasando por parámetro el conjunto de datos:"
   ]
  },
  {
   "cell_type": "code",
   "execution_count": 13,
   "metadata": {},
   "outputs": [],
   "source": [
    "data = pd.get_dummies(data)"
   ]
  },
  {
   "cell_type": "markdown",
   "metadata": {},
   "source": [
    "Veremos el resultado de la codificación usando `data.head()`:"
   ]
  },
  {
   "cell_type": "code",
   "execution_count": 14,
   "metadata": {},
   "outputs": [
    {
     "data": {
      "text/html": [
       "<div>\n",
       "<style scoped>\n",
       "    .dataframe tbody tr th:only-of-type {\n",
       "        vertical-align: middle;\n",
       "    }\n",
       "\n",
       "    .dataframe tbody tr th {\n",
       "        vertical-align: top;\n",
       "    }\n",
       "\n",
       "    .dataframe thead th {\n",
       "        text-align: right;\n",
       "    }\n",
       "</style>\n",
       "<table border=\"1\" class=\"dataframe\">\n",
       "  <thead>\n",
       "    <tr style=\"text-align: right;\">\n",
       "      <th></th>\n",
       "      <th>Age</th>\n",
       "      <th>AnnualIncome</th>\n",
       "      <th>FamilyMembers</th>\n",
       "      <th>ChronicDiseases</th>\n",
       "      <th>TravelInsurance</th>\n",
       "      <th>Employment Type_Government Sector</th>\n",
       "      <th>Employment Type_Private Sector/Self Employed</th>\n",
       "      <th>GraduateOrNot_No</th>\n",
       "      <th>GraduateOrNot_Yes</th>\n",
       "      <th>FrequentFlyer_No</th>\n",
       "      <th>FrequentFlyer_Yes</th>\n",
       "      <th>EverTravelledAbroad_No</th>\n",
       "      <th>EverTravelledAbroad_Yes</th>\n",
       "    </tr>\n",
       "  </thead>\n",
       "  <tbody>\n",
       "    <tr>\n",
       "      <th>0</th>\n",
       "      <td>31</td>\n",
       "      <td>400000</td>\n",
       "      <td>6</td>\n",
       "      <td>1</td>\n",
       "      <td>0</td>\n",
       "      <td>1</td>\n",
       "      <td>0</td>\n",
       "      <td>0</td>\n",
       "      <td>1</td>\n",
       "      <td>1</td>\n",
       "      <td>0</td>\n",
       "      <td>1</td>\n",
       "      <td>0</td>\n",
       "    </tr>\n",
       "    <tr>\n",
       "      <th>1</th>\n",
       "      <td>31</td>\n",
       "      <td>1250000</td>\n",
       "      <td>7</td>\n",
       "      <td>0</td>\n",
       "      <td>0</td>\n",
       "      <td>0</td>\n",
       "      <td>1</td>\n",
       "      <td>0</td>\n",
       "      <td>1</td>\n",
       "      <td>1</td>\n",
       "      <td>0</td>\n",
       "      <td>1</td>\n",
       "      <td>0</td>\n",
       "    </tr>\n",
       "    <tr>\n",
       "      <th>2</th>\n",
       "      <td>34</td>\n",
       "      <td>500000</td>\n",
       "      <td>4</td>\n",
       "      <td>1</td>\n",
       "      <td>1</td>\n",
       "      <td>0</td>\n",
       "      <td>1</td>\n",
       "      <td>0</td>\n",
       "      <td>1</td>\n",
       "      <td>1</td>\n",
       "      <td>0</td>\n",
       "      <td>1</td>\n",
       "      <td>0</td>\n",
       "    </tr>\n",
       "    <tr>\n",
       "      <th>3</th>\n",
       "      <td>28</td>\n",
       "      <td>700000</td>\n",
       "      <td>3</td>\n",
       "      <td>1</td>\n",
       "      <td>0</td>\n",
       "      <td>0</td>\n",
       "      <td>1</td>\n",
       "      <td>0</td>\n",
       "      <td>1</td>\n",
       "      <td>1</td>\n",
       "      <td>0</td>\n",
       "      <td>1</td>\n",
       "      <td>0</td>\n",
       "    </tr>\n",
       "    <tr>\n",
       "      <th>4</th>\n",
       "      <td>28</td>\n",
       "      <td>700000</td>\n",
       "      <td>8</td>\n",
       "      <td>1</td>\n",
       "      <td>0</td>\n",
       "      <td>0</td>\n",
       "      <td>1</td>\n",
       "      <td>0</td>\n",
       "      <td>1</td>\n",
       "      <td>0</td>\n",
       "      <td>1</td>\n",
       "      <td>1</td>\n",
       "      <td>0</td>\n",
       "    </tr>\n",
       "  </tbody>\n",
       "</table>\n",
       "</div>"
      ],
      "text/plain": [
       "   Age  AnnualIncome  FamilyMembers  ChronicDiseases  TravelInsurance  \\\n",
       "0   31        400000              6                1                0   \n",
       "1   31       1250000              7                0                0   \n",
       "2   34        500000              4                1                1   \n",
       "3   28        700000              3                1                0   \n",
       "4   28        700000              8                1                0   \n",
       "\n",
       "   Employment Type_Government Sector  \\\n",
       "0                                  1   \n",
       "1                                  0   \n",
       "2                                  0   \n",
       "3                                  0   \n",
       "4                                  0   \n",
       "\n",
       "   Employment Type_Private Sector/Self Employed  GraduateOrNot_No  \\\n",
       "0                                             0                 0   \n",
       "1                                             1                 0   \n",
       "2                                             1                 0   \n",
       "3                                             1                 0   \n",
       "4                                             1                 0   \n",
       "\n",
       "   GraduateOrNot_Yes  FrequentFlyer_No  FrequentFlyer_Yes  \\\n",
       "0                  1                 1                  0   \n",
       "1                  1                 1                  0   \n",
       "2                  1                 1                  0   \n",
       "3                  1                 1                  0   \n",
       "4                  1                 0                  1   \n",
       "\n",
       "   EverTravelledAbroad_No  EverTravelledAbroad_Yes  \n",
       "0                       1                        0  \n",
       "1                       1                        0  \n",
       "2                       1                        0  \n",
       "3                       1                        0  \n",
       "4                       1                        0  "
      ]
     },
     "execution_count": 14,
     "metadata": {},
     "output_type": "execute_result"
    }
   ],
   "source": [
    "data.head()"
   ]
  },
  {
   "cell_type": "markdown",
   "metadata": {},
   "source": [
    "### División de datos\n",
    "\n",
    "Ahora dividiremos el conjunto de datos resultante en un conjunto de entrenamiento y uno de pruebas mediante la función `train_test_split()`. Usaremos el 80% de los datos para el entrenamiento y el 20% restante para las pruebas:"
   ]
  },
  {
   "cell_type": "code",
   "execution_count": 15,
   "metadata": {},
   "outputs": [
    {
     "data": {
      "text/html": [
       "<div>\n",
       "<style scoped>\n",
       "    .dataframe tbody tr th:only-of-type {\n",
       "        vertical-align: middle;\n",
       "    }\n",
       "\n",
       "    .dataframe tbody tr th {\n",
       "        vertical-align: top;\n",
       "    }\n",
       "\n",
       "    .dataframe thead th {\n",
       "        text-align: right;\n",
       "    }\n",
       "</style>\n",
       "<table border=\"1\" class=\"dataframe\">\n",
       "  <thead>\n",
       "    <tr style=\"text-align: right;\">\n",
       "      <th></th>\n",
       "      <th>Age</th>\n",
       "      <th>AnnualIncome</th>\n",
       "      <th>FamilyMembers</th>\n",
       "      <th>ChronicDiseases</th>\n",
       "      <th>TravelInsurance</th>\n",
       "      <th>Employment Type_Government Sector</th>\n",
       "      <th>Employment Type_Private Sector/Self Employed</th>\n",
       "      <th>GraduateOrNot_No</th>\n",
       "      <th>GraduateOrNot_Yes</th>\n",
       "      <th>FrequentFlyer_No</th>\n",
       "      <th>FrequentFlyer_Yes</th>\n",
       "      <th>EverTravelledAbroad_No</th>\n",
       "      <th>EverTravelledAbroad_Yes</th>\n",
       "    </tr>\n",
       "  </thead>\n",
       "  <tbody>\n",
       "    <tr>\n",
       "      <th>722</th>\n",
       "      <td>33</td>\n",
       "      <td>400000</td>\n",
       "      <td>8</td>\n",
       "      <td>0</td>\n",
       "      <td>1</td>\n",
       "      <td>1</td>\n",
       "      <td>0</td>\n",
       "      <td>0</td>\n",
       "      <td>1</td>\n",
       "      <td>1</td>\n",
       "      <td>0</td>\n",
       "      <td>1</td>\n",
       "      <td>0</td>\n",
       "    </tr>\n",
       "    <tr>\n",
       "      <th>1263</th>\n",
       "      <td>28</td>\n",
       "      <td>600000</td>\n",
       "      <td>7</td>\n",
       "      <td>1</td>\n",
       "      <td>0</td>\n",
       "      <td>1</td>\n",
       "      <td>0</td>\n",
       "      <td>0</td>\n",
       "      <td>1</td>\n",
       "      <td>1</td>\n",
       "      <td>0</td>\n",
       "      <td>1</td>\n",
       "      <td>0</td>\n",
       "    </tr>\n",
       "    <tr>\n",
       "      <th>1690</th>\n",
       "      <td>35</td>\n",
       "      <td>800000</td>\n",
       "      <td>6</td>\n",
       "      <td>1</td>\n",
       "      <td>1</td>\n",
       "      <td>0</td>\n",
       "      <td>1</td>\n",
       "      <td>1</td>\n",
       "      <td>0</td>\n",
       "      <td>1</td>\n",
       "      <td>0</td>\n",
       "      <td>0</td>\n",
       "      <td>1</td>\n",
       "    </tr>\n",
       "    <tr>\n",
       "      <th>263</th>\n",
       "      <td>35</td>\n",
       "      <td>800000</td>\n",
       "      <td>4</td>\n",
       "      <td>0</td>\n",
       "      <td>0</td>\n",
       "      <td>0</td>\n",
       "      <td>1</td>\n",
       "      <td>1</td>\n",
       "      <td>0</td>\n",
       "      <td>1</td>\n",
       "      <td>0</td>\n",
       "      <td>1</td>\n",
       "      <td>0</td>\n",
       "    </tr>\n",
       "    <tr>\n",
       "      <th>913</th>\n",
       "      <td>31</td>\n",
       "      <td>1400000</td>\n",
       "      <td>4</td>\n",
       "      <td>0</td>\n",
       "      <td>1</td>\n",
       "      <td>0</td>\n",
       "      <td>1</td>\n",
       "      <td>0</td>\n",
       "      <td>1</td>\n",
       "      <td>1</td>\n",
       "      <td>0</td>\n",
       "      <td>0</td>\n",
       "      <td>1</td>\n",
       "    </tr>\n",
       "  </tbody>\n",
       "</table>\n",
       "</div>"
      ],
      "text/plain": [
       "      Age  AnnualIncome  FamilyMembers  ChronicDiseases  TravelInsurance  \\\n",
       "722    33        400000              8                0                1   \n",
       "1263   28        600000              7                1                0   \n",
       "1690   35        800000              6                1                1   \n",
       "263    35        800000              4                0                0   \n",
       "913    31       1400000              4                0                1   \n",
       "\n",
       "      Employment Type_Government Sector  \\\n",
       "722                                   1   \n",
       "1263                                  1   \n",
       "1690                                  0   \n",
       "263                                   0   \n",
       "913                                   0   \n",
       "\n",
       "      Employment Type_Private Sector/Self Employed  GraduateOrNot_No  \\\n",
       "722                                              0                 0   \n",
       "1263                                             0                 0   \n",
       "1690                                             1                 1   \n",
       "263                                              1                 1   \n",
       "913                                              1                 0   \n",
       "\n",
       "      GraduateOrNot_Yes  FrequentFlyer_No  FrequentFlyer_Yes  \\\n",
       "722                   1                 1                  0   \n",
       "1263                  1                 1                  0   \n",
       "1690                  0                 1                  0   \n",
       "263                   0                 1                  0   \n",
       "913                   1                 1                  0   \n",
       "\n",
       "      EverTravelledAbroad_No  EverTravelledAbroad_Yes  \n",
       "722                        1                        0  \n",
       "1263                       1                        0  \n",
       "1690                       0                        1  \n",
       "263                        1                        0  \n",
       "913                        0                        1  "
      ]
     },
     "execution_count": 15,
     "metadata": {},
     "output_type": "execute_result"
    }
   ],
   "source": [
    "train, test = train_test_split(data, test_size=0.2, random_state=9)\n",
    "train.head()"
   ]
  },
  {
   "cell_type": "markdown",
   "metadata": {},
   "source": [
    "Además, separaremos la variable objetivo `TravelInsurance` de las variables descriptoras:"
   ]
  },
  {
   "cell_type": "code",
   "execution_count": 16,
   "metadata": {},
   "outputs": [],
   "source": [
    "x_train = train.drop(['TravelInsurance'],axis=1)\n",
    "y_train = train['TravelInsurance']"
   ]
  },
  {
   "cell_type": "markdown",
   "metadata": {},
   "source": [
    "### Estandarización\n",
    "\n",
    "KNN calcula distancias entre puntos, por lo que realizaremos una estandarización para que la escala de una variable no tenga influencia sobre la clasificación. Utilizaremos un objeto de la clase `StandardScaler()` que, por cada variable, elimina la media y la escala hasta llegar a una varianza unitaria, y reconstruiremos el DataFrame utilizando la variable `columns`, que almacena la información de las columnas:"
   ]
  },
  {
   "cell_type": "code",
   "execution_count": 17,
   "metadata": {},
   "outputs": [
    {
     "data": {
      "text/html": [
       "<div>\n",
       "<style scoped>\n",
       "    .dataframe tbody tr th:only-of-type {\n",
       "        vertical-align: middle;\n",
       "    }\n",
       "\n",
       "    .dataframe tbody tr th {\n",
       "        vertical-align: top;\n",
       "    }\n",
       "\n",
       "    .dataframe thead th {\n",
       "        text-align: right;\n",
       "    }\n",
       "</style>\n",
       "<table border=\"1\" class=\"dataframe\">\n",
       "  <thead>\n",
       "    <tr style=\"text-align: right;\">\n",
       "      <th></th>\n",
       "      <th>Age</th>\n",
       "      <th>AnnualIncome</th>\n",
       "      <th>FamilyMembers</th>\n",
       "      <th>ChronicDiseases</th>\n",
       "      <th>Employment Type_Government Sector</th>\n",
       "      <th>Employment Type_Private Sector/Self Employed</th>\n",
       "      <th>GraduateOrNot_No</th>\n",
       "      <th>GraduateOrNot_Yes</th>\n",
       "      <th>FrequentFlyer_No</th>\n",
       "      <th>FrequentFlyer_Yes</th>\n",
       "      <th>EverTravelledAbroad_No</th>\n",
       "      <th>EverTravelledAbroad_Yes</th>\n",
       "    </tr>\n",
       "  </thead>\n",
       "  <tbody>\n",
       "    <tr>\n",
       "      <th>0</th>\n",
       "      <td>1.099995</td>\n",
       "      <td>-1.470880</td>\n",
       "      <td>1.765676</td>\n",
       "      <td>-0.715085</td>\n",
       "      <td>1.519193</td>\n",
       "      <td>-1.519193</td>\n",
       "      <td>-0.454447</td>\n",
       "      <td>0.454447</td>\n",
       "      <td>0.56078</td>\n",
       "      <td>-0.56078</td>\n",
       "      <td>0.492481</td>\n",
       "      <td>-0.492481</td>\n",
       "    </tr>\n",
       "    <tr>\n",
       "      <th>1</th>\n",
       "      <td>-0.593739</td>\n",
       "      <td>-0.919455</td>\n",
       "      <td>1.197406</td>\n",
       "      <td>1.398435</td>\n",
       "      <td>1.519193</td>\n",
       "      <td>-1.519193</td>\n",
       "      <td>-0.454447</td>\n",
       "      <td>0.454447</td>\n",
       "      <td>0.56078</td>\n",
       "      <td>-0.56078</td>\n",
       "      <td>0.492481</td>\n",
       "      <td>-0.492481</td>\n",
       "    </tr>\n",
       "    <tr>\n",
       "      <th>2</th>\n",
       "      <td>1.777488</td>\n",
       "      <td>-0.368030</td>\n",
       "      <td>0.629136</td>\n",
       "      <td>1.398435</td>\n",
       "      <td>-0.658244</td>\n",
       "      <td>0.658244</td>\n",
       "      <td>2.200478</td>\n",
       "      <td>-2.200478</td>\n",
       "      <td>0.56078</td>\n",
       "      <td>-0.56078</td>\n",
       "      <td>-2.030536</td>\n",
       "      <td>2.030536</td>\n",
       "    </tr>\n",
       "    <tr>\n",
       "      <th>3</th>\n",
       "      <td>1.777488</td>\n",
       "      <td>-0.368030</td>\n",
       "      <td>-0.507404</td>\n",
       "      <td>-0.715085</td>\n",
       "      <td>-0.658244</td>\n",
       "      <td>0.658244</td>\n",
       "      <td>2.200478</td>\n",
       "      <td>-2.200478</td>\n",
       "      <td>0.56078</td>\n",
       "      <td>-0.56078</td>\n",
       "      <td>0.492481</td>\n",
       "      <td>-0.492481</td>\n",
       "    </tr>\n",
       "    <tr>\n",
       "      <th>4</th>\n",
       "      <td>0.422501</td>\n",
       "      <td>1.286244</td>\n",
       "      <td>-0.507404</td>\n",
       "      <td>-0.715085</td>\n",
       "      <td>-0.658244</td>\n",
       "      <td>0.658244</td>\n",
       "      <td>-0.454447</td>\n",
       "      <td>0.454447</td>\n",
       "      <td>0.56078</td>\n",
       "      <td>-0.56078</td>\n",
       "      <td>-2.030536</td>\n",
       "      <td>2.030536</td>\n",
       "    </tr>\n",
       "    <tr>\n",
       "      <th>...</th>\n",
       "      <td>...</td>\n",
       "      <td>...</td>\n",
       "      <td>...</td>\n",
       "      <td>...</td>\n",
       "      <td>...</td>\n",
       "      <td>...</td>\n",
       "      <td>...</td>\n",
       "      <td>...</td>\n",
       "      <td>...</td>\n",
       "      <td>...</td>\n",
       "      <td>...</td>\n",
       "      <td>...</td>\n",
       "    </tr>\n",
       "    <tr>\n",
       "      <th>994</th>\n",
       "      <td>-0.593739</td>\n",
       "      <td>-1.057311</td>\n",
       "      <td>-1.075675</td>\n",
       "      <td>-0.715085</td>\n",
       "      <td>-0.658244</td>\n",
       "      <td>0.658244</td>\n",
       "      <td>-0.454447</td>\n",
       "      <td>0.454447</td>\n",
       "      <td>0.56078</td>\n",
       "      <td>-0.56078</td>\n",
       "      <td>0.492481</td>\n",
       "      <td>-0.492481</td>\n",
       "    </tr>\n",
       "    <tr>\n",
       "      <th>995</th>\n",
       "      <td>-0.254993</td>\n",
       "      <td>-0.092318</td>\n",
       "      <td>2.333947</td>\n",
       "      <td>1.398435</td>\n",
       "      <td>-0.658244</td>\n",
       "      <td>0.658244</td>\n",
       "      <td>-0.454447</td>\n",
       "      <td>0.454447</td>\n",
       "      <td>0.56078</td>\n",
       "      <td>-0.56078</td>\n",
       "      <td>0.492481</td>\n",
       "      <td>-0.492481</td>\n",
       "    </tr>\n",
       "    <tr>\n",
       "      <th>996</th>\n",
       "      <td>1.438741</td>\n",
       "      <td>1.010531</td>\n",
       "      <td>0.060866</td>\n",
       "      <td>1.398435</td>\n",
       "      <td>1.519193</td>\n",
       "      <td>-1.519193</td>\n",
       "      <td>-0.454447</td>\n",
       "      <td>0.454447</td>\n",
       "      <td>0.56078</td>\n",
       "      <td>-0.56078</td>\n",
       "      <td>0.492481</td>\n",
       "      <td>-0.492481</td>\n",
       "    </tr>\n",
       "    <tr>\n",
       "      <th>997</th>\n",
       "      <td>0.422501</td>\n",
       "      <td>0.045538</td>\n",
       "      <td>-0.507404</td>\n",
       "      <td>1.398435</td>\n",
       "      <td>-0.658244</td>\n",
       "      <td>0.658244</td>\n",
       "      <td>-0.454447</td>\n",
       "      <td>0.454447</td>\n",
       "      <td>0.56078</td>\n",
       "      <td>-0.56078</td>\n",
       "      <td>0.492481</td>\n",
       "      <td>-0.492481</td>\n",
       "    </tr>\n",
       "    <tr>\n",
       "      <th>998</th>\n",
       "      <td>-0.593739</td>\n",
       "      <td>0.734819</td>\n",
       "      <td>-0.507404</td>\n",
       "      <td>1.398435</td>\n",
       "      <td>-0.658244</td>\n",
       "      <td>0.658244</td>\n",
       "      <td>-0.454447</td>\n",
       "      <td>0.454447</td>\n",
       "      <td>0.56078</td>\n",
       "      <td>-0.56078</td>\n",
       "      <td>-2.030536</td>\n",
       "      <td>2.030536</td>\n",
       "    </tr>\n",
       "  </tbody>\n",
       "</table>\n",
       "<p>999 rows × 12 columns</p>\n",
       "</div>"
      ],
      "text/plain": [
       "          Age  AnnualIncome  FamilyMembers  ChronicDiseases  \\\n",
       "0    1.099995     -1.470880       1.765676        -0.715085   \n",
       "1   -0.593739     -0.919455       1.197406         1.398435   \n",
       "2    1.777488     -0.368030       0.629136         1.398435   \n",
       "3    1.777488     -0.368030      -0.507404        -0.715085   \n",
       "4    0.422501      1.286244      -0.507404        -0.715085   \n",
       "..        ...           ...            ...              ...   \n",
       "994 -0.593739     -1.057311      -1.075675        -0.715085   \n",
       "995 -0.254993     -0.092318       2.333947         1.398435   \n",
       "996  1.438741      1.010531       0.060866         1.398435   \n",
       "997  0.422501      0.045538      -0.507404         1.398435   \n",
       "998 -0.593739      0.734819      -0.507404         1.398435   \n",
       "\n",
       "     Employment Type_Government Sector  \\\n",
       "0                             1.519193   \n",
       "1                             1.519193   \n",
       "2                            -0.658244   \n",
       "3                            -0.658244   \n",
       "4                            -0.658244   \n",
       "..                                 ...   \n",
       "994                          -0.658244   \n",
       "995                          -0.658244   \n",
       "996                           1.519193   \n",
       "997                          -0.658244   \n",
       "998                          -0.658244   \n",
       "\n",
       "     Employment Type_Private Sector/Self Employed  GraduateOrNot_No  \\\n",
       "0                                       -1.519193         -0.454447   \n",
       "1                                       -1.519193         -0.454447   \n",
       "2                                        0.658244          2.200478   \n",
       "3                                        0.658244          2.200478   \n",
       "4                                        0.658244         -0.454447   \n",
       "..                                            ...               ...   \n",
       "994                                      0.658244         -0.454447   \n",
       "995                                      0.658244         -0.454447   \n",
       "996                                     -1.519193         -0.454447   \n",
       "997                                      0.658244         -0.454447   \n",
       "998                                      0.658244         -0.454447   \n",
       "\n",
       "     GraduateOrNot_Yes  FrequentFlyer_No  FrequentFlyer_Yes  \\\n",
       "0             0.454447           0.56078           -0.56078   \n",
       "1             0.454447           0.56078           -0.56078   \n",
       "2            -2.200478           0.56078           -0.56078   \n",
       "3            -2.200478           0.56078           -0.56078   \n",
       "4             0.454447           0.56078           -0.56078   \n",
       "..                 ...               ...                ...   \n",
       "994           0.454447           0.56078           -0.56078   \n",
       "995           0.454447           0.56078           -0.56078   \n",
       "996           0.454447           0.56078           -0.56078   \n",
       "997           0.454447           0.56078           -0.56078   \n",
       "998           0.454447           0.56078           -0.56078   \n",
       "\n",
       "     EverTravelledAbroad_No  EverTravelledAbroad_Yes  \n",
       "0                  0.492481                -0.492481  \n",
       "1                  0.492481                -0.492481  \n",
       "2                 -2.030536                 2.030536  \n",
       "3                  0.492481                -0.492481  \n",
       "4                 -2.030536                 2.030536  \n",
       "..                      ...                      ...  \n",
       "994                0.492481                -0.492481  \n",
       "995                0.492481                -0.492481  \n",
       "996                0.492481                -0.492481  \n",
       "997                0.492481                -0.492481  \n",
       "998               -2.030536                 2.030536  \n",
       "\n",
       "[999 rows x 12 columns]"
      ]
     },
     "execution_count": 17,
     "metadata": {},
     "output_type": "execute_result"
    }
   ],
   "source": [
    "columns = x_train.columns\n",
    "scaler = StandardScaler()\n",
    "x_train = scaler.fit_transform(x_train)\n",
    "x_train = pd.DataFrame(x_train, columns=columns)\n",
    "x_train"
   ]
  },
  {
   "cell_type": "markdown",
   "metadata": {},
   "source": [
    "## 5. Graficación de una curva de validación para el hiperparámetro K\n",
    "\n",
    "Para este modelo intentaremos buscar el mejor valor de _k_, representado por el parámetro `n_neighbors` de `KNeighborsClassifier`, mediante una curva de validación. En ese sentido, primero definiremos los posibles valores con la función `linspace()` de `numpy`, almacenando la lista en la variable `k_values`:"
   ]
  },
  {
   "cell_type": "code",
   "execution_count": 18,
   "metadata": {},
   "outputs": [
    {
     "data": {
      "text/plain": [
       "array([ 1,  2,  3,  4,  5,  6,  7,  8,  9, 10, 11, 12, 13, 14, 15, 16, 17,\n",
       "       18, 19, 20])"
      ]
     },
     "execution_count": 18,
     "metadata": {},
     "output_type": "execute_result"
    }
   ],
   "source": [
    "# linspace() necesita dos parámetros obligatorios:\n",
    "#     start=1 - el inicio del intervalo\n",
    "#     stop=20 - el final del intervalo\n",
    "# Además, adicionaremos dos parámetros:\n",
    "#     num=20 - número de elementos\n",
    "#     dtype='int64' - tipo de dato de los elementos\n",
    "k_values = np.linspace(1, 20, 20, dtype='int64')\n",
    "k_values"
   ]
  },
  {
   "cell_type": "markdown",
   "metadata": {},
   "source": [
    "Al ser un único hiperparámetro, vamos a utilizar la función `validation_curve()` para realizar una curva de validación con el parámetro _k_. Utilizaremos el conjunto de entrenamiento representado con las variables `x_train` y `y_train`, modificando el parámetro `n_neighbors` del modelo `KNeighborsClassifier`. Adicionalmente, utilizaremos una validación cruzada de 10 subconjuntos, almacenando los valores de exactitud en las variables `train_scores` y `val_scores`:"
   ]
  },
  {
   "cell_type": "code",
   "execution_count": 19,
   "metadata": {},
   "outputs": [],
   "source": [
    "train_scores, val_scores = validation_curve(estimator=KNeighborsClassifier(),\n",
    "                                            X=x_train,\n",
    "                                            y=y_train,\n",
    "                                            param_name='n_neighbors',\n",
    "                                            param_range=k_values,\n",
    "                                            scoring='accuracy',\n",
    "                                            cv=10)"
   ]
  },
  {
   "cell_type": "markdown",
   "metadata": {},
   "source": [
    "Para graficar estos valores, obtendremos la media y desviación estándar para los conjuntos de entrenamiento y validación generados en la validación cruzada: "
   ]
  },
  {
   "cell_type": "code",
   "execution_count": 20,
   "metadata": {},
   "outputs": [],
   "source": [
    "train_mean = np.mean(train_scores, axis=1)\n",
    "train_std = np.std(train_scores, axis=1)\n",
    "val_mean = np.mean(val_scores, axis=1)\n",
    "val_std = np.std(val_scores, axis=1)"
   ]
  },
  {
   "cell_type": "markdown",
   "metadata": {},
   "source": [
    "Finalmente, vamos a visualizar la curva de validación utilizando `matplotlib`:"
   ]
  },
  {
   "cell_type": "code",
   "execution_count": 21,
   "metadata": {
    "scrolled": false
   },
   "outputs": [
    {
     "data": {
      "image/png": "[encoded data removed]",
      "text/plain": [
       "<Figure size 504x504 with 1 Axes>"
      ]
     },
     "metadata": {
      "needs_background": "light"
     },
     "output_type": "display_data"
    }
   ],
   "source": [
    "# Inicializamos la figura\n",
    "plt.figure(figsize=(7,7))\n",
    "\n",
    "# Creamos la curva de validación para el conjunto de entrenamiento\n",
    "plt.plot(k_values, train_mean, color='blue', marker='o', markersize=5, label='Exactitud en entrenamiento')\n",
    "plt.fill_between(k_values, train_mean+train_std, train_mean-train_std, alpha=0.15, color='blue')\n",
    "\n",
    "# Creamos la curva de validación para el conjunto de validación\n",
    "plt.plot(k_values, val_mean, color='green', linestyle='--', marker='s', markersize=5, label='Exactitud en validación')\n",
    "plt.fill_between(k_values, val_mean+val_std, val_mean-val_std, alpha=0.15, color='green')\n",
    "\n",
    "# Agregamos una grilla y etiquetas para los ejes\n",
    "plt.grid()\n",
    "plt.legend(loc='lower right')\n",
    "plt.xlabel('k')\n",
    "plt.ylabel('Exactitud')\n",
    "plt.show()"
   ]
  },
  {
   "cell_type": "markdown",
   "metadata": {},
   "source": [
    "Un posible criterio de selección del mejor valor de _k_ es el valor de exactitud más alto en el conjunto de validación. Utilizando `np.argmax()`, podemos obtener el índice de `val_mean` en el que se encuentra el valor más alto:"
   ]
  },
  {
   "cell_type": "code",
   "execution_count": 22,
   "metadata": {},
   "outputs": [
    {
     "data": {
      "text/plain": [
       "14"
      ]
     },
     "execution_count": 22,
     "metadata": {},
     "output_type": "execute_result"
    }
   ],
   "source": [
    "mejor_indice = np.argmax(val_mean)\n",
    "mejor_indice"
   ]
  },
  {
   "cell_type": "markdown",
   "metadata": {},
   "source": [
    "Como el valor obtenido es un índice, podemos obtener el valor de _k_ obteniendo el elemento correspondiente de la lista `k_values`:"
   ]
  },
  {
   "cell_type": "code",
   "execution_count": 23,
   "metadata": {},
   "outputs": [
    {
     "data": {
      "text/plain": [
       "15"
      ]
     },
     "execution_count": 23,
     "metadata": {},
     "output_type": "execute_result"
    }
   ],
   "source": [
    "mejor_k = k_values[mejor_indice]\n",
    "mejor_k"
   ]
  },
  {
   "cell_type": "markdown",
   "metadata": {},
   "source": [
    "Como puedes observar, el mejor modelo tiene un valor de `n_neighbors=15`. Opcionalmente, puedes realizar una búsqueda utilizando `GridSearchCV` para verificar si se obtiene el mismo valor de _k_. Crearemos el mejor modelo utilizando este valor, y lo entrenaremos sobre el conjunto de entrenamiento mediante la función `fit()`, almacenando el resultado en la variable `mejor_modelo`:"
   ]
  },
  {
   "cell_type": "code",
   "execution_count": 24,
   "metadata": {},
   "outputs": [],
   "source": [
    "mejor_modelo = KNeighborsClassifier(n_neighbors=mejor_k).fit(x_train, y_train)"
   ]
  },
  {
   "cell_type": "markdown",
   "metadata": {},
   "source": [
    "En KNN se verifica la clase a la que pertenecen los _k_ datos más cercanos (usando, por defecto, la distancia euclidiana) a un dato que queremos clasificar. Para realizar la clasificación, se realiza una votación entre los _k_ datos, retornando la clase mayoritaria entre ellos. Para este problema, veremos los 15 datos más cercanos para predecir si una persona va a comprar un seguro de viaje o no."
   ]
  },
  {
   "cell_type": "markdown",
   "metadata": {},
   "source": [
    "## 6. Evaluación del mejor modelo\n",
    "\n",
    "Empezaremos separando la variable objetivo de las variables descriptoras en el conjunto de pruebas:"
   ]
  },
  {
   "cell_type": "code",
   "execution_count": 25,
   "metadata": {},
   "outputs": [],
   "source": [
    "x_test = test.drop(['TravelInsurance'],axis=1)\n",
    "y_test = test['TravelInsurance']"
   ]
  },
  {
   "cell_type": "markdown",
   "metadata": {},
   "source": [
    "Adicionalmente, escalaremos las variables descriptoras con la información disponible en el conjunto de entrenamiento, utilizando el método `transform()`:"
   ]
  },
  {
   "cell_type": "code",
   "execution_count": 26,
   "metadata": {},
   "outputs": [
    {
     "data": {
      "text/html": [
       "<div>\n",
       "<style scoped>\n",
       "    .dataframe tbody tr th:only-of-type {\n",
       "        vertical-align: middle;\n",
       "    }\n",
       "\n",
       "    .dataframe tbody tr th {\n",
       "        vertical-align: top;\n",
       "    }\n",
       "\n",
       "    .dataframe thead th {\n",
       "        text-align: right;\n",
       "    }\n",
       "</style>\n",
       "<table border=\"1\" class=\"dataframe\">\n",
       "  <thead>\n",
       "    <tr style=\"text-align: right;\">\n",
       "      <th></th>\n",
       "      <th>Age</th>\n",
       "      <th>AnnualIncome</th>\n",
       "      <th>FamilyMembers</th>\n",
       "      <th>ChronicDiseases</th>\n",
       "      <th>Employment Type_Government Sector</th>\n",
       "      <th>Employment Type_Private Sector/Self Employed</th>\n",
       "      <th>GraduateOrNot_No</th>\n",
       "      <th>GraduateOrNot_Yes</th>\n",
       "      <th>FrequentFlyer_No</th>\n",
       "      <th>FrequentFlyer_Yes</th>\n",
       "      <th>EverTravelledAbroad_No</th>\n",
       "      <th>EverTravelledAbroad_Yes</th>\n",
       "    </tr>\n",
       "  </thead>\n",
       "  <tbody>\n",
       "    <tr>\n",
       "      <th>0</th>\n",
       "      <td>0.761248</td>\n",
       "      <td>-0.230174</td>\n",
       "      <td>0.629136</td>\n",
       "      <td>-0.715085</td>\n",
       "      <td>1.519193</td>\n",
       "      <td>-1.519193</td>\n",
       "      <td>-0.454447</td>\n",
       "      <td>0.454447</td>\n",
       "      <td>0.560780</td>\n",
       "      <td>-0.560780</td>\n",
       "      <td>0.492481</td>\n",
       "      <td>-0.492481</td>\n",
       "    </tr>\n",
       "    <tr>\n",
       "      <th>1</th>\n",
       "      <td>-0.593739</td>\n",
       "      <td>0.459107</td>\n",
       "      <td>-0.507404</td>\n",
       "      <td>1.398435</td>\n",
       "      <td>-0.658244</td>\n",
       "      <td>0.658244</td>\n",
       "      <td>-0.454447</td>\n",
       "      <td>0.454447</td>\n",
       "      <td>0.560780</td>\n",
       "      <td>-0.560780</td>\n",
       "      <td>0.492481</td>\n",
       "      <td>-0.492481</td>\n",
       "    </tr>\n",
       "    <tr>\n",
       "      <th>2</th>\n",
       "      <td>-0.593739</td>\n",
       "      <td>-1.746592</td>\n",
       "      <td>1.765676</td>\n",
       "      <td>-0.715085</td>\n",
       "      <td>1.519193</td>\n",
       "      <td>-1.519193</td>\n",
       "      <td>-0.454447</td>\n",
       "      <td>0.454447</td>\n",
       "      <td>0.560780</td>\n",
       "      <td>-0.560780</td>\n",
       "      <td>0.492481</td>\n",
       "      <td>-0.492481</td>\n",
       "    </tr>\n",
       "    <tr>\n",
       "      <th>3</th>\n",
       "      <td>-0.593739</td>\n",
       "      <td>0.734819</td>\n",
       "      <td>0.629136</td>\n",
       "      <td>1.398435</td>\n",
       "      <td>-0.658244</td>\n",
       "      <td>0.658244</td>\n",
       "      <td>-0.454447</td>\n",
       "      <td>0.454447</td>\n",
       "      <td>0.560780</td>\n",
       "      <td>-0.560780</td>\n",
       "      <td>0.492481</td>\n",
       "      <td>-0.492481</td>\n",
       "    </tr>\n",
       "    <tr>\n",
       "      <th>4</th>\n",
       "      <td>-0.593739</td>\n",
       "      <td>1.424100</td>\n",
       "      <td>-1.075675</td>\n",
       "      <td>-0.715085</td>\n",
       "      <td>-0.658244</td>\n",
       "      <td>0.658244</td>\n",
       "      <td>-0.454447</td>\n",
       "      <td>0.454447</td>\n",
       "      <td>-1.783232</td>\n",
       "      <td>1.783232</td>\n",
       "      <td>-2.030536</td>\n",
       "      <td>2.030536</td>\n",
       "    </tr>\n",
       "    <tr>\n",
       "      <th>...</th>\n",
       "      <td>...</td>\n",
       "      <td>...</td>\n",
       "      <td>...</td>\n",
       "      <td>...</td>\n",
       "      <td>...</td>\n",
       "      <td>...</td>\n",
       "      <td>...</td>\n",
       "      <td>...</td>\n",
       "      <td>...</td>\n",
       "      <td>...</td>\n",
       "      <td>...</td>\n",
       "      <td>...</td>\n",
       "    </tr>\n",
       "    <tr>\n",
       "      <th>245</th>\n",
       "      <td>0.761248</td>\n",
       "      <td>-0.230174</td>\n",
       "      <td>1.197406</td>\n",
       "      <td>-0.715085</td>\n",
       "      <td>1.519193</td>\n",
       "      <td>-1.519193</td>\n",
       "      <td>-0.454447</td>\n",
       "      <td>0.454447</td>\n",
       "      <td>-1.783232</td>\n",
       "      <td>1.783232</td>\n",
       "      <td>-2.030536</td>\n",
       "      <td>2.030536</td>\n",
       "    </tr>\n",
       "    <tr>\n",
       "      <th>246</th>\n",
       "      <td>1.438741</td>\n",
       "      <td>-1.195167</td>\n",
       "      <td>-0.507404</td>\n",
       "      <td>-0.715085</td>\n",
       "      <td>-0.658244</td>\n",
       "      <td>0.658244</td>\n",
       "      <td>-0.454447</td>\n",
       "      <td>0.454447</td>\n",
       "      <td>0.560780</td>\n",
       "      <td>-0.560780</td>\n",
       "      <td>0.492481</td>\n",
       "      <td>-0.492481</td>\n",
       "    </tr>\n",
       "    <tr>\n",
       "      <th>247</th>\n",
       "      <td>1.438741</td>\n",
       "      <td>1.561956</td>\n",
       "      <td>-0.507404</td>\n",
       "      <td>1.398435</td>\n",
       "      <td>-0.658244</td>\n",
       "      <td>0.658244</td>\n",
       "      <td>-0.454447</td>\n",
       "      <td>0.454447</td>\n",
       "      <td>-1.783232</td>\n",
       "      <td>1.783232</td>\n",
       "      <td>-2.030536</td>\n",
       "      <td>2.030536</td>\n",
       "    </tr>\n",
       "    <tr>\n",
       "      <th>248</th>\n",
       "      <td>0.422501</td>\n",
       "      <td>0.872675</td>\n",
       "      <td>-0.507404</td>\n",
       "      <td>-0.715085</td>\n",
       "      <td>-0.658244</td>\n",
       "      <td>0.658244</td>\n",
       "      <td>-0.454447</td>\n",
       "      <td>0.454447</td>\n",
       "      <td>-1.783232</td>\n",
       "      <td>1.783232</td>\n",
       "      <td>-2.030536</td>\n",
       "      <td>2.030536</td>\n",
       "    </tr>\n",
       "    <tr>\n",
       "      <th>249</th>\n",
       "      <td>1.099995</td>\n",
       "      <td>2.251237</td>\n",
       "      <td>0.629136</td>\n",
       "      <td>-0.715085</td>\n",
       "      <td>-0.658244</td>\n",
       "      <td>0.658244</td>\n",
       "      <td>-0.454447</td>\n",
       "      <td>0.454447</td>\n",
       "      <td>0.560780</td>\n",
       "      <td>-0.560780</td>\n",
       "      <td>0.492481</td>\n",
       "      <td>-0.492481</td>\n",
       "    </tr>\n",
       "  </tbody>\n",
       "</table>\n",
       "<p>250 rows × 12 columns</p>\n",
       "</div>"
      ],
      "text/plain": [
       "          Age  AnnualIncome  FamilyMembers  ChronicDiseases  \\\n",
       "0    0.761248     -0.230174       0.629136        -0.715085   \n",
       "1   -0.593739      0.459107      -0.507404         1.398435   \n",
       "2   -0.593739     -1.746592       1.765676        -0.715085   \n",
       "3   -0.593739      0.734819       0.629136         1.398435   \n",
       "4   -0.593739      1.424100      -1.075675        -0.715085   \n",
       "..        ...           ...            ...              ...   \n",
       "245  0.761248     -0.230174       1.197406        -0.715085   \n",
       "246  1.438741     -1.195167      -0.507404        -0.715085   \n",
       "247  1.438741      1.561956      -0.507404         1.398435   \n",
       "248  0.422501      0.872675      -0.507404        -0.715085   \n",
       "249  1.099995      2.251237       0.629136        -0.715085   \n",
       "\n",
       "     Employment Type_Government Sector  \\\n",
       "0                             1.519193   \n",
       "1                            -0.658244   \n",
       "2                             1.519193   \n",
       "3                            -0.658244   \n",
       "4                            -0.658244   \n",
       "..                                 ...   \n",
       "245                           1.519193   \n",
       "246                          -0.658244   \n",
       "247                          -0.658244   \n",
       "248                          -0.658244   \n",
       "249                          -0.658244   \n",
       "\n",
       "     Employment Type_Private Sector/Self Employed  GraduateOrNot_No  \\\n",
       "0                                       -1.519193         -0.454447   \n",
       "1                                        0.658244         -0.454447   \n",
       "2                                       -1.519193         -0.454447   \n",
       "3                                        0.658244         -0.454447   \n",
       "4                                        0.658244         -0.454447   \n",
       "..                                            ...               ...   \n",
       "245                                     -1.519193         -0.454447   \n",
       "246                                      0.658244         -0.454447   \n",
       "247                                      0.658244         -0.454447   \n",
       "248                                      0.658244         -0.454447   \n",
       "249                                      0.658244         -0.454447   \n",
       "\n",
       "     GraduateOrNot_Yes  FrequentFlyer_No  FrequentFlyer_Yes  \\\n",
       "0             0.454447          0.560780          -0.560780   \n",
       "1             0.454447          0.560780          -0.560780   \n",
       "2             0.454447          0.560780          -0.560780   \n",
       "3             0.454447          0.560780          -0.560780   \n",
       "4             0.454447         -1.783232           1.783232   \n",
       "..                 ...               ...                ...   \n",
       "245           0.454447         -1.783232           1.783232   \n",
       "246           0.454447          0.560780          -0.560780   \n",
       "247           0.454447         -1.783232           1.783232   \n",
       "248           0.454447         -1.783232           1.783232   \n",
       "249           0.454447          0.560780          -0.560780   \n",
       "\n",
       "     EverTravelledAbroad_No  EverTravelledAbroad_Yes  \n",
       "0                  0.492481                -0.492481  \n",
       "1                  0.492481                -0.492481  \n",
       "2                  0.492481                -0.492481  \n",
       "3                  0.492481                -0.492481  \n",
       "4                 -2.030536                 2.030536  \n",
       "..                      ...                      ...  \n",
       "245               -2.030536                 2.030536  \n",
       "246                0.492481                -0.492481  \n",
       "247               -2.030536                 2.030536  \n",
       "248               -2.030536                 2.030536  \n",
       "249                0.492481                -0.492481  \n",
       "\n",
       "[250 rows x 12 columns]"
      ]
     },
     "execution_count": 26,
     "metadata": {},
     "output_type": "execute_result"
    }
   ],
   "source": [
    "x_test = scaler.transform(x_test)\n",
    "x_test = pd.DataFrame(x_test, columns=columns)\n",
    "x_test"
   ]
  },
  {
   "cell_type": "markdown",
   "metadata": {},
   "source": [
    "A continuación realizaremos predicciones sobre el conjunto de pruebas para comparar con los valores de `y_test`. Utilizaremos la función `predict()` sobre el mejor modelo:"
   ]
  },
  {
   "cell_type": "code",
   "execution_count": 27,
   "metadata": {},
   "outputs": [],
   "source": [
    "y_pred = mejor_modelo.predict(x_test)"
   ]
  },
  {
   "cell_type": "markdown",
   "metadata": {},
   "source": [
    "Ahora utilizaremos la función `plot_confusion_matrix()` para generar un mapa de calor con los valores de la matriz de confusión:"
   ]
  },
  {
   "cell_type": "code",
   "execution_count": 28,
   "metadata": {},
   "outputs": [
    {
     "data": {
      "image/png": "[encoded data removed]",
      "text/plain": [
       "<Figure size 432x288 with 2 Axes>"
      ]
     },
     "metadata": {
      "needs_background": "light"
     },
     "output_type": "display_data"
    }
   ],
   "source": [
    "plot_confusion_matrix(mejor_modelo, x_test, y_test)  \n",
    "plt.show()"
   ]
  },
  {
   "cell_type": "markdown",
   "metadata": {},
   "source": [
    "Como puedes observar, el modelo tiende a predecir correctamente la clase 0, es decir, los elementos de la clase mayoritaria. De hecho, para la clase 1, el modelo tiende a predecir erróneamente. Específicamente, podemos observar las métricas de desempeño usando `classification_report()`:"
   ]
  },
  {
   "cell_type": "code",
   "execution_count": 29,
   "metadata": {},
   "outputs": [
    {
     "name": "stdout",
     "output_type": "stream",
     "text": [
      "              precision    recall  f1-score   support\n",
      "\n",
      "           0       0.73      0.85      0.79       164\n",
      "           1       0.59      0.41      0.48        86\n",
      "\n",
      "    accuracy                           0.70       250\n",
      "   macro avg       0.66      0.63      0.64       250\n",
      "weighted avg       0.68      0.70      0.68       250\n",
      "\n"
     ]
    }
   ],
   "source": [
    "print(classification_report(y_test, y_pred))"
   ]
  },
  {
   "cell_type": "markdown",
   "metadata": {},
   "source": [
    "De manera similar al modelo de regresión logística y de árboles de decisión, en este modelo se tienen valores altos en la sensibilidad y precisión de la clase 0. Como la clase 1 no tiene tanta representación, tiene una sensibilidad y una precisión bastante bajas."
   ]
  },
  {
   "cell_type": "markdown",
   "metadata": {},
   "source": [
    "### Ejemplo de clasificación\n",
    "\n",
    "Ahora veremos cómo se realiza una clasificación sobre un único dato. Empezaremos definiendo la variable `x_clasif` con uno de los valores del conjunto de test. Ten en cuenta que realizaremos nuestra predicción partiendo de la variable `x_test`, por lo que nuestro dato está codificado y estandarizado:"
   ]
  },
  {
   "cell_type": "code",
   "execution_count": 30,
   "metadata": {},
   "outputs": [
    {
     "data": {
      "text/plain": [
       "Age                                            -0.593739\n",
       "AnnualIncome                                    0.459107\n",
       "FamilyMembers                                  -0.507404\n",
       "ChronicDiseases                                 1.398435\n",
       "Employment Type_Government Sector              -0.658244\n",
       "Employment Type_Private Sector/Self Employed    0.658244\n",
       "GraduateOrNot_No                               -0.454447\n",
       "GraduateOrNot_Yes                               0.454447\n",
       "FrequentFlyer_No                                0.560780\n",
       "FrequentFlyer_Yes                              -0.560780\n",
       "EverTravelledAbroad_No                          0.492481\n",
       "EverTravelledAbroad_Yes                        -0.492481\n",
       "Name: 1, dtype: float64"
      ]
     },
     "execution_count": 30,
     "metadata": {},
     "output_type": "execute_result"
    }
   ],
   "source": [
    "x_clasif = x_test.iloc[1]\n",
    "x_clasif"
   ]
  },
  {
   "cell_type": "markdown",
   "metadata": {},
   "source": [
    "Utilizaremos `predict` para realizar la clasificación. Esta función necesita un arreglo de datos, por lo que pasaremos como parámetro un arreglo con una única posición. Almacenaremos el resultado en la variable `y_clasif`:"
   ]
  },
  {
   "cell_type": "code",
   "execution_count": 31,
   "metadata": {},
   "outputs": [
    {
     "data": {
      "text/plain": [
       "array([0])"
      ]
     },
     "execution_count": 31,
     "metadata": {},
     "output_type": "execute_result"
    }
   ],
   "source": [
    "y_clasif = mejor_modelo.predict([x_clasif])\n",
    "y_clasif"
   ]
  },
  {
   "cell_type": "markdown",
   "metadata": {},
   "source": [
    "Como puedes observar, el resultado de la predicción es un entero que representa la clase predicha. Para el dato `x_clasif`, el modelo de KNN predice que no va a comprar un seguro de viaje."
   ]
  }
 ],
 "metadata": {
  "kernelspec": {
   "display_name": "Python 3",
   "language": "python",
   "name": "python3"
  },
  "language_info": {
   "codemirror_mode": {
    "name": "ipython",
    "version": 3
   },
   "file_extension": ".py",
   "mimetype": "text/x-python",
   "name": "python",
   "nbconvert_exporter": "python",
   "pygments_lexer": "ipython3",
   "version": "3.7.6"
  }
 },
 "nbformat": 4,
 "nbformat_minor": 4
}
