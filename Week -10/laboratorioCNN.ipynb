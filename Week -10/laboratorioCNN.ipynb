{
 "cells": [
  {
   "cell_type": "markdown",
   "metadata": {
    "deletable": false,
    "editable": false,
    "id": "aATFaa3gE3E0",
    "nbgrader": {
     "cell_type": "markdown",
     "checksum": "9cc65a73210f90208a6124c0e8de0184",
     "grade": false,
     "grade_id": "cell-579cd363e0b1311b",
     "locked": true,
     "schema_version": 3,
     "solution": false,
     "task": false
    }
   },
   "source": [
    "# Clasificación de imágenes conjunto de datos Fashion MNIST\n",
    "## Actividad Práctica\n",
    "\n",
    "En esta sección se empleará el conjunto de datos Fashion MNIST, una colección de imágenes que representa prendas de vestir, calzado y accesorios en el mundo de la moda. Fashion MNIST es ampliamente reconocido en el campo del aprendizaje automático y la visión por computadora como una alternativa al conjunto de datos Digits MNIST. Al igual que Digits MNIST, el conjunto de datos Fashion MNIST consta de 70.000 imágenes en blanco y negro. De estas, 60.000 están destinadas al entrenamiento de modelos, mientras que las 10.000 restantes se reservan para pruebas y evaluación de rendimiento. Cada imagen tiene una dimensión de 28 x 28 píxeles y se representa en un solo canal de color.\n",
    "\n",
    "En este laboratorio, se utilizará el conjunto de datos Fashion MNIST con el objetivo de diseñar y entrenar un modelo neuronal convolucional (CNN) para alcanzar una precisión de clasificación superior al 90% en el conjunto de prueba. Te proporcionaremos una función que crea la arquitectura inicial del modelo CNN y una plantilla de compilación. Tu tarea es ajustar esta arquitectura y la configuración de compilación de acuerdo con tus conocimientos. Tienes total libertad para agregar, eliminar o ajustar elementos en la arquitectura y cambiar los hiperparámetros según sea necesario. Además puedes usar las funciones de validación y visualización de resultados para observar el desempeño de tu modelo. Cuando consideres que tu modelo ha superado el umbral del 90% de precisión, podrás enviarlo para su evaluación interna.\n"
   ]
  },
  {
   "cell_type": "code",
   "execution_count": 1,
   "metadata": {
    "deletable": false,
    "editable": false,
    "id": "WIe5Wn3OI1ew",
    "nbgrader": {
     "cell_type": "code",
     "checksum": "6d266c04e2ec77e09e4c64601cdd2c9f",
     "grade": false,
     "grade_id": "cell-35c9ee96900d7dbe",
     "locked": true,
     "schema_version": 3,
     "solution": false,
     "task": false
    }
   },
   "outputs": [],
   "source": [
    "# Celda con la importación de librerias\n",
    "\n",
    "import tensorflow as tf         # Importar TensorFlow\n",
    "from tensorflow import keras    # Importar la APItensorflow.keras de TensorFlow\n",
    "\n",
    "import numpy as np              # Librería para trabajar don datos matriciales\n",
    "\n",
    "import matplotlib.pyplot as plt # Librería para gráficas y visualización\n",
    "\n",
    "# Inicialización de semillas \n",
    "tf.random.set_seed(42)\n",
    "np.random.seed(42)"
   ]
  },
  {
   "cell_type": "code",
   "execution_count": 2,
   "metadata": {
    "deletable": false,
    "editable": false,
    "id": "8jX-cvAaE-DY",
    "nbgrader": {
     "cell_type": "code",
     "checksum": "1ee4c7d73e2e902e406b08b655f74404",
     "grade": false,
     "grade_id": "cell-bec0f6cdba57d958",
     "locked": true,
     "schema_version": 3,
     "solution": false,
     "task": false
    }
   },
   "outputs": [],
   "source": [
    "# Conjunto de datos Fashion MNIST\n",
    "from tensorflow.keras.datasets import fashion_mnist"
   ]
  },
  {
   "cell_type": "code",
   "execution_count": 3,
   "metadata": {
    "deletable": false,
    "editable": false,
    "id": "U3mgvTbLJpyc",
    "nbgrader": {
     "cell_type": "code",
     "checksum": "cc093f9e49a6440065b67b012155765e",
     "grade": false,
     "grade_id": "cell-621023b0021a46dd",
     "locked": true,
     "schema_version": 3,
     "solution": false,
     "task": false
    }
   },
   "outputs": [],
   "source": [
    "# Librería para codificar etiquetas en one-hot\n",
    "from tensorflow.keras.utils import to_categorical"
   ]
  },
  {
   "cell_type": "code",
   "execution_count": 4,
   "metadata": {
    "deletable": false,
    "editable": false,
    "id": "gDnluIjENiZI",
    "nbgrader": {
     "cell_type": "code",
     "checksum": "cf0833de29d8d691cc65f85072230229",
     "grade": false,
     "grade_id": "cell-9e7698faa0d4a5d4",
     "locked": true,
     "schema_version": 3,
     "solution": false,
     "task": false
    }
   },
   "outputs": [],
   "source": [
    "def load_data(mnist):\n",
    "    \"\"\"\n",
    "    Esta función carga al entorno de trabajo los datos de entrenamiento, y prueba. Con sus\n",
    "    etiquetas codificadas con one-hot.\n",
    "    Parámetros de entrada:\n",
    "    mnist = Clase detensorflow.keras.datsets con el conjunto de datos fashion mnist\n",
    "    Parámetros de salida:\n",
    "    X_train = Conjunto de datos para entrenamiento\n",
    "    X_test = Conjunto de datos para prueba\n",
    "    y_train_onehot = Etiquetas del conjunto de entrenamiento codificadas en one-hot\n",
    "    y_test_onehot = Etiquetas del conjunto de prueba codificadas en one-hot\n",
    "    y_train = Etiqueta original del conjunto de entrenamiento\n",
    "    y_test = Etiqueta original del conjunto de prueba\n",
    "    \"\"\"\n",
    "\n",
    "    # Establecer el conjunto de entrenamiento y el conjunto de prueba con sus respectivas\n",
    "    # etiquetas\n",
    "    (X_train, y_train), (X_test, y_test) = mnist.load_data()\n",
    "\n",
    "    # Normalización de los valores de los pixeles de las imágenes\n",
    "    X_train, X_test = X_train / 255.0, X_test / 255.0\n",
    "\n",
    "    # Codificación One-Hot para las etiquetas\n",
    "    y_train_onehot = to_categorical(y_train)\n",
    "    y_test_onehot =  to_categorical(y_test)\n",
    "\n",
    "    print(f'Conjunto de datos cargados')\n",
    "    print(f'Tamaño imágenes de entrenamiento {X_train.shape}')\n",
    "    print(f'Tamaño imágenes de test {X_test.shape}')\n",
    "    print(f'Datos por cada etiqueta en X train {np.bincount(y_train)}')\n",
    "\n",
    "    return X_train.reshape((60000, 28, 28, 1)), X_test.reshape((10000, 28, 28, 1)), y_train_onehot, y_test_onehot, y_train, y_test\n",
    "### END READ ONLY"
   ]
  },
  {
   "cell_type": "code",
   "execution_count": 5,
   "metadata": {
    "colab": {
     "base_uri": "https://localhost:8080/"
    },
    "deletable": false,
    "editable": false,
    "id": "JzuCvyHQJKkh",
    "nbgrader": {
     "cell_type": "code",
     "checksum": "896ac7d1e1aa479c9692bc94a34e5796",
     "grade": false,
     "grade_id": "cell-f9649e29c9fbcab5",
     "locked": true,
     "schema_version": 3,
     "solution": false,
     "task": false
    },
    "outputId": "fc86db06-d096-4a91-d374-76b39ff2fbbb"
   },
   "outputs": [
    {
     "name": "stdout",
     "output_type": "stream",
     "text": [
      "Downloading data from https://storage.googleapis.com/tensorflow/tf-keras-datasets/train-labels-idx1-ubyte.gz\n",
      "32768/29515 [=================================] - 0s 0us/step\n",
      "Downloading data from https://storage.googleapis.com/tensorflow/tf-keras-datasets/train-images-idx3-ubyte.gz\n",
      "26427392/26421880 [==============================] - 0s 0us/step\n",
      "Downloading data from https://storage.googleapis.com/tensorflow/tf-keras-datasets/t10k-labels-idx1-ubyte.gz\n",
      "8192/5148 [===============================================] - 0s 0us/step\n",
      "Downloading data from https://storage.googleapis.com/tensorflow/tf-keras-datasets/t10k-images-idx3-ubyte.gz\n",
      "4423680/4422102 [==============================] - 0s 0us/step\n",
      "Conjunto de datos cargados\n",
      "Tamaño imágenes de entrenamiento (60000, 28, 28)\n",
      "Tamaño imágenes de test (10000, 28, 28)\n",
      "Datos por cada etiqueta en X train [6000 6000 6000 6000 6000 6000 6000 6000 6000 6000]\n"
     ]
    }
   ],
   "source": [
    "X_train, X_test, y_train_onehot, y_test_onehot, y_train, y_test = load_data(fashion_mnist)"
   ]
  },
  {
   "cell_type": "code",
   "execution_count": 6,
   "metadata": {
    "deletable": false,
    "editable": false,
    "id": "K6bUDP61NL6_",
    "nbgrader": {
     "cell_type": "code",
     "checksum": "a7468ce9bb92219b483b7c006af9ec3a",
     "grade": false,
     "grade_id": "cell-8a8a3db6a2714baf",
     "locked": true,
     "schema_version": 3,
     "solution": false,
     "task": false
    }
   },
   "outputs": [],
   "source": [
    "def visualize_instances(X_data, y_data):\n",
    "    \"\"\"\n",
    "    Esta función visualiza una instancia de cada categoria del conjunto mnist\n",
    "    Parámetros de entrada:\n",
    "    X_data = Instancias\n",
    "    y_data = Etiquetas\n",
    "    Parámetros de salida:\n",
    "    Grafica con la visualización de la imagen por cada isntancia.\n",
    "    \"\"\"\n",
    "    fig, ax = plt.subplots(nrows=2, ncols=5, sharex=True, sharey=True, figsize=(10, 5))\n",
    "    ax = ax.flatten()\n",
    "    for i in range(10):\n",
    "        img = X_data[y_data == i][0].reshape((28, 28))\n",
    "        ax[i].imshow(img, cmap='gist_yarg')\n",
    "        ax[0].set_xticks([])\n",
    "        ax[0].set_yticks([])\n",
    "    return plt.show()"
   ]
  },
  {
   "cell_type": "code",
   "execution_count": 7,
   "metadata": {
    "colab": {
     "base_uri": "https://localhost:8080/",
     "height": 380
    },
    "deletable": false,
    "editable": false,
    "id": "Wt30iomGJ2mO",
    "nbgrader": {
     "cell_type": "code",
     "checksum": "9030c0c17fbe4d1d052a02614b7eeb5b",
     "grade": false,
     "grade_id": "cell-b50bc0d7ece43618",
     "locked": true,
     "schema_version": 3,
     "solution": false,
     "task": false
    },
    "outputId": "c710a5e1-2f27-4b1f-c6b9-a08c9fb109a9"
   },
   "outputs": [
    {
     "data": {
      "image/png": "[encoded data removed]",
      "text/plain": [
       "<Figure size 720x360 with 10 Axes>"
      ]
     },
     "metadata": {},
     "output_type": "display_data"
    }
   ],
   "source": [
    "visualize_instances(X_train, y_train)"
   ]
  },
  {
   "cell_type": "code",
   "execution_count": 8,
   "metadata": {
    "id": "i4rBrBrzNuPZ"
   },
   "outputs": [],
   "source": [
    "from tensorflow.keras.models import Sequential\n",
    "from tensorflow.keras.layers import Input, Dense, Conv2D, MaxPooling2D, Flatten\n",
    "\n",
    "def load_model():\n",
    "    \"\"\"\n",
    "    Esta función construye un modelo neuronal convolucional mejorado para la clasificación\n",
    "    del conjunto de datos Fashion MNIST.\n",
    "\n",
    "    Salida:\n",
    "    model = modelo neuronal convolucional en tensorflow.keras\n",
    "    \"\"\"\n",
    "\n",
    "    model = Sequential(name=\"Fashion_MNIST_CNN\")\n",
    "\n",
    "    # Capa de entrada\n",
    "    model.add(Input(shape=(28, 28, 1), name='Input_Layer'))\n",
    "\n",
    "    # Primera capa convolucional: 32 filtros de tamaño 3x3\n",
    "    model.add(Conv2D(32, (3, 3), activation='relu', padding='same'))\n",
    "    model.add(MaxPooling2D(pool_size=(2, 2)))\n",
    "\n",
    "    # Segunda capa convolucional: 64 filtros de tamaño 3x3\n",
    "    model.add(Conv2D(64, (3, 3), activation='relu', padding='same'))\n",
    "    model.add(MaxPooling2D(pool_size=(2, 2)))\n",
    "\n",
    "    # Tercera capa convolucional: 128 filtros de tamaño 3x3\n",
    "    model.add(Conv2D(128, (3, 3), activation='relu', padding='same'))\n",
    "    model.add(MaxPooling2D(pool_size=(2, 2)))\n",
    "\n",
    "    # Capa de aplanamiento\n",
    "    model.add(Flatten())\n",
    "\n",
    "    # Capa totalmente conectada (Densa) con 128 neuronas\n",
    "    model.add(Dense(128, activation='relu'))\n",
    "\n",
    "    # Capa de salida: 10 neuronas para las clases\n",
    "    model.add(Dense(10, activation='softmax', name='Output_Layer'))\n",
    "\n",
    "    return model"
   ]
  },
  {
   "cell_type": "code",
   "execution_count": 9,
   "metadata": {
    "colab": {
     "base_uri": "https://localhost:8080/"
    },
    "id": "HwQ_nUjqKtNE",
    "outputId": "05e42a6a-115d-41c6-9f21-1da91d3b5b2c"
   },
   "outputs": [
    {
     "name": "stdout",
     "output_type": "stream",
     "text": [
      "Train on 60000 samples, validate on 10000 samples\n",
      "Epoch 1/15\n",
      "60000/60000 [==============================] - 92s 2ms/sample - loss: 0.4777 - accuracy: 0.8261 - val_loss: 0.3642 - val_accuracy: 0.8715\n",
      "Epoch 2/15\n",
      "60000/60000 [==============================] - 89s 1ms/sample - loss: 0.2931 - accuracy: 0.8941 - val_loss: 0.3019 - val_accuracy: 0.8922\n",
      "Epoch 3/15\n",
      "60000/60000 [==============================] - 90s 2ms/sample - loss: 0.2440 - accuracy: 0.9104 - val_loss: 0.2670 - val_accuracy: 0.9021\n",
      "Epoch 4/15\n",
      "60000/60000 [==============================] - 89s 1ms/sample - loss: 0.2125 - accuracy: 0.9217 - val_loss: 0.2551 - val_accuracy: 0.9085\n",
      "Epoch 5/15\n",
      "60000/60000 [==============================] - 89s 1ms/sample - loss: 0.1903 - accuracy: 0.9303 - val_loss: 0.2289 - val_accuracy: 0.9191\n",
      "Epoch 6/15\n",
      "60000/60000 [==============================] - 89s 1ms/sample - loss: 0.1693 - accuracy: 0.9373 - val_loss: 0.2493 - val_accuracy: 0.9079\n",
      "Epoch 7/15\n",
      "60000/60000 [==============================] - 89s 1ms/sample - loss: 0.1495 - accuracy: 0.9440 - val_loss: 0.2321 - val_accuracy: 0.9185\n",
      "Epoch 8/15\n",
      "60000/60000 [==============================] - 89s 1ms/sample - loss: 0.1323 - accuracy: 0.9513 - val_loss: 0.2453 - val_accuracy: 0.9190\n",
      "Epoch 9/15\n",
      "60000/60000 [==============================] - 88s 1ms/sample - loss: 0.1176 - accuracy: 0.9554 - val_loss: 0.2520 - val_accuracy: 0.9176\n",
      "Epoch 10/15\n",
      "60000/60000 [==============================] - 88s 1ms/sample - loss: 0.1023 - accuracy: 0.9614 - val_loss: 0.2561 - val_accuracy: 0.9184\n",
      "Epoch 11/15\n",
      "60000/60000 [==============================] - 88s 1ms/sample - loss: 0.0877 - accuracy: 0.9668 - val_loss: 0.3102 - val_accuracy: 0.9111\n",
      "Epoch 12/15\n",
      "60000/60000 [==============================] - 88s 1ms/sample - loss: 0.0786 - accuracy: 0.9699 - val_loss: 0.2780 - val_accuracy: 0.9196\n",
      "Epoch 13/15\n",
      "60000/60000 [==============================] - 86s 1ms/sample - loss: 0.0689 - accuracy: 0.9748 - val_loss: 0.3076 - val_accuracy: 0.9215\n",
      "Epoch 14/15\n",
      "60000/60000 [==============================] - 87s 1ms/sample - loss: 0.0593 - accuracy: 0.9782 - val_loss: 0.3045 - val_accuracy: 0.9222\n",
      "Epoch 15/15\n",
      "60000/60000 [==============================] - 84s 1ms/sample - loss: 0.0524 - accuracy: 0.9801 - val_loss: 0.3456 - val_accuracy: 0.9146\n"
     ]
    }
   ],
   "source": [
    "# Compilar y entrenar el modelo\n",
    "\n",
    "model = load_model()\n",
    "\n",
    "# Compilación del modelo con un optimizador más avanzado y ajustes adicionales\n",
    "model.compile(\n",
    "    loss='categorical_crossentropy',\n",
    "    optimizer=tf.keras.optimizers.Adam(learning_rate=0.001),  # Optimizador Adam\n",
    "    metrics=['accuracy']\n",
    ")\n",
    "\n",
    "# Entrenamiento del modelo con un número mayor de épocas y un tamaño de lote ajustado\n",
    "resultsFit = model.fit(\n",
    "    X_train, y_train_onehot,\n",
    "    epochs=15,                # Incremento del número de épocas\n",
    "    batch_size=64,            # Tamaño de lote ajustado\n",
    "    validation_data=(X_test, y_test_onehot)\n",
    ")"
   ]
  },
  {
   "cell_type": "code",
   "execution_count": 10,
   "metadata": {
    "deletable": false,
    "editable": false,
    "id": "_WqaAYfMN9Hz",
    "nbgrader": {
     "cell_type": "code",
     "checksum": "c4a746e9442cdf1ad8fa65f096453068",
     "grade": false,
     "grade_id": "cell-1c866df50d976968",
     "locked": true,
     "schema_version": 3,
     "solution": false,
     "task": false
    }
   },
   "outputs": [],
   "source": [
    "def visualization_history(resultsFit):\n",
    "    \"\"\"\n",
    "    Esta función grafica las curvas de precisión a lo largo de las épocas de entrenamiento\n",
    "    para el conjunto de prueba como el de validación.\n",
    "    Parámetros:\n",
    "    resultsFit = historial de entrenamiento de un modelo entensorflow.keras\n",
    "    Salida:\n",
    "    Gráfica de la precisión en validación y prueba.\n",
    "    \"\"\"\n",
    "    # Llamado al entrono de la gráfica y fijar tamaño de visualización\n",
    "    fig, axes = plt.subplots(1, 2, figsize=(13, 5))\n",
    "\n",
    "    # Graficar la presición de la historia en entrenamiento\n",
    "    axes[0].plot(range(len(resultsFit.history['accuracy'])), resultsFit.history['accuracy'],\n",
    "           '#5a2ff4', linestyle = \"-\", marker = \"o\",\n",
    "           label='Precisión entrenamiento', lw = 3)\n",
    "\n",
    "    # Graficar la presición de la historia en validación\n",
    "    axes[0].plot(range(len(resultsFit.history['val_accuracy'])), resultsFit.history['val_accuracy'],  '#60d13e',\n",
    "           label='Precisión validación', linestyle = '-', marker = 'o', lw = 3)\n",
    "    \n",
    "    # Umbral 90% de precisión \n",
    "    axes[0].plot(range(len(resultsFit.history['val_accuracy'])), 0.9*np.ones(len(resultsFit.history['val_accuracy'])), \n",
    "               'red', lw = 3, label = 'Umbral')\n",
    "               \n",
    "    # Títulos de los ejes\n",
    "    axes[0].set_xlabel('Época',fontsize=16)\n",
    "    axes[0].set_ylabel(r'Precisión',fontsize=16)\n",
    "    axes[0].set_ylim(top=1) # Límite de la grafica\n",
    "    axes[0].grid()      # Activar la cuadricula\n",
    "    axes[0].legend(fontsize=14,loc = 'lower right')   # Establecer la legenda\n",
    "\n",
    "\n",
    "    # Graficar la pérdida de la historia en entrenamiento\n",
    "    axes[1].plot(range(len(resultsFit.history['loss'])), resultsFit.history['loss'],\n",
    "           '#5a2ff4', linestyle = \"-\", marker = \"o\",\n",
    "           label='Pérdida entrenamiento', lw = 3)\n",
    "\n",
    "    # Graficar la presición de la historia en validación\n",
    "    axes[1].plot(range(len(resultsFit.history['val_loss'])), resultsFit.history['val_loss'],  '#60d13e',\n",
    "           label='Pérdida validación', linestyle = '-', marker = 'o', lw = 3)\n",
    "\n",
    "    # Títulos de los ejes\n",
    "    axes[1].set_xlabel('Época',fontsize=16)\n",
    "    axes[1].set_ylabel(r'Pérdida',fontsize=16)\n",
    "    axes[1].grid()      # Activar la cuadricula\n",
    "    axes[1].legend(fontsize=14,loc = 'upper right')   # Establecer la legenda\n",
    "\n",
    "\n",
    "    plt.tight_layout() # Ajusta automáticamente el diseño de la figura\n",
    "    plt.show()"
   ]
  },
  {
   "cell_type": "code",
   "execution_count": 11,
   "metadata": {
    "colab": {
     "base_uri": "https://localhost:8080/",
     "height": 397
    },
    "deletable": false,
    "editable": false,
    "id": "IZTJ6Q8oLWRu",
    "nbgrader": {
     "cell_type": "code",
     "checksum": "a9b27a5f4e33c3a40975f72a258b9f4f",
     "grade": false,
     "grade_id": "cell-b7deee0a19a3bb19",
     "locked": true,
     "schema_version": 3,
     "solution": false,
     "task": false
    },
    "outputId": "f597c9c5-f7db-43ca-c4e5-092621dd9528"
   },
   "outputs": [
    {
     "data": {
      "image/png": "[encoded data removed]",
      "text/plain": [
       "<Figure size 936x360 with 2 Axes>"
      ]
     },
     "metadata": {
      "needs_background": "light"
     },
     "output_type": "display_data"
    }
   ],
   "source": [
    "# Llamado a la función de visualización de las métricas de la historia del entrenamiento\n",
    "# del modelo, en la prrimera gráfica se presenta la precisión y en la segunda la pérdida\n",
    "visualization_history(resultsFit)"
   ]
  }
 ],
 "metadata": {
  "accelerator": "GPU",
  "colab": {
   "gpuType": "T4",
   "provenance": [],
   "toc_visible": true
  },
  "kernelspec": {
   "display_name": "Python 3",
   "language": "python",
   "name": "python3"
  },
  "language_info": {
   "codemirror_mode": {
    "name": "ipython",
    "version": 3
   },
   "file_extension": ".py",
   "mimetype": "text/x-python",
   "name": "python",
   "nbconvert_exporter": "python",
   "pygments_lexer": "ipython3",
   "version": "3.7.6"
  }
 },
 "nbformat": 4,
 "nbformat_minor": 1
}
